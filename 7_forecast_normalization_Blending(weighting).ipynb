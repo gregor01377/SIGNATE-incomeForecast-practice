{
 "cells": [
  {
   "attachments": {},
   "cell_type": "markdown",
   "id": "729081b5",
   "metadata": {},
   "source": [
    "データについて正規化を行い、三つのモデルに精度に応じた重みを付けてブレンディング\n",
    "DT、LightGBM、XGBoostを使用。"
   ]
  },
  {
   "cell_type": "code",
   "execution_count": 1,
   "id": "d43a53db",
   "metadata": {},
   "outputs": [
    {
     "name": "stderr",
     "output_type": "stream",
     "text": [
      "Duplicate key in file WindowsPath('C:/Users/GuestUser/anaconda/lib/site-packages/matplotlib/mpl-data/matplotlibrc'), line 258 ('font.family:  IPAexGothic')\n"
     ]
    }
   ],
   "source": [
    "import pandas as pd\n",
    "import numpy as np\n",
    "from matplotlib import pyplot as plt\n",
    "%matplotlib inline\n",
    "\n",
    "import sklearn.metrics\n",
    "from sklearn import metrics\n",
    "from sklearn.tree import DecisionTreeClassifier as DT\n",
    "from sklearn.model_selection import cross_validate\n",
    "from sklearn.model_selection import GridSearchCV\n",
    "from sklearn.model_selection import train_test_split\n",
    "from sklearn import preprocessing\n",
    "from sklearn.preprocessing import robust_scale # 一次元配列はこれで直接。二次元配列はRobustScalerを使うことが多い\n",
    "from sklearn.model_selection import KFold\n",
    "from sklearn.model_selection import cross_val_score\n",
    "from sklearn.metrics import mean_squared_error\n",
    "\n",
    "import seaborn as sns\n",
    "\n",
    "import collections\n",
    "import time\n",
    "\n",
    "import lightgbm as lgb\n",
    "import optuna\n",
    "\n",
    "from xgboost import XGBClassifier"
   ]
  },
  {
   "cell_type": "code",
   "execution_count": 2,
   "id": "6fcae168",
   "metadata": {},
   "outputs": [],
   "source": [
    "pd.set_option('display.max_rows', None)"
   ]
  },
  {
   "cell_type": "markdown",
   "id": "1b2dc8bb",
   "metadata": {},
   "source": [
    "データを変数に入れる"
   ]
  },
  {
   "cell_type": "code",
   "execution_count": 3,
   "id": "768b668f",
   "metadata": {},
   "outputs": [],
   "source": [
    "train = pd.read_table('train.tsv')\n",
    "test = pd.read_csv('test.tsv',sep='\\t')\n",
    "sample = pd.read_csv('sample_submit.csv',header=None)"
   ]
  },
  {
   "cell_type": "markdown",
   "id": "ca26e0b1",
   "metadata": {},
   "source": [
    "データを見る・データを整える"
   ]
  },
  {
   "cell_type": "code",
   "execution_count": 4,
   "id": "82872559",
   "metadata": {},
   "outputs": [
    {
     "data": {
      "text/plain": [
       "0    12288\n",
       "1     3992\n",
       "Name: Y, dtype: int64"
      ]
     },
     "execution_count": 4,
     "metadata": {},
     "output_type": "execute_result"
    }
   ],
   "source": [
    "train = train.replace({\"Y\":{\"<=50K\" : 0, \">50K\" : 1}})\n",
    "train[\"Y\"].value_counts()"
   ]
  },
  {
   "cell_type": "code",
   "execution_count": 5,
   "id": "c5ef8fac",
   "metadata": {},
   "outputs": [],
   "source": [
    "trainX = train.iloc[:,0:15]\n",
    "y = train[\"Y\"]\n",
    "testX = test.copy()"
   ]
  },
  {
   "cell_type": "code",
   "execution_count": 6,
   "id": "335b260d",
   "metadata": {
    "scrolled": true
   },
   "outputs": [],
   "source": [
    "# education = education-num より消去\n",
    "train = train.drop(columns=[\"id\",\"education\"])\n",
    "trainX = trainX.drop(columns=[\"id\",\"education\"])\n",
    "testX = testX.drop(columns=[\"id\",\"education\"])"
   ]
  },
  {
   "cell_type": "code",
   "execution_count": 7,
   "id": "97092f2e",
   "metadata": {
    "scrolled": true
   },
   "outputs": [
    {
     "name": "stdout",
     "output_type": "stream",
     "text": [
      "?\n"
     ]
    }
   ],
   "source": [
    "# native-countryについて、trainかtest片方にしかないものは？に変換してしまう。\n",
    "indexNum = testX[~testX[\"native-country\"].isin(trainX[\"native-country\"].unique())].index\n",
    "for i in indexNum:\n",
    "    testX.iat[i,12] = \"?\"\n",
    "    print(testX.iat[i,12])"
   ]
  },
  {
   "cell_type": "code",
   "execution_count": 8,
   "id": "c0962ed7",
   "metadata": {},
   "outputs": [],
   "source": [
    "# sexを数値化\n",
    "trainX = trainX.replace({\"sex\":{\"Female\" : 0, \"Male\" : 1}})\n",
    "testX = testX.replace({\"sex\":{\"Female\" : 0, \"Male\" : 1}})"
   ]
  },
  {
   "cell_type": "code",
   "execution_count": 11,
   "id": "fed8141d",
   "metadata": {
    "scrolled": false
   },
   "outputs": [
    {
     "data": {
      "text/html": [
       "<div>\n",
       "<style scoped>\n",
       "    .dataframe tbody tr th:only-of-type {\n",
       "        vertical-align: middle;\n",
       "    }\n",
       "\n",
       "    .dataframe tbody tr th {\n",
       "        vertical-align: top;\n",
       "    }\n",
       "\n",
       "    .dataframe thead th {\n",
       "        text-align: right;\n",
       "    }\n",
       "</style>\n",
       "<table border=\"1\" class=\"dataframe\">\n",
       "  <thead>\n",
       "    <tr style=\"text-align: right;\">\n",
       "      <th></th>\n",
       "      <th>age</th>\n",
       "      <th>fnlwgt</th>\n",
       "      <th>education-num</th>\n",
       "      <th>sex</th>\n",
       "      <th>capital-gain</th>\n",
       "      <th>capital-loss</th>\n",
       "      <th>hours-per-week</th>\n",
       "    </tr>\n",
       "  </thead>\n",
       "  <tbody>\n",
       "    <tr>\n",
       "      <th>count</th>\n",
       "      <td>16280.000000</td>\n",
       "      <td>1.628000e+04</td>\n",
       "      <td>16280.000000</td>\n",
       "      <td>16280.000000</td>\n",
       "      <td>16280.000000</td>\n",
       "      <td>16280.000000</td>\n",
       "      <td>16280.000000</td>\n",
       "    </tr>\n",
       "    <tr>\n",
       "      <th>mean</th>\n",
       "      <td>38.603808</td>\n",
       "      <td>1.899753e+05</td>\n",
       "      <td>10.089558</td>\n",
       "      <td>0.665602</td>\n",
       "      <td>1131.057617</td>\n",
       "      <td>88.075369</td>\n",
       "      <td>40.410012</td>\n",
       "    </tr>\n",
       "    <tr>\n",
       "      <th>std</th>\n",
       "      <td>13.672102</td>\n",
       "      <td>1.048903e+05</td>\n",
       "      <td>2.570911</td>\n",
       "      <td>0.471794</td>\n",
       "      <td>7672.406043</td>\n",
       "      <td>405.251482</td>\n",
       "      <td>12.311716</td>\n",
       "    </tr>\n",
       "    <tr>\n",
       "      <th>min</th>\n",
       "      <td>17.000000</td>\n",
       "      <td>1.228500e+04</td>\n",
       "      <td>1.000000</td>\n",
       "      <td>0.000000</td>\n",
       "      <td>0.000000</td>\n",
       "      <td>0.000000</td>\n",
       "      <td>1.000000</td>\n",
       "    </tr>\n",
       "    <tr>\n",
       "      <th>25%</th>\n",
       "      <td>28.000000</td>\n",
       "      <td>1.186912e+05</td>\n",
       "      <td>9.000000</td>\n",
       "      <td>0.000000</td>\n",
       "      <td>0.000000</td>\n",
       "      <td>0.000000</td>\n",
       "      <td>40.000000</td>\n",
       "    </tr>\n",
       "    <tr>\n",
       "      <th>50%</th>\n",
       "      <td>37.000000</td>\n",
       "      <td>1.789955e+05</td>\n",
       "      <td>10.000000</td>\n",
       "      <td>1.000000</td>\n",
       "      <td>0.000000</td>\n",
       "      <td>0.000000</td>\n",
       "      <td>40.000000</td>\n",
       "    </tr>\n",
       "    <tr>\n",
       "      <th>75%</th>\n",
       "      <td>48.000000</td>\n",
       "      <td>2.376340e+05</td>\n",
       "      <td>12.000000</td>\n",
       "      <td>1.000000</td>\n",
       "      <td>0.000000</td>\n",
       "      <td>0.000000</td>\n",
       "      <td>45.000000</td>\n",
       "    </tr>\n",
       "    <tr>\n",
       "      <th>max</th>\n",
       "      <td>90.000000</td>\n",
       "      <td>1.226583e+06</td>\n",
       "      <td>16.000000</td>\n",
       "      <td>1.000000</td>\n",
       "      <td>99999.000000</td>\n",
       "      <td>4356.000000</td>\n",
       "      <td>99.000000</td>\n",
       "    </tr>\n",
       "  </tbody>\n",
       "</table>\n",
       "</div>"
      ],
      "text/plain": [
       "                age        fnlwgt  education-num           sex  capital-gain  \\\n",
       "count  16280.000000  1.628000e+04   16280.000000  16280.000000  16280.000000   \n",
       "mean      38.603808  1.899753e+05      10.089558      0.665602   1131.057617   \n",
       "std       13.672102  1.048903e+05       2.570911      0.471794   7672.406043   \n",
       "min       17.000000  1.228500e+04       1.000000      0.000000      0.000000   \n",
       "25%       28.000000  1.186912e+05       9.000000      0.000000      0.000000   \n",
       "50%       37.000000  1.789955e+05      10.000000      1.000000      0.000000   \n",
       "75%       48.000000  2.376340e+05      12.000000      1.000000      0.000000   \n",
       "max       90.000000  1.226583e+06      16.000000      1.000000  99999.000000   \n",
       "\n",
       "       capital-loss  hours-per-week  \n",
       "count  16280.000000    16280.000000  \n",
       "mean      88.075369       40.410012  \n",
       "std      405.251482       12.311716  \n",
       "min        0.000000        1.000000  \n",
       "25%        0.000000       40.000000  \n",
       "50%        0.000000       40.000000  \n",
       "75%        0.000000       45.000000  \n",
       "max     4356.000000       99.000000  "
      ]
     },
     "execution_count": 11,
     "metadata": {},
     "output_type": "execute_result"
    }
   ],
   "source": [
    "trainX.describe()"
   ]
  },
  {
   "cell_type": "code",
   "execution_count": 12,
   "id": "c415c9fb",
   "metadata": {
    "scrolled": false
   },
   "outputs": [
    {
     "data": {
      "text/html": [
       "<div>\n",
       "<style scoped>\n",
       "    .dataframe tbody tr th:only-of-type {\n",
       "        vertical-align: middle;\n",
       "    }\n",
       "\n",
       "    .dataframe tbody tr th {\n",
       "        vertical-align: top;\n",
       "    }\n",
       "\n",
       "    .dataframe thead th {\n",
       "        text-align: right;\n",
       "    }\n",
       "</style>\n",
       "<table border=\"1\" class=\"dataframe\">\n",
       "  <thead>\n",
       "    <tr style=\"text-align: right;\">\n",
       "      <th></th>\n",
       "      <th>age</th>\n",
       "      <th>fnlwgt</th>\n",
       "      <th>education-num</th>\n",
       "      <th>sex</th>\n",
       "      <th>capital-gain</th>\n",
       "      <th>capital-loss</th>\n",
       "      <th>hours-per-week</th>\n",
       "    </tr>\n",
       "  </thead>\n",
       "  <tbody>\n",
       "    <tr>\n",
       "      <th>count</th>\n",
       "      <td>16281.000000</td>\n",
       "      <td>1.628100e+04</td>\n",
       "      <td>16281.000000</td>\n",
       "      <td>16281.000000</td>\n",
       "      <td>16281.000000</td>\n",
       "      <td>16281.000000</td>\n",
       "      <td>16281.000000</td>\n",
       "    </tr>\n",
       "    <tr>\n",
       "      <th>mean</th>\n",
       "      <td>38.559487</td>\n",
       "      <td>1.895814e+05</td>\n",
       "      <td>10.071801</td>\n",
       "      <td>0.672809</td>\n",
       "      <td>1024.243351</td>\n",
       "      <td>86.532338</td>\n",
       "      <td>40.464898</td>\n",
       "    </tr>\n",
       "    <tr>\n",
       "      <th>std</th>\n",
       "      <td>13.609075</td>\n",
       "      <td>1.062084e+05</td>\n",
       "      <td>2.574576</td>\n",
       "      <td>0.469202</td>\n",
       "      <td>7086.407756</td>\n",
       "      <td>400.666956</td>\n",
       "      <td>12.383353</td>\n",
       "    </tr>\n",
       "    <tr>\n",
       "      <th>min</th>\n",
       "      <td>17.000000</td>\n",
       "      <td>1.376900e+04</td>\n",
       "      <td>1.000000</td>\n",
       "      <td>0.000000</td>\n",
       "      <td>0.000000</td>\n",
       "      <td>0.000000</td>\n",
       "      <td>1.000000</td>\n",
       "    </tr>\n",
       "    <tr>\n",
       "      <th>25%</th>\n",
       "      <td>28.000000</td>\n",
       "      <td>1.173630e+05</td>\n",
       "      <td>9.000000</td>\n",
       "      <td>0.000000</td>\n",
       "      <td>0.000000</td>\n",
       "      <td>0.000000</td>\n",
       "      <td>40.000000</td>\n",
       "    </tr>\n",
       "    <tr>\n",
       "      <th>50%</th>\n",
       "      <td>37.000000</td>\n",
       "      <td>1.776330e+05</td>\n",
       "      <td>10.000000</td>\n",
       "      <td>1.000000</td>\n",
       "      <td>0.000000</td>\n",
       "      <td>0.000000</td>\n",
       "      <td>40.000000</td>\n",
       "    </tr>\n",
       "    <tr>\n",
       "      <th>75%</th>\n",
       "      <td>48.000000</td>\n",
       "      <td>2.366870e+05</td>\n",
       "      <td>12.000000</td>\n",
       "      <td>1.000000</td>\n",
       "      <td>0.000000</td>\n",
       "      <td>0.000000</td>\n",
       "      <td>45.000000</td>\n",
       "    </tr>\n",
       "    <tr>\n",
       "      <th>max</th>\n",
       "      <td>90.000000</td>\n",
       "      <td>1.484705e+06</td>\n",
       "      <td>16.000000</td>\n",
       "      <td>1.000000</td>\n",
       "      <td>99999.000000</td>\n",
       "      <td>4356.000000</td>\n",
       "      <td>99.000000</td>\n",
       "    </tr>\n",
       "  </tbody>\n",
       "</table>\n",
       "</div>"
      ],
      "text/plain": [
       "                age        fnlwgt  education-num           sex  capital-gain  \\\n",
       "count  16281.000000  1.628100e+04   16281.000000  16281.000000  16281.000000   \n",
       "mean      38.559487  1.895814e+05      10.071801      0.672809   1024.243351   \n",
       "std       13.609075  1.062084e+05       2.574576      0.469202   7086.407756   \n",
       "min       17.000000  1.376900e+04       1.000000      0.000000      0.000000   \n",
       "25%       28.000000  1.173630e+05       9.000000      0.000000      0.000000   \n",
       "50%       37.000000  1.776330e+05      10.000000      1.000000      0.000000   \n",
       "75%       48.000000  2.366870e+05      12.000000      1.000000      0.000000   \n",
       "max       90.000000  1.484705e+06      16.000000      1.000000  99999.000000   \n",
       "\n",
       "       capital-loss  hours-per-week  \n",
       "count  16281.000000    16281.000000  \n",
       "mean      86.532338       40.464898  \n",
       "std      400.666956       12.383353  \n",
       "min        0.000000        1.000000  \n",
       "25%        0.000000       40.000000  \n",
       "50%        0.000000       40.000000  \n",
       "75%        0.000000       45.000000  \n",
       "max     4356.000000       99.000000  "
      ]
     },
     "execution_count": 12,
     "metadata": {},
     "output_type": "execute_result"
    }
   ],
   "source": [
    "testX.describe()"
   ]
  },
  {
   "cell_type": "code",
   "execution_count": 13,
   "id": "d1703b7f",
   "metadata": {},
   "outputs": [],
   "source": [
    "pd.reset_option('display.max_rows')"
   ]
  },
  {
   "cell_type": "code",
   "execution_count": 14,
   "id": "76ee84ba",
   "metadata": {
    "scrolled": false
   },
   "outputs": [
    {
     "data": {
      "text/plain": [
       "123983    8\n",
       "203488    8\n",
       "174789    8\n",
       "99185     8\n",
       "138768    8\n",
       "         ..\n",
       "80430     1\n",
       "237078    1\n",
       "268451    1\n",
       "82488     1\n",
       "303674    1\n",
       "Name: fnlwgt, Length: 12870, dtype: int64"
      ]
     },
     "execution_count": 14,
     "metadata": {},
     "output_type": "execute_result"
    }
   ],
   "source": [
    "trainX[\"fnlwgt\"].value_counts()"
   ]
  },
  {
   "cell_type": "code",
   "execution_count": 15,
   "id": "a7707cd2",
   "metadata": {},
   "outputs": [
    {
     "data": {
      "text/plain": [
       "<AxesSubplot:ylabel='Frequency'>"
      ]
     },
     "execution_count": 15,
     "metadata": {},
     "output_type": "execute_result"
    },
    {
     "data": {
      "image/png": "[encoded data removed]",
      "text/plain": [
       "<Figure size 640x480 with 1 Axes>"
      ]
     },
     "metadata": {},
     "output_type": "display_data"
    }
   ],
   "source": [
    "trainX[\"fnlwgt\"].plot.hist()"
   ]
  },
  {
   "attachments": {},
   "cell_type": "markdown",
   "id": "8ae79e63",
   "metadata": {},
   "source": [
    "データの正規化（変な外れ値のなさそうな'age', 'education-num'）・robust（最大最小で2桁以上異なり外れ値もありそうな'fnlwgt'）"
   ]
  },
  {
   "cell_type": "code",
   "execution_count": 16,
   "id": "887ca64b",
   "metadata": {},
   "outputs": [],
   "source": [
    "minmax_scaler = preprocessing.MinMaxScaler() # 二次元配列のもののみ（一次元配列：minmax_scale(対象となる配列))\n",
    "\n",
    "trainX[['age', 'education-num']] = minmax_scaler.fit_transform(trainX[['age', 'education-num']]) \n",
    "testX[['age', 'education-num']] = minmax_scaler.fit_transform(testX[['age', 'education-num']]) \n",
    "trainX['fnlwgt'] = robust_scale(trainX['fnlwgt'])\n",
    "testX['fnlwgt'] = robust_scale(testX['fnlwgt']) "
   ]
  },
  {
   "cell_type": "code",
   "execution_count": 17,
   "id": "060e7087",
   "metadata": {},
   "outputs": [
    {
     "data": {
      "text/plain": [
       "count    16280.000000\n",
       "mean         0.092312\n",
       "std          0.881855\n",
       "min         -1.401603\n",
       "25%         -0.507002\n",
       "50%          0.000000\n",
       "75%          0.492998\n",
       "max          8.807494\n",
       "Name: fnlwgt, dtype: float64"
      ]
     },
     "execution_count": 17,
     "metadata": {},
     "output_type": "execute_result"
    }
   ],
   "source": [
    "trainX['fnlwgt'].describe()"
   ]
  },
  {
   "attachments": {},
   "cell_type": "markdown",
   "id": "b694c1e8",
   "metadata": {},
   "source": [
    "3モデルを作る"
   ]
  },
  {
   "cell_type": "code",
   "execution_count": 19,
   "id": "f26d5f23",
   "metadata": {},
   "outputs": [],
   "source": [
    "trainX = pd.get_dummies(trainX)\n",
    "testX = pd.get_dummies(testX)"
   ]
  },
  {
   "cell_type": "code",
   "execution_count": 20,
   "id": "d4f1cb24",
   "metadata": {
    "scrolled": true
   },
   "outputs": [
    {
     "name": "stdout",
     "output_type": "stream",
     "text": [
      "<class 'pandas.core.frame.DataFrame'>\n",
      "RangeIndex: 16280 entries, 0 to 16279\n",
      "Data columns (total 90 columns):\n",
      " #   Column                                     Non-Null Count  Dtype  \n",
      "---  ------                                     --------------  -----  \n",
      " 0   age                                        16280 non-null  float64\n",
      " 1   fnlwgt                                     16280 non-null  float64\n",
      " 2   education-num                              16280 non-null  float64\n",
      " 3   sex                                        16280 non-null  int64  \n",
      " 4   capital-gain                               16280 non-null  int64  \n",
      " 5   capital-loss                               16280 non-null  int64  \n",
      " 6   hours-per-week                             16280 non-null  int64  \n",
      " 7   workclass_?                                16280 non-null  uint8  \n",
      " 8   workclass_Federal-gov                      16280 non-null  uint8  \n",
      " 9   workclass_Local-gov                        16280 non-null  uint8  \n",
      " 10  workclass_Never-worked                     16280 non-null  uint8  \n",
      " 11  workclass_Private                          16280 non-null  uint8  \n",
      " 12  workclass_Self-emp-inc                     16280 non-null  uint8  \n",
      " 13  workclass_Self-emp-not-inc                 16280 non-null  uint8  \n",
      " 14  workclass_State-gov                        16280 non-null  uint8  \n",
      " 15  workclass_Without-pay                      16280 non-null  uint8  \n",
      " 16  marital-status_Divorced                    16280 non-null  uint8  \n",
      " 17  marital-status_Married-AF-spouse           16280 non-null  uint8  \n",
      " 18  marital-status_Married-civ-spouse          16280 non-null  uint8  \n",
      " 19  marital-status_Married-spouse-absent       16280 non-null  uint8  \n",
      " 20  marital-status_Never-married               16280 non-null  uint8  \n",
      " 21  marital-status_Separated                   16280 non-null  uint8  \n",
      " 22  marital-status_Widowed                     16280 non-null  uint8  \n",
      " 23  occupation_?                               16280 non-null  uint8  \n",
      " 24  occupation_Adm-clerical                    16280 non-null  uint8  \n",
      " 25  occupation_Armed-Forces                    16280 non-null  uint8  \n",
      " 26  occupation_Craft-repair                    16280 non-null  uint8  \n",
      " 27  occupation_Exec-managerial                 16280 non-null  uint8  \n",
      " 28  occupation_Farming-fishing                 16280 non-null  uint8  \n",
      " 29  occupation_Handlers-cleaners               16280 non-null  uint8  \n",
      " 30  occupation_Machine-op-inspct               16280 non-null  uint8  \n",
      " 31  occupation_Other-service                   16280 non-null  uint8  \n",
      " 32  occupation_Priv-house-serv                 16280 non-null  uint8  \n",
      " 33  occupation_Prof-specialty                  16280 non-null  uint8  \n",
      " 34  occupation_Protective-serv                 16280 non-null  uint8  \n",
      " 35  occupation_Sales                           16280 non-null  uint8  \n",
      " 36  occupation_Tech-support                    16280 non-null  uint8  \n",
      " 37  occupation_Transport-moving                16280 non-null  uint8  \n",
      " 38  relationship_Husband                       16280 non-null  uint8  \n",
      " 39  relationship_Not-in-family                 16280 non-null  uint8  \n",
      " 40  relationship_Other-relative                16280 non-null  uint8  \n",
      " 41  relationship_Own-child                     16280 non-null  uint8  \n",
      " 42  relationship_Unmarried                     16280 non-null  uint8  \n",
      " 43  relationship_Wife                          16280 non-null  uint8  \n",
      " 44  race_Amer-Indian-Eskimo                    16280 non-null  uint8  \n",
      " 45  race_Asian-Pac-Islander                    16280 non-null  uint8  \n",
      " 46  race_Black                                 16280 non-null  uint8  \n",
      " 47  race_Other                                 16280 non-null  uint8  \n",
      " 48  race_White                                 16280 non-null  uint8  \n",
      " 49  native-country_?                           16280 non-null  uint8  \n",
      " 50  native-country_Cambodia                    16280 non-null  uint8  \n",
      " 51  native-country_Canada                      16280 non-null  uint8  \n",
      " 52  native-country_China                       16280 non-null  uint8  \n",
      " 53  native-country_Columbia                    16280 non-null  uint8  \n",
      " 54  native-country_Cuba                        16280 non-null  uint8  \n",
      " 55  native-country_Dominican-Republic          16280 non-null  uint8  \n",
      " 56  native-country_Ecuador                     16280 non-null  uint8  \n",
      " 57  native-country_El-Salvador                 16280 non-null  uint8  \n",
      " 58  native-country_England                     16280 non-null  uint8  \n",
      " 59  native-country_France                      16280 non-null  uint8  \n",
      " 60  native-country_Germany                     16280 non-null  uint8  \n",
      " 61  native-country_Greece                      16280 non-null  uint8  \n",
      " 62  native-country_Guatemala                   16280 non-null  uint8  \n",
      " 63  native-country_Haiti                       16280 non-null  uint8  \n",
      " 64  native-country_Honduras                    16280 non-null  uint8  \n",
      " 65  native-country_Hong                        16280 non-null  uint8  \n",
      " 66  native-country_Hungary                     16280 non-null  uint8  \n",
      " 67  native-country_India                       16280 non-null  uint8  \n",
      " 68  native-country_Iran                        16280 non-null  uint8  \n",
      " 69  native-country_Ireland                     16280 non-null  uint8  \n",
      " 70  native-country_Italy                       16280 non-null  uint8  \n",
      " 71  native-country_Jamaica                     16280 non-null  uint8  \n",
      " 72  native-country_Japan                       16280 non-null  uint8  \n",
      " 73  native-country_Laos                        16280 non-null  uint8  \n",
      " 74  native-country_Mexico                      16280 non-null  uint8  \n",
      " 75  native-country_Nicaragua                   16280 non-null  uint8  \n",
      " 76  native-country_Outlying-US(Guam-USVI-etc)  16280 non-null  uint8  \n",
      " 77  native-country_Peru                        16280 non-null  uint8  \n",
      " 78  native-country_Philippines                 16280 non-null  uint8  \n",
      " 79  native-country_Poland                      16280 non-null  uint8  \n",
      " 80  native-country_Portugal                    16280 non-null  uint8  \n",
      " 81  native-country_Puerto-Rico                 16280 non-null  uint8  \n",
      " 82  native-country_Scotland                    16280 non-null  uint8  \n",
      " 83  native-country_South                       16280 non-null  uint8  \n",
      " 84  native-country_Taiwan                      16280 non-null  uint8  \n",
      " 85  native-country_Thailand                    16280 non-null  uint8  \n",
      " 86  native-country_Trinadad&Tobago             16280 non-null  uint8  \n",
      " 87  native-country_United-States               16280 non-null  uint8  \n",
      " 88  native-country_Vietnam                     16280 non-null  uint8  \n",
      " 89  native-country_Yugoslavia                  16280 non-null  uint8  \n",
      "dtypes: float64(3), int64(4), uint8(83)\n",
      "memory usage: 2.2 MB\n"
     ]
    }
   ],
   "source": [
    "trainX.info()"
   ]
  },
  {
   "cell_type": "code",
   "execution_count": 23,
   "id": "f49a5b9d",
   "metadata": {},
   "outputs": [
    {
     "name": "stdout",
     "output_type": "stream",
     "text": [
      "(16280, 90) (10419, 90) (2605, 90) (3256, 90)\n"
     ]
    }
   ],
   "source": [
    "X_train_valid, X_test, y_train_valid, y_test = train_test_split(trainX, y, test_size=0.2, random_state = 100)\n",
    "X_train, X_valid, y_train, y_valid = train_test_split(X_train_valid, y_train_valid, test_size=0.2, random_state = 100)\n",
    "print(trainX.shape, X_train.shape, X_valid.shape, X_test.shape)"
   ]
  },
  {
   "attachments": {},
   "cell_type": "markdown",
   "id": "283a3659",
   "metadata": {},
   "source": [
    "3モデルを作る"
   ]
  },
  {
   "cell_type": "code",
   "execution_count": 24,
   "id": "83864a29",
   "metadata": {},
   "outputs": [],
   "source": [
    "model_DT = DT()\n",
    "\n",
    "model_LGB = lgb.LGBMClassifier(boosting_type='goss', max_depth=6, random_state=0)\n",
    "\n",
    "model_XGB10 = XGBClassifier(early_stopping_rounds=10)\n",
    "model_XGB15 = XGBClassifier(early_stopping_rounds=15)"
   ]
  },
  {
   "cell_type": "code",
   "execution_count": 25,
   "id": "c698b74f",
   "metadata": {
    "scrolled": true
   },
   "outputs": [
    {
     "name": "stdout",
     "output_type": "stream",
     "text": [
      "[1]\tvalid_0's binary_logloss: 0.511795\n",
      "Training until validation scores don't improve for 15 rounds\n",
      "[2]\tvalid_0's binary_logloss: 0.481821\n",
      "[3]\tvalid_0's binary_logloss: 0.458024\n",
      "[4]\tvalid_0's binary_logloss: 0.438747\n",
      "[5]\tvalid_0's binary_logloss: 0.422328\n",
      "[6]\tvalid_0's binary_logloss: 0.408078\n",
      "[7]\tvalid_0's binary_logloss: 0.396088\n",
      "[8]\tvalid_0's binary_logloss: 0.385551\n",
      "[9]\tvalid_0's binary_logloss: 0.376185\n",
      "[10]\tvalid_0's binary_logloss: 0.36848\n",
      "[11]\tvalid_0's binary_logloss: 0.361077\n",
      "[12]\tvalid_0's binary_logloss: 0.355859\n",
      "[13]\tvalid_0's binary_logloss: 0.350556\n",
      "[14]\tvalid_0's binary_logloss: 0.346252\n",
      "[15]\tvalid_0's binary_logloss: 0.341767\n",
      "[16]\tvalid_0's binary_logloss: 0.338374\n",
      "[17]\tvalid_0's binary_logloss: 0.335306\n",
      "[18]\tvalid_0's binary_logloss: 0.332723\n",
      "[19]\tvalid_0's binary_logloss: 0.330275\n",
      "[20]\tvalid_0's binary_logloss: 0.327873\n",
      "[21]\tvalid_0's binary_logloss: 0.326079\n",
      "[22]\tvalid_0's binary_logloss: 0.324424\n",
      "[23]\tvalid_0's binary_logloss: 0.322592\n",
      "[24]\tvalid_0's binary_logloss: 0.321732\n",
      "[25]\tvalid_0's binary_logloss: 0.320238\n",
      "[26]\tvalid_0's binary_logloss: 0.318873\n",
      "[27]\tvalid_0's binary_logloss: 0.317706\n",
      "[28]\tvalid_0's binary_logloss: 0.316961\n",
      "[29]\tvalid_0's binary_logloss: 0.315719\n",
      "[30]\tvalid_0's binary_logloss: 0.314575\n",
      "[31]\tvalid_0's binary_logloss: 0.314168\n",
      "[32]\tvalid_0's binary_logloss: 0.313809\n",
      "[33]\tvalid_0's binary_logloss: 0.312836\n",
      "[34]\tvalid_0's binary_logloss: 0.311895\n",
      "[35]\tvalid_0's binary_logloss: 0.311199\n",
      "[36]\tvalid_0's binary_logloss: 0.310606\n",
      "[37]\tvalid_0's binary_logloss: 0.310096\n",
      "[38]\tvalid_0's binary_logloss: 0.309601\n",
      "[39]\tvalid_0's binary_logloss: 0.308791\n",
      "[40]\tvalid_0's binary_logloss: 0.308232\n",
      "[41]\tvalid_0's binary_logloss: 0.307677\n",
      "[42]\tvalid_0's binary_logloss: 0.307622\n",
      "[43]\tvalid_0's binary_logloss: 0.306779\n",
      "[44]\tvalid_0's binary_logloss: 0.306881\n",
      "[45]\tvalid_0's binary_logloss: 0.306668\n",
      "[46]\tvalid_0's binary_logloss: 0.305944\n",
      "[47]\tvalid_0's binary_logloss: 0.305405\n",
      "[48]\tvalid_0's binary_logloss: 0.304804\n",
      "[49]\tvalid_0's binary_logloss: 0.304468\n",
      "[50]\tvalid_0's binary_logloss: 0.303787\n",
      "[51]\tvalid_0's binary_logloss: 0.303122\n",
      "[52]\tvalid_0's binary_logloss: 0.30321\n",
      "[53]\tvalid_0's binary_logloss: 0.302839\n",
      "[54]\tvalid_0's binary_logloss: 0.302639\n",
      "[55]\tvalid_0's binary_logloss: 0.30221\n",
      "[56]\tvalid_0's binary_logloss: 0.302163\n",
      "[57]\tvalid_0's binary_logloss: 0.302136\n",
      "[58]\tvalid_0's binary_logloss: 0.302059\n",
      "[59]\tvalid_0's binary_logloss: 0.3024\n",
      "[60]\tvalid_0's binary_logloss: 0.30228\n",
      "[61]\tvalid_0's binary_logloss: 0.302279\n",
      "[62]\tvalid_0's binary_logloss: 0.302008\n",
      "[63]\tvalid_0's binary_logloss: 0.301724\n",
      "[64]\tvalid_0's binary_logloss: 0.301556\n",
      "[65]\tvalid_0's binary_logloss: 0.300982\n",
      "[66]\tvalid_0's binary_logloss: 0.301325\n",
      "[67]\tvalid_0's binary_logloss: 0.301325\n",
      "[68]\tvalid_0's binary_logloss: 0.301057\n",
      "[69]\tvalid_0's binary_logloss: 0.300837\n",
      "[70]\tvalid_0's binary_logloss: 0.300555\n",
      "[71]\tvalid_0's binary_logloss: 0.300471\n",
      "[72]\tvalid_0's binary_logloss: 0.300033\n",
      "[73]\tvalid_0's binary_logloss: 0.30013\n",
      "[74]\tvalid_0's binary_logloss: 0.299897\n",
      "[75]\tvalid_0's binary_logloss: 0.299971\n",
      "[76]\tvalid_0's binary_logloss: 0.299405\n",
      "[77]\tvalid_0's binary_logloss: 0.299082\n",
      "[78]\tvalid_0's binary_logloss: 0.299279\n",
      "[79]\tvalid_0's binary_logloss: 0.299292\n",
      "[80]\tvalid_0's binary_logloss: 0.299727\n",
      "[81]\tvalid_0's binary_logloss: 0.299878\n",
      "[82]\tvalid_0's binary_logloss: 0.300036\n",
      "[83]\tvalid_0's binary_logloss: 0.300262\n",
      "[84]\tvalid_0's binary_logloss: 0.300485\n",
      "[85]\tvalid_0's binary_logloss: 0.300268\n",
      "[86]\tvalid_0's binary_logloss: 0.300083\n",
      "[87]\tvalid_0's binary_logloss: 0.300338\n",
      "[88]\tvalid_0's binary_logloss: 0.300342\n",
      "[89]\tvalid_0's binary_logloss: 0.299975\n",
      "[90]\tvalid_0's binary_logloss: 0.300491\n",
      "[91]\tvalid_0's binary_logloss: 0.300554\n",
      "[92]\tvalid_0's binary_logloss: 0.300209\n",
      "Early stopping, best iteration is:\n",
      "[77]\tvalid_0's binary_logloss: 0.299082\n",
      "[0]\tvalidation_0-logloss:0.54449\n",
      "[1]\tvalidation_0-logloss:0.46501\n",
      "[2]\tvalidation_0-logloss:0.41468\n",
      "[3]\tvalidation_0-logloss:0.38220\n",
      "[4]\tvalidation_0-logloss:0.35960\n",
      "[5]\tvalidation_0-logloss:0.34401\n",
      "[6]\tvalidation_0-logloss:0.33277\n",
      "[7]\tvalidation_0-logloss:0.32501\n",
      "[8]\tvalidation_0-logloss:0.32006\n",
      "[9]\tvalidation_0-logloss:0.31710\n",
      "[10]\tvalidation_0-logloss:0.31420\n",
      "[11]\tvalidation_0-logloss:0.31108\n",
      "[12]\tvalidation_0-logloss:0.30944\n",
      "[13]\tvalidation_0-logloss:0.30702\n",
      "[14]\tvalidation_0-logloss:0.30683\n",
      "[15]\tvalidation_0-logloss:0.30477\n",
      "[16]\tvalidation_0-logloss:0.30358\n",
      "[17]\tvalidation_0-logloss:0.30217\n",
      "[18]\tvalidation_0-logloss:0.30206\n",
      "[19]\tvalidation_0-logloss:0.30053\n",
      "[20]\tvalidation_0-logloss:0.29875\n",
      "[21]\tvalidation_0-logloss:0.29906\n",
      "[22]\tvalidation_0-logloss:0.29860\n",
      "[23]\tvalidation_0-logloss:0.29864\n",
      "[24]\tvalidation_0-logloss:0.29833\n",
      "[25]\tvalidation_0-logloss:0.29830\n",
      "[26]\tvalidation_0-logloss:0.29837\n",
      "[27]\tvalidation_0-logloss:0.29730\n",
      "[28]\tvalidation_0-logloss:0.29691\n",
      "[29]\tvalidation_0-logloss:0.29645\n",
      "[30]\tvalidation_0-logloss:0.29627\n",
      "[31]\tvalidation_0-logloss:0.29631\n",
      "[32]\tvalidation_0-logloss:0.29580\n",
      "[33]\tvalidation_0-logloss:0.29554\n",
      "[34]\tvalidation_0-logloss:0.29582\n",
      "[35]\tvalidation_0-logloss:0.29706\n",
      "[36]\tvalidation_0-logloss:0.29707\n",
      "[37]\tvalidation_0-logloss:0.29700\n",
      "[38]\tvalidation_0-logloss:0.29697\n",
      "[39]\tvalidation_0-logloss:0.29703\n",
      "[40]\tvalidation_0-logloss:0.29683\n",
      "[41]\tvalidation_0-logloss:0.29649\n",
      "[42]\tvalidation_0-logloss:0.29657\n",
      "[43]\tvalidation_0-logloss:0.29629\n",
      "[0]\tvalidation_0-logloss:0.54449\n",
      "[1]\tvalidation_0-logloss:0.46501\n",
      "[2]\tvalidation_0-logloss:0.41468\n",
      "[3]\tvalidation_0-logloss:0.38220\n",
      "[4]\tvalidation_0-logloss:0.35960\n",
      "[5]\tvalidation_0-logloss:0.34401\n",
      "[6]\tvalidation_0-logloss:0.33277\n",
      "[7]\tvalidation_0-logloss:0.32501\n",
      "[8]\tvalidation_0-logloss:0.32006\n",
      "[9]\tvalidation_0-logloss:0.31710\n",
      "[10]\tvalidation_0-logloss:0.31420\n",
      "[11]\tvalidation_0-logloss:0.31108\n",
      "[12]\tvalidation_0-logloss:0.30944\n",
      "[13]\tvalidation_0-logloss:0.30702\n",
      "[14]\tvalidation_0-logloss:0.30683\n",
      "[15]\tvalidation_0-logloss:0.30477\n",
      "[16]\tvalidation_0-logloss:0.30358\n",
      "[17]\tvalidation_0-logloss:0.30217\n",
      "[18]\tvalidation_0-logloss:0.30206\n",
      "[19]\tvalidation_0-logloss:0.30053\n",
      "[20]\tvalidation_0-logloss:0.29875\n",
      "[21]\tvalidation_0-logloss:0.29906\n",
      "[22]\tvalidation_0-logloss:0.29860\n",
      "[23]\tvalidation_0-logloss:0.29864\n",
      "[24]\tvalidation_0-logloss:0.29833\n",
      "[25]\tvalidation_0-logloss:0.29830\n",
      "[26]\tvalidation_0-logloss:0.29837\n",
      "[27]\tvalidation_0-logloss:0.29730\n",
      "[28]\tvalidation_0-logloss:0.29691\n",
      "[29]\tvalidation_0-logloss:0.29645\n",
      "[30]\tvalidation_0-logloss:0.29627\n",
      "[31]\tvalidation_0-logloss:0.29631\n",
      "[32]\tvalidation_0-logloss:0.29580\n",
      "[33]\tvalidation_0-logloss:0.29554\n",
      "[34]\tvalidation_0-logloss:0.29582\n",
      "[35]\tvalidation_0-logloss:0.29706\n",
      "[36]\tvalidation_0-logloss:0.29707\n",
      "[37]\tvalidation_0-logloss:0.29700\n",
      "[38]\tvalidation_0-logloss:0.29697\n",
      "[39]\tvalidation_0-logloss:0.29703\n",
      "[40]\tvalidation_0-logloss:0.29683\n",
      "[41]\tvalidation_0-logloss:0.29649\n",
      "[42]\tvalidation_0-logloss:0.29657\n",
      "[43]\tvalidation_0-logloss:0.29629\n",
      "[44]\tvalidation_0-logloss:0.29657\n",
      "[45]\tvalidation_0-logloss:0.29727\n",
      "[46]\tvalidation_0-logloss:0.29736\n",
      "[47]\tvalidation_0-logloss:0.29716\n",
      "[48]\tvalidation_0-logloss:0.29693\n"
     ]
    },
    {
     "data": {
      "text/plain": [
       "XGBClassifier(base_score=None, booster=None, callbacks=None,\n",
       "              colsample_bylevel=None, colsample_bynode=None,\n",
       "              colsample_bytree=None, early_stopping_rounds=15,\n",
       "              enable_categorical=False, eval_metric=None, feature_types=None,\n",
       "              gamma=None, gpu_id=None, grow_policy=None, importance_type=None,\n",
       "              interaction_constraints=None, learning_rate=None, max_bin=None,\n",
       "              max_cat_threshold=None, max_cat_to_onehot=None,\n",
       "              max_delta_step=None, max_depth=None, max_leaves=None,\n",
       "              min_child_weight=None, missing=nan, monotone_constraints=None,\n",
       "              n_estimators=100, n_jobs=None, num_parallel_tree=None,\n",
       "              predictor=None, random_state=None, ...)"
      ]
     },
     "execution_count": 25,
     "metadata": {},
     "output_type": "execute_result"
    }
   ],
   "source": [
    "model_DT.fit(X_train, y_train)\n",
    "\n",
    "tests = [(X_test, y_test)]\n",
    "callbacks = []\n",
    "callbacks.append(lgb.early_stopping(stopping_rounds=15))\n",
    "callbacks.append(lgb.log_evaluation())\n",
    "\n",
    "model_LGB.fit(X_train, y_train, eval_set=tests, callbacks=callbacks)\n",
    "\n",
    "model_XGB10.fit(X_train, y_train, eval_set=tests, verbose=True)\n",
    "model_XGB15.fit(X_train, y_train, eval_set=tests, verbose=True)"
   ]
  },
  {
   "attachments": {},
   "cell_type": "markdown",
   "id": "9b5988c9",
   "metadata": {},
   "source": [
    "各モデルの精度を見る。\n",
    "モデルごとの正答率を学習用と検証用データの双方について算出"
   ]
  },
  {
   "cell_type": "code",
   "execution_count": 26,
   "id": "eebad29d",
   "metadata": {},
   "outputs": [],
   "source": [
    "names = [\"DT\", \"LGB\", \"XGB10\", \"XGB15\"]\n",
    "\n",
    "classifiers = [\n",
    "    model_DT,\n",
    "    model_LGB,\n",
    "    model_XGB10,\n",
    "    model_XGB15,\n",
    "    ]\n",
    "\n",
    "result = []\n",
    "\n",
    "for name, clf in zip(names, classifiers):\n",
    "    score1 = clf.score(X_train, y_train) # 正解率（train）の算出\n",
    "    score2 = clf.score(X_test, y_test) # 正解率（test）の算出\n",
    "    result.append([score1, score2]) # 結果の格納"
   ]
  },
  {
   "cell_type": "code",
   "execution_count": 27,
   "id": "b19cdcf0",
   "metadata": {},
   "outputs": [
    {
     "data": {
      "text/html": [
       "<div>\n",
       "<style scoped>\n",
       "    .dataframe tbody tr th:only-of-type {\n",
       "        vertical-align: middle;\n",
       "    }\n",
       "\n",
       "    .dataframe tbody tr th {\n",
       "        vertical-align: top;\n",
       "    }\n",
       "\n",
       "    .dataframe thead th {\n",
       "        text-align: right;\n",
       "    }\n",
       "</style>\n",
       "<table border=\"1\" class=\"dataframe\">\n",
       "  <thead>\n",
       "    <tr style=\"text-align: right;\">\n",
       "      <th></th>\n",
       "      <th>train</th>\n",
       "      <th>test</th>\n",
       "    </tr>\n",
       "  </thead>\n",
       "  <tbody>\n",
       "    <tr>\n",
       "      <th>XGB10</th>\n",
       "      <td>0.896919</td>\n",
       "      <td>0.861794</td>\n",
       "    </tr>\n",
       "    <tr>\n",
       "      <th>XGB15</th>\n",
       "      <td>0.896919</td>\n",
       "      <td>0.861794</td>\n",
       "    </tr>\n",
       "    <tr>\n",
       "      <th>LGB</th>\n",
       "      <td>0.887129</td>\n",
       "      <td>0.858108</td>\n",
       "    </tr>\n",
       "    <tr>\n",
       "      <th>DT</th>\n",
       "      <td>1.000000</td>\n",
       "      <td>0.816646</td>\n",
       "    </tr>\n",
       "  </tbody>\n",
       "</table>\n",
       "</div>"
      ],
      "text/plain": [
       "          train      test\n",
       "XGB10  0.896919  0.861794\n",
       "XGB15  0.896919  0.861794\n",
       "LGB    0.887129  0.858108\n",
       "DT     1.000000  0.816646"
      ]
     },
     "execution_count": 27,
     "metadata": {},
     "output_type": "execute_result"
    }
   ],
   "source": [
    "df_result = pd.DataFrame(result, columns=['train', 'test'], index=names).sort_values('test', ascending=False)\n",
    "df_result"
   ]
  },
  {
   "cell_type": "code",
   "execution_count": 28,
   "id": "c9279fb8",
   "metadata": {},
   "outputs": [],
   "source": [
    "test_pred_DT = model_DT.predict(X_test)\n",
    "test_pred_LGB = model_LGB.predict(X_test)\n",
    "test_pred_XGB10 = model_XGB10.predict(X_test)\n",
    "test_pred_XGB15 = model_XGB15.predict(X_test)"
   ]
  },
  {
   "cell_type": "code",
   "execution_count": 29,
   "id": "8bfc8795",
   "metadata": {
    "scrolled": false
   },
   "outputs": [
    {
     "name": "stdout",
     "output_type": "stream",
     "text": [
      "モデル1の平均2乗誤差: 0.1834\n",
      "モデル2の平均2乗誤差: 0.1419\n",
      "モデル3の平均2乗誤差: 0.1382\n",
      "モデル3の平均2乗誤差: 0.1382\n"
     ]
    }
   ],
   "source": [
    "from sklearn.metrics import mean_squared_error\n",
    "print (\"モデル1の平均2乗誤差: {:.4f}\".format(mean_squared_error(y_test, test_pred_DT)))\n",
    "print (\"モデル2の平均2乗誤差: {:.4f}\".format(mean_squared_error(y_test, test_pred_LGB)))\n",
    "print (\"モデル3の平均2乗誤差: {:.4f}\".format(mean_squared_error(y_test, test_pred_XGB10)))\n",
    "print (\"モデル3の平均2乗誤差: {:.4f}\".format(mean_squared_error(y_test, test_pred_XGB15)))"
   ]
  },
  {
   "attachments": {},
   "cell_type": "markdown",
   "id": "52d0272e",
   "metadata": {},
   "source": [
    "XGBはearly_stopping_roundsを変えても精度は同じだった。  \n",
    "検証用データにおける精度はXGB＞LGB＞DT"
   ]
  },
  {
   "cell_type": "markdown",
   "id": "b4e1a013",
   "metadata": {},
   "source": [
    "スタッキング（ブレンディング）"
   ]
  },
  {
   "cell_type": "code",
   "execution_count": 30,
   "id": "2a37262c",
   "metadata": {},
   "outputs": [],
   "source": [
    "first_pred_DT = model_DT.predict(X_valid)\n",
    "first_pred_LGB = model_LGB.predict(X_valid)\n",
    "first_pred_XGB10 = model_XGB10.predict(X_valid)\n",
    "first_pred_XGB15 = model_XGB15.predict(X_valid)"
   ]
  },
  {
   "cell_type": "code",
   "execution_count": 31,
   "id": "c3ef53a5",
   "metadata": {
    "scrolled": true
   },
   "outputs": [
    {
     "data": {
      "text/plain": [
       "array([[0, 0, 0, 0],\n",
       "       [1, 0, 0, 0],\n",
       "       [0, 1, 1, 1],\n",
       "       ...,\n",
       "       [1, 0, 0, 0],\n",
       "       [0, 0, 0, 0],\n",
       "       [0, 0, 0, 0]], dtype=int64)"
      ]
     },
     "execution_count": 31,
     "metadata": {},
     "output_type": "execute_result"
    }
   ],
   "source": [
    "stack_pred = np.column_stack((first_pred_DT, first_pred_LGB, first_pred_XGB10, first_pred_XGB15))\n",
    "stack_pred"
   ]
  },
  {
   "cell_type": "code",
   "execution_count": 32,
   "id": "b8127136",
   "metadata": {},
   "outputs": [],
   "source": [
    "# 各モデルの検証データを積み重ねる\n",
    "stack_test_pred = np.column_stack((test_pred_DT, test_pred_LGB, test_pred_XGB10, test_pred_XGB15))"
   ]
  },
  {
   "cell_type": "code",
   "execution_count": 33,
   "id": "0c38877c",
   "metadata": {},
   "outputs": [
    {
     "name": "stdout",
     "output_type": "stream",
     "text": [
      "[0]\tvalidation_0-logloss:0.54778\n",
      "[1]\tvalidation_0-logloss:0.47133\n",
      "[2]\tvalidation_0-logloss:0.42780\n",
      "[3]\tvalidation_0-logloss:0.40235\n",
      "[4]\tvalidation_0-logloss:0.38754\n",
      "[5]\tvalidation_0-logloss:0.37909\n",
      "[6]\tvalidation_0-logloss:0.37443\n",
      "[7]\tvalidation_0-logloss:0.37199\n",
      "[8]\tvalidation_0-logloss:0.37077\n",
      "[9]\tvalidation_0-logloss:0.37023\n",
      "[10]\tvalidation_0-logloss:0.37002\n",
      "[11]\tvalidation_0-logloss:0.36998\n",
      "[12]\tvalidation_0-logloss:0.37001\n",
      "[13]\tvalidation_0-logloss:0.37005\n",
      "[14]\tvalidation_0-logloss:0.37010\n",
      "[15]\tvalidation_0-logloss:0.37014\n",
      "[16]\tvalidation_0-logloss:0.37018\n",
      "[17]\tvalidation_0-logloss:0.37020\n",
      "[18]\tvalidation_0-logloss:0.37022\n",
      "[19]\tvalidation_0-logloss:0.37024\n",
      "[20]\tvalidation_0-logloss:0.37025\n",
      "[21]\tvalidation_0-logloss:0.37025\n",
      "[22]\tvalidation_0-logloss:0.37026\n",
      "[23]\tvalidation_0-logloss:0.37026\n",
      "[24]\tvalidation_0-logloss:0.37027\n",
      "[25]\tvalidation_0-logloss:0.37027\n",
      "[26]\tvalidation_0-logloss:0.37027\n",
      "[27]\tvalidation_0-logloss:0.37027\n",
      "[28]\tvalidation_0-logloss:0.37027\n",
      "[29]\tvalidation_0-logloss:0.37027\n",
      "[30]\tvalidation_0-logloss:0.37027\n"
     ]
    },
    {
     "data": {
      "text/plain": [
       "XGBClassifier(base_score=None, booster=None, callbacks=None,\n",
       "              colsample_bylevel=None, colsample_bynode=None,\n",
       "              colsample_bytree=None, early_stopping_rounds=20,\n",
       "              enable_categorical=False, eval_metric=None, feature_types=None,\n",
       "              gamma=None, gpu_id=None, grow_policy=None, importance_type=None,\n",
       "              interaction_constraints=None, learning_rate=None, max_bin=None,\n",
       "              max_cat_threshold=None, max_cat_to_onehot=None,\n",
       "              max_delta_step=None, max_depth=None, max_leaves=None,\n",
       "              min_child_weight=None, missing=nan, monotone_constraints=None,\n",
       "              n_estimators=100, n_jobs=None, num_parallel_tree=None,\n",
       "              predictor=None, random_state=None, ...)"
      ]
     },
     "execution_count": 33,
     "metadata": {},
     "output_type": "execute_result"
    }
   ],
   "source": [
    "# メタモデルの学習 \n",
    "meta_model1 = XGBClassifier(early_stopping_rounds=20)\n",
    "eval_set2 = [(stack_test_pred, y_test)]\n",
    "meta_model1.fit(stack_pred, y_valid, eval_set = eval_set2, verbose=True)"
   ]
  },
  {
   "cell_type": "code",
   "execution_count": 34,
   "id": "9c5b7780",
   "metadata": {},
   "outputs": [
    {
     "name": "stdout",
     "output_type": "stream",
     "text": [
      "メタモデルの平均2乗誤差: 0.1404\n"
     ]
    }
   ],
   "source": [
    "meta1_test_pred = meta_model1.predict(stack_test_pred)\n",
    "print (\"メタモデルの平均2乗誤差: {:.4f}\".format(mean_squared_error(y_test, meta1_test_pred)))"
   ]
  },
  {
   "attachments": {},
   "cell_type": "markdown",
   "id": "790eb53b",
   "metadata": {},
   "source": [
    "予測に代入して結果を出力する"
   ]
  },
  {
   "cell_type": "code",
   "execution_count": 35,
   "id": "cc6c006d",
   "metadata": {},
   "outputs": [],
   "source": [
    "production_pred_DT = model_DT.predict(testX)\n",
    "production_pred_LGB = model_LGB.predict(testX)\n",
    "production_pred_XGB10 = model_XGB10.predict(testX)\n",
    "production_pred_XGB15 = model_XGB15.predict(testX)"
   ]
  },
  {
   "cell_type": "code",
   "execution_count": 36,
   "id": "5339338a",
   "metadata": {},
   "outputs": [
    {
     "data": {
      "text/plain": [
       "0    13127\n",
       "1     3154\n",
       "dtype: int64"
      ]
     },
     "execution_count": 36,
     "metadata": {},
     "output_type": "execute_result"
    }
   ],
   "source": [
    "stack_production_pred = np.column_stack((production_pred_DT, production_pred_LGB, production_pred_XGB10, production_pred_XGB15))\n",
    "pred = meta_model1.predict(stack_production_pred)\n",
    "pred_r = pd.DataFrame(data=pred, index=None, columns=None)\n",
    "pred_r.value_counts()"
   ]
  },
  {
   "cell_type": "code",
   "execution_count": 37,
   "id": "dee56c09",
   "metadata": {},
   "outputs": [],
   "source": [
    "pred_r = pred_r.replace({0:{0 : \"<=50K\", 1 : \">50K\"}})"
   ]
  },
  {
   "cell_type": "code",
   "execution_count": 38,
   "id": "e59c0d29",
   "metadata": {},
   "outputs": [],
   "source": [
    "sample[1] = pred_r"
   ]
  },
  {
   "cell_type": "code",
   "execution_count": 39,
   "id": "ded9d739",
   "metadata": {},
   "outputs": [],
   "source": [
    "sample.to_csv(\"submit8_1.csv\",index=None,header=None)"
   ]
  }
 ],
 "metadata": {
  "kernelspec": {
   "display_name": "Python 3 (ipykernel)",
   "language": "python",
   "name": "python3"
  },
  "language_info": {
   "codemirror_mode": {
    "name": "ipython",
    "version": 3
   },
   "file_extension": ".py",
   "mimetype": "text/x-python",
   "name": "python",
   "nbconvert_exporter": "python",
   "pygments_lexer": "ipython3",
   "version": "3.9.13"
  }
 },
 "nbformat": 4,
 "nbformat_minor": 5
}
