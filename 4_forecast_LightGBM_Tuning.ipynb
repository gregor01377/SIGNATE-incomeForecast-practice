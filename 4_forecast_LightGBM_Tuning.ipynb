{
 "cells": [
  {
   "attachments": {},
   "cell_type": "markdown",
   "id": "729081b5",
   "metadata": {},
   "source": [
    "LightGBMのパラメータをチューニングし、モデルを作成した"
   ]
  },
  {
   "cell_type": "code",
   "execution_count": 1,
   "id": "d43a53db",
   "metadata": {},
   "outputs": [
    {
     "name": "stderr",
     "output_type": "stream",
     "text": [
      "Duplicate key in file WindowsPath('C:/Users/GuestUser/anaconda/lib/site-packages/matplotlib/mpl-data/matplotlibrc'), line 258 ('font.family:  IPAexGothic')\n"
     ]
    }
   ],
   "source": [
    "import pandas as pd\n",
    "import numpy as np\n",
    "from matplotlib import pyplot as plt\n",
    "%matplotlib inline\n",
    "\n",
    "from sklearn import metrics\n",
    "from sklearn.tree import DecisionTreeClassifier as DT\n",
    "from sklearn.linear_model import LinearRegression\n",
    "from sklearn.model_selection import train_test_split\n",
    "from sklearn.model_selection import KFold\n",
    "from sklearn.model_selection import cross_validate\n",
    "from sklearn.model_selection import cross_val_score\n",
    "from sklearn.model_selection import GridSearchCV\n",
    "from sklearn.metrics import mean_squared_error\n",
    "\n",
    "import seaborn as sns\n",
    "from seaborn_analyzer import regplot\n",
    "\n",
    "import optuna.integration.lightgbm as lgb_tune\n",
    "\n",
    "import time\n",
    "\n",
    "import collections\n",
    "\n",
    "import lightgbm as lgb\n",
    "from lightgbm import LGBMRegressor"
   ]
  },
  {
   "cell_type": "code",
   "execution_count": 2,
   "id": "6fcae168",
   "metadata": {},
   "outputs": [],
   "source": [
    "pd.set_option('display.max_rows', None)"
   ]
  },
  {
   "cell_type": "markdown",
   "id": "1b2dc8bb",
   "metadata": {},
   "source": [
    "データを変数に入れる"
   ]
  },
  {
   "cell_type": "code",
   "execution_count": 3,
   "id": "768b668f",
   "metadata": {},
   "outputs": [],
   "source": [
    "train = pd.read_table('train.tsv')\n",
    "test = pd.read_csv('test.tsv',sep='\\t')\n",
    "sample = pd.read_csv('sample_submit.csv',header=None)"
   ]
  },
  {
   "attachments": {},
   "cell_type": "markdown",
   "id": "ca26e0b1",
   "metadata": {},
   "source": [
    "データを整える　※native-countryについて、trainかtest片方にしかないものは？に変換してしまう。"
   ]
  },
  {
   "cell_type": "code",
   "execution_count": 5,
   "id": "82872559",
   "metadata": {},
   "outputs": [
    {
     "data": {
      "text/plain": [
       "0    12288\n",
       "1     3992\n",
       "Name: Y, dtype: int64"
      ]
     },
     "execution_count": 5,
     "metadata": {},
     "output_type": "execute_result"
    }
   ],
   "source": [
    "train = train.replace({\"Y\":{\"<=50K\" : 0, \">50K\" : 1}})\n",
    "train[\"Y\"].value_counts()"
   ]
  },
  {
   "cell_type": "code",
   "execution_count": 6,
   "id": "c5ef8fac",
   "metadata": {},
   "outputs": [],
   "source": [
    "trainX = train.iloc[:,0:15]\n",
    "y = train[\"Y\"]\n",
    "testX = test.copy()"
   ]
  },
  {
   "cell_type": "code",
   "execution_count": 7,
   "id": "335b260d",
   "metadata": {
    "scrolled": true
   },
   "outputs": [],
   "source": [
    "train = train.drop(columns=[\"id\",\"education\"])\n",
    "trainX = trainX.drop(columns=[\"id\",\"education\"])\n",
    "testX = testX.drop(columns=[\"id\",\"education\"])"
   ]
  },
  {
   "cell_type": "code",
   "execution_count": 8,
   "id": "97092f2e",
   "metadata": {},
   "outputs": [
    {
     "name": "stdout",
     "output_type": "stream",
     "text": [
      "?\n"
     ]
    }
   ],
   "source": [
    "indexNum = testX[~testX[\"native-country\"].isin(trainX[\"native-country\"].unique())].index\n",
    "for i in indexNum:\n",
    "    testX.iat[i,12] = \"?\"\n",
    "    print(testX.iat[i,12])"
   ]
  },
  {
   "cell_type": "code",
   "execution_count": 21,
   "id": "d1703b7f",
   "metadata": {},
   "outputs": [],
   "source": [
    "pd.reset_option('display.max_rows')"
   ]
  },
  {
   "attachments": {},
   "cell_type": "markdown",
   "id": "b694c1e8",
   "metadata": {},
   "source": [
    "LightGBMでモデルを作成する"
   ]
  },
  {
   "cell_type": "code",
   "execution_count": 22,
   "id": "f26d5f23",
   "metadata": {},
   "outputs": [],
   "source": [
    "trainX = pd.get_dummies(trainX)\n",
    "testX = pd.get_dummies(testX)"
   ]
  },
  {
   "cell_type": "markdown",
   "id": "a7bd026c",
   "metadata": {},
   "source": [
    "パラメータのチューニングをする"
   ]
  },
  {
   "cell_type": "code",
   "execution_count": 23,
   "id": "e6525975",
   "metadata": {},
   "outputs": [],
   "source": [
    "X_train, X_test, y_train, y_test = train_test_split(trainX, y, test_size=0.3)\n",
    "dtrain = lgb.Dataset(X_train, y_train)\n",
    "dval = lgb.Dataset(X_test,y_test)"
   ]
  },
  {
   "attachments": {},
   "cell_type": "markdown",
   "id": "51149f0e",
   "metadata": {},
   "source": [
    "LightGBM用のoptunaを導入"
   ]
  },
  {
   "cell_type": "code",
   "execution_count": 24,
   "id": "1d52e4fb",
   "metadata": {},
   "outputs": [
    {
     "name": "stdout",
     "output_type": "stream",
     "text": [
      "[LightGBM] [Warning] Auto-choosing row-wise multi-threading, the overhead of testing was 0.001753 seconds.\n",
      "You can set `force_row_wise=true` to remove the overhead.\n",
      "And if memory is not enough, you can set `force_col_wise=true`.\n",
      "[LightGBM] [Info] Total Bins 668\n",
      "[LightGBM] [Info] Number of data points in the train set: 11396, number of used features: 67\n",
      "[LightGBM] [Info] Start training from score 0.242453\n",
      "Best Params: {'objective': 'regression', 'metrics': 'mae', 'num_iterations': 100, 'early_stopping_round': None}\n"
     ]
    },
    {
     "name": "stderr",
     "output_type": "stream",
     "text": [
      "C:\\Users\\GuestUser\\anaconda\\lib\\site-packages\\lightgbm\\engine.py:239: UserWarning: 'verbose_eval' argument is deprecated and will be removed in a future release of LightGBM. Pass 'log_evaluation()' callback via 'callbacks' argument instead.\n",
      "  _log_warning(\"'verbose_eval' argument is deprecated and will be removed in a future release of LightGBM. \"\n"
     ]
    }
   ],
   "source": [
    "params = {\n",
    "    \"objective\": \"regression\",\n",
    "    \"metrics\": \"mae\"\n",
    "}\n",
    "best_params, tuning_history = dict(), list()\n",
    "booster = lgb.train(params, dtrain, valid_sets=dval,\n",
    "                    verbose_eval=0)\n",
    "best_params = booster.params\n",
    "print('Best Params:', best_params)"
   ]
  },
  {
   "cell_type": "code",
   "execution_count": 25,
   "id": "68c4d002",
   "metadata": {},
   "outputs": [
    {
     "name": "stdout",
     "output_type": "stream",
     "text": [
      "[LightGBM] [Warning] Auto-choosing row-wise multi-threading, the overhead of testing was 0.002472 seconds.\n",
      "You can set `force_row_wise=true` to remove the overhead.\n",
      "And if memory is not enough, you can set `force_col_wise=true`.\n",
      "[LightGBM] [Info] Total Bins 668\n",
      "[LightGBM] [Info] Number of data points in the train set: 11396, number of used features: 67\n",
      "[LightGBM] [Info] Start training from score 0.242453\n"
     ]
    },
    {
     "name": "stderr",
     "output_type": "stream",
     "text": [
      "C:\\Users\\GuestUser\\anaconda\\lib\\site-packages\\lightgbm\\engine.py:177: UserWarning: Found `num_iterations` in params. Will use it instead of argument\n",
      "  _log_warning(f\"Found `{alias}` in params. Will use it instead of argument\")\n"
     ]
    }
   ],
   "source": [
    "model = lgb.train(best_params, dtrain, valid_sets=dval,\n",
    "                    verbose_eval=0)"
   ]
  },
  {
   "cell_type": "code",
   "execution_count": 26,
   "id": "5a7b9909",
   "metadata": {},
   "outputs": [],
   "source": [
    "trainXpred = model.predict(trainX)\n",
    "trainXpred = trainXpred.astype(object)\n",
    "trainXl = len(trainXpred)"
   ]
  },
  {
   "cell_type": "code",
   "execution_count": 27,
   "id": "b2effb80",
   "metadata": {},
   "outputs": [
    {
     "data": {
      "text/html": [
       "<div>\n",
       "<style scoped>\n",
       "    .dataframe tbody tr th:only-of-type {\n",
       "        vertical-align: middle;\n",
       "    }\n",
       "\n",
       "    .dataframe tbody tr th {\n",
       "        vertical-align: top;\n",
       "    }\n",
       "\n",
       "    .dataframe thead th {\n",
       "        text-align: right;\n",
       "    }\n",
       "</style>\n",
       "<table border=\"1\" class=\"dataframe\">\n",
       "  <thead>\n",
       "    <tr style=\"text-align: right;\">\n",
       "      <th></th>\n",
       "      <th>0</th>\n",
       "      <th>1</th>\n",
       "    </tr>\n",
       "  </thead>\n",
       "  <tbody>\n",
       "    <tr>\n",
       "      <th>0</th>\n",
       "      <td>0.38</td>\n",
       "      <td>0.884152</td>\n",
       "    </tr>\n",
       "    <tr>\n",
       "      <th>1</th>\n",
       "      <td>0.39</td>\n",
       "      <td>0.884828</td>\n",
       "    </tr>\n",
       "    <tr>\n",
       "      <th>2</th>\n",
       "      <td>0.40</td>\n",
       "      <td>0.886057</td>\n",
       "    </tr>\n",
       "    <tr>\n",
       "      <th>3</th>\n",
       "      <td>0.41</td>\n",
       "      <td>0.886671</td>\n",
       "    </tr>\n",
       "    <tr>\n",
       "      <th>4</th>\n",
       "      <td>0.42</td>\n",
       "      <td>0.887408</td>\n",
       "    </tr>\n",
       "    <tr>\n",
       "      <th>5</th>\n",
       "      <td>0.43</td>\n",
       "      <td>0.889128</td>\n",
       "    </tr>\n",
       "    <tr>\n",
       "      <th>6</th>\n",
       "      <td>0.44</td>\n",
       "      <td>0.888882</td>\n",
       "    </tr>\n",
       "    <tr>\n",
       "      <th>7</th>\n",
       "      <td>0.45</td>\n",
       "      <td>0.890172</td>\n",
       "    </tr>\n",
       "    <tr>\n",
       "      <th>8</th>\n",
       "      <td>0.46</td>\n",
       "      <td>0.890356</td>\n",
       "    </tr>\n",
       "    <tr>\n",
       "      <th>9</th>\n",
       "      <td>0.47</td>\n",
       "      <td>0.891278</td>\n",
       "    </tr>\n",
       "    <tr>\n",
       "      <th>10</th>\n",
       "      <td>0.48</td>\n",
       "      <td>0.891339</td>\n",
       "    </tr>\n",
       "    <tr>\n",
       "      <th>11</th>\n",
       "      <td>0.49</td>\n",
       "      <td>0.891278</td>\n",
       "    </tr>\n",
       "    <tr>\n",
       "      <th>12</th>\n",
       "      <td>0.50</td>\n",
       "      <td>0.890663</td>\n",
       "    </tr>\n",
       "    <tr>\n",
       "      <th>13</th>\n",
       "      <td>0.51</td>\n",
       "      <td>0.890418</td>\n",
       "    </tr>\n",
       "    <tr>\n",
       "      <th>14</th>\n",
       "      <td>0.52</td>\n",
       "      <td>0.888943</td>\n",
       "    </tr>\n",
       "    <tr>\n",
       "      <th>15</th>\n",
       "      <td>0.53</td>\n",
       "      <td>0.889251</td>\n",
       "    </tr>\n",
       "    <tr>\n",
       "      <th>16</th>\n",
       "      <td>0.54</td>\n",
       "      <td>0.889312</td>\n",
       "    </tr>\n",
       "    <tr>\n",
       "      <th>17</th>\n",
       "      <td>0.55</td>\n",
       "      <td>0.888514</td>\n",
       "    </tr>\n",
       "    <tr>\n",
       "      <th>18</th>\n",
       "      <td>0.56</td>\n",
       "      <td>0.888329</td>\n",
       "    </tr>\n",
       "    <tr>\n",
       "      <th>19</th>\n",
       "      <td>0.57</td>\n",
       "      <td>0.886794</td>\n",
       "    </tr>\n",
       "    <tr>\n",
       "      <th>20</th>\n",
       "      <td>0.58</td>\n",
       "      <td>0.886118</td>\n",
       "    </tr>\n",
       "    <tr>\n",
       "      <th>21</th>\n",
       "      <td>0.59</td>\n",
       "      <td>0.885012</td>\n",
       "    </tr>\n",
       "    <tr>\n",
       "      <th>22</th>\n",
       "      <td>0.60</td>\n",
       "      <td>0.884091</td>\n",
       "    </tr>\n",
       "    <tr>\n",
       "      <th>23</th>\n",
       "      <td>0.61</td>\n",
       "      <td>0.882985</td>\n",
       "    </tr>\n",
       "    <tr>\n",
       "      <th>24</th>\n",
       "      <td>0.62</td>\n",
       "      <td>0.881511</td>\n",
       "    </tr>\n",
       "  </tbody>\n",
       "</table>\n",
       "</div>"
      ],
      "text/plain": [
       "       0         1\n",
       "0   0.38  0.884152\n",
       "1   0.39  0.884828\n",
       "2   0.40  0.886057\n",
       "3   0.41  0.886671\n",
       "4   0.42  0.887408\n",
       "5   0.43  0.889128\n",
       "6   0.44  0.888882\n",
       "7   0.45  0.890172\n",
       "8   0.46  0.890356\n",
       "9   0.47  0.891278\n",
       "10  0.48  0.891339\n",
       "11  0.49  0.891278\n",
       "12  0.50  0.890663\n",
       "13  0.51  0.890418\n",
       "14  0.52  0.888943\n",
       "15  0.53  0.889251\n",
       "16  0.54  0.889312\n",
       "17  0.55  0.888514\n",
       "18  0.56  0.888329\n",
       "19  0.57  0.886794\n",
       "20  0.58  0.886118\n",
       "21  0.59  0.885012\n",
       "22  0.60  0.884091\n",
       "23  0.61  0.882985\n",
       "24  0.62  0.881511"
      ]
     },
     "execution_count": 27,
     "metadata": {},
     "output_type": "execute_result"
    }
   ],
   "source": [
    "ansRateList = pd.DataFrame()\n",
    "for j in range(25):\n",
    "    c = trainXpred.copy()\n",
    "    n = (38+j)/100\n",
    "    for i in range(trainXl):\n",
    "        if c[i] <= n:\n",
    "            c[i] = 0\n",
    "        else:\n",
    "            c[i] = 1\n",
    "    ansRateBase = np.equal(c,y)\n",
    "    ansRate = collections.Counter(ansRateBase)[True]/len(ansRateBase)\n",
    "    ansRateData = pd.DataFrame([[n,ansRate]])\n",
    "    ansRateList = pd.concat([ansRateList,ansRateData],ignore_index=True)\n",
    "ansRateList"
   ]
  },
  {
   "cell_type": "code",
   "execution_count": 28,
   "id": "3fc55391",
   "metadata": {},
   "outputs": [
    {
     "data": {
      "text/plain": [
       "([<matplotlib.axis.XTick at 0x24f4a80d7f0>,\n",
       "  <matplotlib.axis.XTick at 0x24f4a80d2e0>,\n",
       "  <matplotlib.axis.XTick at 0x24f4a819d90>,\n",
       "  <matplotlib.axis.XTick at 0x24f4a909490>,\n",
       "  <matplotlib.axis.XTick at 0x24f4a909be0>,\n",
       "  <matplotlib.axis.XTick at 0x24f4a911370>,\n",
       "  <matplotlib.axis.XTick at 0x24f4a911ac0>,\n",
       "  <matplotlib.axis.XTick at 0x24f4a911d90>,\n",
       "  <matplotlib.axis.XTick at 0x24f4a909ca0>,\n",
       "  <matplotlib.axis.XTick at 0x24f4a916490>,\n",
       "  <matplotlib.axis.XTick at 0x24f4a916be0>,\n",
       "  <matplotlib.axis.XTick at 0x24f4a91d370>,\n",
       "  <matplotlib.axis.XTick at 0x24f4a91dac0>,\n",
       "  <matplotlib.axis.XTick at 0x24f4a923250>,\n",
       "  <matplotlib.axis.XTick at 0x24f4a91db20>,\n",
       "  <matplotlib.axis.XTick at 0x24f4a916970>,\n",
       "  <matplotlib.axis.XTick at 0x24f4a923850>,\n",
       "  <matplotlib.axis.XTick at 0x24f4a92a040>,\n",
       "  <matplotlib.axis.XTick at 0x24f4a92a640>,\n",
       "  <matplotlib.axis.XTick at 0x24f4a92ad90>,\n",
       "  <matplotlib.axis.XTick at 0x24f4a931520>,\n",
       "  <matplotlib.axis.XTick at 0x24f4a92a8e0>,\n",
       "  <matplotlib.axis.XTick at 0x24f4a923f70>,\n",
       "  <matplotlib.axis.XTick at 0x24f4a916340>,\n",
       "  <matplotlib.axis.XTick at 0x24f4a931b50>],\n",
       " [Text(0, 0, '0.38'),\n",
       "  Text(1, 0, '0.39'),\n",
       "  Text(2, 0, '0.4'),\n",
       "  Text(3, 0, '0.41'),\n",
       "  Text(4, 0, '0.42'),\n",
       "  Text(5, 0, '0.43'),\n",
       "  Text(6, 0, '0.44'),\n",
       "  Text(7, 0, '0.45'),\n",
       "  Text(8, 0, '0.46'),\n",
       "  Text(9, 0, '0.47'),\n",
       "  Text(10, 0, '0.48'),\n",
       "  Text(11, 0, '0.49'),\n",
       "  Text(12, 0, '0.5'),\n",
       "  Text(13, 0, '0.51'),\n",
       "  Text(14, 0, '0.52'),\n",
       "  Text(15, 0, '0.53'),\n",
       "  Text(16, 0, '0.54'),\n",
       "  Text(17, 0, '0.55'),\n",
       "  Text(18, 0, '0.56'),\n",
       "  Text(19, 0, '0.57'),\n",
       "  Text(20, 0, '0.58'),\n",
       "  Text(21, 0, '0.59'),\n",
       "  Text(22, 0, '0.6'),\n",
       "  Text(23, 0, '0.61'),\n",
       "  Text(24, 0, '0.62')])"
      ]
     },
     "execution_count": 28,
     "metadata": {},
     "output_type": "execute_result"
    },
    {
     "data": {
      "image/png": "[encoded data removed]",
      "text/plain": [
       "<Figure size 640x480 with 1 Axes>"
      ]
     },
     "metadata": {},
     "output_type": "display_data"
    }
   ],
   "source": [
    "plt.plot(ansRateList[1])\n",
    "plt.xticks(range(25),ansRateList[0])"
   ]
  },
  {
   "cell_type": "markdown",
   "id": "43866051",
   "metadata": {},
   "source": [
    "予測に代入して結果を出力する"
   ]
  },
  {
   "cell_type": "code",
   "execution_count": 29,
   "id": "71738fb0",
   "metadata": {},
   "outputs": [],
   "source": [
    "pred = model.predict(testX)"
   ]
  },
  {
   "cell_type": "code",
   "execution_count": 30,
   "id": "0194a0a0",
   "metadata": {},
   "outputs": [],
   "source": [
    "l = len(pred)"
   ]
  },
  {
   "cell_type": "code",
   "execution_count": 31,
   "id": "f835e678",
   "metadata": {},
   "outputs": [],
   "source": [
    "pred = pred.astype(object)\n",
    "for i in range(l):\n",
    "    if pred[i] <= 0.50:\n",
    "        pred[i] = \"<=50K\"\n",
    "    else:\n",
    "        pred[i] = \">50K\""
   ]
  },
  {
   "cell_type": "code",
   "execution_count": 32,
   "id": "d6494e31",
   "metadata": {},
   "outputs": [],
   "source": [
    "sample[1] = pred"
   ]
  },
  {
   "cell_type": "code",
   "execution_count": 33,
   "id": "258d9bfe",
   "metadata": {},
   "outputs": [],
   "source": [
    "sample.to_csv(\"submit7_8.csv\",index=None,header=None)"
   ]
  }
 ],
 "metadata": {
  "kernelspec": {
   "display_name": "Python 3 (ipykernel)",
   "language": "python",
   "name": "python3"
  },
  "language_info": {
   "codemirror_mode": {
    "name": "ipython",
    "version": 3
   },
   "file_extension": ".py",
   "mimetype": "text/x-python",
   "name": "python",
   "nbconvert_exporter": "python",
   "pygments_lexer": "ipython3",
   "version": "3.9.13"
  }
 },
 "nbformat": 4,
 "nbformat_minor": 5
}
