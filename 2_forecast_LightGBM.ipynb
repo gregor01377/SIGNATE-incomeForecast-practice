{
 "cells": [
  {
   "attachments": {},
   "cell_type": "markdown",
   "id": "729081b5",
   "metadata": {},
   "source": [
    "使用するモデルをDTからLightGBMに変更した"
   ]
  },
  {
   "cell_type": "code",
   "execution_count": 1,
   "id": "d43a53db",
   "metadata": {},
   "outputs": [
    {
     "name": "stderr",
     "output_type": "stream",
     "text": [
      "Duplicate key in file WindowsPath('C:/Users/GuestUser/anaconda/lib/site-packages/matplotlib/mpl-data/matplotlibrc'), line 258 ('font.family:  IPAexGothic')\n"
     ]
    }
   ],
   "source": [
    "import pandas as pd\n",
    "import numpy as np\n",
    "from matplotlib import pyplot as plt\n",
    "%matplotlib inline\n",
    "\n",
    "import seaborn as sns\n",
    "\n",
    "import collections\n",
    "\n",
    "import lightgbm as lgb\n",
    "\n",
    "from sklearn.tree import DecisionTreeClassifier as DT\n",
    "from sklearn.model_selection import cross_validate\n",
    "from sklearn.model_selection import GridSearchCV"
   ]
  },
  {
   "cell_type": "code",
   "execution_count": 2,
   "id": "6fcae168",
   "metadata": {},
   "outputs": [],
   "source": [
    "pd.set_option('display.max_rows', None)"
   ]
  },
  {
   "cell_type": "markdown",
   "id": "1b2dc8bb",
   "metadata": {},
   "source": [
    "データを変数に入れる"
   ]
  },
  {
   "cell_type": "code",
   "execution_count": 3,
   "id": "768b668f",
   "metadata": {},
   "outputs": [],
   "source": [
    "train = pd.read_table('train.tsv')\n",
    "test = pd.read_csv('test.tsv',sep='\\t')\n",
    "sample = pd.read_csv('sample_submit.csv',header=None)"
   ]
  },
  {
   "attachments": {},
   "cell_type": "markdown",
   "id": "ca26e0b1",
   "metadata": {},
   "source": [
    "データを整える　※native-countryについて、trainかtest片方にしかないものは？に変換してしまう。"
   ]
  },
  {
   "cell_type": "code",
   "execution_count": 5,
   "id": "82872559",
   "metadata": {},
   "outputs": [
    {
     "data": {
      "text/plain": [
       "0    12288\n",
       "1     3992\n",
       "Name: Y, dtype: int64"
      ]
     },
     "execution_count": 5,
     "metadata": {},
     "output_type": "execute_result"
    }
   ],
   "source": [
    "train = train.replace({\"Y\":{\"<=50K\" : 0, \">50K\" : 1}})\n",
    "train[\"Y\"].value_counts()"
   ]
  },
  {
   "cell_type": "code",
   "execution_count": 6,
   "id": "c5ef8fac",
   "metadata": {},
   "outputs": [],
   "source": [
    "trainX = train.iloc[:,0:15]\n",
    "y = train[\"Y\"]\n",
    "testX = test.copy()"
   ]
  },
  {
   "cell_type": "code",
   "execution_count": 7,
   "id": "335b260d",
   "metadata": {
    "scrolled": true
   },
   "outputs": [],
   "source": [
    "train = train.drop(columns=[\"id\",\"education\"])\n",
    "trainX = trainX.drop(columns=[\"id\",\"education\"])\n",
    "testX = testX.drop(columns=[\"id\",\"education\"])"
   ]
  },
  {
   "cell_type": "code",
   "execution_count": 8,
   "id": "97092f2e",
   "metadata": {},
   "outputs": [
    {
     "name": "stdout",
     "output_type": "stream",
     "text": [
      "?\n"
     ]
    }
   ],
   "source": [
    "indexNum = testX[~testX[\"native-country\"].isin(trainX[\"native-country\"].unique())].index\n",
    "for i in indexNum:\n",
    "    testX.iat[i,12] = \"?\"\n",
    "    print(testX.iat[i,12])"
   ]
  },
  {
   "cell_type": "code",
   "execution_count": 21,
   "id": "d1703b7f",
   "metadata": {},
   "outputs": [],
   "source": [
    "pd.reset_option('display.max_rows')"
   ]
  },
  {
   "attachments": {},
   "cell_type": "markdown",
   "id": "b694c1e8",
   "metadata": {},
   "source": [
    "LightGBMでモデルを作成"
   ]
  },
  {
   "cell_type": "code",
   "execution_count": 22,
   "id": "f26d5f23",
   "metadata": {},
   "outputs": [],
   "source": [
    "trainX = pd.get_dummies(trainX)\n",
    "testX = pd.get_dummies(testX)"
   ]
  },
  {
   "cell_type": "code",
   "execution_count": 23,
   "id": "ddda16b5",
   "metadata": {},
   "outputs": [],
   "source": [
    "model = lgb.LGBMClassifier(boosting_type='goss', max_depth=5, random_state=0)"
   ]
  },
  {
   "cell_type": "code",
   "execution_count": 24,
   "id": "f49a5b9d",
   "metadata": {},
   "outputs": [],
   "source": [
    "from sklearn.model_selection import train_test_split\n",
    "X_train, X_test, y_train, y_test = train_test_split(trainX, y, test_size=0.3)"
   ]
  },
  {
   "cell_type": "code",
   "execution_count": 25,
   "id": "c7070eff",
   "metadata": {},
   "outputs": [
    {
     "name": "stdout",
     "output_type": "stream",
     "text": [
      "[1]\tvalid_0's binary_logloss: 0.522598\n",
      "Training until validation scores don't improve for 10 rounds\n",
      "[2]\tvalid_0's binary_logloss: 0.492077\n",
      "[3]\tvalid_0's binary_logloss: 0.467587\n",
      "[4]\tvalid_0's binary_logloss: 0.447058\n",
      "[5]\tvalid_0's binary_logloss: 0.43052\n",
      "[6]\tvalid_0's binary_logloss: 0.415964\n",
      "[7]\tvalid_0's binary_logloss: 0.403542\n",
      "[8]\tvalid_0's binary_logloss: 0.392944\n",
      "[9]\tvalid_0's binary_logloss: 0.38348\n",
      "[10]\tvalid_0's binary_logloss: 0.375446\n",
      "[11]\tvalid_0's binary_logloss: 0.368062\n",
      "[12]\tvalid_0's binary_logloss: 0.361898\n",
      "[13]\tvalid_0's binary_logloss: 0.356254\n",
      "[14]\tvalid_0's binary_logloss: 0.351864\n",
      "[15]\tvalid_0's binary_logloss: 0.347807\n",
      "[16]\tvalid_0's binary_logloss: 0.343787\n",
      "[17]\tvalid_0's binary_logloss: 0.340104\n",
      "[18]\tvalid_0's binary_logloss: 0.336795\n",
      "[19]\tvalid_0's binary_logloss: 0.333895\n",
      "[20]\tvalid_0's binary_logloss: 0.331398\n",
      "[21]\tvalid_0's binary_logloss: 0.327937\n",
      "[22]\tvalid_0's binary_logloss: 0.325487\n",
      "[23]\tvalid_0's binary_logloss: 0.323229\n",
      "[24]\tvalid_0's binary_logloss: 0.32107\n",
      "[25]\tvalid_0's binary_logloss: 0.319638\n",
      "[26]\tvalid_0's binary_logloss: 0.318176\n",
      "[27]\tvalid_0's binary_logloss: 0.316653\n",
      "[28]\tvalid_0's binary_logloss: 0.315543\n",
      "[29]\tvalid_0's binary_logloss: 0.314254\n",
      "[30]\tvalid_0's binary_logloss: 0.313093\n",
      "[31]\tvalid_0's binary_logloss: 0.312229\n",
      "[32]\tvalid_0's binary_logloss: 0.311331\n",
      "[33]\tvalid_0's binary_logloss: 0.310813\n",
      "[34]\tvalid_0's binary_logloss: 0.309521\n",
      "[35]\tvalid_0's binary_logloss: 0.309113\n",
      "[36]\tvalid_0's binary_logloss: 0.308429\n",
      "[37]\tvalid_0's binary_logloss: 0.307574\n",
      "[38]\tvalid_0's binary_logloss: 0.306777\n",
      "[39]\tvalid_0's binary_logloss: 0.305892\n",
      "[40]\tvalid_0's binary_logloss: 0.305485\n",
      "[41]\tvalid_0's binary_logloss: 0.30492\n",
      "[42]\tvalid_0's binary_logloss: 0.304098\n",
      "[43]\tvalid_0's binary_logloss: 0.304097\n",
      "[44]\tvalid_0's binary_logloss: 0.303556\n",
      "[45]\tvalid_0's binary_logloss: 0.303034\n",
      "[46]\tvalid_0's binary_logloss: 0.302317\n",
      "[47]\tvalid_0's binary_logloss: 0.301707\n",
      "[48]\tvalid_0's binary_logloss: 0.301078\n",
      "[49]\tvalid_0's binary_logloss: 0.300883\n",
      "[50]\tvalid_0's binary_logloss: 0.300548\n",
      "[51]\tvalid_0's binary_logloss: 0.299946\n",
      "[52]\tvalid_0's binary_logloss: 0.29949\n",
      "[53]\tvalid_0's binary_logloss: 0.298833\n",
      "[54]\tvalid_0's binary_logloss: 0.298676\n",
      "[55]\tvalid_0's binary_logloss: 0.298278\n",
      "[56]\tvalid_0's binary_logloss: 0.297394\n",
      "[57]\tvalid_0's binary_logloss: 0.296666\n",
      "[58]\tvalid_0's binary_logloss: 0.296586\n",
      "[59]\tvalid_0's binary_logloss: 0.296497\n",
      "[60]\tvalid_0's binary_logloss: 0.296491\n",
      "[61]\tvalid_0's binary_logloss: 0.295901\n",
      "[62]\tvalid_0's binary_logloss: 0.295464\n",
      "[63]\tvalid_0's binary_logloss: 0.295262\n",
      "[64]\tvalid_0's binary_logloss: 0.294931\n",
      "[65]\tvalid_0's binary_logloss: 0.294709\n",
      "[66]\tvalid_0's binary_logloss: 0.294444\n",
      "[67]\tvalid_0's binary_logloss: 0.294184\n",
      "[68]\tvalid_0's binary_logloss: 0.294004\n",
      "[69]\tvalid_0's binary_logloss: 0.293783\n",
      "[70]\tvalid_0's binary_logloss: 0.293568\n",
      "[71]\tvalid_0's binary_logloss: 0.293303\n",
      "[72]\tvalid_0's binary_logloss: 0.293299\n",
      "[73]\tvalid_0's binary_logloss: 0.292887\n",
      "[74]\tvalid_0's binary_logloss: 0.292801\n",
      "[75]\tvalid_0's binary_logloss: 0.29273\n",
      "[76]\tvalid_0's binary_logloss: 0.292422\n",
      "[77]\tvalid_0's binary_logloss: 0.292296\n",
      "[78]\tvalid_0's binary_logloss: 0.292336\n",
      "[79]\tvalid_0's binary_logloss: 0.292076\n",
      "[80]\tvalid_0's binary_logloss: 0.292026\n",
      "[81]\tvalid_0's binary_logloss: 0.291765\n",
      "[82]\tvalid_0's binary_logloss: 0.292214\n",
      "[83]\tvalid_0's binary_logloss: 0.292198\n",
      "[84]\tvalid_0's binary_logloss: 0.292362\n",
      "[85]\tvalid_0's binary_logloss: 0.292382\n",
      "[86]\tvalid_0's binary_logloss: 0.292152\n",
      "[87]\tvalid_0's binary_logloss: 0.292298\n",
      "[88]\tvalid_0's binary_logloss: 0.292295\n",
      "[89]\tvalid_0's binary_logloss: 0.29213\n",
      "[90]\tvalid_0's binary_logloss: 0.291965\n",
      "[91]\tvalid_0's binary_logloss: 0.291745\n",
      "[92]\tvalid_0's binary_logloss: 0.291461\n",
      "[93]\tvalid_0's binary_logloss: 0.291017\n",
      "[94]\tvalid_0's binary_logloss: 0.291116\n",
      "[95]\tvalid_0's binary_logloss: 0.291101\n",
      "[96]\tvalid_0's binary_logloss: 0.2909\n",
      "[97]\tvalid_0's binary_logloss: 0.290735\n",
      "[98]\tvalid_0's binary_logloss: 0.290634\n",
      "[99]\tvalid_0's binary_logloss: 0.290863\n",
      "[100]\tvalid_0's binary_logloss: 0.29093\n",
      "Did not meet early stopping. Best iteration is:\n",
      "[98]\tvalid_0's binary_logloss: 0.290634\n"
     ]
    },
    {
     "data": {
      "text/plain": [
       "LGBMClassifier(boosting_type='goss', max_depth=5, random_state=0)"
      ]
     },
     "execution_count": 25,
     "metadata": {},
     "output_type": "execute_result"
    }
   ],
   "source": [
    "eval_set = [(X_test, y_test)]\n",
    "callbacks = []\n",
    "callbacks.append(lgb.early_stopping(stopping_rounds=10))\n",
    "callbacks.append(lgb.log_evaluation())\n",
    "model.fit(X_train, y_train, eval_set=eval_set, callbacks=callbacks)"
   ]
  },
  {
   "cell_type": "code",
   "execution_count": 51,
   "id": "eb1f53d6",
   "metadata": {},
   "outputs": [
    {
     "data": {
      "text/plain": [
       "array([0.005831357148907298, 0.4087541489544169, 0.32721285961734015, ...,\n",
       "       0.018187681946642213, 0.0006196388925261795, 0.18832829620060204],\n",
       "      dtype=object)"
      ]
     },
     "execution_count": 51,
     "metadata": {},
     "output_type": "execute_result"
    }
   ],
   "source": [
    "trainXpred = model.predict_proba(trainX)\n",
    "trainXpred = trainXpred[:,1]\n",
    "trainXl = len(trainXpred)\n",
    "trainXpred = trainXpred.astype(object)\n",
    "trainXpred"
   ]
  },
  {
   "cell_type": "code",
   "execution_count": 64,
   "id": "b7b9aeac",
   "metadata": {},
   "outputs": [
    {
     "data": {
      "text/html": [
       "<div>\n",
       "<style scoped>\n",
       "    .dataframe tbody tr th:only-of-type {\n",
       "        vertical-align: middle;\n",
       "    }\n",
       "\n",
       "    .dataframe tbody tr th {\n",
       "        vertical-align: top;\n",
       "    }\n",
       "\n",
       "    .dataframe thead th {\n",
       "        text-align: right;\n",
       "    }\n",
       "</style>\n",
       "<table border=\"1\" class=\"dataframe\">\n",
       "  <thead>\n",
       "    <tr style=\"text-align: right;\">\n",
       "      <th></th>\n",
       "      <th>0</th>\n",
       "      <th>1</th>\n",
       "    </tr>\n",
       "  </thead>\n",
       "  <tbody>\n",
       "    <tr>\n",
       "      <th>0</th>\n",
       "      <td>0.38</td>\n",
       "      <td>0.870086</td>\n",
       "    </tr>\n",
       "    <tr>\n",
       "      <th>1</th>\n",
       "      <td>0.39</td>\n",
       "      <td>0.871069</td>\n",
       "    </tr>\n",
       "    <tr>\n",
       "      <th>2</th>\n",
       "      <td>0.40</td>\n",
       "      <td>0.873342</td>\n",
       "    </tr>\n",
       "    <tr>\n",
       "      <th>3</th>\n",
       "      <td>0.41</td>\n",
       "      <td>0.875184</td>\n",
       "    </tr>\n",
       "    <tr>\n",
       "      <th>4</th>\n",
       "      <td>0.42</td>\n",
       "      <td>0.875737</td>\n",
       "    </tr>\n",
       "    <tr>\n",
       "      <th>5</th>\n",
       "      <td>0.43</td>\n",
       "      <td>0.875614</td>\n",
       "    </tr>\n",
       "    <tr>\n",
       "      <th>6</th>\n",
       "      <td>0.44</td>\n",
       "      <td>0.876290</td>\n",
       "    </tr>\n",
       "    <tr>\n",
       "      <th>7</th>\n",
       "      <td>0.45</td>\n",
       "      <td>0.876966</td>\n",
       "    </tr>\n",
       "    <tr>\n",
       "      <th>8</th>\n",
       "      <td>0.46</td>\n",
       "      <td>0.876904</td>\n",
       "    </tr>\n",
       "    <tr>\n",
       "      <th>9</th>\n",
       "      <td>0.47</td>\n",
       "      <td>0.877457</td>\n",
       "    </tr>\n",
       "    <tr>\n",
       "      <th>10</th>\n",
       "      <td>0.48</td>\n",
       "      <td>0.878256</td>\n",
       "    </tr>\n",
       "    <tr>\n",
       "      <th>11</th>\n",
       "      <td>0.49</td>\n",
       "      <td>0.877518</td>\n",
       "    </tr>\n",
       "    <tr>\n",
       "      <th>12</th>\n",
       "      <td>0.50</td>\n",
       "      <td>0.877334</td>\n",
       "    </tr>\n",
       "    <tr>\n",
       "      <th>13</th>\n",
       "      <td>0.51</td>\n",
       "      <td>0.876167</td>\n",
       "    </tr>\n",
       "    <tr>\n",
       "      <th>14</th>\n",
       "      <td>0.52</td>\n",
       "      <td>0.876413</td>\n",
       "    </tr>\n",
       "    <tr>\n",
       "      <th>15</th>\n",
       "      <td>0.53</td>\n",
       "      <td>0.876229</td>\n",
       "    </tr>\n",
       "    <tr>\n",
       "      <th>16</th>\n",
       "      <td>0.54</td>\n",
       "      <td>0.875430</td>\n",
       "    </tr>\n",
       "    <tr>\n",
       "      <th>17</th>\n",
       "      <td>0.55</td>\n",
       "      <td>0.875676</td>\n",
       "    </tr>\n",
       "    <tr>\n",
       "      <th>18</th>\n",
       "      <td>0.56</td>\n",
       "      <td>0.875123</td>\n",
       "    </tr>\n",
       "    <tr>\n",
       "      <th>19</th>\n",
       "      <td>0.57</td>\n",
       "      <td>0.874939</td>\n",
       "    </tr>\n",
       "    <tr>\n",
       "      <th>20</th>\n",
       "      <td>0.58</td>\n",
       "      <td>0.873710</td>\n",
       "    </tr>\n",
       "    <tr>\n",
       "      <th>21</th>\n",
       "      <td>0.59</td>\n",
       "      <td>0.872973</td>\n",
       "    </tr>\n",
       "    <tr>\n",
       "      <th>22</th>\n",
       "      <td>0.60</td>\n",
       "      <td>0.872604</td>\n",
       "    </tr>\n",
       "    <tr>\n",
       "      <th>23</th>\n",
       "      <td>0.61</td>\n",
       "      <td>0.871069</td>\n",
       "    </tr>\n",
       "    <tr>\n",
       "      <th>24</th>\n",
       "      <td>0.62</td>\n",
       "      <td>0.870332</td>\n",
       "    </tr>\n",
       "  </tbody>\n",
       "</table>\n",
       "</div>"
      ],
      "text/plain": [
       "       0         1\n",
       "0   0.38  0.870086\n",
       "1   0.39  0.871069\n",
       "2   0.40  0.873342\n",
       "3   0.41  0.875184\n",
       "4   0.42  0.875737\n",
       "5   0.43  0.875614\n",
       "6   0.44  0.876290\n",
       "7   0.45  0.876966\n",
       "8   0.46  0.876904\n",
       "9   0.47  0.877457\n",
       "10  0.48  0.878256\n",
       "11  0.49  0.877518\n",
       "12  0.50  0.877334\n",
       "13  0.51  0.876167\n",
       "14  0.52  0.876413\n",
       "15  0.53  0.876229\n",
       "16  0.54  0.875430\n",
       "17  0.55  0.875676\n",
       "18  0.56  0.875123\n",
       "19  0.57  0.874939\n",
       "20  0.58  0.873710\n",
       "21  0.59  0.872973\n",
       "22  0.60  0.872604\n",
       "23  0.61  0.871069\n",
       "24  0.62  0.870332"
      ]
     },
     "execution_count": 64,
     "metadata": {},
     "output_type": "execute_result"
    }
   ],
   "source": [
    "ansRateList = pd.DataFrame()\n",
    "for j in range(25):\n",
    "    c = trainXpred.copy()\n",
    "    n = (38+j)/100\n",
    "    for i in range(trainXl):\n",
    "        if c[i] <= n:\n",
    "            c[i] = 0\n",
    "        else:\n",
    "            c[i] = 1\n",
    "    ansRateBase = np.equal(c,y)\n",
    "    ansRate = collections.Counter(ansRateBase)[True]/len(ansRateBase)\n",
    "    ansRateData = pd.DataFrame([[n,ansRate]])\n",
    "    ansRateList = pd.concat([ansRateList,ansRateData],ignore_index=True)\n",
    "ansRateList"
   ]
  },
  {
   "cell_type": "code",
   "execution_count": 61,
   "id": "6c2de01e",
   "metadata": {},
   "outputs": [
    {
     "data": {
      "text/plain": [
       "([<matplotlib.axis.XTick at 0x28a867a4250>,\n",
       "  <matplotlib.axis.XTick at 0x28a867a4220>,\n",
       "  <matplotlib.axis.XTick at 0x28a86747460>,\n",
       "  <matplotlib.axis.XTick at 0x28a8712bd30>,\n",
       "  <matplotlib.axis.XTick at 0x28a871214c0>,\n",
       "  <matplotlib.axis.XTick at 0x28a87121c10>,\n",
       "  <matplotlib.axis.XTick at 0x28a8711a3a0>,\n",
       "  <matplotlib.axis.XTick at 0x28a8711aaf0>,\n",
       "  <matplotlib.axis.XTick at 0x28a87121730>,\n",
       "  <matplotlib.axis.XTick at 0x28a8711ab20>,\n",
       "  <matplotlib.axis.XTick at 0x28a87114310>,\n",
       "  <matplotlib.axis.XTick at 0x28a87114a60>,\n",
       "  <matplotlib.axis.XTick at 0x28a8710e1f0>,\n",
       "  <matplotlib.axis.XTick at 0x28a8710e940>,\n",
       "  <matplotlib.axis.XTick at 0x28a8710ebe0>,\n",
       "  <matplotlib.axis.XTick at 0x28a87114a30>,\n",
       "  <matplotlib.axis.XTick at 0x28a87121130>,\n",
       "  <matplotlib.axis.XTick at 0x28a871085e0>,\n",
       "  <matplotlib.axis.XTick at 0x28a87108d30>,\n",
       "  <matplotlib.axis.XTick at 0x28a867b14c0>,\n",
       "  <matplotlib.axis.XTick at 0x28a867b1c10>,\n",
       "  <matplotlib.axis.XTick at 0x28a867b1880>,\n",
       "  <matplotlib.axis.XTick at 0x28a87108610>,\n",
       "  <matplotlib.axis.XTick at 0x28a867b61f0>,\n",
       "  <matplotlib.axis.XTick at 0x28a867b68b0>],\n",
       " [Text(0, 0, '0.38'),\n",
       "  Text(1, 0, '0.39'),\n",
       "  Text(2, 0, '0.4'),\n",
       "  Text(3, 0, '0.41'),\n",
       "  Text(4, 0, '0.42'),\n",
       "  Text(5, 0, '0.43'),\n",
       "  Text(6, 0, '0.44'),\n",
       "  Text(7, 0, '0.45'),\n",
       "  Text(8, 0, '0.46'),\n",
       "  Text(9, 0, '0.47'),\n",
       "  Text(10, 0, '0.48'),\n",
       "  Text(11, 0, '0.49'),\n",
       "  Text(12, 0, '0.5'),\n",
       "  Text(13, 0, '0.51'),\n",
       "  Text(14, 0, '0.52'),\n",
       "  Text(15, 0, '0.53'),\n",
       "  Text(16, 0, '0.54'),\n",
       "  Text(17, 0, '0.55'),\n",
       "  Text(18, 0, '0.56'),\n",
       "  Text(19, 0, '0.57'),\n",
       "  Text(20, 0, '0.58'),\n",
       "  Text(21, 0, '0.59'),\n",
       "  Text(22, 0, '0.6'),\n",
       "  Text(23, 0, '0.61'),\n",
       "  Text(24, 0, '0.62')])"
      ]
     },
     "execution_count": 61,
     "metadata": {},
     "output_type": "execute_result"
    },
    {
     "data": {
      "image/png": "[encoded data removed]",
      "text/plain": [
       "<Figure size 640x480 with 1 Axes>"
      ]
     },
     "metadata": {},
     "output_type": "display_data"
    }
   ],
   "source": [
    "plt.plot(ansRateList[1])\n",
    "plt.xticks(range(25),ansRateList[0])"
   ]
  },
  {
   "cell_type": "markdown",
   "id": "544335c6",
   "metadata": {},
   "source": [
    "予測に代入して結果を出力する"
   ]
  },
  {
   "cell_type": "code",
   "execution_count": 54,
   "id": "3ba890af",
   "metadata": {},
   "outputs": [],
   "source": [
    "from sklearn import metrics\n",
    "pred = model.predict_proba(testX)"
   ]
  },
  {
   "cell_type": "code",
   "execution_count": 55,
   "id": "12fbbef7",
   "metadata": {},
   "outputs": [],
   "source": [
    "pred = pred[:,1]\n",
    "l = len(pred)"
   ]
  },
  {
   "cell_type": "code",
   "execution_count": 56,
   "id": "dd5f4305",
   "metadata": {},
   "outputs": [],
   "source": [
    "pred = pred.astype(object)\n",
    "for i in range(l):\n",
    "    if pred[i] <= 0.48:\n",
    "        pred[i] = \"<=50K\"\n",
    "    else:\n",
    "        pred[i] = \">50K\""
   ]
  },
  {
   "cell_type": "code",
   "execution_count": 57,
   "id": "8078eb93",
   "metadata": {},
   "outputs": [],
   "source": [
    "sample[1] = pred"
   ]
  },
  {
   "cell_type": "code",
   "execution_count": 58,
   "id": "2b9cdb55",
   "metadata": {},
   "outputs": [],
   "source": [
    "sample.to_csv(\"submit2_5.csv\",index=None,header=None)"
   ]
  }
 ],
 "metadata": {
  "kernelspec": {
   "display_name": "Python 3 (ipykernel)",
   "language": "python",
   "name": "python3"
  },
  "language_info": {
   "codemirror_mode": {
    "name": "ipython",
    "version": 3
   },
   "file_extension": ".py",
   "mimetype": "text/x-python",
   "name": "python",
   "nbconvert_exporter": "python",
   "pygments_lexer": "ipython3",
   "version": "3.9.13"
  }
 },
 "nbformat": 4,
 "nbformat_minor": 5
}
