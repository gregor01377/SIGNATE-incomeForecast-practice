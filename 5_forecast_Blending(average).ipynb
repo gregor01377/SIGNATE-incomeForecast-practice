{
 "cells": [
  {
   "attachments": {},
   "cell_type": "markdown",
   "id": "729081b5",
   "metadata": {},
   "source": [
    "複数モデルの平均値を取るブレンディングを実行\n",
    "DT、LightGBM、XGBoostの三つのモデルを採用。"
   ]
  },
  {
   "cell_type": "code",
   "execution_count": 1,
   "id": "d43a53db",
   "metadata": {},
   "outputs": [
    {
     "name": "stderr",
     "output_type": "stream",
     "text": [
      "Duplicate key in file WindowsPath('C:/Users/GuestUser/anaconda/lib/site-packages/matplotlib/mpl-data/matplotlibrc'), line 258 ('font.family:  IPAexGothic')\n"
     ]
    }
   ],
   "source": [
    "import pandas as pd\n",
    "import numpy as np\n",
    "from matplotlib import pyplot as plt\n",
    "%matplotlib inline\n",
    "\n",
    "import seaborn as sns\n",
    "\n",
    "import collections\n",
    "\n",
    "import optuna.integration.lightgbm as lgb\n",
    "\n",
    "from xgboost import XGBClassifier\n",
    "\n",
    "from sklearn.tree import DecisionTreeClassifier as DT\n",
    "from sklearn.model_selection import cross_validate\n",
    "from sklearn.model_selection import GridSearchCV\n",
    "from sklearn import metrics"
   ]
  },
  {
   "cell_type": "code",
   "execution_count": 2,
   "id": "6fcae168",
   "metadata": {},
   "outputs": [],
   "source": [
    "pd.set_option('display.max_rows', None)"
   ]
  },
  {
   "cell_type": "markdown",
   "id": "1b2dc8bb",
   "metadata": {},
   "source": [
    "データを変数に入れる"
   ]
  },
  {
   "cell_type": "code",
   "execution_count": 3,
   "id": "768b668f",
   "metadata": {},
   "outputs": [],
   "source": [
    "train = pd.read_table('train.tsv')\n",
    "test = pd.read_csv('test.tsv',sep='\\t')\n",
    "sample = pd.read_csv('sample_submit.csv',header=None)"
   ]
  },
  {
   "attachments": {},
   "cell_type": "markdown",
   "id": "ca26e0b1",
   "metadata": {},
   "source": [
    "データを整える　※native-countryについて、trainかtest片方にしかないものは？に変換してしまう。"
   ]
  },
  {
   "cell_type": "code",
   "execution_count": 4,
   "id": "82872559",
   "metadata": {},
   "outputs": [
    {
     "data": {
      "text/plain": [
       "0    12288\n",
       "1     3992\n",
       "Name: Y, dtype: int64"
      ]
     },
     "execution_count": 4,
     "metadata": {},
     "output_type": "execute_result"
    }
   ],
   "source": [
    "train = train.replace({\"Y\":{\"<=50K\" : 0, \">50K\" : 1}})\n",
    "train[\"Y\"].value_counts()"
   ]
  },
  {
   "cell_type": "code",
   "execution_count": 5,
   "id": "c5ef8fac",
   "metadata": {},
   "outputs": [],
   "source": [
    "trainX = train.iloc[:,0:15]\n",
    "y = train[\"Y\"]\n",
    "testX = test.copy()"
   ]
  },
  {
   "cell_type": "code",
   "execution_count": 6,
   "id": "335b260d",
   "metadata": {
    "scrolled": true
   },
   "outputs": [],
   "source": [
    "train = train.drop(columns=[\"id\",\"education\"])\n",
    "trainX = trainX.drop(columns=[\"id\",\"education\"])\n",
    "testX = testX.drop(columns=[\"id\",\"education\"])"
   ]
  },
  {
   "cell_type": "code",
   "execution_count": 7,
   "id": "97092f2e",
   "metadata": {},
   "outputs": [
    {
     "name": "stdout",
     "output_type": "stream",
     "text": [
      "?\n"
     ]
    }
   ],
   "source": [
    "indexNum = testX[~testX[\"native-country\"].isin(trainX[\"native-country\"].unique())].index\n",
    "for i in indexNum:\n",
    "    testX.iat[i,12] = \"?\"\n",
    "    print(testX.iat[i,12])"
   ]
  },
  {
   "cell_type": "code",
   "execution_count": 20,
   "id": "d1703b7f",
   "metadata": {},
   "outputs": [],
   "source": [
    "pd.reset_option('display.max_rows')"
   ]
  },
  {
   "attachments": {},
   "cell_type": "markdown",
   "id": "b694c1e8",
   "metadata": {},
   "source": [
    "モデル作成（3モデル）"
   ]
  },
  {
   "cell_type": "code",
   "execution_count": 21,
   "id": "f26d5f23",
   "metadata": {},
   "outputs": [],
   "source": [
    "trainX = pd.get_dummies(trainX)\n",
    "testX = pd.get_dummies(testX)"
   ]
  },
  {
   "cell_type": "code",
   "execution_count": 22,
   "id": "f49a5b9d",
   "metadata": {},
   "outputs": [],
   "source": [
    "from sklearn.model_selection import train_test_split\n",
    "X_train, X_test, y_train, y_test = train_test_split(trainX, y, test_size=0.3)"
   ]
  },
  {
   "cell_type": "markdown",
   "id": "283a3659",
   "metadata": {},
   "source": [
    "DTを使ったモデルを作る"
   ]
  },
  {
   "cell_type": "code",
   "execution_count": 23,
   "id": "bf8b3fc3",
   "metadata": {},
   "outputs": [],
   "source": [
    "clf_DT = DT()"
   ]
  },
  {
   "cell_type": "code",
   "execution_count": 24,
   "id": "bb70bd4f",
   "metadata": {},
   "outputs": [],
   "source": [
    "parameters_DT = {\"max_depth\":list(range(2,16)), \"min_samples_leaf\":[50,60,70,80,90,100,110,120,130,140,150]}"
   ]
  },
  {
   "cell_type": "code",
   "execution_count": 25,
   "id": "c3e3f2b6",
   "metadata": {},
   "outputs": [
    {
     "data": {
      "text/plain": [
       "GridSearchCV(cv=5, estimator=DecisionTreeClassifier(), n_jobs=-1,\n",
       "             param_grid={'max_depth': [2, 3, 4, 5, 6, 7, 8, 9, 10, 11, 12, 13,\n",
       "                                       14, 15],\n",
       "                         'min_samples_leaf': [50, 60, 70, 80, 90, 100, 110, 120,\n",
       "                                              130, 140, 150]},\n",
       "             return_train_score=True, scoring='roc_auc')"
      ]
     },
     "execution_count": 25,
     "metadata": {},
     "output_type": "execute_result"
    }
   ],
   "source": [
    "model_DT = GridSearchCV(clf_DT, parameters_DT, cv=5, scoring=\"roc_auc\",n_jobs=-1,return_train_score=True)\n",
    "model_DT.fit(trainX,y)"
   ]
  },
  {
   "cell_type": "code",
   "execution_count": 26,
   "id": "58634de3",
   "metadata": {},
   "outputs": [
    {
     "data": {
      "text/plain": [
       "{'max_depth': 10, 'min_samples_leaf': 70}"
      ]
     },
     "execution_count": 26,
     "metadata": {},
     "output_type": "execute_result"
    }
   ],
   "source": [
    "model_DT.best_params_"
   ]
  },
  {
   "cell_type": "code",
   "execution_count": 27,
   "id": "59113fb3",
   "metadata": {},
   "outputs": [],
   "source": [
    "trainXpred_DT = model_DT.predict_proba(trainX)\n",
    "trainXpred_DT = trainXpred_DT[:,1]\n",
    "trainXl_DT = len(trainXpred_DT)\n",
    "trainXpred_DT = trainXpred_DT.astype(object)"
   ]
  },
  {
   "cell_type": "code",
   "execution_count": 28,
   "id": "1100f712",
   "metadata": {},
   "outputs": [
    {
     "data": {
      "text/html": [
       "<div>\n",
       "<style scoped>\n",
       "    .dataframe tbody tr th:only-of-type {\n",
       "        vertical-align: middle;\n",
       "    }\n",
       "\n",
       "    .dataframe tbody tr th {\n",
       "        vertical-align: top;\n",
       "    }\n",
       "\n",
       "    .dataframe thead th {\n",
       "        text-align: right;\n",
       "    }\n",
       "</style>\n",
       "<table border=\"1\" class=\"dataframe\">\n",
       "  <thead>\n",
       "    <tr style=\"text-align: right;\">\n",
       "      <th></th>\n",
       "      <th>0</th>\n",
       "      <th>1</th>\n",
       "    </tr>\n",
       "  </thead>\n",
       "  <tbody>\n",
       "    <tr>\n",
       "      <th>0</th>\n",
       "      <td>0.38</td>\n",
       "      <td>0.849079</td>\n",
       "    </tr>\n",
       "    <tr>\n",
       "      <th>1</th>\n",
       "      <td>0.39</td>\n",
       "      <td>0.849079</td>\n",
       "    </tr>\n",
       "    <tr>\n",
       "      <th>2</th>\n",
       "      <td>0.40</td>\n",
       "      <td>0.849939</td>\n",
       "    </tr>\n",
       "    <tr>\n",
       "      <th>3</th>\n",
       "      <td>0.41</td>\n",
       "      <td>0.850860</td>\n",
       "    </tr>\n",
       "    <tr>\n",
       "      <th>4</th>\n",
       "      <td>0.42</td>\n",
       "      <td>0.851597</td>\n",
       "    </tr>\n",
       "    <tr>\n",
       "      <th>5</th>\n",
       "      <td>0.43</td>\n",
       "      <td>0.852518</td>\n",
       "    </tr>\n",
       "    <tr>\n",
       "      <th>6</th>\n",
       "      <td>0.44</td>\n",
       "      <td>0.853194</td>\n",
       "    </tr>\n",
       "    <tr>\n",
       "      <th>7</th>\n",
       "      <td>0.45</td>\n",
       "      <td>0.854238</td>\n",
       "    </tr>\n",
       "    <tr>\n",
       "      <th>8</th>\n",
       "      <td>0.46</td>\n",
       "      <td>0.854238</td>\n",
       "    </tr>\n",
       "    <tr>\n",
       "      <th>9</th>\n",
       "      <td>0.47</td>\n",
       "      <td>0.854238</td>\n",
       "    </tr>\n",
       "    <tr>\n",
       "      <th>10</th>\n",
       "      <td>0.48</td>\n",
       "      <td>0.854238</td>\n",
       "    </tr>\n",
       "    <tr>\n",
       "      <th>11</th>\n",
       "      <td>0.49</td>\n",
       "      <td>0.854423</td>\n",
       "    </tr>\n",
       "    <tr>\n",
       "      <th>12</th>\n",
       "      <td>0.50</td>\n",
       "      <td>0.854607</td>\n",
       "    </tr>\n",
       "    <tr>\n",
       "      <th>13</th>\n",
       "      <td>0.51</td>\n",
       "      <td>0.854423</td>\n",
       "    </tr>\n",
       "    <tr>\n",
       "      <th>14</th>\n",
       "      <td>0.52</td>\n",
       "      <td>0.854423</td>\n",
       "    </tr>\n",
       "    <tr>\n",
       "      <th>15</th>\n",
       "      <td>0.53</td>\n",
       "      <td>0.854423</td>\n",
       "    </tr>\n",
       "    <tr>\n",
       "      <th>16</th>\n",
       "      <td>0.54</td>\n",
       "      <td>0.854423</td>\n",
       "    </tr>\n",
       "    <tr>\n",
       "      <th>17</th>\n",
       "      <td>0.55</td>\n",
       "      <td>0.854423</td>\n",
       "    </tr>\n",
       "    <tr>\n",
       "      <th>18</th>\n",
       "      <td>0.56</td>\n",
       "      <td>0.853686</td>\n",
       "    </tr>\n",
       "    <tr>\n",
       "      <th>19</th>\n",
       "      <td>0.57</td>\n",
       "      <td>0.853686</td>\n",
       "    </tr>\n",
       "    <tr>\n",
       "      <th>20</th>\n",
       "      <td>0.58</td>\n",
       "      <td>0.853686</td>\n",
       "    </tr>\n",
       "    <tr>\n",
       "      <th>21</th>\n",
       "      <td>0.59</td>\n",
       "      <td>0.852948</td>\n",
       "    </tr>\n",
       "    <tr>\n",
       "      <th>22</th>\n",
       "      <td>0.60</td>\n",
       "      <td>0.852948</td>\n",
       "    </tr>\n",
       "    <tr>\n",
       "      <th>23</th>\n",
       "      <td>0.61</td>\n",
       "      <td>0.852948</td>\n",
       "    </tr>\n",
       "    <tr>\n",
       "      <th>24</th>\n",
       "      <td>0.62</td>\n",
       "      <td>0.852948</td>\n",
       "    </tr>\n",
       "  </tbody>\n",
       "</table>\n",
       "</div>"
      ],
      "text/plain": [
       "       0         1\n",
       "0   0.38  0.849079\n",
       "1   0.39  0.849079\n",
       "2   0.40  0.849939\n",
       "3   0.41  0.850860\n",
       "4   0.42  0.851597\n",
       "5   0.43  0.852518\n",
       "6   0.44  0.853194\n",
       "7   0.45  0.854238\n",
       "8   0.46  0.854238\n",
       "9   0.47  0.854238\n",
       "10  0.48  0.854238\n",
       "11  0.49  0.854423\n",
       "12  0.50  0.854607\n",
       "13  0.51  0.854423\n",
       "14  0.52  0.854423\n",
       "15  0.53  0.854423\n",
       "16  0.54  0.854423\n",
       "17  0.55  0.854423\n",
       "18  0.56  0.853686\n",
       "19  0.57  0.853686\n",
       "20  0.58  0.853686\n",
       "21  0.59  0.852948\n",
       "22  0.60  0.852948\n",
       "23  0.61  0.852948\n",
       "24  0.62  0.852948"
      ]
     },
     "execution_count": 28,
     "metadata": {},
     "output_type": "execute_result"
    }
   ],
   "source": [
    "ansRateList_DT = pd.DataFrame()\n",
    "for j in range(25):\n",
    "    c = trainXpred_DT.copy()\n",
    "    n = (38+j)/100\n",
    "    for i in range(trainXl_DT):\n",
    "        if c[i] <= n:\n",
    "            c[i] = 0\n",
    "        else:\n",
    "            c[i] = 1\n",
    "    ansRateBase_DT = np.equal(c,y)\n",
    "    ansRate_DT = collections.Counter(ansRateBase_DT)[True]/len(ansRateBase_DT)\n",
    "    ansRateData_DT = pd.DataFrame([[n,ansRate_DT]])\n",
    "    ansRateList_DT = pd.concat([ansRateList_DT,ansRateData_DT],ignore_index=True)\n",
    "ansRateList_DT"
   ]
  },
  {
   "cell_type": "code",
   "execution_count": 29,
   "id": "1e02d200",
   "metadata": {},
   "outputs": [
    {
     "data": {
      "text/plain": [
       "([<matplotlib.axis.XTick at 0x2040fc3a790>,\n",
       "  <matplotlib.axis.XTick at 0x2040f8f3670>,\n",
       "  <matplotlib.axis.XTick at 0x2040aa25a90>,\n",
       "  <matplotlib.axis.XTick at 0x2040fa41640>,\n",
       "  <matplotlib.axis.XTick at 0x2040fa41d90>,\n",
       "  <matplotlib.axis.XTick at 0x2040fa41df0>,\n",
       "  <matplotlib.axis.XTick at 0x2040fa46160>,\n",
       "  <matplotlib.axis.XTick at 0x2040fa46d00>,\n",
       "  <matplotlib.axis.XTick at 0x2040fa49490>,\n",
       "  <matplotlib.axis.XTick at 0x2040fa49be0>,\n",
       "  <matplotlib.axis.XTick at 0x2040fa4d370>,\n",
       "  <matplotlib.axis.XTick at 0x2040fa4dac0>,\n",
       "  <matplotlib.axis.XTick at 0x2040fa49880>,\n",
       "  <matplotlib.axis.XTick at 0x2040fa412b0>,\n",
       "  <matplotlib.axis.XTick at 0x2040fa4f0a0>,\n",
       "  <matplotlib.axis.XTick at 0x2040fa4f760>,\n",
       "  <matplotlib.axis.XTick at 0x2040fa54040>,\n",
       "  <matplotlib.axis.XTick at 0x2040fa54640>,\n",
       "  <matplotlib.axis.XTick at 0x2040fa4ff10>,\n",
       "  <matplotlib.axis.XTick at 0x2040fa4d640>,\n",
       "  <matplotlib.axis.XTick at 0x2040fa549d0>,\n",
       "  <matplotlib.axis.XTick at 0x2040fa572e0>,\n",
       "  <matplotlib.axis.XTick at 0x2040fa57a30>,\n",
       "  <matplotlib.axis.XTick at 0x2040fa5a1c0>,\n",
       "  <matplotlib.axis.XTick at 0x2040fa5a910>],\n",
       " [Text(0, 0, '0.38'),\n",
       "  Text(1, 0, '0.39'),\n",
       "  Text(2, 0, '0.4'),\n",
       "  Text(3, 0, '0.41'),\n",
       "  Text(4, 0, '0.42'),\n",
       "  Text(5, 0, '0.43'),\n",
       "  Text(6, 0, '0.44'),\n",
       "  Text(7, 0, '0.45'),\n",
       "  Text(8, 0, '0.46'),\n",
       "  Text(9, 0, '0.47'),\n",
       "  Text(10, 0, '0.48'),\n",
       "  Text(11, 0, '0.49'),\n",
       "  Text(12, 0, '0.5'),\n",
       "  Text(13, 0, '0.51'),\n",
       "  Text(14, 0, '0.52'),\n",
       "  Text(15, 0, '0.53'),\n",
       "  Text(16, 0, '0.54'),\n",
       "  Text(17, 0, '0.55'),\n",
       "  Text(18, 0, '0.56'),\n",
       "  Text(19, 0, '0.57'),\n",
       "  Text(20, 0, '0.58'),\n",
       "  Text(21, 0, '0.59'),\n",
       "  Text(22, 0, '0.6'),\n",
       "  Text(23, 0, '0.61'),\n",
       "  Text(24, 0, '0.62')])"
      ]
     },
     "execution_count": 29,
     "metadata": {},
     "output_type": "execute_result"
    },
    {
     "data": {
      "image/png": "[encoded data removed]",
      "text/plain": [
       "<Figure size 640x480 with 1 Axes>"
      ]
     },
     "metadata": {},
     "output_type": "display_data"
    }
   ],
   "source": [
    "plt.plot(ansRateList_DT[1])\n",
    "plt.xticks(range(25),ansRateList_DT[0])"
   ]
  },
  {
   "cell_type": "markdown",
   "id": "fdcba321",
   "metadata": {},
   "source": [
    "LightGBMを使ったモデルを作る"
   ]
  },
  {
   "cell_type": "code",
   "execution_count": 30,
   "id": "ddda16b5",
   "metadata": {},
   "outputs": [
    {
     "name": "stderr",
     "output_type": "stream",
     "text": [
      "\u001b[32m[I 2023-02-21 13:49:03,009]\u001b[0m A new study created in memory with name: no-name-7089370d-9f15-4b62-b40a-62dbb3d63b41\u001b[0m\n",
      "feature_fraction, val_score: inf:   0%|          | 0/7 [00:00<?, ?it/s]"
     ]
    },
    {
     "name": "stdout",
     "output_type": "stream",
     "text": [
      "[LightGBM] [Warning] Auto-choosing row-wise multi-threading, the overhead of testing was 0.012286 seconds.\n",
      "You can set `force_row_wise=true` to remove the overhead.\n",
      "And if memory is not enough, you can set `force_col_wise=true`.\n",
      "[LightGBM] [Info] Total Bins 714\n",
      "[LightGBM] [Info] Number of data points in the train set: 11396, number of used features: 91\n",
      "[LightGBM] [Info] Start training from score 0.245261\n",
      "Training until validation scores don't improve for 20 rounds\n",
      "[10]\tvalid_0's rmse: 0.324947\tvalid_1's rmse: 0.333302\n",
      "[20]\tvalid_0's rmse: 0.299931\tvalid_1's rmse: 0.314211\n",
      "[30]\tvalid_0's rmse: 0.290294\tvalid_1's rmse: 0.30976\n",
      "[40]\tvalid_0's rmse: 0.284002\tvalid_1's rmse: 0.307031\n"
     ]
    },
    {
     "name": "stderr",
     "output_type": "stream",
     "text": [
      "feature_fraction, val_score: 0.306638:  14%|#4        | 1/7 [00:00<00:03,  1.50it/s]\u001b[32m[I 2023-02-21 13:49:03,696]\u001b[0m Trial 0 finished with value: 0.306638126073389 and parameters: {'feature_fraction': 0.8}. Best is trial 0 with value: 0.306638126073389.\u001b[0m\n",
      "feature_fraction, val_score: 0.306638:  14%|#4        | 1/7 [00:00<00:03,  1.50it/s]"
     ]
    },
    {
     "name": "stdout",
     "output_type": "stream",
     "text": [
      "[50]\tvalid_0's rmse: 0.279761\tvalid_1's rmse: 0.306791\n",
      "[60]\tvalid_0's rmse: 0.276675\tvalid_1's rmse: 0.306909\n",
      "[70]\tvalid_0's rmse: 0.273891\tvalid_1's rmse: 0.307129\n",
      "Early stopping, best iteration is:\n",
      "[56]\tvalid_0's rmse: 0.277834\tvalid_1's rmse: 0.306638\n",
      "[LightGBM] [Warning] Auto-choosing row-wise multi-threading, the overhead of testing was 0.002053 seconds.\n",
      "You can set `force_row_wise=true` to remove the overhead.\n",
      "And if memory is not enough, you can set `force_col_wise=true`.\n",
      "[LightGBM] [Info] Total Bins 714\n",
      "[LightGBM] [Info] Number of data points in the train set: 11396, number of used features: 91\n",
      "[LightGBM] [Info] Start training from score 0.245261\n",
      "[10]\tvalid_0's rmse: 0.334589\tvalid_1's rmse: 0.341401\n"
     ]
    },
    {
     "name": "stderr",
     "output_type": "stream",
     "text": [
      "feature_fraction, val_score: 0.306638:  29%|##8       | 2/7 [00:00<00:02,  2.22it/s]\u001b[32m[I 2023-02-21 13:49:03,995]\u001b[0m Trial 1 finished with value: 0.3073293536553203 and parameters: {'feature_fraction': 0.4}. Best is trial 0 with value: 0.306638126073389.\u001b[0m\n",
      "feature_fraction, val_score: 0.306638:  29%|##8       | 2/7 [00:00<00:02,  2.22it/s]"
     ]
    },
    {
     "name": "stdout",
     "output_type": "stream",
     "text": [
      "[20]\tvalid_0's rmse: 0.308718\tvalid_1's rmse: 0.320631\n",
      "[30]\tvalid_0's rmse: 0.296838\tvalid_1's rmse: 0.312418\n",
      "[40]\tvalid_0's rmse: 0.291602\tvalid_1's rmse: 0.310702\n",
      "[50]\tvalid_0's rmse: 0.286898\tvalid_1's rmse: 0.308317\n",
      "[60]\tvalid_0's rmse: 0.283494\tvalid_1's rmse: 0.306954\n",
      "[70]\tvalid_0's rmse: 0.281058\tvalid_1's rmse: 0.306071\n",
      "[80]\tvalid_0's rmse: 0.278964\tvalid_1's rmse: 0.305495\n",
      "[90]\tvalid_0's rmse: 0.277204\tvalid_1's rmse: 0.305578\n",
      "Early stopping, best iteration is:\n",
      "[76]\tvalid_0's rmse: 0.272405\tvalid_1's rmse: 0.307329\n",
      "[LightGBM] [Warning] Auto-choosing col-wise multi-threading, the overhead of testing was 0.002051 seconds.\n",
      "You can set `force_col_wise=true` to remove the overhead.\n",
      "[LightGBM] [Info] Total Bins 714\n",
      "[LightGBM] [Info] Number of data points in the train set: 11396, number of used features: 91\n",
      "[LightGBM] [Info] Start training from score 0.245261\n",
      "[10]\tvalid_0's rmse: 0.328841\tvalid_1's rmse: 0.336728\n",
      "[20]\tvalid_0's rmse: 0.302916\tvalid_1's rmse: 0.316827\n",
      "[30]\tvalid_0's rmse: 0.291974\tvalid_1's rmse: 0.310281\n",
      "[40]\tvalid_0's rmse: 0.286586\tvalid_1's rmse: 0.309342\n",
      "[50]\tvalid_0's rmse: 0.282065\tvalid_1's rmse: 0.307049\n",
      "[60]\tvalid_0's rmse: 0.278808\tvalid_1's rmse: 0.306222\n",
      "[70]\tvalid_0's rmse: 0.276307\tvalid_1's rmse: 0.305948\n",
      "[80]\tvalid_0's rmse: 0.274216\tvalid_1's rmse: 0.305764\n",
      "[90]\tvalid_0's rmse: 0.272264\tvalid_1's rmse: 0.305677\n",
      "[100]\tvalid_0's rmse: 0.27026\tvalid_1's rmse: 0.305633\n"
     ]
    },
    {
     "name": "stderr",
     "output_type": "stream",
     "text": [
      "feature_fraction, val_score: 0.305441:  43%|####2     | 3/7 [00:01<00:01,  2.46it/s]\u001b[32m[I 2023-02-21 13:49:04,350]\u001b[0m Trial 2 finished with value: 0.30544061325739374 and parameters: {'feature_fraction': 0.6}. Best is trial 2 with value: 0.30544061325739374.\u001b[0m\n",
      "feature_fraction, val_score: 0.305441:  43%|####2     | 3/7 [00:01<00:01,  2.46it/s]"
     ]
    },
    {
     "name": "stdout",
     "output_type": "stream",
     "text": [
      "[110]\tvalid_0's rmse: 0.268712\tvalid_1's rmse: 0.305518\n",
      "Early stopping, best iteration is:\n",
      "[95]\tvalid_0's rmse: 0.276243\tvalid_1's rmse: 0.305441\n",
      "[LightGBM] [Warning] Auto-choosing row-wise multi-threading, the overhead of testing was 0.001750 seconds.\n",
      "You can set `force_row_wise=true` to remove the overhead.\n",
      "And if memory is not enough, you can set `force_col_wise=true`.\n",
      "[LightGBM] [Info] Total Bins 714\n",
      "[LightGBM] [Info] Number of data points in the train set: 11396, number of used features: 91\n",
      "[LightGBM] [Info] Start training from score 0.245261\n",
      "[10]\tvalid_0's rmse: 0.330495\tvalid_1's rmse: 0.337356\n",
      "[20]\tvalid_0's rmse: 0.305084\tvalid_1's rmse: 0.31727\n",
      "[30]\tvalid_0's rmse: 0.293578\tvalid_1's rmse: 0.310268\n",
      "[40]\tvalid_0's rmse: 0.288573\tvalid_1's rmse: 0.309203\n"
     ]
    },
    {
     "name": "stderr",
     "output_type": "stream",
     "text": [
      "feature_fraction, val_score: 0.305053:  57%|#####7    | 4/7 [00:01<00:01,  2.57it/s]\u001b[32m[I 2023-02-21 13:49:04,715]\u001b[0m Trial 3 finished with value: 0.3050529490368523 and parameters: {'feature_fraction': 0.5}. Best is trial 3 with value: 0.3050529490368523.\u001b[0m\n",
      "feature_fraction, val_score: 0.305053:  57%|#####7    | 4/7 [00:01<00:01,  2.57it/s]"
     ]
    },
    {
     "name": "stdout",
     "output_type": "stream",
     "text": [
      "[50]\tvalid_0's rmse: 0.284272\tvalid_1's rmse: 0.307234\n",
      "[60]\tvalid_0's rmse: 0.280971\tvalid_1's rmse: 0.306302\n",
      "[70]\tvalid_0's rmse: 0.278368\tvalid_1's rmse: 0.305728\n",
      "[80]\tvalid_0's rmse: 0.276108\tvalid_1's rmse: 0.305271\n",
      "[90]\tvalid_0's rmse: 0.274228\tvalid_1's rmse: 0.305112\n",
      "[100]\tvalid_0's rmse: 0.272439\tvalid_1's rmse: 0.3052\n",
      "Early stopping, best iteration is:\n",
      "[89]\tvalid_0's rmse: 0.274505\tvalid_1's rmse: 0.305053\n",
      "[LightGBM] [Warning] Auto-choosing row-wise multi-threading, the overhead of testing was 0.003224 seconds.\n",
      "You can set `force_row_wise=true` to remove the overhead.\n",
      "And if memory is not enough, you can set `force_col_wise=true`.\n",
      "[LightGBM] [Info] Total Bins 714\n",
      "[LightGBM] [Info] Number of data points in the train set: 11396, number of used features: 91\n",
      "[LightGBM] [Info] Start training from score 0.245261\n",
      "[10]\tvalid_0's rmse: 0.324433\tvalid_1's rmse: 0.333254\n",
      "[20]\tvalid_0's rmse: 0.299863\tvalid_1's rmse: 0.31451\n",
      "[30]\tvalid_0's rmse: 0.29022\tvalid_1's rmse: 0.310295\n",
      "[40]\tvalid_0's rmse: 0.284336\tvalid_1's rmse: 0.308868\n",
      "[50]\tvalid_0's rmse: 0.280137\tvalid_1's rmse: 0.308505\n",
      "[60]\tvalid_0's rmse: 0.276681\tvalid_1's rmse: 0.308661\n",
      "[70]\tvalid_0's rmse: 0.273952\tvalid_1's rmse: 0.308269\n"
     ]
    },
    {
     "name": "stderr",
     "output_type": "stream",
     "text": [
      "feature_fraction, val_score: 0.305053:  71%|#######1  | 5/7 [00:02<00:00,  2.74it/s]\u001b[32m[I 2023-02-21 13:49:05,033]\u001b[0m Trial 4 finished with value: 0.3050529490368523 and parameters: {'feature_fraction': 1.0}. Best is trial 3 with value: 0.3050529490368523.\u001b[0m\n",
      "feature_fraction, val_score: 0.305053:  71%|#######1  | 5/7 [00:02<00:00,  2.74it/s]"
     ]
    },
    {
     "name": "stdout",
     "output_type": "stream",
     "text": [
      "[80]\tvalid_0's rmse: 0.271235\tvalid_1's rmse: 0.308335\n",
      "[90]\tvalid_0's rmse: 0.268646\tvalid_1's rmse: 0.308368\n",
      "[100]\tvalid_0's rmse: 0.266438\tvalid_1's rmse: 0.308289\n",
      "Early stopping, best iteration is:\n",
      "[89]\tvalid_0's rmse: 0.274505\tvalid_1's rmse: 0.305053\n",
      "[LightGBM] [Warning] Auto-choosing row-wise multi-threading, the overhead of testing was 0.002823 seconds.\n",
      "You can set `force_row_wise=true` to remove the overhead.\n",
      "And if memory is not enough, you can set `force_col_wise=true`.\n",
      "[LightGBM] [Info] Total Bins 714\n",
      "[LightGBM] [Info] Number of data points in the train set: 11396, number of used features: 91\n"
     ]
    },
    {
     "name": "stderr",
     "output_type": "stream",
     "text": [
      "\r\n",
      "feature_fraction, val_score: 0.305053:  71%|#######1  | 5/7 [00:02<00:00,  2.74it/s]"
     ]
    },
    {
     "name": "stdout",
     "output_type": "stream",
     "text": [
      "[LightGBM] [Info] Start training from score 0.245261\n",
      "[10]\tvalid_0's rmse: 0.327247\tvalid_1's rmse: 0.335281\n",
      "[20]\tvalid_0's rmse: 0.30109\tvalid_1's rmse: 0.314696\n",
      "[30]\tvalid_0's rmse: 0.290985\tvalid_1's rmse: 0.309363\n",
      "[40]\tvalid_0's rmse: 0.285468\tvalid_1's rmse: 0.307964\n",
      "[50]\tvalid_0's rmse: 0.280929\tvalid_1's rmse: 0.30635\n",
      "[60]\tvalid_0's rmse: 0.277633\tvalid_1's rmse: 0.306079\n",
      "[70]\tvalid_0's rmse: 0.275099\tvalid_1's rmse: 0.305967\n",
      "[80]\tvalid_0's rmse: 0.272584\tvalid_1's rmse: 0.30645\n",
      "[90]\tvalid_0's rmse: 0.270443\tvalid_1's rmse: 0.306569\n",
      "[100]\tvalid_0's rmse: 0.268042\tvalid_1's rmse: 0.306773\n",
      "Early stopping, best iteration is:\n",
      "[89]\tvalid_0's rmse: 0.274505\tvalid_1's rmse: 0.305053\n"
     ]
    },
    {
     "name": "stderr",
     "output_type": "stream",
     "text": [
      "feature_fraction, val_score: 0.305053:  86%|########5 | 6/7 [00:02<00:00,  2.74it/s]\u001b[32m[I 2023-02-21 13:49:05,402]\u001b[0m Trial 5 finished with value: 0.3050529490368523 and parameters: {'feature_fraction': 0.7}. Best is trial 3 with value: 0.3050529490368523.\u001b[0m\n",
      "feature_fraction, val_score: 0.305053:  86%|########5 | 6/7 [00:02<00:00,  2.74it/s]"
     ]
    },
    {
     "name": "stdout",
     "output_type": "stream",
     "text": [
      "[LightGBM] [Warning] Auto-choosing row-wise multi-threading, the overhead of testing was 0.002867 seconds.\n",
      "You can set `force_row_wise=true` to remove the overhead.\n",
      "And if memory is not enough, you can set `force_col_wise=true`.\n",
      "[LightGBM] [Info] Total Bins 714\n",
      "[LightGBM] [Info] Number of data points in the train set: 11396, number of used features: 91\n",
      "[LightGBM] [Info] Start training from score 0.245261\n",
      "[10]\tvalid_0's rmse: 0.323997\tvalid_1's rmse: 0.332826\n",
      "[20]\tvalid_0's rmse: 0.300024\tvalid_1's rmse: 0.315283\n",
      "[30]\tvalid_0's rmse: 0.289555\tvalid_1's rmse: 0.308748\n",
      "[40]\tvalid_0's rmse: 0.283579\tvalid_1's rmse: 0.307664\n",
      "[50]\tvalid_0's rmse: 0.279409\tvalid_1's rmse: 0.307033\n",
      "[60]\tvalid_0's rmse: 0.276392\tvalid_1's rmse: 0.306912\n",
      "[70]\tvalid_0's rmse: 0.273856\tvalid_1's rmse: 0.307195\n",
      "[80]\tvalid_0's rmse: 0.271487\tvalid_1's rmse: 0.307149\n"
     ]
    },
    {
     "name": "stderr",
     "output_type": "stream",
     "text": [
      "feature_fraction, val_score: 0.305053: 100%|##########| 7/7 [00:02<00:00,  2.86it/s]\u001b[32m[I 2023-02-21 13:49:05,720]\u001b[0m Trial 6 finished with value: 0.3050529490368523 and parameters: {'feature_fraction': 0.8999999999999999}. Best is trial 3 with value: 0.3050529490368523.\u001b[0m\n",
      "feature_fraction, val_score: 0.305053: 100%|##########| 7/7 [00:02<00:00,  2.60it/s]\n"
     ]
    },
    {
     "name": "stdout",
     "output_type": "stream",
     "text": [
      "[90]\tvalid_0's rmse: 0.269343\tvalid_1's rmse: 0.306894\n",
      "[100]\tvalid_0's rmse: 0.267097\tvalid_1's rmse: 0.306969\n",
      "Early stopping, best iteration is:\n",
      "[89]\tvalid_0's rmse: 0.274505\tvalid_1's rmse: 0.305053\n"
     ]
    },
    {
     "name": "stderr",
     "output_type": "stream",
     "text": [
      "num_leaves, val_score: 0.305053:   0%|          | 0/20 [00:00<?, ?it/s]"
     ]
    },
    {
     "name": "stdout",
     "output_type": "stream",
     "text": [
      "[LightGBM] [Warning] Auto-choosing col-wise multi-threading, the overhead of testing was 0.002672 seconds.\n",
      "You can set `force_col_wise=true` to remove the overhead.\n",
      "[LightGBM] [Info] Total Bins 714\n",
      "[LightGBM] [Info] Number of data points in the train set: 11396, number of used features: 91\n",
      "[LightGBM] [Info] Start training from score 0.245261\n",
      "[10]\tvalid_0's rmse: 0.328711\tvalid_1's rmse: 0.336677\n",
      "[20]\tvalid_0's rmse: 0.302407\tvalid_1's rmse: 0.316716\n",
      "[30]\tvalid_0's rmse: 0.29015\tvalid_1's rmse: 0.30998\n",
      "[40]\tvalid_0's rmse: 0.284528\tvalid_1's rmse: 0.309233\n",
      "[50]\tvalid_0's rmse: 0.279488\tvalid_1's rmse: 0.307229\n",
      "[60]\tvalid_0's rmse: 0.275592\tvalid_1's rmse: 0.306288\n",
      "[70]\tvalid_0's rmse: 0.273007\tvalid_1's rmse: 0.305679\n",
      "[80]\tvalid_0's rmse: 0.270673\tvalid_1's rmse: 0.305606\n",
      "[90]\tvalid_0's rmse: 0.268627\tvalid_1's rmse: 0.305645\n",
      "[100]\tvalid_0's rmse: 0.266416\tvalid_1's rmse: 0.30586\n",
      "Early stopping, best iteration is:\n",
      "[89]\tvalid_0's rmse: 0.274505\tvalid_1's rmse: 0.305053\n"
     ]
    },
    {
     "name": "stderr",
     "output_type": "stream",
     "text": [
      "num_leaves, val_score: 0.305053:   5%|5         | 1/20 [00:00<00:07,  2.63it/s]\u001b[32m[I 2023-02-21 13:49:06,110]\u001b[0m Trial 7 finished with value: 0.3050529490368523 and parameters: {'num_leaves': 39}. Best is trial 7 with value: 0.3050529490368523.\u001b[0m\n",
      "num_leaves, val_score: 0.305053:   5%|5         | 1/20 [00:00<00:07,  2.63it/s]"
     ]
    },
    {
     "name": "stdout",
     "output_type": "stream",
     "text": [
      "[LightGBM] [Warning] Auto-choosing row-wise multi-threading, the overhead of testing was 0.003242 seconds.\n",
      "You can set `force_row_wise=true` to remove the overhead.\n",
      "And if memory is not enough, you can set `force_col_wise=true`.\n",
      "[LightGBM] [Info] Total Bins 714\n",
      "[LightGBM] [Info] Number of data points in the train set: 11396, number of used features: 91\n",
      "[LightGBM] [Info] Start training from score 0.245261\n",
      "[10]\tvalid_0's rmse: 0.318828\tvalid_1's rmse: 0.335839\n",
      "[20]\tvalid_0's rmse: 0.286952\tvalid_1's rmse: 0.316555\n",
      "[30]\tvalid_0's rmse: 0.269141\tvalid_1's rmse: 0.310687\n",
      "[40]\tvalid_0's rmse: 0.259194\tvalid_1's rmse: 0.3108\n",
      "[50]\tvalid_0's rmse: 0.251227\tvalid_1's rmse: 0.309619\n",
      "[60]\tvalid_0's rmse: 0.243942\tvalid_1's rmse: 0.30993\n",
      "[70]\tvalid_0's rmse: 0.238702\tvalid_1's rmse: 0.309885\n",
      "[80]\tvalid_0's rmse: 0.234017\tvalid_1's rmse: 0.31052\n"
     ]
    },
    {
     "name": "stderr",
     "output_type": "stream",
     "text": [
      "num_leaves, val_score: 0.305053:  10%|#         | 2/20 [00:01<00:09,  1.87it/s]\u001b[32m[I 2023-02-21 13:49:06,767]\u001b[0m Trial 8 finished with value: 0.3050529490368523 and parameters: {'num_leaves': 116}. Best is trial 7 with value: 0.3050529490368523.\u001b[0m\n",
      "num_leaves, val_score: 0.305053:  10%|#         | 2/20 [00:01<00:09,  1.87it/s]"
     ]
    },
    {
     "name": "stdout",
     "output_type": "stream",
     "text": [
      "[90]\tvalid_0's rmse: 0.229974\tvalid_1's rmse: 0.310512\n",
      "[100]\tvalid_0's rmse: 0.225738\tvalid_1's rmse: 0.310804\n",
      "Early stopping, best iteration is:\n",
      "[89]\tvalid_0's rmse: 0.274505\tvalid_1's rmse: 0.305053\n",
      "[LightGBM] [Warning] Auto-choosing row-wise multi-threading, the overhead of testing was 0.001805 seconds.\n",
      "You can set `force_row_wise=true` to remove the overhead.\n",
      "And if memory is not enough, you can set `force_col_wise=true`.\n",
      "[LightGBM] [Info] Total Bins 714\n",
      "[LightGBM] [Info] Number of data points in the train set: 11396, number of used features: 91\n",
      "[LightGBM] [Info] Start training from score 0.245261\n",
      "[LightGBM] [Warning] No further splits with positive gain, best gain: -inf\n",
      "[LightGBM] [Warning] No further splits with positive gain, best gain: -inf\n",
      "[10]\tvalid_0's rmse: 0.31522\tvalid_1's rmse: 0.335792\n",
      "[20]\tvalid_0's rmse: 0.281\tvalid_1's rmse: 0.317232\n",
      "[LightGBM] [Warning] No further splits with positive gain, best gain: -inf\n",
      "[30]\tvalid_0's rmse: 0.260362\tvalid_1's rmse: 0.312773\n",
      "[LightGBM] [Warning] No further splits with positive gain, best gain: -inf\n",
      "[40]\tvalid_0's rmse: 0.248163\tvalid_1's rmse: 0.313355\n",
      "[LightGBM] [Warning] No further splits with positive gain, best gain: -inf\n",
      "[50]\tvalid_0's rmse: 0.238858\tvalid_1's rmse: 0.312552\n",
      "[60]\tvalid_0's rmse: 0.230032\tvalid_1's rmse: 0.313126\n",
      "[LightGBM] [Warning] No further splits with positive gain, best gain: -inf\n",
      "[LightGBM] [Warning] No further splits with positive gain, best gain: -inf\n",
      "[70]\tvalid_0's rmse: 0.22335\tvalid_1's rmse: 0.313109\n",
      "[LightGBM] [Warning] No further splits with positive gain, best gain: -inf\n",
      "[80]\tvalid_0's rmse: 0.217874\tvalid_1's rmse: 0.313532\n",
      "[90]\tvalid_0's rmse: 0.212336\tvalid_1's rmse: 0.314183\n",
      "[LightGBM] [Warning] No further splits with positive gain, best gain: -inf\n",
      "[100]\tvalid_0's rmse: 0.207395\tvalid_1's rmse: 0.314705\n",
      "Early stopping, best iteration is:\n",
      "[89]\tvalid_0's rmse: 0.274505\tvalid_1's rmse: 0.305053\n"
     ]
    },
    {
     "name": "stderr",
     "output_type": "stream",
     "text": [
      "num_leaves, val_score: 0.305053:  15%|#5        | 3/20 [00:01<00:11,  1.50it/s]\u001b[32m[I 2023-02-21 13:49:07,576]\u001b[0m Trial 9 finished with value: 0.3050529490368523 and parameters: {'num_leaves': 177}. Best is trial 7 with value: 0.3050529490368523.\u001b[0m\n",
      "num_leaves, val_score: 0.305053:  15%|#5        | 3/20 [00:01<00:11,  1.50it/s]"
     ]
    },
    {
     "name": "stdout",
     "output_type": "stream",
     "text": [
      "[LightGBM] [Warning] Auto-choosing row-wise multi-threading, the overhead of testing was 0.001708 seconds.\n",
      "You can set `force_row_wise=true` to remove the overhead.\n",
      "And if memory is not enough, you can set `force_col_wise=true`.\n",
      "[LightGBM] [Info] Total Bins 714\n",
      "[LightGBM] [Info] Number of data points in the train set: 11396, number of used features: 91\n",
      "[LightGBM] [Info] Start training from score 0.245261\n",
      "[LightGBM] [Warning] No further splits with positive gain, best gain: -inf\n",
      "[LightGBM] [Warning] No further splits with positive gain, best gain: -inf\n",
      "[10]\tvalid_0's rmse: 0.315561\tvalid_1's rmse: 0.33595\n",
      "[20]\tvalid_0's rmse: 0.281748\tvalid_1's rmse: 0.31729\n",
      "[30]\tvalid_0's rmse: 0.261541\tvalid_1's rmse: 0.312275\n",
      "[LightGBM] [Warning] No further splits with positive gain, best gain: -inf\n",
      "[40]\tvalid_0's rmse: 0.249864\tvalid_1's rmse: 0.312905\n",
      "[LightGBM] [Warning] No further splits with positive gain, best gain: -inf\n",
      "[50]\tvalid_0's rmse: 0.240635\tvalid_1's rmse: 0.311971\n",
      "[60]\tvalid_0's rmse: 0.23175\tvalid_1's rmse: 0.312495\n",
      "[LightGBM] [Warning] No further splits with positive gain, best gain: -inf\n",
      "[70]\tvalid_0's rmse: 0.225115\tvalid_1's rmse: 0.312809\n",
      "[LightGBM] [Warning] No further splits with positive gain, best gain: -inf\n",
      "[80]\tvalid_0's rmse: 0.219591\tvalid_1's rmse: 0.313196\n",
      "[90]\tvalid_0's rmse: 0.214194\tvalid_1's rmse: 0.313678\n",
      "[LightGBM] [Warning] No further splits with positive gain, best gain: -inf\n"
     ]
    },
    {
     "name": "stderr",
     "output_type": "stream",
     "text": [
      "num_leaves, val_score: 0.305053:  20%|##        | 4/20 [00:02<00:11,  1.33it/s]\u001b[32m[I 2023-02-21 13:49:08,455]\u001b[0m Trial 10 finished with value: 0.3050529490368523 and parameters: {'num_leaves': 165}. Best is trial 7 with value: 0.3050529490368523.\u001b[0m\n",
      "num_leaves, val_score: 0.305053:  20%|##        | 4/20 [00:02<00:11,  1.33it/s]"
     ]
    },
    {
     "name": "stdout",
     "output_type": "stream",
     "text": [
      "[100]\tvalid_0's rmse: 0.209331\tvalid_1's rmse: 0.313931\n",
      "Early stopping, best iteration is:\n",
      "[89]\tvalid_0's rmse: 0.274505\tvalid_1's rmse: 0.305053\n",
      "[LightGBM] [Warning] Auto-choosing row-wise multi-threading, the overhead of testing was 0.001884 seconds.\n",
      "You can set `force_row_wise=true` to remove the overhead.\n",
      "And if memory is not enough, you can set `force_col_wise=true`.\n",
      "[LightGBM] [Info] Total Bins 714\n",
      "[LightGBM] [Info] Number of data points in the train set: 11396, number of used features: 91\n",
      "[LightGBM] [Info] Start training from score 0.245261\n",
      "[10]\tvalid_0's rmse: 0.318666\tvalid_1's rmse: 0.335858\n",
      "[20]\tvalid_0's rmse: 0.286742\tvalid_1's rmse: 0.316579\n",
      "[30]\tvalid_0's rmse: 0.268809\tvalid_1's rmse: 0.311298\n",
      "[40]\tvalid_0's rmse: 0.258517\tvalid_1's rmse: 0.311422\n",
      "[50]\tvalid_0's rmse: 0.250511\tvalid_1's rmse: 0.310567\n",
      "[60]\tvalid_0's rmse: 0.243227\tvalid_1's rmse: 0.31057\n",
      "[70]\tvalid_0's rmse: 0.237939\tvalid_1's rmse: 0.310533\n",
      "[80]\tvalid_0's rmse: 0.23332\tvalid_1's rmse: 0.310817\n",
      "[90]\tvalid_0's rmse: 0.228832\tvalid_1's rmse: 0.310849\n"
     ]
    },
    {
     "name": "stderr",
     "output_type": "stream",
     "text": [
      "num_leaves, val_score: 0.305053:  25%|##5       | 5/20 [00:03<00:10,  1.40it/s]\u001b[32m[I 2023-02-21 13:49:09,111]\u001b[0m Trial 11 finished with value: 0.3050529490368523 and parameters: {'num_leaves': 118}. Best is trial 7 with value: 0.3050529490368523.\u001b[0m\n",
      "num_leaves, val_score: 0.305053:  25%|##5       | 5/20 [00:03<00:10,  1.40it/s]"
     ]
    },
    {
     "name": "stdout",
     "output_type": "stream",
     "text": [
      "[100]\tvalid_0's rmse: 0.224726\tvalid_1's rmse: 0.310733\n",
      "Early stopping, best iteration is:\n",
      "[89]\tvalid_0's rmse: 0.274505\tvalid_1's rmse: 0.305053\n",
      "[LightGBM] [Warning] Auto-choosing row-wise multi-threading, the overhead of testing was 0.002294 seconds.\n",
      "You can set `force_row_wise=true` to remove the overhead.\n",
      "And if memory is not enough, you can set `force_col_wise=true`.\n",
      "[LightGBM] [Info] Total Bins 714\n",
      "[LightGBM] [Info] Number of data points in the train set: 11396, number of used features: 91\n",
      "[LightGBM] [Info] Start training from score 0.245261\n",
      "[LightGBM] [Warning] No further splits with positive gain, best gain: -inf\n",
      "[LightGBM] [Warning] No further splits with positive gain, best gain: -inf\n",
      "[10]\tvalid_0's rmse: 0.316152\tvalid_1's rmse: 0.335776\n",
      "[20]\tvalid_0's rmse: 0.282754\tvalid_1's rmse: 0.316911\n",
      "[30]\tvalid_0's rmse: 0.262358\tvalid_1's rmse: 0.311943\n",
      "[LightGBM] [Warning] No further splits with positive gain, best gain: -inf\n",
      "[40]\tvalid_0's rmse: 0.250841\tvalid_1's rmse: 0.312493\n",
      "[LightGBM] [Warning] No further splits with positive gain, best gain: -inf\n",
      "[50]\tvalid_0's rmse: 0.241552\tvalid_1's rmse: 0.311549\n",
      "[60]\tvalid_0's rmse: 0.233387\tvalid_1's rmse: 0.311749\n",
      "[LightGBM] [Warning] No further splits with positive gain, best gain: -inf\n",
      "[70]\tvalid_0's rmse: 0.22738\tvalid_1's rmse: 0.311512\n",
      "[LightGBM] [Warning] No further splits with positive gain, best gain: -inf\n",
      "[80]\tvalid_0's rmse: 0.222133\tvalid_1's rmse: 0.311849\n"
     ]
    },
    {
     "name": "stderr",
     "output_type": "stream",
     "text": [
      "num_leaves, val_score: 0.305053:  30%|###       | 6/20 [00:04<00:10,  1.34it/s]\u001b[32m[I 2023-02-21 13:49:09,914]\u001b[0m Trial 12 finished with value: 0.3050529490368523 and parameters: {'num_leaves': 159}. Best is trial 7 with value: 0.3050529490368523.\u001b[0m\n"
     ]
    },
    {
     "name": "stdout",
     "output_type": "stream",
     "text": [
      "[90]\tvalid_0's rmse: 0.216901\tvalid_1's rmse: 0.312161\n",
      "[LightGBM] [Warning] No further splits with positive gain, best gain: -inf\n",
      "[100]\tvalid_0's rmse: 0.21233\tvalid_1's rmse: 0.312431\n",
      "Early stopping, best iteration is:\n",
      "[89]\tvalid_0's rmse: 0.274505\tvalid_1's rmse: 0.305053\n"
     ]
    },
    {
     "name": "stderr",
     "output_type": "stream",
     "text": [
      "\r\n",
      "num_leaves, val_score: 0.305053:  30%|###       | 6/20 [00:04<00:10,  1.34it/s]"
     ]
    },
    {
     "name": "stdout",
     "output_type": "stream",
     "text": [
      "[LightGBM] [Warning] Auto-choosing row-wise multi-threading, the overhead of testing was 0.002360 seconds.\n",
      "You can set `force_row_wise=true` to remove the overhead.\n",
      "And if memory is not enough, you can set `force_col_wise=true`.\n",
      "[LightGBM] [Info] Total Bins 714\n",
      "[LightGBM] [Info] Number of data points in the train set: 11396, number of used features: 91\n",
      "[LightGBM] [Info] Start training from score 0.245261\n",
      "[10]\tvalid_0's rmse: 0.330057\tvalid_1's rmse: 0.337192\n",
      "[20]\tvalid_0's rmse: 0.304337\tvalid_1's rmse: 0.316955\n",
      "[30]\tvalid_0's rmse: 0.292738\tvalid_1's rmse: 0.309823\n",
      "[40]\tvalid_0's rmse: 0.287652\tvalid_1's rmse: 0.308917\n",
      "[50]\tvalid_0's rmse: 0.283015\tvalid_1's rmse: 0.306926\n",
      "[60]\tvalid_0's rmse: 0.279461\tvalid_1's rmse: 0.306414\n",
      "[70]\tvalid_0's rmse: 0.276974\tvalid_1's rmse: 0.305912\n"
     ]
    },
    {
     "name": "stderr",
     "output_type": "stream",
     "text": [
      "num_leaves, val_score: 0.305053:  35%|###5      | 7/20 [00:04<00:07,  1.63it/s]\u001b[32m[I 2023-02-21 13:49:10,266]\u001b[0m Trial 13 finished with value: 0.3050529490368523 and parameters: {'num_leaves': 33}. Best is trial 7 with value: 0.3050529490368523.\u001b[0m\n",
      "num_leaves, val_score: 0.305053:  35%|###5      | 7/20 [00:04<00:07,  1.63it/s]"
     ]
    },
    {
     "name": "stdout",
     "output_type": "stream",
     "text": [
      "[80]\tvalid_0's rmse: 0.274842\tvalid_1's rmse: 0.305972\n",
      "[90]\tvalid_0's rmse: 0.272849\tvalid_1's rmse: 0.305823\n",
      "[100]\tvalid_0's rmse: 0.270916\tvalid_1's rmse: 0.305839\n",
      "Early stopping, best iteration is:\n",
      "[89]\tvalid_0's rmse: 0.274505\tvalid_1's rmse: 0.305053\n",
      "[LightGBM] [Warning] Auto-choosing row-wise multi-threading, the overhead of testing was 0.001915 seconds.\n",
      "You can set `force_row_wise=true` to remove the overhead.\n",
      "And if memory is not enough, you can set `force_col_wise=true`.\n",
      "[LightGBM] [Info] Total Bins 714\n",
      "[LightGBM] [Info] Number of data points in the train set: 11396, number of used features: 91\n",
      "[LightGBM] [Info] Start training from score 0.245261\n",
      "[LightGBM] [Warning] No further splits with positive gain, best gain: -inf\n",
      "[LightGBM] [Warning] No further splits with positive gain, best gain: -inf\n",
      "[10]\tvalid_0's rmse: 0.313235\tvalid_1's rmse: 0.335997\n",
      "[LightGBM] [Warning] No further splits with positive gain, best gain: -inf\n",
      "[20]\tvalid_0's rmse: 0.277585\tvalid_1's rmse: 0.317687\n",
      "[LightGBM] [Warning] No further splits with positive gain, best gain: -inf\n",
      "[30]\tvalid_0's rmse: 0.254793\tvalid_1's rmse: 0.313032\n",
      "[LightGBM] [Warning] No further splits with positive gain, best gain: -inf\n",
      "[LightGBM] [Warning] No further splits with positive gain, best gain: -inf\n",
      "[40]\tvalid_0's rmse: 0.24032\tvalid_1's rmse: 0.313885\n",
      "[LightGBM] [Warning] No further splits with positive gain, best gain: -inf\n",
      "[50]\tvalid_0's rmse: 0.229376\tvalid_1's rmse: 0.313454\n",
      "[60]\tvalid_0's rmse: 0.218703\tvalid_1's rmse: 0.313972\n",
      "[LightGBM] [Warning] No further splits with positive gain, best gain: -inf\n",
      "[LightGBM] [Warning] No further splits with positive gain, best gain: -inf\n",
      "[70]\tvalid_0's rmse: 0.21087\tvalid_1's rmse: 0.314486\n",
      "[LightGBM] [Warning] No further splits with positive gain, best gain: -inf\n",
      "[LightGBM] [Warning] No further splits with positive gain, best gain: -inf\n",
      "[80]\tvalid_0's rmse: 0.203815\tvalid_1's rmse: 0.314966\n",
      "[LightGBM] [Warning] No further splits with positive gain, best gain: -inf\n",
      "[90]\tvalid_0's rmse: 0.197292\tvalid_1's rmse: 0.315317\n",
      "[LightGBM] [Warning] No further splits with positive gain, best gain: -inf\n",
      "[LightGBM] [Warning] No further splits with positive gain, best gain: -inf\n",
      "[100]\tvalid_0's rmse: 0.191167\tvalid_1's rmse: 0.315799\n",
      "Early stopping, best iteration is:\n",
      "[89]\tvalid_0's rmse: 0.274505\tvalid_1's rmse: 0.305053\n"
     ]
    },
    {
     "name": "stderr",
     "output_type": "stream",
     "text": [
      "num_leaves, val_score: 0.305053:  40%|####      | 8/20 [00:05<00:09,  1.28it/s]\u001b[32m[I 2023-02-21 13:49:11,409]\u001b[0m Trial 14 finished with value: 0.3050529490368523 and parameters: {'num_leaves': 256}. Best is trial 7 with value: 0.3050529490368523.\u001b[0m\n",
      "num_leaves, val_score: 0.305053:  40%|####      | 8/20 [00:05<00:09,  1.28it/s]"
     ]
    },
    {
     "name": "stdout",
     "output_type": "stream",
     "text": [
      "[LightGBM] [Warning] Auto-choosing row-wise multi-threading, the overhead of testing was 0.002471 seconds.\n",
      "You can set `force_row_wise=true` to remove the overhead.\n",
      "And if memory is not enough, you can set `force_col_wise=true`.\n",
      "[LightGBM] [Info] Total Bins 714\n",
      "[LightGBM] [Info] Number of data points in the train set: 11396, number of used features: 91\n",
      "[LightGBM] [Info] Start training from score 0.245261\n",
      "[LightGBM] [Warning] No further splits with positive gain, best gain: -inf\n",
      "[10]\tvalid_0's rmse: 0.31652\tvalid_1's rmse: 0.336077\n",
      "[20]\tvalid_0's rmse: 0.283312\tvalid_1's rmse: 0.317082\n",
      "[30]\tvalid_0's rmse: 0.263848\tvalid_1's rmse: 0.312601\n",
      "[LightGBM] [Warning] No further splits with positive gain, best gain: -inf\n",
      "[40]\tvalid_0's rmse: 0.252417\tvalid_1's rmse: 0.312679\n",
      "[LightGBM] [Warning] No further splits with positive gain, best gain: -inf\n",
      "[50]\tvalid_0's rmse: 0.243553\tvalid_1's rmse: 0.311758\n",
      "[60]\tvalid_0's rmse: 0.235272\tvalid_1's rmse: 0.311557\n",
      "[70]\tvalid_0's rmse: 0.229118\tvalid_1's rmse: 0.311668\n",
      "[80]\tvalid_0's rmse: 0.223957\tvalid_1's rmse: 0.31207\n",
      "[90]\tvalid_0's rmse: 0.218616\tvalid_1's rmse: 0.312394\n",
      "[LightGBM] [Warning] No further splits with positive gain, best gain: -inf\n",
      "[100]\tvalid_0's rmse: 0.214056\tvalid_1's rmse: 0.312594\n",
      "Early stopping, best iteration is:\n",
      "[89]\tvalid_0's rmse: 0.274505\tvalid_1's rmse: 0.305053\n"
     ]
    },
    {
     "name": "stderr",
     "output_type": "stream",
     "text": [
      "num_leaves, val_score: 0.305053:  45%|####5     | 9/20 [00:06<00:08,  1.27it/s]\u001b[32m[I 2023-02-21 13:49:12,189]\u001b[0m Trial 15 finished with value: 0.3050529490368523 and parameters: {'num_leaves': 149}. Best is trial 7 with value: 0.3050529490368523.\u001b[0m\n",
      "num_leaves, val_score: 0.305053:  45%|####5     | 9/20 [00:06<00:08,  1.27it/s]"
     ]
    },
    {
     "name": "stdout",
     "output_type": "stream",
     "text": [
      "[LightGBM] [Warning] Auto-choosing row-wise multi-threading, the overhead of testing was 0.002301 seconds.\n",
      "You can set `force_row_wise=true` to remove the overhead.\n",
      "And if memory is not enough, you can set `force_col_wise=true`.\n",
      "[LightGBM] [Info] Total Bins 714\n",
      "[LightGBM] [Info] Number of data points in the train set: 11396, number of used features: 91\n",
      "[LightGBM] [Info] Start training from score 0.245261\n",
      "[LightGBM] [Warning] No further splits with positive gain, best gain: -inf\n",
      "[LightGBM] [Warning] No further splits with positive gain, best gain: -inf\n",
      "[10]\tvalid_0's rmse: 0.313302\tvalid_1's rmse: 0.335853\n",
      "[LightGBM] [Warning] No further splits with positive gain, best gain: -inf\n",
      "[20]\tvalid_0's rmse: 0.277647\tvalid_1's rmse: 0.317461\n",
      "[LightGBM] [Warning] No further splits with positive gain, best gain: -inf\n",
      "[30]\tvalid_0's rmse: 0.255236\tvalid_1's rmse: 0.312844\n",
      "[LightGBM] [Warning] No further splits with positive gain, best gain: -inf\n",
      "[LightGBM] [Warning] No further splits with positive gain, best gain: -inf\n",
      "[40]\tvalid_0's rmse: 0.24113\tvalid_1's rmse: 0.313779\n",
      "[LightGBM] [Warning] No further splits with positive gain, best gain: -inf\n",
      "[50]\tvalid_0's rmse: 0.230014\tvalid_1's rmse: 0.31305\n",
      "[60]\tvalid_0's rmse: 0.2192\tvalid_1's rmse: 0.313373\n",
      "[LightGBM] [Warning] No further splits with positive gain, best gain: -inf\n",
      "[LightGBM] [Warning] No further splits with positive gain, best gain: -inf\n",
      "[70]\tvalid_0's rmse: 0.211401\tvalid_1's rmse: 0.313688\n",
      "[LightGBM] [Warning] No further splits with positive gain, best gain: -inf\n",
      "[LightGBM] [Warning] No further splits with positive gain, best gain: -inf\n",
      "[80]\tvalid_0's rmse: 0.204652\tvalid_1's rmse: 0.314146\n",
      "[LightGBM] [Warning] No further splits with positive gain, best gain: -inf\n",
      "[90]\tvalid_0's rmse: 0.197719\tvalid_1's rmse: 0.314852\n",
      "[LightGBM] [Warning] No further splits with positive gain, best gain: -inf\n",
      "[LightGBM] [Warning] No further splits with positive gain, best gain: -inf\n",
      "[100]\tvalid_0's rmse: 0.191666\tvalid_1's rmse: 0.315433\n"
     ]
    },
    {
     "name": "stderr",
     "output_type": "stream",
     "text": [
      "num_leaves, val_score: 0.305053:  50%|#####     | 10/20 [00:07<00:09,  1.06it/s]\u001b[32m[I 2023-02-21 13:49:13,498]\u001b[0m Trial 16 finished with value: 0.3050529490368523 and parameters: {'num_leaves': 253}. Best is trial 7 with value: 0.3050529490368523.\u001b[0m\n",
      "num_leaves, val_score: 0.305053:  50%|#####     | 10/20 [00:07<00:09,  1.06it/s]"
     ]
    },
    {
     "name": "stdout",
     "output_type": "stream",
     "text": [
      "Early stopping, best iteration is:\n",
      "[89]\tvalid_0's rmse: 0.274505\tvalid_1's rmse: 0.305053\n",
      "[LightGBM] [Warning] Auto-choosing row-wise multi-threading, the overhead of testing was 0.002320 seconds.\n",
      "You can set `force_row_wise=true` to remove the overhead.\n",
      "And if memory is not enough, you can set `force_col_wise=true`.\n",
      "[LightGBM] [Info] Total Bins 714\n",
      "[LightGBM] [Info] Number of data points in the train set: 11396, number of used features: 91\n"
     ]
    },
    {
     "name": "stderr",
     "output_type": "stream",
     "text": [
      "num_leaves, val_score: 0.305053:  55%|#####5    | 11/20 [00:07<00:06,  1.38it/s]\u001b[32m[I 2023-02-21 13:49:13,721]\u001b[0m Trial 17 finished with value: 0.3050529490368523 and parameters: {'num_leaves': 7}. Best is trial 7 with value: 0.3050529490368523.\u001b[0m\n",
      "num_leaves, val_score: 0.305053:  55%|#####5    | 11/20 [00:07<00:06,  1.38it/s]"
     ]
    },
    {
     "name": "stdout",
     "output_type": "stream",
     "text": [
      "[LightGBM] [Info] Start training from score 0.245261\n",
      "[10]\tvalid_0's rmse: 0.348748\tvalid_1's rmse: 0.351453\n",
      "[20]\tvalid_0's rmse: 0.325573\tvalid_1's rmse: 0.330173\n",
      "[30]\tvalid_0's rmse: 0.315035\tvalid_1's rmse: 0.321418\n",
      "[40]\tvalid_0's rmse: 0.31073\tvalid_1's rmse: 0.318256\n",
      "[50]\tvalid_0's rmse: 0.307591\tvalid_1's rmse: 0.31551\n",
      "[60]\tvalid_0's rmse: 0.305163\tvalid_1's rmse: 0.313434\n",
      "[70]\tvalid_0's rmse: 0.303494\tvalid_1's rmse: 0.312243\n",
      "[80]\tvalid_0's rmse: 0.302271\tvalid_1's rmse: 0.311604\n",
      "[90]\tvalid_0's rmse: 0.301251\tvalid_1's rmse: 0.311287\n",
      "[100]\tvalid_0's rmse: 0.300313\tvalid_1's rmse: 0.311032\n",
      "Early stopping, best iteration is:\n",
      "[89]\tvalid_0's rmse: 0.274505\tvalid_1's rmse: 0.305053\n",
      "[LightGBM] [Warning] Auto-choosing row-wise multi-threading, the overhead of testing was 0.002327 seconds.\n",
      "You can set `force_row_wise=true` to remove the overhead.\n",
      "And if memory is not enough, you can set `force_col_wise=true`.\n",
      "[LightGBM] [Info] Total Bins 714\n",
      "[LightGBM] [Info] Number of data points in the train set: 11396, number of used features: 91\n",
      "[LightGBM] [Info] Start training from score 0.245261\n",
      "[10]\tvalid_0's rmse: 0.321669\tvalid_1's rmse: 0.33579\n",
      "[20]\tvalid_0's rmse: 0.291591\tvalid_1's rmse: 0.316302\n",
      "[30]\tvalid_0's rmse: 0.275916\tvalid_1's rmse: 0.310587\n",
      "[40]\tvalid_0's rmse: 0.26743\tvalid_1's rmse: 0.310279\n",
      "[50]\tvalid_0's rmse: 0.260419\tvalid_1's rmse: 0.309154\n",
      "[60]\tvalid_0's rmse: 0.254661\tvalid_1's rmse: 0.309047\n",
      "[70]\tvalid_0's rmse: 0.250104\tvalid_1's rmse: 0.30865\n",
      "[80]\tvalid_0's rmse: 0.246323\tvalid_1's rmse: 0.308646\n"
     ]
    },
    {
     "name": "stderr",
     "output_type": "stream",
     "text": [
      "num_leaves, val_score: 0.305053:  60%|######    | 12/20 [00:08<00:05,  1.39it/s]\u001b[32m[I 2023-02-21 13:49:14,422]\u001b[0m Trial 18 finished with value: 0.3050529490368523 and parameters: {'num_leaves': 86}. Best is trial 7 with value: 0.3050529490368523.\u001b[0m\n",
      "num_leaves, val_score: 0.305053:  60%|######    | 12/20 [00:08<00:05,  1.39it/s]"
     ]
    },
    {
     "name": "stdout",
     "output_type": "stream",
     "text": [
      "[90]\tvalid_0's rmse: 0.24259\tvalid_1's rmse: 0.30901\n",
      "[100]\tvalid_0's rmse: 0.23902\tvalid_1's rmse: 0.309411\n",
      "Early stopping, best iteration is:\n",
      "[89]\tvalid_0's rmse: 0.274505\tvalid_1's rmse: 0.305053\n",
      "[LightGBM] [Warning] Auto-choosing row-wise multi-threading, the overhead of testing was 0.001923 seconds.\n",
      "You can set `force_row_wise=true` to remove the overhead.\n",
      "And if memory is not enough, you can set `force_col_wise=true`.\n",
      "[LightGBM] [Info] Total Bins 714\n",
      "[LightGBM] [Info] Number of data points in the train set: 11396, number of used features: 91\n",
      "[LightGBM] [Info] Start training from score 0.245261\n",
      "[10]\tvalid_0's rmse: 0.323391\tvalid_1's rmse: 0.336041\n",
      "[20]\tvalid_0's rmse: 0.294237\tvalid_1's rmse: 0.316697\n",
      "[30]\tvalid_0's rmse: 0.27946\tvalid_1's rmse: 0.310418\n",
      "[40]\tvalid_0's rmse: 0.271479\tvalid_1's rmse: 0.310431\n",
      "[50]\tvalid_0's rmse: 0.264861\tvalid_1's rmse: 0.308888\n",
      "[60]\tvalid_0's rmse: 0.259498\tvalid_1's rmse: 0.30836\n"
     ]
    },
    {
     "name": "stderr",
     "output_type": "stream",
     "text": [
      "num_leaves, val_score: 0.305053:  65%|######5   | 13/20 [00:09<00:04,  1.53it/s]\u001b[32m[I 2023-02-21 13:49:14,925]\u001b[0m Trial 19 finished with value: 0.3050529490368523 and parameters: {'num_leaves': 72}. Best is trial 7 with value: 0.3050529490368523.\u001b[0m\n",
      "num_leaves, val_score: 0.305053:  65%|######5   | 13/20 [00:09<00:04,  1.53it/s]"
     ]
    },
    {
     "name": "stdout",
     "output_type": "stream",
     "text": [
      "[70]\tvalid_0's rmse: 0.255238\tvalid_1's rmse: 0.307895\n",
      "[80]\tvalid_0's rmse: 0.251935\tvalid_1's rmse: 0.308017\n",
      "[90]\tvalid_0's rmse: 0.248753\tvalid_1's rmse: 0.308228\n",
      "[100]\tvalid_0's rmse: 0.245934\tvalid_1's rmse: 0.30841\n",
      "Early stopping, best iteration is:\n",
      "[89]\tvalid_0's rmse: 0.274505\tvalid_1's rmse: 0.305053\n",
      "[LightGBM] [Warning] Auto-choosing row-wise multi-threading, the overhead of testing was 0.003405 seconds.\n",
      "You can set `force_row_wise=true` to remove the overhead.\n",
      "And if memory is not enough, you can set `force_col_wise=true`.\n",
      "[LightGBM] [Info] Total Bins 714\n",
      "[LightGBM] [Info] Number of data points in the train set: 11396, number of used features: 91\n",
      "[LightGBM] [Info] Start training from score 0.245261\n",
      "[10]\tvalid_0's rmse: 0.32523\tvalid_1's rmse: 0.335962\n",
      "[20]\tvalid_0's rmse: 0.297277\tvalid_1's rmse: 0.316499\n",
      "[30]\tvalid_0's rmse: 0.283269\tvalid_1's rmse: 0.310136\n",
      "[40]\tvalid_0's rmse: 0.27616\tvalid_1's rmse: 0.309742\n",
      "[50]\tvalid_0's rmse: 0.270149\tvalid_1's rmse: 0.308072\n",
      "[60]\tvalid_0's rmse: 0.265466\tvalid_1's rmse: 0.30772\n",
      "[70]\tvalid_0's rmse: 0.261863\tvalid_1's rmse: 0.307207\n",
      "[80]\tvalid_0's rmse: 0.258772\tvalid_1's rmse: 0.307051\n",
      "[90]\tvalid_0's rmse: 0.255643\tvalid_1's rmse: 0.307079\n",
      "[100]\tvalid_0's rmse: 0.252872\tvalid_1's rmse: 0.307351\n"
     ]
    },
    {
     "name": "stderr",
     "output_type": "stream",
     "text": [
      "num_leaves, val_score: 0.305053:  70%|#######   | 14/20 [00:09<00:03,  1.60it/s]\u001b[32m[I 2023-02-21 13:49:15,480]\u001b[0m Trial 20 finished with value: 0.3050529490368523 and parameters: {'num_leaves': 59}. Best is trial 7 with value: 0.3050529490368523.\u001b[0m\n",
      "num_leaves, val_score: 0.305053:  70%|#######   | 14/20 [00:09<00:03,  1.60it/s]"
     ]
    },
    {
     "name": "stdout",
     "output_type": "stream",
     "text": [
      "Early stopping, best iteration is:\n",
      "[89]\tvalid_0's rmse: 0.274505\tvalid_1's rmse: 0.305053\n",
      "[LightGBM] [Warning] Auto-choosing row-wise multi-threading, the overhead of testing was 0.002306 seconds.\n",
      "You can set `force_row_wise=true` to remove the overhead.\n",
      "And if memory is not enough, you can set `force_col_wise=true`.\n",
      "[LightGBM] [Info] Total Bins 714\n",
      "[LightGBM] [Info] Number of data points in the train set: 11396, number of used features: 91\n",
      "[LightGBM] [Info] Start training from score 0.245261\n",
      "[10]\tvalid_0's rmse: 0.319585\tvalid_1's rmse: 0.33629\n",
      "[20]\tvalid_0's rmse: 0.288077\tvalid_1's rmse: 0.316862\n",
      "[30]\tvalid_0's rmse: 0.270708\tvalid_1's rmse: 0.311346\n",
      "[40]\tvalid_0's rmse: 0.261194\tvalid_1's rmse: 0.311342\n",
      "[50]\tvalid_0's rmse: 0.253295\tvalid_1's rmse: 0.309961\n",
      "[60]\tvalid_0's rmse: 0.246175\tvalid_1's rmse: 0.309959\n",
      "[70]\tvalid_0's rmse: 0.240901\tvalid_1's rmse: 0.310077\n",
      "[80]\tvalid_0's rmse: 0.236724\tvalid_1's rmse: 0.310382\n",
      "[90]\tvalid_0's rmse: 0.232523\tvalid_1's rmse: 0.310731\n",
      "[100]\tvalid_0's rmse: 0.228946\tvalid_1's rmse: 0.311022\n",
      "Early stopping, best iteration is:\n",
      "[89]\tvalid_0's rmse: 0.274505\tvalid_1's rmse: 0.305053\n"
     ]
    },
    {
     "name": "stderr",
     "output_type": "stream",
     "text": [
      "num_leaves, val_score: 0.305053:  75%|#######5  | 15/20 [00:10<00:03,  1.55it/s]\u001b[32m[I 2023-02-21 13:49:16,167]\u001b[0m Trial 21 finished with value: 0.3050529490368523 and parameters: {'num_leaves': 109}. Best is trial 7 with value: 0.3050529490368523.\u001b[0m\n",
      "num_leaves, val_score: 0.305053:  80%|########  | 16/20 [00:10<00:02,  1.96it/s]\u001b[32m[I 2023-02-21 13:49:16,371]\u001b[0m Trial 22 finished with value: 0.3050529490368523 and parameters: {'num_leaves': 4}. Best is trial 7 with value: 0.3050529490368523.\u001b[0m\n",
      "num_leaves, val_score: 0.305053:  80%|########  | 16/20 [00:10<00:02,  1.96it/s]"
     ]
    },
    {
     "name": "stdout",
     "output_type": "stream",
     "text": [
      "[LightGBM] [Warning] Auto-choosing row-wise multi-threading, the overhead of testing was 0.002637 seconds.\n",
      "You can set `force_row_wise=true` to remove the overhead.\n",
      "And if memory is not enough, you can set `force_col_wise=true`.\n",
      "[LightGBM] [Info] Total Bins 714\n",
      "[LightGBM] [Info] Number of data points in the train set: 11396, number of used features: 91\n",
      "[LightGBM] [Info] Start training from score 0.245261\n",
      "[10]\tvalid_0's rmse: 0.360157\tvalid_1's rmse: 0.361273\n",
      "[20]\tvalid_0's rmse: 0.337721\tvalid_1's rmse: 0.340281\n",
      "[30]\tvalid_0's rmse: 0.326778\tvalid_1's rmse: 0.330724\n",
      "[40]\tvalid_0's rmse: 0.32228\tvalid_1's rmse: 0.327382\n",
      "[50]\tvalid_0's rmse: 0.31903\tvalid_1's rmse: 0.324676\n",
      "[60]\tvalid_0's rmse: 0.31684\tvalid_1's rmse: 0.322863\n",
      "[70]\tvalid_0's rmse: 0.31518\tvalid_1's rmse: 0.321445\n",
      "[80]\tvalid_0's rmse: 0.313993\tvalid_1's rmse: 0.320543\n",
      "[90]\tvalid_0's rmse: 0.312978\tvalid_1's rmse: 0.319948\n",
      "[100]\tvalid_0's rmse: 0.312185\tvalid_1's rmse: 0.319325\n",
      "Early stopping, best iteration is:\n",
      "[89]\tvalid_0's rmse: 0.274505\tvalid_1's rmse: 0.305053\n",
      "[LightGBM] [Warning] Auto-choosing row-wise multi-threading, the overhead of testing was 0.003243 seconds.\n",
      "You can set `force_row_wise=true` to remove the overhead.\n",
      "And if memory is not enough, you can set `force_col_wise=true`.\n",
      "[LightGBM] [Info] Total Bins 714\n",
      "[LightGBM] [Info] Number of data points in the train set: 11396, number of used features: 91\n",
      "[LightGBM] [Info] Start training from score 0.245261\n",
      "[LightGBM] [Warning] No further splits with positive gain, best gain: -inf\n",
      "[LightGBM] [Warning] No further splits with positive gain, best gain: -inf\n",
      "[10]\tvalid_0's rmse: 0.31445\tvalid_1's rmse: 0.335876\n",
      "[20]\tvalid_0's rmse: 0.279905\tvalid_1's rmse: 0.317281\n",
      "[LightGBM] [Warning] No further splits with positive gain, best gain: -inf\n",
      "[30]\tvalid_0's rmse: 0.258461\tvalid_1's rmse: 0.313008\n",
      "[LightGBM] [Warning] No further splits with positive gain, best gain: -inf\n",
      "[40]\tvalid_0's rmse: 0.24575\tvalid_1's rmse: 0.313672\n",
      "[LightGBM] [Warning] No further splits with positive gain, best gain: -inf\n",
      "[50]\tvalid_0's rmse: 0.235873\tvalid_1's rmse: 0.313175\n",
      "[60]\tvalid_0's rmse: 0.226793\tvalid_1's rmse: 0.313302\n",
      "[LightGBM] [Warning] No further splits with positive gain, best gain: -inf\n",
      "[LightGBM] [Warning] No further splits with positive gain, best gain: -inf\n",
      "[70]\tvalid_0's rmse: 0.219694\tvalid_1's rmse: 0.313695\n",
      "[LightGBM] [Warning] No further splits with positive gain, best gain: -inf\n",
      "[80]\tvalid_0's rmse: 0.213792\tvalid_1's rmse: 0.313931\n",
      "[90]\tvalid_0's rmse: 0.208193\tvalid_1's rmse: 0.314512\n",
      "[LightGBM] [Warning] No further splits with positive gain, best gain: -inf\n",
      "[100]\tvalid_0's rmse: 0.202936\tvalid_1's rmse: 0.315143\n"
     ]
    },
    {
     "name": "stderr",
     "output_type": "stream",
     "text": [
      "num_leaves, val_score: 0.305053:  85%|########5 | 17/20 [00:11<00:02,  1.41it/s]\u001b[32m[I 2023-02-21 13:49:17,551]\u001b[0m Trial 23 finished with value: 0.3050529490368523 and parameters: {'num_leaves': 197}. Best is trial 7 with value: 0.3050529490368523.\u001b[0m\n",
      "num_leaves, val_score: 0.305053:  85%|########5 | 17/20 [00:11<00:02,  1.41it/s]"
     ]
    },
    {
     "name": "stdout",
     "output_type": "stream",
     "text": [
      "Early stopping, best iteration is:\n",
      "[89]\tvalid_0's rmse: 0.274505\tvalid_1's rmse: 0.305053\n",
      "[LightGBM] [Warning] Auto-choosing row-wise multi-threading, the overhead of testing was 0.002798 seconds.\n",
      "You can set `force_row_wise=true` to remove the overhead.\n",
      "And if memory is not enough, you can set `force_col_wise=true`.\n",
      "[LightGBM] [Info] Total Bins 714\n",
      "[LightGBM] [Info] Number of data points in the train set: 11396, number of used features: 91\n",
      "[LightGBM] [Info] Start training from score 0.245261\n",
      "[10]\tvalid_0's rmse: 0.330057\tvalid_1's rmse: 0.337192\n",
      "[20]\tvalid_0's rmse: 0.304337\tvalid_1's rmse: 0.316955\n",
      "[30]\tvalid_0's rmse: 0.292738\tvalid_1's rmse: 0.309823\n",
      "[40]\tvalid_0's rmse: 0.287652\tvalid_1's rmse: 0.308917\n",
      "[50]\tvalid_0's rmse: 0.283015\tvalid_1's rmse: 0.306926\n",
      "[60]\tvalid_0's rmse: 0.279461\tvalid_1's rmse: 0.306414\n",
      "[70]\tvalid_0's rmse: 0.276974\tvalid_1's rmse: 0.305912\n",
      "[80]\tvalid_0's rmse: 0.274842\tvalid_1's rmse: 0.305972\n",
      "[90]\tvalid_0's rmse: 0.272849\tvalid_1's rmse: 0.305823\n",
      "[100]\tvalid_0's rmse: 0.270916\tvalid_1's rmse: 0.305839\n",
      "Early stopping, best iteration is:\n",
      "[89]\tvalid_0's rmse: 0.274505\tvalid_1's rmse: 0.305053\n"
     ]
    },
    {
     "name": "stderr",
     "output_type": "stream",
     "text": [
      "num_leaves, val_score: 0.305053:  90%|######### | 18/20 [00:12<00:01,  1.66it/s]\u001b[32m[I 2023-02-21 13:49:17,891]\u001b[0m Trial 24 finished with value: 0.3050529490368523 and parameters: {'num_leaves': 33}. Best is trial 7 with value: 0.3050529490368523.\u001b[0m\n",
      "num_leaves, val_score: 0.305053:  90%|######### | 18/20 [00:12<00:01,  1.66it/s]"
     ]
    },
    {
     "name": "stdout",
     "output_type": "stream",
     "text": [
      "[LightGBM] [Warning] Auto-choosing row-wise multi-threading, the overhead of testing was 0.002090 seconds.\n",
      "You can set `force_row_wise=true` to remove the overhead.\n",
      "And if memory is not enough, you can set `force_col_wise=true`.\n",
      "[LightGBM] [Info] Total Bins 714\n",
      "[LightGBM] [Info] Number of data points in the train set: 11396, number of used features: 91\n",
      "[LightGBM] [Info] Start training from score 0.245261\n",
      "[LightGBM] [Warning] No further splits with positive gain, best gain: -inf\n",
      "[LightGBM] [Warning] No further splits with positive gain, best gain: -inf\n",
      "[10]\tvalid_0's rmse: 0.314301\tvalid_1's rmse: 0.335727\n",
      "[LightGBM] [Warning] No further splits with positive gain, best gain: -inf\n",
      "[20]\tvalid_0's rmse: 0.279532\tvalid_1's rmse: 0.317337\n",
      "[LightGBM] [Warning] No further splits with positive gain, best gain: -inf\n",
      "[30]\tvalid_0's rmse: 0.25816\tvalid_1's rmse: 0.312822\n",
      "[LightGBM] [Warning] No further splits with positive gain, best gain: -inf\n",
      "[40]\tvalid_0's rmse: 0.245017\tvalid_1's rmse: 0.313693\n",
      "[LightGBM] [Warning] No further splits with positive gain, best gain: -inf\n",
      "[50]\tvalid_0's rmse: 0.235051\tvalid_1's rmse: 0.312796\n",
      "[60]\tvalid_0's rmse: 0.22566\tvalid_1's rmse: 0.312713\n",
      "[LightGBM] [Warning] No further splits with positive gain, best gain: -inf\n",
      "[LightGBM] [Warning] No further splits with positive gain, best gain: -inf\n",
      "[70]\tvalid_0's rmse: 0.218654\tvalid_1's rmse: 0.313215\n",
      "[LightGBM] [Warning] No further splits with positive gain, best gain: -inf\n",
      "[80]\tvalid_0's rmse: 0.212705\tvalid_1's rmse: 0.313732\n",
      "[90]\tvalid_0's rmse: 0.206849\tvalid_1's rmse: 0.314378\n",
      "[LightGBM] [Warning] No further splits with positive gain, best gain: -inf\n"
     ]
    },
    {
     "name": "stderr",
     "output_type": "stream",
     "text": [
      "num_leaves, val_score: 0.305053:  95%|#########5| 19/20 [00:13<00:00,  1.43it/s]\u001b[32m[I 2023-02-21 13:49:18,828]\u001b[0m Trial 25 finished with value: 0.3050529490368523 and parameters: {'num_leaves': 203}. Best is trial 7 with value: 0.3050529490368523.\u001b[0m\n",
      "num_leaves, val_score: 0.305053:  95%|#########5| 19/20 [00:13<00:00,  1.43it/s]"
     ]
    },
    {
     "name": "stdout",
     "output_type": "stream",
     "text": [
      "[100]\tvalid_0's rmse: 0.201471\tvalid_1's rmse: 0.314971\n",
      "Early stopping, best iteration is:\n",
      "[89]\tvalid_0's rmse: 0.274505\tvalid_1's rmse: 0.305053\n",
      "[LightGBM] [Warning] Auto-choosing row-wise multi-threading, the overhead of testing was 0.001377 seconds.\n",
      "You can set `force_row_wise=true` to remove the overhead.\n",
      "And if memory is not enough, you can set `force_col_wise=true`.\n",
      "[LightGBM] [Info] Total Bins 714\n",
      "[LightGBM] [Info] Number of data points in the train set: 11396, number of used features: 91\n",
      "[LightGBM] [Info] Start training from score 0.245261\n",
      "[10]\tvalid_0's rmse: 0.321669\tvalid_1's rmse: 0.33579\n",
      "[20]\tvalid_0's rmse: 0.291591\tvalid_1's rmse: 0.316302\n",
      "[30]\tvalid_0's rmse: 0.275916\tvalid_1's rmse: 0.310587\n",
      "[40]\tvalid_0's rmse: 0.26743\tvalid_1's rmse: 0.310279\n",
      "[50]\tvalid_0's rmse: 0.260419\tvalid_1's rmse: 0.309154\n"
     ]
    },
    {
     "name": "stderr",
     "output_type": "stream",
     "text": [
      "\r\n",
      "num_leaves, val_score: 0.305053:  95%|#########5| 19/20 [00:13<00:00,  1.43it/s]"
     ]
    },
    {
     "name": "stdout",
     "output_type": "stream",
     "text": [
      "[60]\tvalid_0's rmse: 0.254661\tvalid_1's rmse: 0.309047\n",
      "[70]\tvalid_0's rmse: 0.250104\tvalid_1's rmse: 0.30865\n",
      "[80]\tvalid_0's rmse: 0.246323\tvalid_1's rmse: 0.308646\n",
      "[90]\tvalid_0's rmse: 0.24259\tvalid_1's rmse: 0.30901\n",
      "[100]\tvalid_0's rmse: 0.23902\tvalid_1's rmse: 0.309411\n",
      "Early stopping, best iteration is:\n",
      "[89]\tvalid_0's rmse: 0.274505\tvalid_1's rmse: 0.305053\n"
     ]
    },
    {
     "name": "stderr",
     "output_type": "stream",
     "text": [
      "num_leaves, val_score: 0.305053: 100%|##########| 20/20 [00:13<00:00,  1.56it/s]\u001b[32m[I 2023-02-21 13:49:19,325]\u001b[0m Trial 26 finished with value: 0.3050529490368523 and parameters: {'num_leaves': 86}. Best is trial 7 with value: 0.3050529490368523.\u001b[0m\n",
      "num_leaves, val_score: 0.305053: 100%|##########| 20/20 [00:13<00:00,  1.47it/s]\n",
      "bagging, val_score: 0.305053:   0%|          | 0/10 [00:00<?, ?it/s]"
     ]
    },
    {
     "name": "stdout",
     "output_type": "stream",
     "text": [
      "[LightGBM] [Warning] Auto-choosing row-wise multi-threading, the overhead of testing was 0.001531 seconds.\n",
      "You can set `force_row_wise=true` to remove the overhead.\n",
      "And if memory is not enough, you can set `force_col_wise=true`.\n",
      "[LightGBM] [Info] Total Bins 714\n",
      "[LightGBM] [Info] Number of data points in the train set: 11396, number of used features: 91\n",
      "[LightGBM] [Info] Start training from score 0.245261\n",
      "[10]\tvalid_0's rmse: 0.333645\tvalid_1's rmse: 0.340444\n",
      "[20]\tvalid_0's rmse: 0.308532\tvalid_1's rmse: 0.32062\n",
      "[30]\tvalid_0's rmse: 0.298115\tvalid_1's rmse: 0.314435\n",
      "[40]\tvalid_0's rmse: 0.293454\tvalid_1's rmse: 0.312914\n",
      "[50]\tvalid_0's rmse: 0.289556\tvalid_1's rmse: 0.311852\n",
      "[60]\tvalid_0's rmse: 0.286146\tvalid_1's rmse: 0.31142\n"
     ]
    },
    {
     "name": "stderr",
     "output_type": "stream",
     "text": [
      "bagging, val_score: 0.305053:  10%|#         | 1/10 [00:00<00:03,  2.65it/s]\u001b[32m[I 2023-02-21 13:49:19,711]\u001b[0m Trial 27 finished with value: 0.3050529490368523 and parameters: {'bagging_fraction': 0.43103834384731404, 'bagging_freq': 5}. Best is trial 27 with value: 0.3050529490368523.\u001b[0m\n",
      "bagging, val_score: 0.305053:  10%|#         | 1/10 [00:00<00:03,  2.65it/s]"
     ]
    },
    {
     "name": "stdout",
     "output_type": "stream",
     "text": [
      "[70]\tvalid_0's rmse: 0.28399\tvalid_1's rmse: 0.31059\n",
      "[80]\tvalid_0's rmse: 0.28191\tvalid_1's rmse: 0.310892\n",
      "[90]\tvalid_0's rmse: 0.280112\tvalid_1's rmse: 0.311201\n",
      "[100]\tvalid_0's rmse: 0.278307\tvalid_1's rmse: 0.312105\n",
      "Early stopping, best iteration is:\n",
      "[89]\tvalid_0's rmse: 0.274505\tvalid_1's rmse: 0.305053\n",
      "[LightGBM] [Warning] Auto-choosing row-wise multi-threading, the overhead of testing was 0.002660 seconds.\n",
      "You can set `force_row_wise=true` to remove the overhead.\n",
      "And if memory is not enough, you can set `force_col_wise=true`.\n",
      "[LightGBM] [Info] Total Bins 714\n",
      "[LightGBM] [Info] Number of data points in the train set: 11396, number of used features: 91\n",
      "[LightGBM] [Info] Start training from score 0.245261\n",
      "[10]\tvalid_0's rmse: 0.331659\tvalid_1's rmse: 0.339163\n",
      "[20]\tvalid_0's rmse: 0.306289\tvalid_1's rmse: 0.319127\n",
      "[30]\tvalid_0's rmse: 0.294975\tvalid_1's rmse: 0.312144\n",
      "[40]\tvalid_0's rmse: 0.289865\tvalid_1's rmse: 0.310744\n",
      "[50]\tvalid_0's rmse: 0.285428\tvalid_1's rmse: 0.308606\n",
      "[60]\tvalid_0's rmse: 0.282002\tvalid_1's rmse: 0.307992\n",
      "[70]\tvalid_0's rmse: 0.279255\tvalid_1's rmse: 0.307401\n",
      "[80]\tvalid_0's rmse: 0.276895\tvalid_1's rmse: 0.307132\n",
      "[90]\tvalid_0's rmse: 0.274816\tvalid_1's rmse: 0.306672\n",
      "[100]\tvalid_0's rmse: 0.272888\tvalid_1's rmse: 0.306784\n",
      "Early stopping, best iteration is:\n",
      "[89]\tvalid_0's rmse: 0.274505\tvalid_1's rmse: 0.305053\n"
     ]
    },
    {
     "name": "stderr",
     "output_type": "stream",
     "text": [
      "bagging, val_score: 0.305053:  20%|##        | 2/10 [00:00<00:02,  2.90it/s]\u001b[32m[I 2023-02-21 13:49:20,033]\u001b[0m Trial 28 finished with value: 0.3050529490368523 and parameters: {'bagging_fraction': 0.7253426964371288, 'bagging_freq': 1}. Best is trial 27 with value: 0.3050529490368523.\u001b[0m\n",
      "bagging, val_score: 0.305053:  20%|##        | 2/10 [00:00<00:02,  2.90it/s]"
     ]
    },
    {
     "name": "stdout",
     "output_type": "stream",
     "text": [
      "[LightGBM] [Warning] Auto-choosing row-wise multi-threading, the overhead of testing was 0.001415 seconds.\n",
      "You can set `force_row_wise=true` to remove the overhead.\n",
      "And if memory is not enough, you can set `force_col_wise=true`.\n",
      "[LightGBM] [Info] Total Bins 714\n",
      "[LightGBM] [Info] Number of data points in the train set: 11396, number of used features: 91\n",
      "[LightGBM] [Info] Start training from score 0.245261\n",
      "[10]\tvalid_0's rmse: 0.332255\tvalid_1's rmse: 0.339437\n",
      "[20]\tvalid_0's rmse: 0.306983\tvalid_1's rmse: 0.319202\n",
      "[30]\tvalid_0's rmse: 0.295679\tvalid_1's rmse: 0.312406\n",
      "[40]\tvalid_0's rmse: 0.290552\tvalid_1's rmse: 0.311753\n",
      "[50]\tvalid_0's rmse: 0.286338\tvalid_1's rmse: 0.309972\n",
      "[60]\tvalid_0's rmse: 0.282912\tvalid_1's rmse: 0.309255\n"
     ]
    },
    {
     "name": "stderr",
     "output_type": "stream",
     "text": [
      "bagging, val_score: 0.305053:  30%|###       | 3/10 [00:01<00:02,  2.73it/s]\u001b[32m[I 2023-02-21 13:49:20,426]\u001b[0m Trial 29 finished with value: 0.3050529490368523 and parameters: {'bagging_fraction': 0.643481987268173, 'bagging_freq': 2}. Best is trial 27 with value: 0.3050529490368523.\u001b[0m\n",
      "bagging, val_score: 0.305053:  30%|###       | 3/10 [00:01<00:02,  2.73it/s]"
     ]
    },
    {
     "name": "stdout",
     "output_type": "stream",
     "text": [
      "[70]\tvalid_0's rmse: 0.280233\tvalid_1's rmse: 0.309279\n",
      "[80]\tvalid_0's rmse: 0.277877\tvalid_1's rmse: 0.309264\n",
      "[90]\tvalid_0's rmse: 0.275774\tvalid_1's rmse: 0.309489\n",
      "[100]\tvalid_0's rmse: 0.273833\tvalid_1's rmse: 0.309651\n",
      "Early stopping, best iteration is:\n",
      "[89]\tvalid_0's rmse: 0.274505\tvalid_1's rmse: 0.305053\n",
      "[LightGBM] [Warning] Auto-choosing row-wise multi-threading, the overhead of testing was 0.001640 seconds.\n",
      "You can set `force_row_wise=true` to remove the overhead.\n",
      "And if memory is not enough, you can set `force_col_wise=true`.\n",
      "[LightGBM] [Info] Total Bins 714\n",
      "[LightGBM] [Info] Number of data points in the train set: 11396, number of used features: 91\n",
      "[LightGBM] [Info] Start training from score 0.245261\n"
     ]
    },
    {
     "name": "stderr",
     "output_type": "stream",
     "text": [
      "\r\n",
      "bagging, val_score: 0.305053:  30%|###       | 3/10 [00:01<00:02,  2.73it/s]"
     ]
    },
    {
     "name": "stdout",
     "output_type": "stream",
     "text": [
      "[10]\tvalid_0's rmse: 0.333288\tvalid_1's rmse: 0.339803\n",
      "[20]\tvalid_0's rmse: 0.308378\tvalid_1's rmse: 0.320025\n",
      "[30]\tvalid_0's rmse: 0.297492\tvalid_1's rmse: 0.314013\n",
      "[40]\tvalid_0's rmse: 0.292816\tvalid_1's rmse: 0.313497\n",
      "[50]\tvalid_0's rmse: 0.288418\tvalid_1's rmse: 0.311669\n",
      "[60]\tvalid_0's rmse: 0.285154\tvalid_1's rmse: 0.311127\n",
      "[70]\tvalid_0's rmse: 0.282755\tvalid_1's rmse: 0.31076\n",
      "[80]\tvalid_0's rmse: 0.28033\tvalid_1's rmse: 0.310385\n",
      "[90]\tvalid_0's rmse: 0.278228\tvalid_1's rmse: 0.310493\n",
      "[100]\tvalid_0's rmse: 0.276438\tvalid_1's rmse: 0.310207\n",
      "Early stopping, best iteration is:\n",
      "[89]\tvalid_0's rmse: 0.274505\tvalid_1's rmse: 0.305053\n"
     ]
    },
    {
     "name": "stderr",
     "output_type": "stream",
     "text": [
      "bagging, val_score: 0.305053:  40%|####      | 4/10 [00:01<00:02,  2.87it/s]\u001b[32m[I 2023-02-21 13:49:20,746]\u001b[0m Trial 30 finished with value: 0.3050529490368523 and parameters: {'bagging_fraction': 0.48825676158967624, 'bagging_freq': 4}. Best is trial 27 with value: 0.3050529490368523.\u001b[0m\n",
      "bagging, val_score: 0.305053:  40%|####      | 4/10 [00:01<00:02,  2.87it/s]"
     ]
    },
    {
     "name": "stdout",
     "output_type": "stream",
     "text": [
      "[LightGBM] [Warning] Auto-choosing row-wise multi-threading, the overhead of testing was 0.002838 seconds.\n",
      "You can set `force_row_wise=true` to remove the overhead.\n",
      "And if memory is not enough, you can set `force_col_wise=true`.\n",
      "[LightGBM] [Info] Total Bins 714\n",
      "[LightGBM] [Info] Number of data points in the train set: 11396, number of used features: 91\n",
      "[LightGBM] [Info] Start training from score 0.245261\n",
      "[10]\tvalid_0's rmse: 0.332092\tvalid_1's rmse: 0.338875\n",
      "[20]\tvalid_0's rmse: 0.306965\tvalid_1's rmse: 0.318789\n",
      "[30]\tvalid_0's rmse: 0.296191\tvalid_1's rmse: 0.313034\n",
      "[40]\tvalid_0's rmse: 0.291079\tvalid_1's rmse: 0.312122\n",
      "[50]\tvalid_0's rmse: 0.28673\tvalid_1's rmse: 0.310022\n",
      "[60]\tvalid_0's rmse: 0.28349\tvalid_1's rmse: 0.309651\n"
     ]
    },
    {
     "name": "stderr",
     "output_type": "stream",
     "text": [
      "bagging, val_score: 0.305053:  50%|#####     | 5/10 [00:01<00:01,  2.88it/s]\u001b[32m[I 2023-02-21 13:49:21,093]\u001b[0m Trial 31 finished with value: 0.3050529490368523 and parameters: {'bagging_fraction': 0.6596926593449679, 'bagging_freq': 4}. Best is trial 27 with value: 0.3050529490368523.\u001b[0m\n",
      "bagging, val_score: 0.305053:  50%|#####     | 5/10 [00:01<00:01,  2.88it/s]"
     ]
    },
    {
     "name": "stdout",
     "output_type": "stream",
     "text": [
      "[70]\tvalid_0's rmse: 0.280914\tvalid_1's rmse: 0.309374\n",
      "[80]\tvalid_0's rmse: 0.278688\tvalid_1's rmse: 0.309596\n",
      "[90]\tvalid_0's rmse: 0.276631\tvalid_1's rmse: 0.309216\n",
      "[100]\tvalid_0's rmse: 0.274556\tvalid_1's rmse: 0.30901\n",
      "Early stopping, best iteration is:\n",
      "[89]\tvalid_0's rmse: 0.274505\tvalid_1's rmse: 0.305053\n",
      "[LightGBM] [Warning] Auto-choosing row-wise multi-threading, the overhead of testing was 0.001594 seconds.\n",
      "You can set `force_row_wise=true` to remove the overhead.\n",
      "And if memory is not enough, you can set `force_col_wise=true`.\n",
      "[LightGBM] [Info] Total Bins 714\n",
      "[LightGBM] [Info] Number of data points in the train set: 11396, number of used features: 91\n",
      "[LightGBM] [Info] Start training from score 0.245261\n",
      "[10]\tvalid_0's rmse: 0.330889\tvalid_1's rmse: 0.337674\n"
     ]
    },
    {
     "name": "stderr",
     "output_type": "stream",
     "text": [
      "\r\n",
      "bagging, val_score: 0.305053:  50%|#####     | 5/10 [00:02<00:01,  2.88it/s]"
     ]
    },
    {
     "name": "stdout",
     "output_type": "stream",
     "text": [
      "[20]\tvalid_0's rmse: 0.305915\tvalid_1's rmse: 0.318013\n",
      "[30]\tvalid_0's rmse: 0.294666\tvalid_1's rmse: 0.311428\n",
      "[40]\tvalid_0's rmse: 0.289448\tvalid_1's rmse: 0.310154\n",
      "[50]\tvalid_0's rmse: 0.284821\tvalid_1's rmse: 0.30772\n",
      "[60]\tvalid_0's rmse: 0.281212\tvalid_1's rmse: 0.306781\n",
      "[70]\tvalid_0's rmse: 0.278427\tvalid_1's rmse: 0.306322\n",
      "[80]\tvalid_0's rmse: 0.276212\tvalid_1's rmse: 0.306063\n",
      "[90]\tvalid_0's rmse: 0.274127\tvalid_1's rmse: 0.305902\n",
      "[100]\tvalid_0's rmse: 0.272249\tvalid_1's rmse: 0.305867\n",
      "Early stopping, best iteration is:\n",
      "[89]\tvalid_0's rmse: 0.274505\tvalid_1's rmse: 0.305053\n"
     ]
    },
    {
     "name": "stderr",
     "output_type": "stream",
     "text": [
      "bagging, val_score: 0.305053:  60%|######    | 6/10 [00:02<00:01,  2.91it/s]\u001b[32m[I 2023-02-21 13:49:21,429]\u001b[0m Trial 32 finished with value: 0.3050529490368523 and parameters: {'bagging_fraction': 0.8815057090225968, 'bagging_freq': 6}. Best is trial 27 with value: 0.3050529490368523.\u001b[0m\n",
      "bagging, val_score: 0.305053:  60%|######    | 6/10 [00:02<00:01,  2.91it/s]"
     ]
    },
    {
     "name": "stdout",
     "output_type": "stream",
     "text": [
      "[LightGBM] [Warning] Auto-choosing row-wise multi-threading, the overhead of testing was 0.003176 seconds.\n",
      "You can set `force_row_wise=true` to remove the overhead.\n",
      "And if memory is not enough, you can set `force_col_wise=true`.\n",
      "[LightGBM] [Info] Total Bins 714\n",
      "[LightGBM] [Info] Number of data points in the train set: 11396, number of used features: 91\n",
      "[LightGBM] [Info] Start training from score 0.245261\n",
      "[10]\tvalid_0's rmse: 0.333644\tvalid_1's rmse: 0.340745\n",
      "[20]\tvalid_0's rmse: 0.309199\tvalid_1's rmse: 0.321602\n",
      "[30]\tvalid_0's rmse: 0.29867\tvalid_1's rmse: 0.316329\n",
      "[40]\tvalid_0's rmse: 0.294113\tvalid_1's rmse: 0.315245\n",
      "[50]\tvalid_0's rmse: 0.289808\tvalid_1's rmse: 0.313317\n",
      "[60]\tvalid_0's rmse: 0.28626\tvalid_1's rmse: 0.312493\n"
     ]
    },
    {
     "name": "stderr",
     "output_type": "stream",
     "text": [
      "bagging, val_score: 0.305053:  70%|#######   | 7/10 [00:02<00:01,  2.83it/s]\u001b[32m[I 2023-02-21 13:49:21,810]\u001b[0m Trial 33 finished with value: 0.3050529490368523 and parameters: {'bagging_fraction': 0.43002854094240583, 'bagging_freq': 1}. Best is trial 27 with value: 0.3050529490368523.\u001b[0m\n",
      "bagging, val_score: 0.305053:  70%|#######   | 7/10 [00:02<00:01,  2.83it/s]"
     ]
    },
    {
     "name": "stdout",
     "output_type": "stream",
     "text": [
      "[70]\tvalid_0's rmse: 0.283709\tvalid_1's rmse: 0.312794\n",
      "[80]\tvalid_0's rmse: 0.281486\tvalid_1's rmse: 0.312822\n",
      "[90]\tvalid_0's rmse: 0.279387\tvalid_1's rmse: 0.31283\n",
      "[100]\tvalid_0's rmse: 0.277553\tvalid_1's rmse: 0.313064\n",
      "Early stopping, best iteration is:\n",
      "[89]\tvalid_0's rmse: 0.274505\tvalid_1's rmse: 0.305053\n",
      "[LightGBM] [Warning] Auto-choosing col-wise multi-threading, the overhead of testing was 0.002550 seconds.\n",
      "You can set `force_col_wise=true` to remove the overhead.\n",
      "[LightGBM] [Info] Total Bins 714\n",
      "[LightGBM] [Info] Number of data points in the train set: 11396, number of used features: 91\n",
      "[LightGBM] [Info] Start training from score 0.245261\n",
      "[10]\tvalid_0's rmse: 0.330486\tvalid_1's rmse: 0.337356\n",
      "[20]\tvalid_0's rmse: 0.305213\tvalid_1's rmse: 0.317389\n",
      "[30]\tvalid_0's rmse: 0.293827\tvalid_1's rmse: 0.310513\n",
      "[40]\tvalid_0's rmse: 0.288703\tvalid_1's rmse: 0.308988\n",
      "[50]\tvalid_0's rmse: 0.284289\tvalid_1's rmse: 0.307206\n",
      "[60]\tvalid_0's rmse: 0.281034\tvalid_1's rmse: 0.306507\n",
      "[70]\tvalid_0's rmse: 0.27838\tvalid_1's rmse: 0.305884\n",
      "[80]\tvalid_0's rmse: 0.276361\tvalid_1's rmse: 0.305958\n",
      "[90]\tvalid_0's rmse: 0.274366\tvalid_1's rmse: 0.306118\n"
     ]
    },
    {
     "name": "stderr",
     "output_type": "stream",
     "text": [
      "bagging, val_score: 0.305053:  80%|########  | 8/10 [00:02<00:00,  2.68it/s]\u001b[32m[I 2023-02-21 13:49:22,219]\u001b[0m Trial 34 finished with value: 0.3050529490368523 and parameters: {'bagging_fraction': 0.9906054813898795, 'bagging_freq': 2}. Best is trial 27 with value: 0.3050529490368523.\u001b[0m\n",
      "bagging, val_score: 0.305053:  80%|########  | 8/10 [00:02<00:00,  2.68it/s]"
     ]
    },
    {
     "name": "stdout",
     "output_type": "stream",
     "text": [
      "[100]\tvalid_0's rmse: 0.272495\tvalid_1's rmse: 0.30621\n",
      "Early stopping, best iteration is:\n",
      "[89]\tvalid_0's rmse: 0.274505\tvalid_1's rmse: 0.305053\n",
      "[LightGBM] [Warning] Auto-choosing row-wise multi-threading, the overhead of testing was 0.001795 seconds.\n",
      "You can set `force_row_wise=true` to remove the overhead.\n",
      "And if memory is not enough, you can set `force_col_wise=true`.\n",
      "[LightGBM] [Info] Total Bins 714\n",
      "[LightGBM] [Info] Number of data points in the train set: 11396, number of used features: 91\n",
      "[LightGBM] [Info] Start training from score 0.245261\n",
      "[10]\tvalid_0's rmse: 0.330727\tvalid_1's rmse: 0.337414\n",
      "[20]\tvalid_0's rmse: 0.305259\tvalid_1's rmse: 0.317119\n",
      "[30]\tvalid_0's rmse: 0.294067\tvalid_1's rmse: 0.31003\n"
     ]
    },
    {
     "name": "stderr",
     "output_type": "stream",
     "text": [
      "bagging, val_score: 0.305053:  90%|######### | 9/10 [00:03<00:00,  2.76it/s]\u001b[32m[I 2023-02-21 13:49:22,557]\u001b[0m Trial 35 finished with value: 0.3050529490368523 and parameters: {'bagging_fraction': 0.9363245379950149, 'bagging_freq': 4}. Best is trial 27 with value: 0.3050529490368523.\u001b[0m\n",
      "bagging, val_score: 0.305053:  90%|######### | 9/10 [00:03<00:00,  2.76it/s]"
     ]
    },
    {
     "name": "stdout",
     "output_type": "stream",
     "text": [
      "[40]\tvalid_0's rmse: 0.289011\tvalid_1's rmse: 0.308696\n",
      "[50]\tvalid_0's rmse: 0.284588\tvalid_1's rmse: 0.30679\n",
      "[60]\tvalid_0's rmse: 0.281114\tvalid_1's rmse: 0.306099\n",
      "[70]\tvalid_0's rmse: 0.278471\tvalid_1's rmse: 0.305726\n",
      "[80]\tvalid_0's rmse: 0.276272\tvalid_1's rmse: 0.305715\n",
      "[90]\tvalid_0's rmse: 0.273974\tvalid_1's rmse: 0.305647\n",
      "[100]\tvalid_0's rmse: 0.272085\tvalid_1's rmse: 0.305613\n",
      "Early stopping, best iteration is:\n",
      "[89]\tvalid_0's rmse: 0.274505\tvalid_1's rmse: 0.305053\n",
      "[LightGBM] [Warning] Auto-choosing row-wise multi-threading, the overhead of testing was 0.002922 seconds.\n",
      "You can set `force_row_wise=true` to remove the overhead.\n",
      "And if memory is not enough, you can set `force_col_wise=true`.\n",
      "[LightGBM] [Info] Total Bins 714\n",
      "[LightGBM] [Info] Number of data points in the train set: 11396, number of used features: 91\n",
      "[LightGBM] [Info] Start training from score 0.245261\n",
      "[10]\tvalid_0's rmse: 0.33199\tvalid_1's rmse: 0.339377\n",
      "[20]\tvalid_0's rmse: 0.307086\tvalid_1's rmse: 0.319392\n",
      "[30]\tvalid_0's rmse: 0.295885\tvalid_1's rmse: 0.312583\n",
      "[40]\tvalid_0's rmse: 0.290796\tvalid_1's rmse: 0.311247\n",
      "[50]\tvalid_0's rmse: 0.286325\tvalid_1's rmse: 0.308979\n",
      "[60]\tvalid_0's rmse: 0.28315\tvalid_1's rmse: 0.308573\n",
      "[70]\tvalid_0's rmse: 0.280624\tvalid_1's rmse: 0.308103\n",
      "[80]\tvalid_0's rmse: 0.278534\tvalid_1's rmse: 0.308076\n",
      "[90]\tvalid_0's rmse: 0.276351\tvalid_1's rmse: 0.307986\n"
     ]
    },
    {
     "name": "stderr",
     "output_type": "stream",
     "text": [
      "bagging, val_score: 0.305053: 100%|##########| 10/10 [00:03<00:00,  2.82it/s]\u001b[32m[I 2023-02-21 13:49:22,892]\u001b[0m Trial 36 finished with value: 0.3050529490368523 and parameters: {'bagging_fraction': 0.6370056486000986, 'bagging_freq': 5}. Best is trial 27 with value: 0.3050529490368523.\u001b[0m\n",
      "bagging, val_score: 0.305053: 100%|##########| 10/10 [00:03<00:00,  2.81it/s]\n"
     ]
    },
    {
     "name": "stdout",
     "output_type": "stream",
     "text": [
      "[100]\tvalid_0's rmse: 0.274312\tvalid_1's rmse: 0.308564\n",
      "Early stopping, best iteration is:\n",
      "[89]\tvalid_0's rmse: 0.274505\tvalid_1's rmse: 0.305053\n"
     ]
    },
    {
     "name": "stderr",
     "output_type": "stream",
     "text": [
      "feature_fraction_stage2, val_score: 0.305053:   0%|          | 0/6 [00:00<?, ?it/s]"
     ]
    },
    {
     "name": "stdout",
     "output_type": "stream",
     "text": [
      "[LightGBM] [Warning] Auto-choosing row-wise multi-threading, the overhead of testing was 0.001918 seconds.\n",
      "You can set `force_row_wise=true` to remove the overhead.\n",
      "And if memory is not enough, you can set `force_col_wise=true`.\n",
      "[LightGBM] [Info] Total Bins 714\n",
      "[LightGBM] [Info] Number of data points in the train set: 11396, number of used features: 91\n",
      "[LightGBM] [Info] Start training from score 0.245261\n",
      "[10]\tvalid_0's rmse: 0.332443\tvalid_1's rmse: 0.339265\n",
      "[20]\tvalid_0's rmse: 0.307259\tvalid_1's rmse: 0.318869\n",
      "[30]\tvalid_0's rmse: 0.295569\tvalid_1's rmse: 0.311324\n",
      "[40]\tvalid_0's rmse: 0.290407\tvalid_1's rmse: 0.309857\n",
      "[50]\tvalid_0's rmse: 0.286204\tvalid_1's rmse: 0.308089\n",
      "[60]\tvalid_0's rmse: 0.28264\tvalid_1's rmse: 0.307143\n",
      "[70]\tvalid_0's rmse: 0.280008\tvalid_1's rmse: 0.306471\n",
      "[80]\tvalid_0's rmse: 0.277954\tvalid_1's rmse: 0.305988\n"
     ]
    },
    {
     "name": "stderr",
     "output_type": "stream",
     "text": [
      "feature_fraction_stage2, val_score: 0.305053:  17%|#6        | 1/6 [00:00<00:01,  3.24it/s]\u001b[32m[I 2023-02-21 13:49:23,207]\u001b[0m Trial 37 finished with value: 0.3050529490368523 and parameters: {'feature_fraction': 0.42}. Best is trial 37 with value: 0.3050529490368523.\u001b[0m\n",
      "feature_fraction_stage2, val_score: 0.305053:  17%|#6        | 1/6 [00:00<00:01,  3.24it/s]"
     ]
    },
    {
     "name": "stdout",
     "output_type": "stream",
     "text": [
      "[90]\tvalid_0's rmse: 0.276033\tvalid_1's rmse: 0.305793\n",
      "[100]\tvalid_0's rmse: 0.274289\tvalid_1's rmse: 0.305922\n",
      "Early stopping, best iteration is:\n",
      "[89]\tvalid_0's rmse: 0.274505\tvalid_1's rmse: 0.305053\n",
      "[LightGBM] [Warning] Auto-choosing row-wise multi-threading, the overhead of testing was 0.003076 seconds.\n",
      "You can set `force_row_wise=true` to remove the overhead.\n",
      "And if memory is not enough, you can set `force_col_wise=true`.\n",
      "[LightGBM] [Info] Total Bins 714\n",
      "[LightGBM] [Info] Number of data points in the train set: 11396, number of used features: 91\n",
      "[LightGBM] [Info] Start training from score 0.245261\n",
      "[10]\tvalid_0's rmse: 0.32915\tvalid_1's rmse: 0.336805\n",
      "[20]\tvalid_0's rmse: 0.303685\tvalid_1's rmse: 0.316514\n",
      "[30]\tvalid_0's rmse: 0.292766\tvalid_1's rmse: 0.309967\n",
      "[40]\tvalid_0's rmse: 0.287818\tvalid_1's rmse: 0.309019\n",
      "[50]\tvalid_0's rmse: 0.283083\tvalid_1's rmse: 0.306656\n",
      "[60]\tvalid_0's rmse: 0.279721\tvalid_1's rmse: 0.306113\n",
      "[70]\tvalid_0's rmse: 0.277153\tvalid_1's rmse: 0.305295\n",
      "[80]\tvalid_0's rmse: 0.275016\tvalid_1's rmse: 0.305435\n",
      "[90]\tvalid_0's rmse: 0.273117\tvalid_1's rmse: 0.3055\n",
      "[100]\tvalid_0's rmse: 0.271219\tvalid_1's rmse: 0.305521\n"
     ]
    },
    {
     "name": "stderr",
     "output_type": "stream",
     "text": [
      "feature_fraction_stage2, val_score: 0.305053:  33%|###3      | 2/6 [00:00<00:01,  3.27it/s]\u001b[32m[I 2023-02-21 13:49:23,509]\u001b[0m Trial 38 finished with value: 0.3050529490368523 and parameters: {'feature_fraction': 0.58}. Best is trial 37 with value: 0.3050529490368523.\u001b[0m\n",
      "feature_fraction_stage2, val_score: 0.305053:  33%|###3      | 2/6 [00:00<00:01,  3.27it/s]"
     ]
    },
    {
     "name": "stdout",
     "output_type": "stream",
     "text": [
      "Early stopping, best iteration is:\n",
      "[89]\tvalid_0's rmse: 0.274505\tvalid_1's rmse: 0.305053\n",
      "[LightGBM] [Warning] Auto-choosing row-wise multi-threading, the overhead of testing was 0.002550 seconds.\n",
      "You can set `force_row_wise=true` to remove the overhead.\n",
      "And if memory is not enough, you can set `force_col_wise=true`.\n",
      "[LightGBM] [Info] Total Bins 714\n",
      "[LightGBM] [Info] Number of data points in the train set: 11396, number of used features: 91\n",
      "[LightGBM] [Info] Start training from score 0.245261\n",
      "[10]\tvalid_0's rmse: 0.329925\tvalid_1's rmse: 0.337257\n",
      "[20]\tvalid_0's rmse: 0.304967\tvalid_1's rmse: 0.317401\n",
      "[30]\tvalid_0's rmse: 0.293461\tvalid_1's rmse: 0.310723\n",
      "[40]\tvalid_0's rmse: 0.288213\tvalid_1's rmse: 0.309307\n",
      "[50]\tvalid_0's rmse: 0.283614\tvalid_1's rmse: 0.307413\n",
      "[60]\tvalid_0's rmse: 0.280196\tvalid_1's rmse: 0.306861\n",
      "[70]\tvalid_0's rmse: 0.277542\tvalid_1's rmse: 0.306034\n",
      "[80]\tvalid_0's rmse: 0.27546\tvalid_1's rmse: 0.305932\n",
      "[90]\tvalid_0's rmse: 0.273312\tvalid_1's rmse: 0.305919\n",
      "[100]\tvalid_0's rmse: 0.271389\tvalid_1's rmse: 0.305995\n"
     ]
    },
    {
     "name": "stderr",
     "output_type": "stream",
     "text": [
      "feature_fraction_stage2, val_score: 0.305053:  50%|#####     | 3/6 [00:00<00:00,  3.19it/s]\u001b[32m[I 2023-02-21 13:49:23,836]\u001b[0m Trial 39 finished with value: 0.3050529490368523 and parameters: {'feature_fraction': 0.5479999999999999}. Best is trial 37 with value: 0.3050529490368523.\u001b[0m\n",
      "feature_fraction_stage2, val_score: 0.305053:  50%|#####     | 3/6 [00:00<00:00,  3.19it/s]"
     ]
    },
    {
     "name": "stdout",
     "output_type": "stream",
     "text": [
      "Early stopping, best iteration is:\n",
      "[89]\tvalid_0's rmse: 0.274505\tvalid_1's rmse: 0.305053\n",
      "[LightGBM] [Warning] Auto-choosing row-wise multi-threading, the overhead of testing was 0.003582 seconds.\n",
      "You can set `force_row_wise=true` to remove the overhead.\n",
      "And if memory is not enough, you can set `force_col_wise=true`.\n",
      "[LightGBM] [Info] Total Bins 714\n",
      "[LightGBM] [Info] Number of data points in the train set: 11396, number of used features: 91\n",
      "[LightGBM] [Info] Start training from score 0.245261\n",
      "[10]\tvalid_0's rmse: 0.331672\tvalid_1's rmse: 0.33812\n",
      "[20]\tvalid_0's rmse: 0.306729\tvalid_1's rmse: 0.318295\n",
      "[30]\tvalid_0's rmse: 0.295756\tvalid_1's rmse: 0.31103\n",
      "[40]\tvalid_0's rmse: 0.290686\tvalid_1's rmse: 0.309125\n",
      "[50]\tvalid_0's rmse: 0.286396\tvalid_1's rmse: 0.30754\n",
      "[60]\tvalid_0's rmse: 0.282896\tvalid_1's rmse: 0.306639\n",
      "[70]\tvalid_0's rmse: 0.280301\tvalid_1's rmse: 0.305804\n",
      "[80]\tvalid_0's rmse: 0.278093\tvalid_1's rmse: 0.305394\n",
      "[90]\tvalid_0's rmse: 0.276066\tvalid_1's rmse: 0.305437\n"
     ]
    },
    {
     "name": "stderr",
     "output_type": "stream",
     "text": [
      "feature_fraction_stage2, val_score: 0.305053:  67%|######6   | 4/6 [00:01<00:00,  2.98it/s]"
     ]
    },
    {
     "name": "stdout",
     "output_type": "stream",
     "text": [
      "[100]\tvalid_0's rmse: 0.274134\tvalid_1's rmse: 0.30542\n",
      "Early stopping, best iteration is:\n",
      "[89]\tvalid_0's rmse: 0.274505\tvalid_1's rmse: 0.305053\n"
     ]
    },
    {
     "name": "stderr",
     "output_type": "stream",
     "text": [
      "\u001b[32m[I 2023-02-21 13:49:24,205]\u001b[0m Trial 40 finished with value: 0.3050529490368523 and parameters: {'feature_fraction': 0.45199999999999996}. Best is trial 37 with value: 0.3050529490368523.\u001b[0m\n",
      "feature_fraction_stage2, val_score: 0.305053:  67%|######6   | 4/6 [00:01<00:00,  2.98it/s]"
     ]
    },
    {
     "name": "stdout",
     "output_type": "stream",
     "text": [
      "[LightGBM] [Warning] Auto-choosing col-wise multi-threading, the overhead of testing was 0.002628 seconds.\n",
      "You can set `force_col_wise=true` to remove the overhead.\n",
      "[LightGBM] [Info] Total Bins 714\n",
      "[LightGBM] [Info] Number of data points in the train set: 11396, number of used features: 91\n",
      "[LightGBM] [Info] Start training from score 0.245261\n",
      "[10]\tvalid_0's rmse: 0.331441\tvalid_1's rmse: 0.337887\n",
      "[20]\tvalid_0's rmse: 0.305703\tvalid_1's rmse: 0.317377\n",
      "[30]\tvalid_0's rmse: 0.294172\tvalid_1's rmse: 0.310158\n",
      "[40]\tvalid_0's rmse: 0.289044\tvalid_1's rmse: 0.308986\n",
      "[50]\tvalid_0's rmse: 0.284468\tvalid_1's rmse: 0.30717\n",
      "[60]\tvalid_0's rmse: 0.281122\tvalid_1's rmse: 0.306385\n",
      "[70]\tvalid_0's rmse: 0.278591\tvalid_1's rmse: 0.305837\n",
      "[80]\tvalid_0's rmse: 0.276183\tvalid_1's rmse: 0.305913\n",
      "[90]\tvalid_0's rmse: 0.274342\tvalid_1's rmse: 0.305775\n",
      "[100]\tvalid_0's rmse: 0.272477\tvalid_1's rmse: 0.305896\n"
     ]
    },
    {
     "name": "stderr",
     "output_type": "stream",
     "text": [
      "feature_fraction_stage2, val_score: 0.305053:  83%|########3 | 5/6 [00:01<00:00,  3.07it/s]\u001b[32m[I 2023-02-21 13:49:24,511]\u001b[0m Trial 41 finished with value: 0.3050529490368523 and parameters: {'feature_fraction': 0.484}. Best is trial 37 with value: 0.3050529490368523.\u001b[0m\n",
      "feature_fraction_stage2, val_score: 0.305053:  83%|########3 | 5/6 [00:01<00:00,  3.07it/s]"
     ]
    },
    {
     "name": "stdout",
     "output_type": "stream",
     "text": [
      "Early stopping, best iteration is:\n",
      "[89]\tvalid_0's rmse: 0.274505\tvalid_1's rmse: 0.305053\n",
      "[LightGBM] [Warning] Auto-choosing row-wise multi-threading, the overhead of testing was 0.001689 seconds.\n",
      "You can set `force_row_wise=true` to remove the overhead.\n",
      "And if memory is not enough, you can set `force_col_wise=true`.\n",
      "[LightGBM] [Info] Total Bins 714\n",
      "[LightGBM] [Info] Number of data points in the train set: 11396, number of used features: 91\n",
      "[LightGBM] [Info] Start training from score 0.245261\n",
      "[10]\tvalid_0's rmse: 0.329971\tvalid_1's rmse: 0.33689\n",
      "[20]\tvalid_0's rmse: 0.304794\tvalid_1's rmse: 0.316874\n",
      "[30]\tvalid_0's rmse: 0.293416\tvalid_1's rmse: 0.310223\n",
      "[40]\tvalid_0's rmse: 0.288313\tvalid_1's rmse: 0.308863\n",
      "[50]\tvalid_0's rmse: 0.283989\tvalid_1's rmse: 0.307334\n",
      "[60]\tvalid_0's rmse: 0.280485\tvalid_1's rmse: 0.306836\n",
      "[70]\tvalid_0's rmse: 0.277884\tvalid_1's rmse: 0.306222\n",
      "[80]\tvalid_0's rmse: 0.275579\tvalid_1's rmse: 0.306118\n",
      "[90]\tvalid_0's rmse: 0.273726\tvalid_1's rmse: 0.305939\n",
      "[100]\tvalid_0's rmse: 0.271971\tvalid_1's rmse: 0.305722\n",
      "Early stopping, best iteration is:\n",
      "[89]\tvalid_0's rmse: 0.274505\tvalid_1's rmse: 0.305053\n"
     ]
    },
    {
     "name": "stderr",
     "output_type": "stream",
     "text": [
      "feature_fraction_stage2, val_score: 0.305053: 100%|##########| 6/6 [00:01<00:00,  3.07it/s]\u001b[32m[I 2023-02-21 13:49:24,837]\u001b[0m Trial 42 finished with value: 0.3050529490368523 and parameters: {'feature_fraction': 0.516}. Best is trial 37 with value: 0.3050529490368523.\u001b[0m\n",
      "feature_fraction_stage2, val_score: 0.305053: 100%|##########| 6/6 [00:01<00:00,  3.09it/s]\n",
      "regularization_factors, val_score: 0.305053:   0%|          | 0/20 [00:00<?, ?it/s]"
     ]
    },
    {
     "name": "stdout",
     "output_type": "stream",
     "text": [
      "[LightGBM] [Warning] Auto-choosing row-wise multi-threading, the overhead of testing was 0.001800 seconds.\n",
      "You can set `force_row_wise=true` to remove the overhead.\n",
      "And if memory is not enough, you can set `force_col_wise=true`.\n",
      "[LightGBM] [Info] Total Bins 714\n",
      "[LightGBM] [Info] Number of data points in the train set: 11396, number of used features: 91\n",
      "[LightGBM] [Info] Start training from score 0.245261\n",
      "[10]\tvalid_0's rmse: 0.330891\tvalid_1's rmse: 0.337147\n",
      "[20]\tvalid_0's rmse: 0.305196\tvalid_1's rmse: 0.316861\n",
      "[30]\tvalid_0's rmse: 0.293878\tvalid_1's rmse: 0.310104\n",
      "[40]\tvalid_0's rmse: 0.288932\tvalid_1's rmse: 0.309161\n",
      "[50]\tvalid_0's rmse: 0.284384\tvalid_1's rmse: 0.307153\n"
     ]
    },
    {
     "name": "stderr",
     "output_type": "stream",
     "text": [
      "regularization_factors, val_score: 0.305053:   5%|5         | 1/20 [00:00<00:07,  2.60it/s]\u001b[32m[I 2023-02-21 13:49:25,228]\u001b[0m Trial 43 finished with value: 0.3050529490368523 and parameters: {'lambda_l1': 2.9696335799752037e-06, 'lambda_l2': 0.6886918034926004}. Best is trial 43 with value: 0.3050529490368523.\u001b[0m\n",
      "regularization_factors, val_score: 0.305053:   5%|5         | 1/20 [00:00<00:07,  2.60it/s]"
     ]
    },
    {
     "name": "stdout",
     "output_type": "stream",
     "text": [
      "[60]\tvalid_0's rmse: 0.281179\tvalid_1's rmse: 0.306464\n",
      "[70]\tvalid_0's rmse: 0.278527\tvalid_1's rmse: 0.305829\n",
      "[80]\tvalid_0's rmse: 0.276371\tvalid_1's rmse: 0.305834\n",
      "[90]\tvalid_0's rmse: 0.27453\tvalid_1's rmse: 0.30588\n",
      "[100]\tvalid_0's rmse: 0.272783\tvalid_1's rmse: 0.305911\n",
      "Early stopping, best iteration is:\n",
      "[89]\tvalid_0's rmse: 0.274505\tvalid_1's rmse: 0.305053\n",
      "[LightGBM] [Warning] Auto-choosing row-wise multi-threading, the overhead of testing was 0.002768 seconds.\n",
      "You can set `force_row_wise=true` to remove the overhead.\n",
      "And if memory is not enough, you can set `force_col_wise=true`.\n",
      "[LightGBM] [Info] Total Bins 714\n",
      "[LightGBM] [Info] Number of data points in the train set: 11396, number of used features: 91\n",
      "[LightGBM] [Info] Start training from score 0.245261\n",
      "[10]\tvalid_0's rmse: 0.330864\tvalid_1's rmse: 0.336994\n",
      "[20]\tvalid_0's rmse: 0.305257\tvalid_1's rmse: 0.316653\n",
      "[30]\tvalid_0's rmse: 0.293809\tvalid_1's rmse: 0.309845\n",
      "[40]\tvalid_0's rmse: 0.288942\tvalid_1's rmse: 0.30905\n",
      "[50]\tvalid_0's rmse: 0.284575\tvalid_1's rmse: 0.307218\n",
      "[60]\tvalid_0's rmse: 0.281339\tvalid_1's rmse: 0.306681\n",
      "[70]\tvalid_0's rmse: 0.279063\tvalid_1's rmse: 0.306184\n",
      "[80]\tvalid_0's rmse: 0.276693\tvalid_1's rmse: 0.306222\n",
      "[90]\tvalid_0's rmse: 0.274758\tvalid_1's rmse: 0.306032\n"
     ]
    },
    {
     "name": "stderr",
     "output_type": "stream",
     "text": [
      "regularization_factors, val_score: 0.305053:  10%|#         | 2/20 [00:00<00:06,  2.77it/s]\u001b[32m[I 2023-02-21 13:49:25,572]\u001b[0m Trial 44 finished with value: 0.3050529490368523 and parameters: {'lambda_l1': 0.09482765273212597, 'lambda_l2': 0.0004129877895767139}. Best is trial 43 with value: 0.3050529490368523.\u001b[0m\n",
      "regularization_factors, val_score: 0.305053:  10%|#         | 2/20 [00:00<00:06,  2.77it/s]"
     ]
    },
    {
     "name": "stdout",
     "output_type": "stream",
     "text": [
      "[100]\tvalid_0's rmse: 0.272904\tvalid_1's rmse: 0.306136\n",
      "Early stopping, best iteration is:\n",
      "[89]\tvalid_0's rmse: 0.274505\tvalid_1's rmse: 0.305053\n",
      "[LightGBM] [Warning] Auto-choosing col-wise multi-threading, the overhead of testing was 0.003970 seconds.\n",
      "You can set `force_col_wise=true` to remove the overhead.\n",
      "[LightGBM] [Info] Total Bins 714\n",
      "[LightGBM] [Info] Number of data points in the train set: 11396, number of used features: 91\n",
      "[LightGBM] [Info] Start training from score 0.245261\n",
      "[10]\tvalid_0's rmse: 0.330535\tvalid_1's rmse: 0.337145\n",
      "[20]\tvalid_0's rmse: 0.30495\tvalid_1's rmse: 0.31691\n"
     ]
    },
    {
     "name": "stderr",
     "output_type": "stream",
     "text": [
      "regularization_factors, val_score: 0.305053:  15%|#5        | 3/20 [00:01<00:06,  2.75it/s]\u001b[32m[I 2023-02-21 13:49:25,940]\u001b[0m Trial 45 finished with value: 0.3050529490368523 and parameters: {'lambda_l1': 0.013270462245849551, 'lambda_l2': 1.1128811884415067e-07}. Best is trial 43 with value: 0.3050529490368523.\u001b[0m\n",
      "regularization_factors, val_score: 0.305053:  15%|#5        | 3/20 [00:01<00:06,  2.75it/s]"
     ]
    },
    {
     "name": "stdout",
     "output_type": "stream",
     "text": [
      "[30]\tvalid_0's rmse: 0.293612\tvalid_1's rmse: 0.309583\n",
      "[40]\tvalid_0's rmse: 0.28858\tvalid_1's rmse: 0.308651\n",
      "[50]\tvalid_0's rmse: 0.28435\tvalid_1's rmse: 0.306907\n",
      "[60]\tvalid_0's rmse: 0.280934\tvalid_1's rmse: 0.305979\n",
      "[70]\tvalid_0's rmse: 0.278367\tvalid_1's rmse: 0.305482\n",
      "[80]\tvalid_0's rmse: 0.276215\tvalid_1's rmse: 0.305443\n",
      "[90]\tvalid_0's rmse: 0.274214\tvalid_1's rmse: 0.305445\n",
      "[100]\tvalid_0's rmse: 0.272163\tvalid_1's rmse: 0.305296\n",
      "Early stopping, best iteration is:\n",
      "[89]\tvalid_0's rmse: 0.274505\tvalid_1's rmse: 0.305053\n",
      "[LightGBM] [Warning] Auto-choosing row-wise multi-threading, the overhead of testing was 0.001751 seconds.\n",
      "You can set `force_row_wise=true` to remove the overhead.\n",
      "And if memory is not enough, you can set `force_col_wise=true`.\n",
      "[LightGBM] [Info] Total Bins 714\n",
      "[LightGBM] [Info] Number of data points in the train set: 11396, number of used features: 91\n",
      "[LightGBM] [Info] Start training from score 0.245261\n",
      "[10]\tvalid_0's rmse: 0.331208\tvalid_1's rmse: 0.33746\n",
      "[20]\tvalid_0's rmse: 0.305846\tvalid_1's rmse: 0.317519\n",
      "[30]\tvalid_0's rmse: 0.294799\tvalid_1's rmse: 0.310814\n",
      "[40]\tvalid_0's rmse: 0.290071\tvalid_1's rmse: 0.309849\n",
      "[50]\tvalid_0's rmse: 0.285622\tvalid_1's rmse: 0.308066\n",
      "[60]\tvalid_0's rmse: 0.282274\tvalid_1's rmse: 0.307362\n",
      "[70]\tvalid_0's rmse: 0.279795\tvalid_1's rmse: 0.306629\n",
      "[80]\tvalid_0's rmse: 0.277507\tvalid_1's rmse: 0.306754\n"
     ]
    },
    {
     "name": "stderr",
     "output_type": "stream",
     "text": [
      "regularization_factors, val_score: 0.305053:  20%|##        | 4/20 [00:01<00:05,  2.92it/s]\u001b[32m[I 2023-02-21 13:49:26,257]\u001b[0m Trial 46 finished with value: 0.3050529490368523 and parameters: {'lambda_l1': 0.47878320989207346, 'lambda_l2': 4.490009492263034e-05}. Best is trial 43 with value: 0.3050529490368523.\u001b[0m\n",
      "regularization_factors, val_score: 0.305053:  20%|##        | 4/20 [00:01<00:05,  2.92it/s]"
     ]
    },
    {
     "name": "stdout",
     "output_type": "stream",
     "text": [
      "[90]\tvalid_0's rmse: 0.275661\tvalid_1's rmse: 0.306578\n",
      "[100]\tvalid_0's rmse: 0.273949\tvalid_1's rmse: 0.306606\n",
      "Early stopping, best iteration is:\n",
      "[89]\tvalid_0's rmse: 0.274505\tvalid_1's rmse: 0.305053\n",
      "[LightGBM] [Warning] Auto-choosing row-wise multi-threading, the overhead of testing was 0.001600 seconds.\n",
      "You can set `force_row_wise=true` to remove the overhead.\n",
      "And if memory is not enough, you can set `force_col_wise=true`.\n",
      "[LightGBM] [Info] Total Bins 714\n",
      "[LightGBM] [Info] Number of data points in the train set: 11396, number of used features: 91\n",
      "[LightGBM] [Info] Start training from score 0.245261\n",
      "[10]\tvalid_0's rmse: 0.330575\tvalid_1's rmse: 0.337288\n",
      "[20]\tvalid_0's rmse: 0.305118\tvalid_1's rmse: 0.317198\n",
      "[30]\tvalid_0's rmse: 0.293725\tvalid_1's rmse: 0.31027\n",
      "[40]\tvalid_0's rmse: 0.288811\tvalid_1's rmse: 0.309224\n"
     ]
    },
    {
     "name": "stderr",
     "output_type": "stream",
     "text": [
      "regularization_factors, val_score: 0.305053:  25%|##5       | 5/20 [00:01<00:04,  3.05it/s]\u001b[32m[I 2023-02-21 13:49:26,552]\u001b[0m Trial 47 finished with value: 0.3050529490368523 and parameters: {'lambda_l1': 0.006412835967098848, 'lambda_l2': 9.358279510128485e-05}. Best is trial 43 with value: 0.3050529490368523.\u001b[0m\n",
      "regularization_factors, val_score: 0.305053:  25%|##5       | 5/20 [00:01<00:04,  3.05it/s]"
     ]
    },
    {
     "name": "stdout",
     "output_type": "stream",
     "text": [
      "[50]\tvalid_0's rmse: 0.284452\tvalid_1's rmse: 0.3076\n",
      "[60]\tvalid_0's rmse: 0.281248\tvalid_1's rmse: 0.306855\n",
      "[70]\tvalid_0's rmse: 0.278692\tvalid_1's rmse: 0.306316\n",
      "[80]\tvalid_0's rmse: 0.276491\tvalid_1's rmse: 0.306122\n",
      "[90]\tvalid_0's rmse: 0.274613\tvalid_1's rmse: 0.306291\n",
      "[100]\tvalid_0's rmse: 0.272766\tvalid_1's rmse: 0.306231\n",
      "Early stopping, best iteration is:\n",
      "[89]\tvalid_0's rmse: 0.274505\tvalid_1's rmse: 0.305053\n",
      "[LightGBM] [Warning] Auto-choosing row-wise multi-threading, the overhead of testing was 0.001946 seconds.\n",
      "You can set `force_row_wise=true` to remove the overhead.\n",
      "And if memory is not enough, you can set `force_col_wise=true`.\n",
      "[LightGBM] [Info] Total Bins 714\n",
      "[LightGBM] [Info] Number of data points in the train set: 11396, number of used features: 91\n",
      "[LightGBM] [Info] Start training from score 0.245261\n"
     ]
    },
    {
     "name": "stderr",
     "output_type": "stream",
     "text": [
      "regularization_factors, val_score: 0.305053:  30%|###       | 6/20 [00:02<00:04,  3.14it/s]\u001b[32m[I 2023-02-21 13:49:26,858]\u001b[0m Trial 48 finished with value: 0.3050529490368523 and parameters: {'lambda_l1': 0.6232386232851119, 'lambda_l2': 5.9394122090093665e-05}. Best is trial 43 with value: 0.3050529490368523.\u001b[0m\n",
      "regularization_factors, val_score: 0.305053:  30%|###       | 6/20 [00:02<00:04,  3.14it/s]"
     ]
    },
    {
     "name": "stdout",
     "output_type": "stream",
     "text": [
      "[10]\tvalid_0's rmse: 0.331316\tvalid_1's rmse: 0.337734\n",
      "[20]\tvalid_0's rmse: 0.306013\tvalid_1's rmse: 0.317653\n",
      "[30]\tvalid_0's rmse: 0.294913\tvalid_1's rmse: 0.310963\n",
      "[40]\tvalid_0's rmse: 0.290167\tvalid_1's rmse: 0.309743\n",
      "[50]\tvalid_0's rmse: 0.285931\tvalid_1's rmse: 0.307779\n",
      "[60]\tvalid_0's rmse: 0.282869\tvalid_1's rmse: 0.307084\n",
      "[70]\tvalid_0's rmse: 0.280392\tvalid_1's rmse: 0.306478\n",
      "[80]\tvalid_0's rmse: 0.278288\tvalid_1's rmse: 0.306299\n",
      "[90]\tvalid_0's rmse: 0.276444\tvalid_1's rmse: 0.306157\n",
      "[100]\tvalid_0's rmse: 0.27485\tvalid_1's rmse: 0.306161\n",
      "Early stopping, best iteration is:\n",
      "[89]\tvalid_0's rmse: 0.274505\tvalid_1's rmse: 0.305053\n",
      "[LightGBM] [Warning] Auto-choosing row-wise multi-threading, the overhead of testing was 0.001628 seconds.\n",
      "You can set `force_row_wise=true` to remove the overhead.\n",
      "And if memory is not enough, you can set `force_col_wise=true`.\n",
      "[LightGBM] [Info] Total Bins 714\n",
      "[LightGBM] [Info] Number of data points in the train set: 11396, number of used features: 91\n",
      "[LightGBM] [Info] Start training from score 0.245261\n",
      "[10]\tvalid_0's rmse: 0.330495\tvalid_1's rmse: 0.337356\n",
      "[20]\tvalid_0's rmse: 0.305084\tvalid_1's rmse: 0.31727\n",
      "[30]\tvalid_0's rmse: 0.293578\tvalid_1's rmse: 0.310268\n",
      "[40]\tvalid_0's rmse: 0.288573\tvalid_1's rmse: 0.309203\n",
      "[50]\tvalid_0's rmse: 0.284272\tvalid_1's rmse: 0.307234\n",
      "[60]\tvalid_0's rmse: 0.280971\tvalid_1's rmse: 0.306302\n",
      "[70]\tvalid_0's rmse: 0.278368\tvalid_1's rmse: 0.305728\n",
      "[80]\tvalid_0's rmse: 0.276108\tvalid_1's rmse: 0.305271\n",
      "[90]\tvalid_0's rmse: 0.274228\tvalid_1's rmse: 0.305112\n"
     ]
    },
    {
     "name": "stderr",
     "output_type": "stream",
     "text": [
      "regularization_factors, val_score: 0.305053:  35%|###5      | 7/20 [00:02<00:04,  3.21it/s]\u001b[32m[I 2023-02-21 13:49:27,151]\u001b[0m Trial 49 finished with value: 0.3050529490368523 and parameters: {'lambda_l1': 4.1242266069791264e-07, 'lambda_l2': 2.6681720326953403e-06}. Best is trial 43 with value: 0.3050529490368523.\u001b[0m\n",
      "regularization_factors, val_score: 0.305053:  35%|###5      | 7/20 [00:02<00:04,  3.21it/s]"
     ]
    },
    {
     "name": "stdout",
     "output_type": "stream",
     "text": [
      "[100]\tvalid_0's rmse: 0.272439\tvalid_1's rmse: 0.3052\n",
      "Early stopping, best iteration is:\n",
      "[89]\tvalid_0's rmse: 0.274505\tvalid_1's rmse: 0.305053\n",
      "[LightGBM] [Warning] Auto-choosing row-wise multi-threading, the overhead of testing was 0.001846 seconds.\n",
      "You can set `force_row_wise=true` to remove the overhead.\n",
      "And if memory is not enough, you can set `force_col_wise=true`.\n",
      "[LightGBM] [Info] Total Bins 714\n",
      "[LightGBM] [Info] Number of data points in the train set: 11396, number of used features: 91\n",
      "[LightGBM] [Info] Start training from score 0.245261\n",
      "[10]\tvalid_0's rmse: 0.330833\tvalid_1's rmse: 0.336998\n",
      "[20]\tvalid_0's rmse: 0.305204\tvalid_1's rmse: 0.316696\n",
      "[30]\tvalid_0's rmse: 0.293929\tvalid_1's rmse: 0.310176\n",
      "[40]\tvalid_0's rmse: 0.289076\tvalid_1's rmse: 0.309273\n"
     ]
    },
    {
     "name": "stderr",
     "output_type": "stream",
     "text": [
      "regularization_factors, val_score: 0.305053:  40%|####      | 8/20 [00:02<00:03,  3.19it/s]\u001b[32m[I 2023-02-21 13:49:27,472]\u001b[0m Trial 50 finished with value: 0.3050529490368523 and parameters: {'lambda_l1': 0.07185887133715461, 'lambda_l2': 0.00045852011242586297}. Best is trial 43 with value: 0.3050529490368523.\u001b[0m\n",
      "regularization_factors, val_score: 0.305053:  40%|####      | 8/20 [00:02<00:03,  3.19it/s]"
     ]
    },
    {
     "name": "stdout",
     "output_type": "stream",
     "text": [
      "[50]\tvalid_0's rmse: 0.284554\tvalid_1's rmse: 0.307521\n",
      "[60]\tvalid_0's rmse: 0.281119\tvalid_1's rmse: 0.307135\n",
      "[70]\tvalid_0's rmse: 0.278576\tvalid_1's rmse: 0.306461\n",
      "[80]\tvalid_0's rmse: 0.276145\tvalid_1's rmse: 0.306324\n",
      "[90]\tvalid_0's rmse: 0.274335\tvalid_1's rmse: 0.306256\n",
      "[100]\tvalid_0's rmse: 0.272509\tvalid_1's rmse: 0.306249\n",
      "Early stopping, best iteration is:\n",
      "[89]\tvalid_0's rmse: 0.274505\tvalid_1's rmse: 0.305053\n",
      "[LightGBM] [Warning] Auto-choosing row-wise multi-threading, the overhead of testing was 0.001656 seconds.\n",
      "You can set `force_row_wise=true` to remove the overhead.\n",
      "And if memory is not enough, you can set `force_col_wise=true`.\n",
      "[LightGBM] [Info] Total Bins 714\n",
      "[LightGBM] [Info] Number of data points in the train set: 11396, number of used features: 91\n"
     ]
    },
    {
     "name": "stderr",
     "output_type": "stream",
     "text": [
      "\r\n",
      "regularization_factors, val_score: 0.305053:  40%|####      | 8/20 [00:02<00:03,  3.19it/s]"
     ]
    },
    {
     "name": "stdout",
     "output_type": "stream",
     "text": [
      "[LightGBM] [Info] Start training from score 0.245261\n",
      "[10]\tvalid_0's rmse: 0.33218\tvalid_1's rmse: 0.338625\n",
      "[20]\tvalid_0's rmse: 0.307029\tvalid_1's rmse: 0.318771\n",
      "[30]\tvalid_0's rmse: 0.29601\tvalid_1's rmse: 0.311753\n",
      "[40]\tvalid_0's rmse: 0.291363\tvalid_1's rmse: 0.310537\n",
      "[50]\tvalid_0's rmse: 0.287325\tvalid_1's rmse: 0.30864\n",
      "[60]\tvalid_0's rmse: 0.284115\tvalid_1's rmse: 0.307801\n",
      "[70]\tvalid_0's rmse: 0.281781\tvalid_1's rmse: 0.30691\n",
      "[80]\tvalid_0's rmse: 0.279849\tvalid_1's rmse: 0.306603\n",
      "[90]\tvalid_0's rmse: 0.278132\tvalid_1's rmse: 0.306584\n",
      "[LightGBM] [Warning] No further splits with positive gain, best gain: -inf\n",
      "[100]\tvalid_0's rmse: 0.276568\tvalid_1's rmse: 0.306554\n",
      "Early stopping, best iteration is:\n",
      "[89]\tvalid_0's rmse: 0.274505\tvalid_1's rmse: 0.305053\n"
     ]
    },
    {
     "name": "stderr",
     "output_type": "stream",
     "text": [
      "regularization_factors, val_score: 0.305053:  45%|####5     | 9/20 [00:02<00:03,  3.25it/s]\u001b[32m[I 2023-02-21 13:49:27,776]\u001b[0m Trial 51 finished with value: 0.3050529490368523 and parameters: {'lambda_l1': 1.1527356439037688, 'lambda_l2': 0.0004625308029713714}. Best is trial 43 with value: 0.3050529490368523.\u001b[0m\n",
      "regularization_factors, val_score: 0.305053:  45%|####5     | 9/20 [00:02<00:03,  3.25it/s]"
     ]
    },
    {
     "name": "stdout",
     "output_type": "stream",
     "text": [
      "[LightGBM] [Warning] Auto-choosing row-wise multi-threading, the overhead of testing was 0.003083 seconds.\n",
      "You can set `force_row_wise=true` to remove the overhead.\n",
      "And if memory is not enough, you can set `force_col_wise=true`.\n",
      "[LightGBM] [Info] Total Bins 714\n",
      "[LightGBM] [Info] Number of data points in the train set: 11396, number of used features: 91\n",
      "[LightGBM] [Info] Start training from score 0.245261\n",
      "[10]\tvalid_0's rmse: 0.330624\tvalid_1's rmse: 0.337361\n",
      "[20]\tvalid_0's rmse: 0.305126\tvalid_1's rmse: 0.317456\n",
      "[30]\tvalid_0's rmse: 0.293777\tvalid_1's rmse: 0.310447\n",
      "[40]\tvalid_0's rmse: 0.288755\tvalid_1's rmse: 0.309164\n",
      "[50]\tvalid_0's rmse: 0.284307\tvalid_1's rmse: 0.307394\n",
      "[60]\tvalid_0's rmse: 0.28095\tvalid_1's rmse: 0.306377\n",
      "[70]\tvalid_0's rmse: 0.278367\tvalid_1's rmse: 0.305966\n",
      "[80]\tvalid_0's rmse: 0.276148\tvalid_1's rmse: 0.305891\n"
     ]
    },
    {
     "name": "stderr",
     "output_type": "stream",
     "text": [
      "regularization_factors, val_score: 0.305053:  50%|#####     | 10/20 [00:03<00:03,  3.20it/s]\u001b[32m[I 2023-02-21 13:49:28,089]\u001b[0m Trial 52 finished with value: 0.3050529490368523 and parameters: {'lambda_l1': 0.00016265422028484785, 'lambda_l2': 0.1222777395951848}. Best is trial 43 with value: 0.3050529490368523.\u001b[0m\n",
      "regularization_factors, val_score: 0.305053:  50%|#####     | 10/20 [00:03<00:03,  3.20it/s]"
     ]
    },
    {
     "name": "stdout",
     "output_type": "stream",
     "text": [
      "[90]\tvalid_0's rmse: 0.274137\tvalid_1's rmse: 0.30575\n",
      "[100]\tvalid_0's rmse: 0.27231\tvalid_1's rmse: 0.305683\n",
      "Early stopping, best iteration is:\n",
      "[89]\tvalid_0's rmse: 0.274505\tvalid_1's rmse: 0.305053\n",
      "[LightGBM] [Warning] Auto-choosing row-wise multi-threading, the overhead of testing was 0.001946 seconds.\n",
      "You can set `force_row_wise=true` to remove the overhead.\n",
      "And if memory is not enough, you can set `force_col_wise=true`.\n",
      "[LightGBM] [Info] Total Bins 714\n",
      "[LightGBM] [Info] Number of data points in the train set: 11396, number of used features: 91\n",
      "[LightGBM] [Info] Start training from score 0.245261\n",
      "[10]\tvalid_0's rmse: 0.332553\tvalid_1's rmse: 0.338795\n",
      "[20]\tvalid_0's rmse: 0.306976\tvalid_1's rmse: 0.318399\n"
     ]
    },
    {
     "name": "stderr",
     "output_type": "stream",
     "text": [
      "\r\n",
      "regularization_factors, val_score: 0.305053:  50%|#####     | 10/20 [00:03<00:03,  3.20it/s]"
     ]
    },
    {
     "name": "stdout",
     "output_type": "stream",
     "text": [
      "[30]\tvalid_0's rmse: 0.295584\tvalid_1's rmse: 0.311503\n",
      "[40]\tvalid_0's rmse: 0.290585\tvalid_1's rmse: 0.310265\n",
      "[50]\tvalid_0's rmse: 0.286229\tvalid_1's rmse: 0.308253\n",
      "[60]\tvalid_0's rmse: 0.282914\tvalid_1's rmse: 0.307228\n",
      "[70]\tvalid_0's rmse: 0.280466\tvalid_1's rmse: 0.306663\n",
      "[80]\tvalid_0's rmse: 0.278609\tvalid_1's rmse: 0.306158\n",
      "[90]\tvalid_0's rmse: 0.276782\tvalid_1's rmse: 0.306272\n",
      "[100]\tvalid_0's rmse: 0.274934\tvalid_1's rmse: 0.306232\n",
      "Early stopping, best iteration is:\n",
      "[89]\tvalid_0's rmse: 0.274505\tvalid_1's rmse: 0.305053\n"
     ]
    },
    {
     "name": "stderr",
     "output_type": "stream",
     "text": [
      "regularization_factors, val_score: 0.305053:  55%|#####5    | 11/20 [00:03<00:02,  3.03it/s]\u001b[32m[I 2023-02-21 13:49:28,453]\u001b[0m Trial 53 finished with value: 0.3050529490368523 and parameters: {'lambda_l1': 1.3314796651878035e-08, 'lambda_l2': 7.517619319011107}. Best is trial 43 with value: 0.3050529490368523.\u001b[0m\n",
      "regularization_factors, val_score: 0.305053:  55%|#####5    | 11/20 [00:03<00:02,  3.03it/s]"
     ]
    },
    {
     "name": "stdout",
     "output_type": "stream",
     "text": [
      "[LightGBM] [Warning] Auto-choosing row-wise multi-threading, the overhead of testing was 0.002735 seconds.\n",
      "You can set `force_row_wise=true` to remove the overhead.\n",
      "And if memory is not enough, you can set `force_col_wise=true`.\n",
      "[LightGBM] [Info] Total Bins 714\n",
      "[LightGBM] [Info] Number of data points in the train set: 11396, number of used features: 91\n",
      "[LightGBM] [Info] Start training from score 0.245261\n",
      "[10]\tvalid_0's rmse: 0.330577\tvalid_1's rmse: 0.337312\n",
      "[20]\tvalid_0's rmse: 0.305109\tvalid_1's rmse: 0.31722\n",
      "[30]\tvalid_0's rmse: 0.293718\tvalid_1's rmse: 0.309884\n",
      "[40]\tvalid_0's rmse: 0.288825\tvalid_1's rmse: 0.30903\n",
      "[50]\tvalid_0's rmse: 0.284303\tvalid_1's rmse: 0.307187\n",
      "[60]\tvalid_0's rmse: 0.281175\tvalid_1's rmse: 0.306212\n",
      "[70]\tvalid_0's rmse: 0.278694\tvalid_1's rmse: 0.305586\n"
     ]
    },
    {
     "name": "stderr",
     "output_type": "stream",
     "text": [
      "regularization_factors, val_score: 0.305053:  60%|######    | 12/20 [00:03<00:02,  3.00it/s]\u001b[32m[I 2023-02-21 13:49:28,803]\u001b[0m Trial 54 finished with value: 0.3050529490368523 and parameters: {'lambda_l1': 6.516737139718088e-05, 'lambda_l2': 0.026571212623066696}. Best is trial 43 with value: 0.3050529490368523.\u001b[0m\n",
      "regularization_factors, val_score: 0.305053:  60%|######    | 12/20 [00:03<00:02,  3.00it/s]"
     ]
    },
    {
     "name": "stdout",
     "output_type": "stream",
     "text": [
      "[80]\tvalid_0's rmse: 0.27653\tvalid_1's rmse: 0.305607\n",
      "[90]\tvalid_0's rmse: 0.274542\tvalid_1's rmse: 0.305803\n",
      "[100]\tvalid_0's rmse: 0.272642\tvalid_1's rmse: 0.305743\n",
      "Early stopping, best iteration is:\n",
      "[89]\tvalid_0's rmse: 0.274505\tvalid_1's rmse: 0.305053\n",
      "[LightGBM] [Warning] Auto-choosing row-wise multi-threading, the overhead of testing was 0.002304 seconds.\n",
      "You can set `force_row_wise=true` to remove the overhead.\n",
      "And if memory is not enough, you can set `force_col_wise=true`.\n",
      "[LightGBM] [Info] Total Bins 714\n",
      "[LightGBM] [Info] Number of data points in the train set: 11396, number of used features: 91\n",
      "[LightGBM] [Info] Start training from score 0.245261\n",
      "[10]\tvalid_0's rmse: 0.330585\tvalid_1's rmse: 0.337318\n"
     ]
    },
    {
     "name": "stderr",
     "output_type": "stream",
     "text": [
      "\r\n",
      "regularization_factors, val_score: 0.305053:  60%|######    | 12/20 [00:04<00:02,  3.00it/s]"
     ]
    },
    {
     "name": "stdout",
     "output_type": "stream",
     "text": [
      "[20]\tvalid_0's rmse: 0.305125\tvalid_1's rmse: 0.317252\n",
      "[30]\tvalid_0's rmse: 0.293739\tvalid_1's rmse: 0.310251\n",
      "[40]\tvalid_0's rmse: 0.288784\tvalid_1's rmse: 0.308951\n",
      "[50]\tvalid_0's rmse: 0.284393\tvalid_1's rmse: 0.307045\n",
      "[60]\tvalid_0's rmse: 0.280983\tvalid_1's rmse: 0.306262\n",
      "[70]\tvalid_0's rmse: 0.27831\tvalid_1's rmse: 0.305643\n",
      "[80]\tvalid_0's rmse: 0.276157\tvalid_1's rmse: 0.305278\n",
      "[90]\tvalid_0's rmse: 0.274202\tvalid_1's rmse: 0.305332\n",
      "[100]\tvalid_0's rmse: 0.272671\tvalid_1's rmse: 0.305381\n",
      "Early stopping, best iteration is:\n",
      "[89]\tvalid_0's rmse: 0.274505\tvalid_1's rmse: 0.305053\n"
     ]
    },
    {
     "name": "stderr",
     "output_type": "stream",
     "text": [
      "regularization_factors, val_score: 0.305053:  65%|######5   | 13/20 [00:04<00:02,  2.96it/s]\u001b[32m[I 2023-02-21 13:49:29,146]\u001b[0m Trial 55 finished with value: 0.3050529490368523 and parameters: {'lambda_l1': 1.1970102082614689e-05, 'lambda_l2': 0.05762486865364677}. Best is trial 43 with value: 0.3050529490368523.\u001b[0m\n",
      "regularization_factors, val_score: 0.305053:  65%|######5   | 13/20 [00:04<00:02,  2.96it/s]"
     ]
    },
    {
     "name": "stdout",
     "output_type": "stream",
     "text": [
      "[LightGBM] [Warning] Auto-choosing row-wise multi-threading, the overhead of testing was 0.002448 seconds.\n",
      "You can set `force_row_wise=true` to remove the overhead.\n",
      "And if memory is not enough, you can set `force_col_wise=true`.\n",
      "[LightGBM] [Info] Total Bins 714\n",
      "[LightGBM] [Info] Number of data points in the train set: 11396, number of used features: 91\n",
      "[LightGBM] [Info] Start training from score 0.245261\n",
      "[LightGBM] [Warning] No further splits with positive gain, best gain: -inf\n",
      "[LightGBM] [Warning] No further splits with positive gain, best gain: -inf\n",
      "[LightGBM] [Warning] No further splits with positive gain, best gain: -inf\n",
      "[10]\tvalid_0's rmse: 0.339298\tvalid_1's rmse: 0.343821\n",
      "[LightGBM] [Warning] No further splits with positive gain, best gain: -inf\n",
      "[LightGBM] [Warning] No further splits with positive gain, best gain: -inf\n",
      "[20]\tvalid_0's rmse: 0.315419\tvalid_1's rmse: 0.323606\n",
      "[LightGBM] [Warning] No further splits with positive gain, best gain: -inf\n",
      "[30]\tvalid_0's rmse: 0.305608\tvalid_1's rmse: 0.31638\n",
      "[LightGBM] [Warning] No further splits with positive gain, best gain: -inf\n",
      "[LightGBM] [Warning] No further splits with positive gain, best gain: -inf\n",
      "[LightGBM] [Warning] No further splits with positive gain, best gain: -inf\n",
      "[40]\tvalid_0's rmse: 0.302078\tvalid_1's rmse: 0.314641\n",
      "[LightGBM] [Warning] No further splits with positive gain, best gain: -inf\n",
      "[LightGBM] [Warning] No further splits with positive gain, best gain: -inf\n",
      "[LightGBM] [Warning] No further splits with positive gain, best gain: -inf\n",
      "[50]\tvalid_0's rmse: 0.299116\tvalid_1's rmse: 0.31286\n",
      "[LightGBM] [Warning] No further splits with positive gain, best gain: -inf\n",
      "[60]\tvalid_0's rmse: 0.296547\tvalid_1's rmse: 0.311617\n",
      "[LightGBM] [Warning] No further splits with positive gain, best gain: -inf\n",
      "[LightGBM] [Warning] No further splits with positive gain, best gain: -inf\n",
      "[70]\tvalid_0's rmse: 0.294707\tvalid_1's rmse: 0.310686\n",
      "[LightGBM] [Warning] No further splits with positive gain, best gain: -inf\n",
      "[LightGBM] [Warning] No further splits with positive gain, best gain: -inf\n",
      "[LightGBM] [Warning] No further splits with positive gain, best gain: -inf\n",
      "[LightGBM] [Warning] No further splits with positive gain, best gain: -inf\n"
     ]
    },
    {
     "name": "stderr",
     "output_type": "stream",
     "text": [
      "regularization_factors, val_score: 0.305053:  70%|#######   | 14/20 [00:04<00:02,  2.94it/s]\u001b[32m[I 2023-02-21 13:49:29,488]\u001b[0m Trial 56 finished with value: 0.3050529490368523 and parameters: {'lambda_l1': 5.979155012692145, 'lambda_l2': 9.578684513898908}. Best is trial 43 with value: 0.3050529490368523.\u001b[0m\n",
      "regularization_factors, val_score: 0.305053:  70%|#######   | 14/20 [00:04<00:02,  2.94it/s]"
     ]
    },
    {
     "name": "stdout",
     "output_type": "stream",
     "text": [
      "[LightGBM] [Warning] No further splits with positive gain, best gain: -inf\n",
      "[80]\tvalid_0's rmse: 0.293436\tvalid_1's rmse: 0.310256\n",
      "[LightGBM] [Warning] No further splits with positive gain, best gain: -inf\n",
      "[LightGBM] [Warning] No further splits with positive gain, best gain: -inf\n",
      "[LightGBM] [Warning] No further splits with positive gain, best gain: -inf\n",
      "[90]\tvalid_0's rmse: 0.292494\tvalid_1's rmse: 0.310062\n",
      "[LightGBM] [Warning] No further splits with positive gain, best gain: -inf\n",
      "[LightGBM] [Warning] No further splits with positive gain, best gain: -inf\n",
      "[LightGBM] [Warning] No further splits with positive gain, best gain: -inf\n",
      "[LightGBM] [Warning] No further splits with positive gain, best gain: -inf\n",
      "[100]\tvalid_0's rmse: 0.29157\tvalid_1's rmse: 0.309868\n",
      "[LightGBM] [Warning] No further splits with positive gain, best gain: -inf\n",
      "[LightGBM] [Warning] No further splits with positive gain, best gain: -inf\n",
      "Early stopping, best iteration is:\n",
      "[89]\tvalid_0's rmse: 0.274505\tvalid_1's rmse: 0.305053\n",
      "[LightGBM] [Warning] Auto-choosing row-wise multi-threading, the overhead of testing was 0.002640 seconds.\n",
      "You can set `force_row_wise=true` to remove the overhead.\n",
      "And if memory is not enough, you can set `force_col_wise=true`.\n",
      "[LightGBM] [Info] Total Bins 714\n",
      "[LightGBM] [Info] Number of data points in the train set: 11396, number of used features: 91\n",
      "[LightGBM] [Info] Start training from score 0.245261\n",
      "[10]\tvalid_0's rmse: 0.330571\tvalid_1's rmse: 0.337307\n",
      "[20]\tvalid_0's rmse: 0.305107\tvalid_1's rmse: 0.317218\n",
      "[30]\tvalid_0's rmse: 0.293696\tvalid_1's rmse: 0.310029\n",
      "[40]\tvalid_0's rmse: 0.288868\tvalid_1's rmse: 0.309209\n",
      "[50]\tvalid_0's rmse: 0.284285\tvalid_1's rmse: 0.307069\n",
      "[60]\tvalid_0's rmse: 0.281027\tvalid_1's rmse: 0.30605\n",
      "[70]\tvalid_0's rmse: 0.278875\tvalid_1's rmse: 0.305381\n",
      "[80]\tvalid_0's rmse: 0.276741\tvalid_1's rmse: 0.30518\n",
      "[90]\tvalid_0's rmse: 0.274805\tvalid_1's rmse: 0.305162\n",
      "[100]\tvalid_0's rmse: 0.272959\tvalid_1's rmse: 0.305374\n"
     ]
    },
    {
     "name": "stderr",
     "output_type": "stream",
     "text": [
      "regularization_factors, val_score: 0.305053:  75%|#######5  | 15/20 [00:05<00:01,  2.88it/s]\u001b[32m[I 2023-02-21 13:49:29,860]\u001b[0m Trial 57 finished with value: 0.3050529490368523 and parameters: {'lambda_l1': 0.0015101894279765601, 'lambda_l2': 1.4341001711455555e-08}. Best is trial 43 with value: 0.3050529490368523.\u001b[0m\n",
      "regularization_factors, val_score: 0.305053:  75%|#######5  | 15/20 [00:05<00:01,  2.88it/s]"
     ]
    },
    {
     "name": "stdout",
     "output_type": "stream",
     "text": [
      "Early stopping, best iteration is:\n",
      "[89]\tvalid_0's rmse: 0.274505\tvalid_1's rmse: 0.305053\n",
      "[LightGBM] [Warning] Auto-choosing col-wise multi-threading, the overhead of testing was 0.002673 seconds.\n",
      "You can set `force_col_wise=true` to remove the overhead.\n",
      "[LightGBM] [Info] Total Bins 714\n",
      "[LightGBM] [Info] Number of data points in the train set: 11396, number of used features: 91\n",
      "[LightGBM] [Info] Start training from score 0.245261\n",
      "[10]\tvalid_0's rmse: 0.330495\tvalid_1's rmse: 0.337357\n",
      "[20]\tvalid_0's rmse: 0.305084\tvalid_1's rmse: 0.31727\n",
      "[30]\tvalid_0's rmse: 0.293532\tvalid_1's rmse: 0.310424\n",
      "[40]\tvalid_0's rmse: 0.288529\tvalid_1's rmse: 0.309297\n"
     ]
    },
    {
     "name": "stderr",
     "output_type": "stream",
     "text": [
      "regularization_factors, val_score: 0.305053:  80%|########  | 16/20 [00:05<00:01,  2.82it/s]\u001b[32m[I 2023-02-21 13:49:30,228]\u001b[0m Trial 58 finished with value: 0.3050529490368523 and parameters: {'lambda_l1': 7.83707075849201e-06, 'lambda_l2': 0.0018473712869045678}. Best is trial 43 with value: 0.3050529490368523.\u001b[0m\n",
      "regularization_factors, val_score: 0.305053:  80%|########  | 16/20 [00:05<00:01,  2.82it/s]"
     ]
    },
    {
     "name": "stdout",
     "output_type": "stream",
     "text": [
      "[50]\tvalid_0's rmse: 0.283998\tvalid_1's rmse: 0.307546\n",
      "[60]\tvalid_0's rmse: 0.280568\tvalid_1's rmse: 0.306392\n",
      "[70]\tvalid_0's rmse: 0.277901\tvalid_1's rmse: 0.305594\n",
      "[80]\tvalid_0's rmse: 0.275743\tvalid_1's rmse: 0.305216\n",
      "[90]\tvalid_0's rmse: 0.273689\tvalid_1's rmse: 0.30525\n",
      "[100]\tvalid_0's rmse: 0.27193\tvalid_1's rmse: 0.305427\n",
      "Early stopping, best iteration is:\n",
      "[89]\tvalid_0's rmse: 0.274505\tvalid_1's rmse: 0.305053\n",
      "[LightGBM] [Warning] Auto-choosing col-wise multi-threading, the overhead of testing was 0.001928 seconds.\n",
      "You can set `force_col_wise=true` to remove the overhead.\n",
      "[LightGBM] [Info] Total Bins 714\n",
      "[LightGBM] [Info] Number of data points in the train set: 11396, number of used features: 91\n",
      "[LightGBM] [Info] Start training from score 0.245261\n",
      "[10]\tvalid_0's rmse: 0.330884\tvalid_1's rmse: 0.337104\n",
      "[20]\tvalid_0's rmse: 0.30524\tvalid_1's rmse: 0.31678\n",
      "[30]\tvalid_0's rmse: 0.293928\tvalid_1's rmse: 0.3099\n",
      "[40]\tvalid_0's rmse: 0.289006\tvalid_1's rmse: 0.308797\n",
      "[50]\tvalid_0's rmse: 0.284676\tvalid_1's rmse: 0.306897\n",
      "[60]\tvalid_0's rmse: 0.281407\tvalid_1's rmse: 0.306206\n",
      "[70]\tvalid_0's rmse: 0.27876\tvalid_1's rmse: 0.305493\n",
      "[80]\tvalid_0's rmse: 0.276437\tvalid_1's rmse: 0.305484\n",
      "[90]\tvalid_0's rmse: 0.274472\tvalid_1's rmse: 0.305529\n"
     ]
    },
    {
     "name": "stderr",
     "output_type": "stream",
     "text": [
      "regularization_factors, val_score: 0.305053:  85%|########5 | 17/20 [00:05<00:01,  2.78it/s]\u001b[32m[I 2023-02-21 13:49:30,600]\u001b[0m Trial 59 finished with value: 0.3050529490368523 and parameters: {'lambda_l1': 0.000526497348322095, 'lambda_l2': 0.5741522544707104}. Best is trial 43 with value: 0.3050529490368523.\u001b[0m\n",
      "regularization_factors, val_score: 0.305053:  85%|########5 | 17/20 [00:05<00:01,  2.78it/s]"
     ]
    },
    {
     "name": "stdout",
     "output_type": "stream",
     "text": [
      "[100]\tvalid_0's rmse: 0.272474\tvalid_1's rmse: 0.305679\n",
      "Early stopping, best iteration is:\n",
      "[89]\tvalid_0's rmse: 0.274505\tvalid_1's rmse: 0.305053\n",
      "[LightGBM] [Warning] Auto-choosing row-wise multi-threading, the overhead of testing was 0.002379 seconds.\n",
      "You can set `force_row_wise=true` to remove the overhead.\n",
      "And if memory is not enough, you can set `force_col_wise=true`.\n",
      "[LightGBM] [Info] Total Bins 714\n",
      "[LightGBM] [Info] Number of data points in the train set: 11396, number of used features: 91\n",
      "[LightGBM] [Info] Start training from score 0.245261\n",
      "[10]\tvalid_0's rmse: 0.330814\tvalid_1's rmse: 0.336955\n",
      "[20]\tvalid_0's rmse: 0.30518\tvalid_1's rmse: 0.31665\n",
      "[30]\tvalid_0's rmse: 0.293907\tvalid_1's rmse: 0.310112\n"
     ]
    },
    {
     "name": "stderr",
     "output_type": "stream",
     "text": [
      "regularization_factors, val_score: 0.305053:  90%|######### | 18/20 [00:06<00:00,  2.81it/s]\u001b[32m[I 2023-02-21 13:49:30,954]\u001b[0m Trial 60 finished with value: 0.3050529490368523 and parameters: {'lambda_l1': 0.057737099779288835, 'lambda_l2': 0.006778523204963775}. Best is trial 43 with value: 0.3050529490368523.\u001b[0m\n",
      "regularization_factors, val_score: 0.305053:  90%|######### | 18/20 [00:06<00:00,  2.81it/s]"
     ]
    },
    {
     "name": "stdout",
     "output_type": "stream",
     "text": [
      "[40]\tvalid_0's rmse: 0.288963\tvalid_1's rmse: 0.309023\n",
      "[50]\tvalid_0's rmse: 0.284525\tvalid_1's rmse: 0.307189\n",
      "[60]\tvalid_0's rmse: 0.28127\tvalid_1's rmse: 0.306382\n",
      "[70]\tvalid_0's rmse: 0.278736\tvalid_1's rmse: 0.305639\n",
      "[80]\tvalid_0's rmse: 0.276665\tvalid_1's rmse: 0.305633\n",
      "[90]\tvalid_0's rmse: 0.274689\tvalid_1's rmse: 0.305782\n",
      "[100]\tvalid_0's rmse: 0.272919\tvalid_1's rmse: 0.305842\n",
      "Early stopping, best iteration is:\n",
      "[89]\tvalid_0's rmse: 0.274505\tvalid_1's rmse: 0.305053\n",
      "[LightGBM] [Warning] Auto-choosing col-wise multi-threading, the overhead of testing was 0.003039 seconds.\n",
      "You can set `force_col_wise=true` to remove the overhead.\n",
      "[LightGBM] [Info] Total Bins 714\n",
      "[LightGBM] [Info] Number of data points in the train set: 11396, number of used features: 91\n",
      "[LightGBM] [Info] Start training from score 0.245261\n",
      "[10]\tvalid_0's rmse: 0.330573\tvalid_1's rmse: 0.337308\n",
      "[20]\tvalid_0's rmse: 0.305105\tvalid_1's rmse: 0.317218\n",
      "[30]\tvalid_0's rmse: 0.293695\tvalid_1's rmse: 0.310028\n",
      "[40]\tvalid_0's rmse: 0.288867\tvalid_1's rmse: 0.309208\n",
      "[50]\tvalid_0's rmse: 0.284285\tvalid_1's rmse: 0.307065\n",
      "[60]\tvalid_0's rmse: 0.281026\tvalid_1's rmse: 0.306046\n",
      "[70]\tvalid_0's rmse: 0.278874\tvalid_1's rmse: 0.305377\n"
     ]
    },
    {
     "name": "stderr",
     "output_type": "stream",
     "text": [
      "regularization_factors, val_score: 0.305053:  95%|#########5| 19/20 [00:06<00:00,  2.78it/s]\u001b[32m[I 2023-02-21 13:49:31,327]\u001b[0m Trial 61 finished with value: 0.3050529490368523 and parameters: {'lambda_l1': 0.001763485984973547, 'lambda_l2': 0.006005317816383603}. Best is trial 43 with value: 0.3050529490368523.\u001b[0m\n",
      "regularization_factors, val_score: 0.305053:  95%|#########5| 19/20 [00:06<00:00,  2.78it/s]"
     ]
    },
    {
     "name": "stdout",
     "output_type": "stream",
     "text": [
      "[80]\tvalid_0's rmse: 0.276751\tvalid_1's rmse: 0.305286\n",
      "[90]\tvalid_0's rmse: 0.274779\tvalid_1's rmse: 0.305448\n",
      "[100]\tvalid_0's rmse: 0.273009\tvalid_1's rmse: 0.305434\n",
      "Early stopping, best iteration is:\n",
      "[89]\tvalid_0's rmse: 0.274505\tvalid_1's rmse: 0.305053\n",
      "[LightGBM] [Warning] Auto-choosing row-wise multi-threading, the overhead of testing was 0.002315 seconds.\n",
      "You can set `force_row_wise=true` to remove the overhead.\n",
      "And if memory is not enough, you can set `force_col_wise=true`.\n",
      "[LightGBM] [Info] Total Bins 714\n",
      "[LightGBM] [Info] Number of data points in the train set: 11396, number of used features: 91\n",
      "[LightGBM] [Info] Start training from score 0.245261\n",
      "[10]\tvalid_0's rmse: 0.330603\tvalid_1's rmse: 0.337415\n"
     ]
    },
    {
     "name": "stderr",
     "output_type": "stream",
     "text": [
      "\r\n",
      "regularization_factors, val_score: 0.305053:  95%|#########5| 19/20 [00:06<00:00,  2.78it/s]"
     ]
    },
    {
     "name": "stdout",
     "output_type": "stream",
     "text": [
      "[20]\tvalid_0's rmse: 0.304969\tvalid_1's rmse: 0.317413\n",
      "[30]\tvalid_0's rmse: 0.293548\tvalid_1's rmse: 0.31045\n",
      "[40]\tvalid_0's rmse: 0.288592\tvalid_1's rmse: 0.309411\n",
      "[50]\tvalid_0's rmse: 0.284069\tvalid_1's rmse: 0.307313\n",
      "[60]\tvalid_0's rmse: 0.280781\tvalid_1's rmse: 0.306461\n",
      "[70]\tvalid_0's rmse: 0.27839\tvalid_1's rmse: 0.305816\n",
      "[80]\tvalid_0's rmse: 0.276167\tvalid_1's rmse: 0.305893\n",
      "[90]\tvalid_0's rmse: 0.27423\tvalid_1's rmse: 0.306086\n",
      "[100]\tvalid_0's rmse: 0.272459\tvalid_1's rmse: 0.306046\n",
      "Early stopping, best iteration is:\n",
      "[89]\tvalid_0's rmse: 0.274505\tvalid_1's rmse: 0.305053\n"
     ]
    },
    {
     "name": "stderr",
     "output_type": "stream",
     "text": [
      "regularization_factors, val_score: 0.305053: 100%|##########| 20/20 [00:06<00:00,  2.77it/s]\u001b[32m[I 2023-02-21 13:49:31,678]\u001b[0m Trial 62 finished with value: 0.3050529490368523 and parameters: {'lambda_l1': 3.455135517350767e-07, 'lambda_l2': 0.20102101922206572}. Best is trial 43 with value: 0.3050529490368523.\u001b[0m\n",
      "regularization_factors, val_score: 0.305053: 100%|##########| 20/20 [00:06<00:00,  2.92it/s]\n",
      "min_data_in_leaf, val_score: 0.305053:   0%|          | 0/5 [00:00<?, ?it/s]"
     ]
    },
    {
     "name": "stdout",
     "output_type": "stream",
     "text": [
      "[LightGBM] [Warning] Auto-choosing row-wise multi-threading, the overhead of testing was 0.002287 seconds.\n",
      "You can set `force_row_wise=true` to remove the overhead.\n",
      "And if memory is not enough, you can set `force_col_wise=true`.\n",
      "[LightGBM] [Info] Total Bins 714\n",
      "[LightGBM] [Info] Number of data points in the train set: 11396, number of used features: 91\n",
      "[LightGBM] [Info] Start training from score 0.245261\n",
      "[10]\tvalid_0's rmse: 0.329977\tvalid_1's rmse: 0.336867\n",
      "[20]\tvalid_0's rmse: 0.304123\tvalid_1's rmse: 0.316347\n",
      "[30]\tvalid_0's rmse: 0.292665\tvalid_1's rmse: 0.309511\n",
      "[40]\tvalid_0's rmse: 0.287426\tvalid_1's rmse: 0.308469\n",
      "[50]\tvalid_0's rmse: 0.282416\tvalid_1's rmse: 0.306194\n",
      "[60]\tvalid_0's rmse: 0.278776\tvalid_1's rmse: 0.305423\n",
      "[70]\tvalid_0's rmse: 0.276059\tvalid_1's rmse: 0.305016\n",
      "[80]\tvalid_0's rmse: 0.27344\tvalid_1's rmse: 0.305138\n"
     ]
    },
    {
     "name": "stderr",
     "output_type": "stream",
     "text": [
      "min_data_in_leaf, val_score: 0.304747:  20%|##        | 1/5 [00:00<00:01,  3.24it/s]\u001b[32m[I 2023-02-21 13:49:32,000]\u001b[0m Trial 63 finished with value: 0.3047474986668658 and parameters: {'min_child_samples': 10}. Best is trial 63 with value: 0.3047474986668658.\u001b[0m\n",
      "min_data_in_leaf, val_score: 0.304747:  20%|##        | 1/5 [00:00<00:01,  3.24it/s]"
     ]
    },
    {
     "name": "stdout",
     "output_type": "stream",
     "text": [
      "[90]\tvalid_0's rmse: 0.271409\tvalid_1's rmse: 0.305233\n",
      "Early stopping, best iteration is:\n",
      "[73]\tvalid_0's rmse: 0.275346\tvalid_1's rmse: 0.304747\n",
      "[LightGBM] [Warning] Auto-choosing row-wise multi-threading, the overhead of testing was 0.002328 seconds.\n",
      "You can set `force_row_wise=true` to remove the overhead.\n",
      "And if memory is not enough, you can set `force_col_wise=true`.\n",
      "[LightGBM] [Info] Total Bins 714\n",
      "[LightGBM] [Info] Number of data points in the train set: 11396, number of used features: 91\n",
      "[LightGBM] [Info] Start training from score 0.245261\n",
      "[10]\tvalid_0's rmse: 0.336237\tvalid_1's rmse: 0.341896\n",
      "[20]\tvalid_0's rmse: 0.31288\tvalid_1's rmse: 0.323342\n",
      "[30]\tvalid_0's rmse: 0.302565\tvalid_1's rmse: 0.316934\n"
     ]
    },
    {
     "name": "stderr",
     "output_type": "stream",
     "text": [
      "min_data_in_leaf, val_score: 0.304747:  40%|####      | 2/5 [00:00<00:00,  3.15it/s]\u001b[32m[I 2023-02-21 13:49:32,327]\u001b[0m Trial 64 finished with value: 0.3047474986668658 and parameters: {'min_child_samples': 100}. Best is trial 63 with value: 0.3047474986668658.\u001b[0m\n",
      "min_data_in_leaf, val_score: 0.304747:  40%|####      | 2/5 [00:00<00:00,  3.15it/s]"
     ]
    },
    {
     "name": "stdout",
     "output_type": "stream",
     "text": [
      "[40]\tvalid_0's rmse: 0.298305\tvalid_1's rmse: 0.315794\n",
      "[50]\tvalid_0's rmse: 0.295083\tvalid_1's rmse: 0.314635\n",
      "[60]\tvalid_0's rmse: 0.292248\tvalid_1's rmse: 0.314309\n",
      "[70]\tvalid_0's rmse: 0.29031\tvalid_1's rmse: 0.31413\n",
      "[80]\tvalid_0's rmse: 0.288673\tvalid_1's rmse: 0.314086\n",
      "[90]\tvalid_0's rmse: 0.287166\tvalid_1's rmse: 0.313753\n",
      "Early stopping, best iteration is:\n",
      "[73]\tvalid_0's rmse: 0.275346\tvalid_1's rmse: 0.304747\n",
      "[LightGBM] [Warning] Auto-choosing col-wise multi-threading, the overhead of testing was 0.003036 seconds.\n",
      "You can set `force_col_wise=true` to remove the overhead.\n",
      "[LightGBM] [Info] Total Bins 714\n",
      "[LightGBM] [Info] Number of data points in the train set: 11396, number of used features: 91\n",
      "[LightGBM] [Info] Start training from score 0.245261\n",
      "[10]\tvalid_0's rmse: 0.33353\tvalid_1's rmse: 0.340024\n",
      "[20]\tvalid_0's rmse: 0.308782\tvalid_1's rmse: 0.320746\n",
      "[30]\tvalid_0's rmse: 0.298464\tvalid_1's rmse: 0.314551\n",
      "[40]\tvalid_0's rmse: 0.29395\tvalid_1's rmse: 0.313289\n",
      "[50]\tvalid_0's rmse: 0.289517\tvalid_1's rmse: 0.311115\n",
      "[60]\tvalid_0's rmse: 0.286484\tvalid_1's rmse: 0.310224\n",
      "[70]\tvalid_0's rmse: 0.284159\tvalid_1's rmse: 0.309414\n",
      "[80]\tvalid_0's rmse: 0.282247\tvalid_1's rmse: 0.308953\n"
     ]
    },
    {
     "name": "stderr",
     "output_type": "stream",
     "text": [
      "min_data_in_leaf, val_score: 0.304747:  60%|######    | 3/5 [00:00<00:00,  3.06it/s]\u001b[32m[I 2023-02-21 13:49:32,661]\u001b[0m Trial 65 finished with value: 0.3047474986668658 and parameters: {'min_child_samples': 50}. Best is trial 63 with value: 0.3047474986668658.\u001b[0m\n",
      "min_data_in_leaf, val_score: 0.304747:  60%|######    | 3/5 [00:00<00:00,  3.06it/s]"
     ]
    },
    {
     "name": "stdout",
     "output_type": "stream",
     "text": [
      "[90]\tvalid_0's rmse: 0.280477\tvalid_1's rmse: 0.30867\n",
      "Early stopping, best iteration is:\n",
      "[73]\tvalid_0's rmse: 0.275346\tvalid_1's rmse: 0.304747\n",
      "[LightGBM] [Warning] Auto-choosing row-wise multi-threading, the overhead of testing was 0.002526 seconds.\n",
      "You can set `force_row_wise=true` to remove the overhead.\n",
      "And if memory is not enough, you can set `force_col_wise=true`.\n",
      "[LightGBM] [Info] Total Bins 714\n",
      "[LightGBM] [Info] Number of data points in the train set: 11396, number of used features: 91\n",
      "[LightGBM] [Info] Start training from score 0.245261\n",
      "[10]\tvalid_0's rmse: 0.329702\tvalid_1's rmse: 0.336657\n",
      "[20]\tvalid_0's rmse: 0.303341\tvalid_1's rmse: 0.316316\n",
      "[30]\tvalid_0's rmse: 0.291645\tvalid_1's rmse: 0.309747\n",
      "[40]\tvalid_0's rmse: 0.286069\tvalid_1's rmse: 0.308394\n"
     ]
    },
    {
     "name": "stderr",
     "output_type": "stream",
     "text": [
      "min_data_in_leaf, val_score: 0.304747:  80%|########  | 4/5 [00:01<00:00,  3.24it/s]\u001b[32m[I 2023-02-21 13:49:32,956]\u001b[0m Trial 66 finished with value: 0.3047474986668658 and parameters: {'min_child_samples': 5}. Best is trial 63 with value: 0.3047474986668658.\u001b[0m\n",
      "min_data_in_leaf, val_score: 0.304747:  80%|########  | 4/5 [00:01<00:00,  3.24it/s]"
     ]
    },
    {
     "name": "stdout",
     "output_type": "stream",
     "text": [
      "[50]\tvalid_0's rmse: 0.281277\tvalid_1's rmse: 0.30653\n",
      "[60]\tvalid_0's rmse: 0.277399\tvalid_1's rmse: 0.305709\n",
      "[70]\tvalid_0's rmse: 0.274175\tvalid_1's rmse: 0.305106\n",
      "[80]\tvalid_0's rmse: 0.271542\tvalid_1's rmse: 0.305352\n",
      "[90]\tvalid_0's rmse: 0.269027\tvalid_1's rmse: 0.305958\n",
      "Early stopping, best iteration is:\n",
      "[73]\tvalid_0's rmse: 0.275346\tvalid_1's rmse: 0.304747\n",
      "[LightGBM] [Warning] Auto-choosing row-wise multi-threading, the overhead of testing was 0.001785 seconds.\n",
      "You can set `force_row_wise=true` to remove the overhead.\n",
      "And if memory is not enough, you can set `force_col_wise=true`.\n",
      "[LightGBM] [Info] Total Bins 714\n",
      "[LightGBM] [Info] Number of data points in the train set: 11396, number of used features: 91\n",
      "[LightGBM] [Info] Start training from score 0.245261\n"
     ]
    },
    {
     "name": "stderr",
     "output_type": "stream",
     "text": [
      "min_data_in_leaf, val_score: 0.304747: 100%|##########| 5/5 [00:01<00:00,  3.32it/s]\u001b[32m[I 2023-02-21 13:49:33,239]\u001b[0m Trial 67 finished with value: 0.3047474986668658 and parameters: {'min_child_samples': 25}. Best is trial 63 with value: 0.3047474986668658.\u001b[0m\n",
      "min_data_in_leaf, val_score: 0.304747: 100%|##########| 5/5 [00:01<00:00,  3.22it/s]"
     ]
    },
    {
     "name": "stdout",
     "output_type": "stream",
     "text": [
      "[10]\tvalid_0's rmse: 0.331133\tvalid_1's rmse: 0.33791\n",
      "[20]\tvalid_0's rmse: 0.305713\tvalid_1's rmse: 0.318013\n",
      "[30]\tvalid_0's rmse: 0.294505\tvalid_1's rmse: 0.311107\n",
      "[40]\tvalid_0's rmse: 0.289657\tvalid_1's rmse: 0.309863\n",
      "[50]\tvalid_0's rmse: 0.285507\tvalid_1's rmse: 0.308016\n",
      "[60]\tvalid_0's rmse: 0.282197\tvalid_1's rmse: 0.307179\n",
      "[70]\tvalid_0's rmse: 0.279811\tvalid_1's rmse: 0.30677\n",
      "[80]\tvalid_0's rmse: 0.277591\tvalid_1's rmse: 0.306839\n",
      "[90]\tvalid_0's rmse: 0.275538\tvalid_1's rmse: 0.306667\n",
      "Early stopping, best iteration is:\n",
      "[73]\tvalid_0's rmse: 0.275346\tvalid_1's rmse: 0.304747\n"
     ]
    },
    {
     "name": "stderr",
     "output_type": "stream",
     "text": [
      "\n"
     ]
    }
   ],
   "source": [
    "dtrain = lgb.Dataset(X_train, y_train)\n",
    "deval = lgb.Dataset(X_test, y_test, reference=dtrain)\n",
    "\n",
    "best_params, history = {}, []\n",
    "\n",
    "callbacks = [\n",
    "    lgb.log_evaluation(10),\n",
    "    lgb.early_stopping(20),\n",
    "]\n",
    "\n",
    "params = {'objective':'regression',\n",
    "        'metric': 'rmse',\n",
    "        'random_state': 42,\n",
    "        'boosting_type': 'gbdt',\n",
    "         }\n",
    "\n",
    "model_LGB = lgb.train(params, dtrain, \n",
    "                    valid_sets=[dtrain, deval],\n",
    "                    num_boost_round=100_000,\n",
    "                    callbacks=callbacks,\n",
    "                    )"
   ]
  },
  {
   "cell_type": "code",
   "execution_count": 31,
   "id": "c7070eff",
   "metadata": {
    "scrolled": true
   },
   "outputs": [
    {
     "data": {
      "text/plain": [
       "{'objective': 'regression',\n",
       " 'metric': 'rmse',\n",
       " 'random_state': 42,\n",
       " 'boosting_type': 'gbdt',\n",
       " 'feature_pre_filter': False,\n",
       " 'lambda_l1': 0.0,\n",
       " 'lambda_l2': 0.0,\n",
       " 'num_leaves': 31,\n",
       " 'feature_fraction': 0.5,\n",
       " 'bagging_fraction': 1.0,\n",
       " 'bagging_freq': 0,\n",
       " 'min_child_samples': 10,\n",
       " 'num_iterations': 100000,\n",
       " 'early_stopping_round': None}"
      ]
     },
     "execution_count": 31,
     "metadata": {},
     "output_type": "execute_result"
    }
   ],
   "source": [
    "best_params = model_LGB.params\n",
    "best_params"
   ]
  },
  {
   "cell_type": "code",
   "execution_count": 32,
   "id": "d18acebe",
   "metadata": {},
   "outputs": [
    {
     "data": {
      "text/plain": [
       "array([-0.02550676178218439, 0.4675748533942434, 0.4783028602393357, ...,\n",
       "       0.03757419429698605, -0.012891851003844556, 0.373859619420335],\n",
       "      dtype=object)"
      ]
     },
     "execution_count": 32,
     "metadata": {},
     "output_type": "execute_result"
    }
   ],
   "source": [
    "trainXpred_LGB = model_LGB.predict(trainX)\n",
    "trainXpred_LGB = trainXpred_LGB.astype(object)\n",
    "trainXl_LGB = len(trainXpred_LGB)\n",
    "trainXpred_LGB"
   ]
  },
  {
   "cell_type": "code",
   "execution_count": 33,
   "id": "0a06b616",
   "metadata": {},
   "outputs": [
    {
     "data": {
      "text/html": [
       "<div>\n",
       "<style scoped>\n",
       "    .dataframe tbody tr th:only-of-type {\n",
       "        vertical-align: middle;\n",
       "    }\n",
       "\n",
       "    .dataframe tbody tr th {\n",
       "        vertical-align: top;\n",
       "    }\n",
       "\n",
       "    .dataframe thead th {\n",
       "        text-align: right;\n",
       "    }\n",
       "</style>\n",
       "<table border=\"1\" class=\"dataframe\">\n",
       "  <thead>\n",
       "    <tr style=\"text-align: right;\">\n",
       "      <th></th>\n",
       "      <th>0</th>\n",
       "      <th>1</th>\n",
       "    </tr>\n",
       "  </thead>\n",
       "  <tbody>\n",
       "    <tr>\n",
       "      <th>0</th>\n",
       "      <td>0.38</td>\n",
       "      <td>0.881450</td>\n",
       "    </tr>\n",
       "    <tr>\n",
       "      <th>1</th>\n",
       "      <td>0.39</td>\n",
       "      <td>0.882740</td>\n",
       "    </tr>\n",
       "    <tr>\n",
       "      <th>2</th>\n",
       "      <td>0.40</td>\n",
       "      <td>0.884275</td>\n",
       "    </tr>\n",
       "    <tr>\n",
       "      <th>3</th>\n",
       "      <td>0.41</td>\n",
       "      <td>0.884951</td>\n",
       "    </tr>\n",
       "    <tr>\n",
       "      <th>4</th>\n",
       "      <td>0.42</td>\n",
       "      <td>0.885319</td>\n",
       "    </tr>\n",
       "    <tr>\n",
       "      <th>5</th>\n",
       "      <td>0.43</td>\n",
       "      <td>0.886486</td>\n",
       "    </tr>\n",
       "    <tr>\n",
       "      <th>6</th>\n",
       "      <td>0.44</td>\n",
       "      <td>0.886241</td>\n",
       "    </tr>\n",
       "    <tr>\n",
       "      <th>7</th>\n",
       "      <td>0.45</td>\n",
       "      <td>0.886057</td>\n",
       "    </tr>\n",
       "    <tr>\n",
       "      <th>8</th>\n",
       "      <td>0.46</td>\n",
       "      <td>0.885811</td>\n",
       "    </tr>\n",
       "    <tr>\n",
       "      <th>9</th>\n",
       "      <td>0.47</td>\n",
       "      <td>0.886548</td>\n",
       "    </tr>\n",
       "    <tr>\n",
       "      <th>10</th>\n",
       "      <td>0.48</td>\n",
       "      <td>0.886609</td>\n",
       "    </tr>\n",
       "    <tr>\n",
       "      <th>11</th>\n",
       "      <td>0.49</td>\n",
       "      <td>0.886241</td>\n",
       "    </tr>\n",
       "    <tr>\n",
       "      <th>12</th>\n",
       "      <td>0.50</td>\n",
       "      <td>0.887039</td>\n",
       "    </tr>\n",
       "    <tr>\n",
       "      <th>13</th>\n",
       "      <td>0.51</td>\n",
       "      <td>0.887101</td>\n",
       "    </tr>\n",
       "    <tr>\n",
       "      <th>14</th>\n",
       "      <td>0.52</td>\n",
       "      <td>0.886057</td>\n",
       "    </tr>\n",
       "    <tr>\n",
       "      <th>15</th>\n",
       "      <td>0.53</td>\n",
       "      <td>0.885688</td>\n",
       "    </tr>\n",
       "    <tr>\n",
       "      <th>16</th>\n",
       "      <td>0.54</td>\n",
       "      <td>0.883231</td>\n",
       "    </tr>\n",
       "    <tr>\n",
       "      <th>17</th>\n",
       "      <td>0.55</td>\n",
       "      <td>0.882248</td>\n",
       "    </tr>\n",
       "    <tr>\n",
       "      <th>18</th>\n",
       "      <td>0.56</td>\n",
       "      <td>0.881511</td>\n",
       "    </tr>\n",
       "    <tr>\n",
       "      <th>19</th>\n",
       "      <td>0.57</td>\n",
       "      <td>0.880774</td>\n",
       "    </tr>\n",
       "    <tr>\n",
       "      <th>20</th>\n",
       "      <td>0.58</td>\n",
       "      <td>0.878993</td>\n",
       "    </tr>\n",
       "    <tr>\n",
       "      <th>21</th>\n",
       "      <td>0.59</td>\n",
       "      <td>0.878194</td>\n",
       "    </tr>\n",
       "    <tr>\n",
       "      <th>22</th>\n",
       "      <td>0.60</td>\n",
       "      <td>0.876843</td>\n",
       "    </tr>\n",
       "    <tr>\n",
       "      <th>23</th>\n",
       "      <td>0.61</td>\n",
       "      <td>0.875430</td>\n",
       "    </tr>\n",
       "    <tr>\n",
       "      <th>24</th>\n",
       "      <td>0.62</td>\n",
       "      <td>0.874447</td>\n",
       "    </tr>\n",
       "  </tbody>\n",
       "</table>\n",
       "</div>"
      ],
      "text/plain": [
       "       0         1\n",
       "0   0.38  0.881450\n",
       "1   0.39  0.882740\n",
       "2   0.40  0.884275\n",
       "3   0.41  0.884951\n",
       "4   0.42  0.885319\n",
       "5   0.43  0.886486\n",
       "6   0.44  0.886241\n",
       "7   0.45  0.886057\n",
       "8   0.46  0.885811\n",
       "9   0.47  0.886548\n",
       "10  0.48  0.886609\n",
       "11  0.49  0.886241\n",
       "12  0.50  0.887039\n",
       "13  0.51  0.887101\n",
       "14  0.52  0.886057\n",
       "15  0.53  0.885688\n",
       "16  0.54  0.883231\n",
       "17  0.55  0.882248\n",
       "18  0.56  0.881511\n",
       "19  0.57  0.880774\n",
       "20  0.58  0.878993\n",
       "21  0.59  0.878194\n",
       "22  0.60  0.876843\n",
       "23  0.61  0.875430\n",
       "24  0.62  0.874447"
      ]
     },
     "execution_count": 33,
     "metadata": {},
     "output_type": "execute_result"
    }
   ],
   "source": [
    "ansRateList_LGB = pd.DataFrame()\n",
    "for j in range(25):\n",
    "    c = trainXpred_LGB.copy()\n",
    "    n = (38+j)/100\n",
    "    for i in range(trainXl_LGB):\n",
    "        if c[i] <= n:\n",
    "            c[i] = 0\n",
    "        else:\n",
    "            c[i] = 1\n",
    "    ansRateBase_LGB = np.equal(c,y)\n",
    "    ansRate_LGB = collections.Counter(ansRateBase_LGB)[True]/len(ansRateBase_LGB)\n",
    "    ansRateData_LGB = pd.DataFrame([[n,ansRate_LGB]])\n",
    "    ansRateList_LGB = pd.concat([ansRateList_LGB,ansRateData_LGB],ignore_index=True)\n",
    "ansRateList_LGB"
   ]
  },
  {
   "cell_type": "code",
   "execution_count": 34,
   "id": "ad2e7900",
   "metadata": {},
   "outputs": [
    {
     "data": {
      "text/plain": [
       "([<matplotlib.axis.XTick at 0x2040fa7c9d0>,\n",
       "  <matplotlib.axis.XTick at 0x2040fa7cbb0>,\n",
       "  <matplotlib.axis.XTick at 0x2040fcc3df0>,\n",
       "  <matplotlib.axis.XTick at 0x2040fcdf190>,\n",
       "  <matplotlib.axis.XTick at 0x2040fcdfbb0>,\n",
       "  <matplotlib.axis.XTick at 0x2040fcd4340>,\n",
       "  <matplotlib.axis.XTick at 0x2040fce2580>,\n",
       "  <matplotlib.axis.XTick at 0x2040fcd4b20>,\n",
       "  <matplotlib.axis.XTick at 0x2040fcd8df0>,\n",
       "  <matplotlib.axis.XTick at 0x2040fd7e520>,\n",
       "  <matplotlib.axis.XTick at 0x2040fd7ec70>,\n",
       "  <matplotlib.axis.XTick at 0x2040fd84400>,\n",
       "  <matplotlib.axis.XTick at 0x2040fd84b50>,\n",
       "  <matplotlib.axis.XTick at 0x2040fd8c2e0>,\n",
       "  <matplotlib.axis.XTick at 0x2040fd848e0>,\n",
       "  <matplotlib.axis.XTick at 0x2040fd7e5e0>,\n",
       "  <matplotlib.axis.XTick at 0x2040fd8c250>,\n",
       "  <matplotlib.axis.XTick at 0x2040fd8cdc0>,\n",
       "  <matplotlib.axis.XTick at 0x2040fd94550>,\n",
       "  <matplotlib.axis.XTick at 0x2040fd94ca0>,\n",
       "  <matplotlib.axis.XTick at 0x2040fd98430>,\n",
       "  <matplotlib.axis.XTick at 0x2040fd94520>,\n",
       "  <matplotlib.axis.XTick at 0x2040fd7e4f0>,\n",
       "  <matplotlib.axis.XTick at 0x2040fd98820>,\n",
       "  <matplotlib.axis.XTick at 0x2040fd9f040>],\n",
       " [Text(0, 0, '0.38'),\n",
       "  Text(1, 0, '0.39'),\n",
       "  Text(2, 0, '0.4'),\n",
       "  Text(3, 0, '0.41'),\n",
       "  Text(4, 0, '0.42'),\n",
       "  Text(5, 0, '0.43'),\n",
       "  Text(6, 0, '0.44'),\n",
       "  Text(7, 0, '0.45'),\n",
       "  Text(8, 0, '0.46'),\n",
       "  Text(9, 0, '0.47'),\n",
       "  Text(10, 0, '0.48'),\n",
       "  Text(11, 0, '0.49'),\n",
       "  Text(12, 0, '0.5'),\n",
       "  Text(13, 0, '0.51'),\n",
       "  Text(14, 0, '0.52'),\n",
       "  Text(15, 0, '0.53'),\n",
       "  Text(16, 0, '0.54'),\n",
       "  Text(17, 0, '0.55'),\n",
       "  Text(18, 0, '0.56'),\n",
       "  Text(19, 0, '0.57'),\n",
       "  Text(20, 0, '0.58'),\n",
       "  Text(21, 0, '0.59'),\n",
       "  Text(22, 0, '0.6'),\n",
       "  Text(23, 0, '0.61'),\n",
       "  Text(24, 0, '0.62')])"
      ]
     },
     "execution_count": 34,
     "metadata": {},
     "output_type": "execute_result"
    },
    {
     "data": {
      "image/png": "[encoded data removed]",
      "text/plain": [
       "<Figure size 640x480 with 1 Axes>"
      ]
     },
     "metadata": {},
     "output_type": "display_data"
    }
   ],
   "source": [
    "plt.plot(ansRateList_LGB[1])\n",
    "plt.xticks(range(25),ansRateList_LGB[0])"
   ]
  },
  {
   "attachments": {},
   "cell_type": "markdown",
   "id": "efa63916",
   "metadata": {},
   "source": [
    "XGBoostのモデル作成"
   ]
  },
  {
   "cell_type": "code",
   "execution_count": 35,
   "id": "ac585cff",
   "metadata": {},
   "outputs": [],
   "source": [
    "model_XGB = XGBClassifier(early_stopping_rounds=10)"
   ]
  },
  {
   "cell_type": "code",
   "execution_count": 36,
   "id": "6be8d766",
   "metadata": {},
   "outputs": [
    {
     "name": "stdout",
     "output_type": "stream",
     "text": [
      "[0]\tvalidation_0-logloss:0.54553\n",
      "[1]\tvalidation_0-logloss:0.46495\n",
      "[2]\tvalidation_0-logloss:0.41215\n",
      "[3]\tvalidation_0-logloss:0.38028\n",
      "[4]\tvalidation_0-logloss:0.35759\n",
      "[5]\tvalidation_0-logloss:0.34193\n",
      "[6]\tvalidation_0-logloss:0.33073\n",
      "[7]\tvalidation_0-logloss:0.32180\n",
      "[8]\tvalidation_0-logloss:0.31653\n",
      "[9]\tvalidation_0-logloss:0.31289\n",
      "[10]\tvalidation_0-logloss:0.30943\n",
      "[11]\tvalidation_0-logloss:0.30778\n",
      "[12]\tvalidation_0-logloss:0.30566\n",
      "[13]\tvalidation_0-logloss:0.30439\n",
      "[14]\tvalidation_0-logloss:0.30303\n",
      "[15]\tvalidation_0-logloss:0.30054\n",
      "[16]\tvalidation_0-logloss:0.30004\n",
      "[17]\tvalidation_0-logloss:0.30022\n",
      "[18]\tvalidation_0-logloss:0.29873\n",
      "[19]\tvalidation_0-logloss:0.29839\n",
      "[20]\tvalidation_0-logloss:0.29824\n",
      "[21]\tvalidation_0-logloss:0.29824\n",
      "[22]\tvalidation_0-logloss:0.29729\n",
      "[23]\tvalidation_0-logloss:0.29649\n",
      "[24]\tvalidation_0-logloss:0.29682\n",
      "[25]\tvalidation_0-logloss:0.29470\n",
      "[26]\tvalidation_0-logloss:0.29479\n",
      "[27]\tvalidation_0-logloss:0.29459\n",
      "[28]\tvalidation_0-logloss:0.29443\n",
      "[29]\tvalidation_0-logloss:0.29414\n",
      "[30]\tvalidation_0-logloss:0.29315\n",
      "[31]\tvalidation_0-logloss:0.29272\n",
      "[32]\tvalidation_0-logloss:0.29275\n",
      "[33]\tvalidation_0-logloss:0.29284\n",
      "[34]\tvalidation_0-logloss:0.29180\n",
      "[35]\tvalidation_0-logloss:0.29185\n",
      "[36]\tvalidation_0-logloss:0.29261\n",
      "[37]\tvalidation_0-logloss:0.29249\n",
      "[38]\tvalidation_0-logloss:0.29259\n",
      "[39]\tvalidation_0-logloss:0.29280\n",
      "[40]\tvalidation_0-logloss:0.29162\n",
      "[41]\tvalidation_0-logloss:0.29224\n",
      "[42]\tvalidation_0-logloss:0.29241\n",
      "[43]\tvalidation_0-logloss:0.29227\n",
      "[44]\tvalidation_0-logloss:0.29222\n",
      "[45]\tvalidation_0-logloss:0.29214\n",
      "[46]\tvalidation_0-logloss:0.29123\n",
      "[47]\tvalidation_0-logloss:0.29149\n",
      "[48]\tvalidation_0-logloss:0.29185\n",
      "[49]\tvalidation_0-logloss:0.29223\n",
      "[50]\tvalidation_0-logloss:0.29276\n",
      "[51]\tvalidation_0-logloss:0.29277\n",
      "[52]\tvalidation_0-logloss:0.29306\n",
      "[53]\tvalidation_0-logloss:0.29248\n",
      "[54]\tvalidation_0-logloss:0.29268\n",
      "[55]\tvalidation_0-logloss:0.29225\n",
      "[56]\tvalidation_0-logloss:0.29232\n"
     ]
    },
    {
     "data": {
      "text/plain": [
       "XGBClassifier(base_score=None, booster=None, callbacks=None,\n",
       "              colsample_bylevel=None, colsample_bynode=None,\n",
       "              colsample_bytree=None, early_stopping_rounds=10,\n",
       "              enable_categorical=False, eval_metric=None, feature_types=None,\n",
       "              gamma=None, gpu_id=None, grow_policy=None, importance_type=None,\n",
       "              interaction_constraints=None, learning_rate=None, max_bin=None,\n",
       "              max_cat_threshold=None, max_cat_to_onehot=None,\n",
       "              max_delta_step=None, max_depth=None, max_leaves=None,\n",
       "              min_child_weight=None, missing=nan, monotone_constraints=None,\n",
       "              n_estimators=100, n_jobs=None, num_parallel_tree=None,\n",
       "              predictor=None, random_state=None, ...)"
      ]
     },
     "execution_count": 36,
     "metadata": {},
     "output_type": "execute_result"
    }
   ],
   "source": [
    "eval_set = [(X_test, y_test)]\n",
    "model_XGB.fit(X_train, y_train, eval_set=eval_set, verbose=True)"
   ]
  },
  {
   "cell_type": "code",
   "execution_count": 37,
   "id": "ab02f7f5",
   "metadata": {},
   "outputs": [
    {
     "data": {
      "text/plain": [
       "array([0.00339084817096591, 0.5295727252960205, 0.40462884306907654, ...,\n",
       "       0.0178011953830719, 0.000357212673407048, 0.11315363645553589],\n",
       "      dtype=object)"
      ]
     },
     "execution_count": 37,
     "metadata": {},
     "output_type": "execute_result"
    }
   ],
   "source": [
    "trainXpred_XGB = model_XGB.predict_proba(trainX)\n",
    "trainXpred_XGB = trainXpred_XGB[:,1]\n",
    "trainXl_XGB = len(trainXpred_XGB)\n",
    "trainXpred_XGB = trainXpred_XGB.astype(object)\n",
    "trainXpred_XGB"
   ]
  },
  {
   "cell_type": "code",
   "execution_count": 38,
   "id": "b926e22c",
   "metadata": {},
   "outputs": [
    {
     "data": {
      "text/html": [
       "<div>\n",
       "<style scoped>\n",
       "    .dataframe tbody tr th:only-of-type {\n",
       "        vertical-align: middle;\n",
       "    }\n",
       "\n",
       "    .dataframe tbody tr th {\n",
       "        vertical-align: top;\n",
       "    }\n",
       "\n",
       "    .dataframe thead th {\n",
       "        text-align: right;\n",
       "    }\n",
       "</style>\n",
       "<table border=\"1\" class=\"dataframe\">\n",
       "  <thead>\n",
       "    <tr style=\"text-align: right;\">\n",
       "      <th></th>\n",
       "      <th>0</th>\n",
       "      <th>1</th>\n",
       "    </tr>\n",
       "  </thead>\n",
       "  <tbody>\n",
       "    <tr>\n",
       "      <th>0</th>\n",
       "      <td>0.38</td>\n",
       "      <td>0.886364</td>\n",
       "    </tr>\n",
       "    <tr>\n",
       "      <th>1</th>\n",
       "      <td>0.39</td>\n",
       "      <td>0.887162</td>\n",
       "    </tr>\n",
       "    <tr>\n",
       "      <th>2</th>\n",
       "      <td>0.40</td>\n",
       "      <td>0.888084</td>\n",
       "    </tr>\n",
       "    <tr>\n",
       "      <th>3</th>\n",
       "      <td>0.41</td>\n",
       "      <td>0.888452</td>\n",
       "    </tr>\n",
       "    <tr>\n",
       "      <th>4</th>\n",
       "      <td>0.42</td>\n",
       "      <td>0.888391</td>\n",
       "    </tr>\n",
       "    <tr>\n",
       "      <th>5</th>\n",
       "      <td>0.43</td>\n",
       "      <td>0.890233</td>\n",
       "    </tr>\n",
       "    <tr>\n",
       "      <th>6</th>\n",
       "      <td>0.44</td>\n",
       "      <td>0.890418</td>\n",
       "    </tr>\n",
       "    <tr>\n",
       "      <th>7</th>\n",
       "      <td>0.45</td>\n",
       "      <td>0.891708</td>\n",
       "    </tr>\n",
       "    <tr>\n",
       "      <th>8</th>\n",
       "      <td>0.46</td>\n",
       "      <td>0.892322</td>\n",
       "    </tr>\n",
       "    <tr>\n",
       "      <th>9</th>\n",
       "      <td>0.47</td>\n",
       "      <td>0.891892</td>\n",
       "    </tr>\n",
       "    <tr>\n",
       "      <th>10</th>\n",
       "      <td>0.48</td>\n",
       "      <td>0.891093</td>\n",
       "    </tr>\n",
       "    <tr>\n",
       "      <th>11</th>\n",
       "      <td>0.49</td>\n",
       "      <td>0.890786</td>\n",
       "    </tr>\n",
       "    <tr>\n",
       "      <th>12</th>\n",
       "      <td>0.50</td>\n",
       "      <td>0.890172</td>\n",
       "    </tr>\n",
       "    <tr>\n",
       "      <th>13</th>\n",
       "      <td>0.51</td>\n",
       "      <td>0.889558</td>\n",
       "    </tr>\n",
       "    <tr>\n",
       "      <th>14</th>\n",
       "      <td>0.52</td>\n",
       "      <td>0.888821</td>\n",
       "    </tr>\n",
       "    <tr>\n",
       "      <th>15</th>\n",
       "      <td>0.53</td>\n",
       "      <td>0.888514</td>\n",
       "    </tr>\n",
       "    <tr>\n",
       "      <th>16</th>\n",
       "      <td>0.54</td>\n",
       "      <td>0.887531</td>\n",
       "    </tr>\n",
       "    <tr>\n",
       "      <th>17</th>\n",
       "      <td>0.55</td>\n",
       "      <td>0.886671</td>\n",
       "    </tr>\n",
       "    <tr>\n",
       "      <th>18</th>\n",
       "      <td>0.56</td>\n",
       "      <td>0.885565</td>\n",
       "    </tr>\n",
       "    <tr>\n",
       "      <th>19</th>\n",
       "      <td>0.57</td>\n",
       "      <td>0.884275</td>\n",
       "    </tr>\n",
       "    <tr>\n",
       "      <th>20</th>\n",
       "      <td>0.58</td>\n",
       "      <td>0.884091</td>\n",
       "    </tr>\n",
       "    <tr>\n",
       "      <th>21</th>\n",
       "      <td>0.59</td>\n",
       "      <td>0.883231</td>\n",
       "    </tr>\n",
       "    <tr>\n",
       "      <th>22</th>\n",
       "      <td>0.60</td>\n",
       "      <td>0.882494</td>\n",
       "    </tr>\n",
       "    <tr>\n",
       "      <th>23</th>\n",
       "      <td>0.61</td>\n",
       "      <td>0.881388</td>\n",
       "    </tr>\n",
       "    <tr>\n",
       "      <th>24</th>\n",
       "      <td>0.62</td>\n",
       "      <td>0.880467</td>\n",
       "    </tr>\n",
       "  </tbody>\n",
       "</table>\n",
       "</div>"
      ],
      "text/plain": [
       "       0         1\n",
       "0   0.38  0.886364\n",
       "1   0.39  0.887162\n",
       "2   0.40  0.888084\n",
       "3   0.41  0.888452\n",
       "4   0.42  0.888391\n",
       "5   0.43  0.890233\n",
       "6   0.44  0.890418\n",
       "7   0.45  0.891708\n",
       "8   0.46  0.892322\n",
       "9   0.47  0.891892\n",
       "10  0.48  0.891093\n",
       "11  0.49  0.890786\n",
       "12  0.50  0.890172\n",
       "13  0.51  0.889558\n",
       "14  0.52  0.888821\n",
       "15  0.53  0.888514\n",
       "16  0.54  0.887531\n",
       "17  0.55  0.886671\n",
       "18  0.56  0.885565\n",
       "19  0.57  0.884275\n",
       "20  0.58  0.884091\n",
       "21  0.59  0.883231\n",
       "22  0.60  0.882494\n",
       "23  0.61  0.881388\n",
       "24  0.62  0.880467"
      ]
     },
     "execution_count": 38,
     "metadata": {},
     "output_type": "execute_result"
    }
   ],
   "source": [
    "ansRateList_XGB = pd.DataFrame()\n",
    "for j in range(25):\n",
    "    c = trainXpred_XGB.copy()\n",
    "    n = (38+j)/100\n",
    "    for i in range(trainXl_XGB):\n",
    "        if c[i] <= n:\n",
    "            c[i] = 0\n",
    "        else:\n",
    "            c[i] = 1\n",
    "    ansRateBase_XGB = np.equal(c,y)\n",
    "    ansRate_XGB = collections.Counter(ansRateBase_XGB)[True]/len(ansRateBase_XGB)\n",
    "    ansRateData_XGB = pd.DataFrame([[n,ansRate_XGB]])\n",
    "    ansRateList_XGB = pd.concat([ansRateList_XGB,ansRateData_XGB],ignore_index=True)\n",
    "ansRateList_XGB"
   ]
  },
  {
   "cell_type": "code",
   "execution_count": 39,
   "id": "9a5044e5",
   "metadata": {},
   "outputs": [
    {
     "data": {
      "text/plain": [
       "([<matplotlib.axis.XTick at 0x2040fe25670>,\n",
       "  <matplotlib.axis.XTick at 0x2040fe25640>,\n",
       "  <matplotlib.axis.XTick at 0x2040ff08970>,\n",
       "  <matplotlib.axis.XTick at 0x2040fe53310>,\n",
       "  <matplotlib.axis.XTick at 0x2040fe53a60>,\n",
       "  <matplotlib.axis.XTick at 0x2040fe5a1f0>,\n",
       "  <matplotlib.axis.XTick at 0x2040fe5a940>,\n",
       "  <matplotlib.axis.XTick at 0x2040fe5d0d0>,\n",
       "  <matplotlib.axis.XTick at 0x2040fe5a5b0>,\n",
       "  <matplotlib.axis.XTick at 0x2040fe47f40>,\n",
       "  <matplotlib.axis.XTick at 0x2040fe5d8b0>,\n",
       "  <matplotlib.axis.XTick at 0x2040fe65040>,\n",
       "  <matplotlib.axis.XTick at 0x2040fe65790>,\n",
       "  <matplotlib.axis.XTick at 0x2040fe6a040>,\n",
       "  <matplotlib.axis.XTick at 0x2040fe65f40>,\n",
       "  <matplotlib.axis.XTick at 0x2040fe5dd90>,\n",
       "  <matplotlib.axis.XTick at 0x2040fe5a4c0>,\n",
       "  <matplotlib.axis.XTick at 0x2040fe6ab80>,\n",
       "  <matplotlib.axis.XTick at 0x2040fe70310>,\n",
       "  <matplotlib.axis.XTick at 0x2040fe70a60>,\n",
       "  <matplotlib.axis.XTick at 0x2040fe791f0>,\n",
       "  <matplotlib.axis.XTick at 0x2040fe70ac0>,\n",
       "  <matplotlib.axis.XTick at 0x2040fe6a910>,\n",
       "  <matplotlib.axis.XTick at 0x2040fe79880>,\n",
       "  <matplotlib.axis.XTick at 0x2040fe79e80>],\n",
       " [Text(0, 0, '0.38'),\n",
       "  Text(1, 0, '0.39'),\n",
       "  Text(2, 0, '0.4'),\n",
       "  Text(3, 0, '0.41'),\n",
       "  Text(4, 0, '0.42'),\n",
       "  Text(5, 0, '0.43'),\n",
       "  Text(6, 0, '0.44'),\n",
       "  Text(7, 0, '0.45'),\n",
       "  Text(8, 0, '0.46'),\n",
       "  Text(9, 0, '0.47'),\n",
       "  Text(10, 0, '0.48'),\n",
       "  Text(11, 0, '0.49'),\n",
       "  Text(12, 0, '0.5'),\n",
       "  Text(13, 0, '0.51'),\n",
       "  Text(14, 0, '0.52'),\n",
       "  Text(15, 0, '0.53'),\n",
       "  Text(16, 0, '0.54'),\n",
       "  Text(17, 0, '0.55'),\n",
       "  Text(18, 0, '0.56'),\n",
       "  Text(19, 0, '0.57'),\n",
       "  Text(20, 0, '0.58'),\n",
       "  Text(21, 0, '0.59'),\n",
       "  Text(22, 0, '0.6'),\n",
       "  Text(23, 0, '0.61'),\n",
       "  Text(24, 0, '0.62')])"
      ]
     },
     "execution_count": 39,
     "metadata": {},
     "output_type": "execute_result"
    },
    {
     "data": {
      "image/png": "[encoded data removed]",
      "text/plain": [
       "<Figure size 640x480 with 1 Axes>"
      ]
     },
     "metadata": {},
     "output_type": "display_data"
    }
   ],
   "source": [
    "plt.plot(ansRateList_XGB[1])\n",
    "plt.xticks(range(25),ansRateList_XGB[0])"
   ]
  },
  {
   "attachments": {},
   "cell_type": "markdown",
   "id": "0e8c4285",
   "metadata": {},
   "source": [
    "3モデルの平均を取る"
   ]
  },
  {
   "cell_type": "code",
   "execution_count": 47,
   "id": "00173e0e",
   "metadata": {},
   "outputs": [
    {
     "data": {
      "text/plain": [
       "(16280,)"
      ]
     },
     "execution_count": 47,
     "metadata": {},
     "output_type": "execute_result"
    }
   ],
   "source": [
    "trainXpred = (trainXpred_DT + trainXpred_LGB + trainXpred_XGB)/3\n",
    "trainXl = len(trainXpred)\n",
    "trainXpred.shape"
   ]
  },
  {
   "cell_type": "code",
   "execution_count": 48,
   "id": "82304232",
   "metadata": {},
   "outputs": [
    {
     "data": {
      "text/html": [
       "<div>\n",
       "<style scoped>\n",
       "    .dataframe tbody tr th:only-of-type {\n",
       "        vertical-align: middle;\n",
       "    }\n",
       "\n",
       "    .dataframe tbody tr th {\n",
       "        vertical-align: top;\n",
       "    }\n",
       "\n",
       "    .dataframe thead th {\n",
       "        text-align: right;\n",
       "    }\n",
       "</style>\n",
       "<table border=\"1\" class=\"dataframe\">\n",
       "  <thead>\n",
       "    <tr style=\"text-align: right;\">\n",
       "      <th></th>\n",
       "      <th>0</th>\n",
       "      <th>1</th>\n",
       "    </tr>\n",
       "  </thead>\n",
       "  <tbody>\n",
       "    <tr>\n",
       "      <th>0</th>\n",
       "      <td>0.38</td>\n",
       "      <td>0.879914</td>\n",
       "    </tr>\n",
       "    <tr>\n",
       "      <th>1</th>\n",
       "      <td>0.39</td>\n",
       "      <td>0.881818</td>\n",
       "    </tr>\n",
       "    <tr>\n",
       "      <th>2</th>\n",
       "      <td>0.40</td>\n",
       "      <td>0.882740</td>\n",
       "    </tr>\n",
       "    <tr>\n",
       "      <th>3</th>\n",
       "      <td>0.41</td>\n",
       "      <td>0.883170</td>\n",
       "    </tr>\n",
       "    <tr>\n",
       "      <th>4</th>\n",
       "      <td>0.42</td>\n",
       "      <td>0.883477</td>\n",
       "    </tr>\n",
       "    <tr>\n",
       "      <th>5</th>\n",
       "      <td>0.43</td>\n",
       "      <td>0.883845</td>\n",
       "    </tr>\n",
       "    <tr>\n",
       "      <th>6</th>\n",
       "      <td>0.44</td>\n",
       "      <td>0.883661</td>\n",
       "    </tr>\n",
       "    <tr>\n",
       "      <th>7</th>\n",
       "      <td>0.45</td>\n",
       "      <td>0.883907</td>\n",
       "    </tr>\n",
       "    <tr>\n",
       "      <th>8</th>\n",
       "      <td>0.46</td>\n",
       "      <td>0.883600</td>\n",
       "    </tr>\n",
       "    <tr>\n",
       "      <th>9</th>\n",
       "      <td>0.47</td>\n",
       "      <td>0.883538</td>\n",
       "    </tr>\n",
       "    <tr>\n",
       "      <th>10</th>\n",
       "      <td>0.48</td>\n",
       "      <td>0.883845</td>\n",
       "    </tr>\n",
       "    <tr>\n",
       "      <th>11</th>\n",
       "      <td>0.49</td>\n",
       "      <td>0.883047</td>\n",
       "    </tr>\n",
       "    <tr>\n",
       "      <th>12</th>\n",
       "      <td>0.50</td>\n",
       "      <td>0.883354</td>\n",
       "    </tr>\n",
       "    <tr>\n",
       "      <th>13</th>\n",
       "      <td>0.51</td>\n",
       "      <td>0.882985</td>\n",
       "    </tr>\n",
       "    <tr>\n",
       "      <th>14</th>\n",
       "      <td>0.52</td>\n",
       "      <td>0.882248</td>\n",
       "    </tr>\n",
       "    <tr>\n",
       "      <th>15</th>\n",
       "      <td>0.53</td>\n",
       "      <td>0.881450</td>\n",
       "    </tr>\n",
       "    <tr>\n",
       "      <th>16</th>\n",
       "      <td>0.54</td>\n",
       "      <td>0.880651</td>\n",
       "    </tr>\n",
       "    <tr>\n",
       "      <th>17</th>\n",
       "      <td>0.55</td>\n",
       "      <td>0.880098</td>\n",
       "    </tr>\n",
       "    <tr>\n",
       "      <th>18</th>\n",
       "      <td>0.56</td>\n",
       "      <td>0.878563</td>\n",
       "    </tr>\n",
       "    <tr>\n",
       "      <th>19</th>\n",
       "      <td>0.57</td>\n",
       "      <td>0.877211</td>\n",
       "    </tr>\n",
       "    <tr>\n",
       "      <th>20</th>\n",
       "      <td>0.58</td>\n",
       "      <td>0.875430</td>\n",
       "    </tr>\n",
       "    <tr>\n",
       "      <th>21</th>\n",
       "      <td>0.59</td>\n",
       "      <td>0.873219</td>\n",
       "    </tr>\n",
       "    <tr>\n",
       "      <th>22</th>\n",
       "      <td>0.60</td>\n",
       "      <td>0.871744</td>\n",
       "    </tr>\n",
       "    <tr>\n",
       "      <th>23</th>\n",
       "      <td>0.61</td>\n",
       "      <td>0.870516</td>\n",
       "    </tr>\n",
       "    <tr>\n",
       "      <th>24</th>\n",
       "      <td>0.62</td>\n",
       "      <td>0.868735</td>\n",
       "    </tr>\n",
       "  </tbody>\n",
       "</table>\n",
       "</div>"
      ],
      "text/plain": [
       "       0         1\n",
       "0   0.38  0.879914\n",
       "1   0.39  0.881818\n",
       "2   0.40  0.882740\n",
       "3   0.41  0.883170\n",
       "4   0.42  0.883477\n",
       "5   0.43  0.883845\n",
       "6   0.44  0.883661\n",
       "7   0.45  0.883907\n",
       "8   0.46  0.883600\n",
       "9   0.47  0.883538\n",
       "10  0.48  0.883845\n",
       "11  0.49  0.883047\n",
       "12  0.50  0.883354\n",
       "13  0.51  0.882985\n",
       "14  0.52  0.882248\n",
       "15  0.53  0.881450\n",
       "16  0.54  0.880651\n",
       "17  0.55  0.880098\n",
       "18  0.56  0.878563\n",
       "19  0.57  0.877211\n",
       "20  0.58  0.875430\n",
       "21  0.59  0.873219\n",
       "22  0.60  0.871744\n",
       "23  0.61  0.870516\n",
       "24  0.62  0.868735"
      ]
     },
     "execution_count": 48,
     "metadata": {},
     "output_type": "execute_result"
    }
   ],
   "source": [
    "ansRateList = pd.DataFrame()\n",
    "for j in range(25):\n",
    "    c = trainXpred.copy()\n",
    "    n = (38+j)/100\n",
    "    for i in range(trainXl):\n",
    "        if c[i] <= n:\n",
    "            c[i] = 0\n",
    "        else:\n",
    "            c[i] = 1\n",
    "    ansRateBase = np.equal(c,y)\n",
    "    ansRate = collections.Counter(ansRateBase)[True]/len(ansRateBase)\n",
    "    ansRateData = pd.DataFrame([[n,ansRate]])\n",
    "    ansRateList = pd.concat([ansRateList,ansRateData],ignore_index=True)\n",
    "ansRateList"
   ]
  },
  {
   "cell_type": "code",
   "execution_count": 49,
   "id": "2e4d40a2",
   "metadata": {},
   "outputs": [
    {
     "data": {
      "text/plain": [
       "([<matplotlib.axis.XTick at 0x2040fd987f0>,\n",
       "  <matplotlib.axis.XTick at 0x2040fd98700>,\n",
       "  <matplotlib.axis.XTick at 0x2040962ec40>,\n",
       "  <matplotlib.axis.XTick at 0x2041016bb20>,\n",
       "  <matplotlib.axis.XTick at 0x204101742b0>,\n",
       "  <matplotlib.axis.XTick at 0x20410174a00>,\n",
       "  <matplotlib.axis.XTick at 0x20410174cd0>,\n",
       "  <matplotlib.axis.XTick at 0x2041016bbe0>,\n",
       "  <matplotlib.axis.XTick at 0x2041017b6a0>,\n",
       "  <matplotlib.axis.XTick at 0x2041017bdf0>,\n",
       "  <matplotlib.axis.XTick at 0x20411b9d580>,\n",
       "  <matplotlib.axis.XTick at 0x20411b9dcd0>,\n",
       "  <matplotlib.axis.XTick at 0x20411b97460>,\n",
       "  <matplotlib.axis.XTick at 0x20411b9da90>,\n",
       "  <matplotlib.axis.XTick at 0x2041017b790>,\n",
       "  <matplotlib.axis.XTick at 0x20411b97100>,\n",
       "  <matplotlib.axis.XTick at 0x20411b8f100>,\n",
       "  <matplotlib.axis.XTick at 0x20411b8f850>,\n",
       "  <matplotlib.axis.XTick at 0x20411b8a070>,\n",
       "  <matplotlib.axis.XTick at 0x20411b8a730>,\n",
       "  <matplotlib.axis.XTick at 0x20411b8f5b0>,\n",
       "  <matplotlib.axis.XTick at 0x2041017b400>,\n",
       "  <matplotlib.axis.XTick at 0x20411b8ab50>,\n",
       "  <matplotlib.axis.XTick at 0x20411b822e0>,\n",
       "  <matplotlib.axis.XTick at 0x20411b82a30>],\n",
       " [Text(0, 0, '0.38'),\n",
       "  Text(1, 0, '0.39'),\n",
       "  Text(2, 0, '0.4'),\n",
       "  Text(3, 0, '0.41'),\n",
       "  Text(4, 0, '0.42'),\n",
       "  Text(5, 0, '0.43'),\n",
       "  Text(6, 0, '0.44'),\n",
       "  Text(7, 0, '0.45'),\n",
       "  Text(8, 0, '0.46'),\n",
       "  Text(9, 0, '0.47'),\n",
       "  Text(10, 0, '0.48'),\n",
       "  Text(11, 0, '0.49'),\n",
       "  Text(12, 0, '0.5'),\n",
       "  Text(13, 0, '0.51'),\n",
       "  Text(14, 0, '0.52'),\n",
       "  Text(15, 0, '0.53'),\n",
       "  Text(16, 0, '0.54'),\n",
       "  Text(17, 0, '0.55'),\n",
       "  Text(18, 0, '0.56'),\n",
       "  Text(19, 0, '0.57'),\n",
       "  Text(20, 0, '0.58'),\n",
       "  Text(21, 0, '0.59'),\n",
       "  Text(22, 0, '0.6'),\n",
       "  Text(23, 0, '0.61'),\n",
       "  Text(24, 0, '0.62')])"
      ]
     },
     "execution_count": 49,
     "metadata": {},
     "output_type": "execute_result"
    },
    {
     "data": {
      "image/png": "[encoded data removed]",
      "text/plain": [
       "<Figure size 640x480 with 1 Axes>"
      ]
     },
     "metadata": {},
     "output_type": "display_data"
    }
   ],
   "source": [
    "plt.plot(ansRateList[1])\n",
    "plt.xticks(range(25),ansRateList[0])"
   ]
  },
  {
   "cell_type": "markdown",
   "id": "544335c6",
   "metadata": {},
   "source": [
    "予測に代入して結果を出力する"
   ]
  },
  {
   "cell_type": "code",
   "execution_count": 69,
   "id": "52113338",
   "metadata": {},
   "outputs": [
    {
     "data": {
      "text/plain": [
       "(16281,)"
      ]
     },
     "execution_count": 69,
     "metadata": {},
     "output_type": "execute_result"
    }
   ],
   "source": [
    "pred_DT = model_DT.predict_proba(testX)\n",
    "pred_DT = pred_DT[:,1]\n",
    "pred_LGB = model_LGB.predict(testX)\n",
    "pred_XGB = model_XGB.predict_proba(testX)\n",
    "pred_XGB = pred_XGB[:,1]\n",
    "pred = (pred_DT + pred_LGB + pred_XGB)/3\n",
    "pred.shape"
   ]
  },
  {
   "cell_type": "code",
   "execution_count": 73,
   "id": "8cd7f11f",
   "metadata": {},
   "outputs": [],
   "source": [
    "pred_r = pred.astype(object)\n",
    "l = len(pred_r)\n",
    "for i in range(l):\n",
    "    if pred_r[i] <= 0.51:\n",
    "        pred_r[i] = \"<=50K\"\n",
    "    else:\n",
    "        pred_r[i] = \">50K\""
   ]
  },
  {
   "cell_type": "code",
   "execution_count": 74,
   "id": "78e4aab2",
   "metadata": {},
   "outputs": [],
   "source": [
    "sample[1] = pred_r"
   ]
  },
  {
   "cell_type": "code",
   "execution_count": 75,
   "id": "a23daf25",
   "metadata": {},
   "outputs": [],
   "source": [
    "sample.to_csv(\"submit5_5.csv\",index=None,header=None)"
   ]
  }
 ],
 "metadata": {
  "kernelspec": {
   "display_name": "Python 3 (ipykernel)",
   "language": "python",
   "name": "python3"
  },
  "language_info": {
   "codemirror_mode": {
    "name": "ipython",
    "version": 3
   },
   "file_extension": ".py",
   "mimetype": "text/x-python",
   "name": "python",
   "nbconvert_exporter": "python",
   "pygments_lexer": "ipython3",
   "version": "3.9.13"
  }
 },
 "nbformat": 4,
 "nbformat_minor": 5
}
