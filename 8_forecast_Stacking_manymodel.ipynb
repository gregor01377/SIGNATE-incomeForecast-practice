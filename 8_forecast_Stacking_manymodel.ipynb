{
 "cells": [
  {
   "attachments": {},
   "cell_type": "markdown",
   "id": "729081b5",
   "metadata": {},
   "source": [
    "6モデル（DT、RFC、LR、SVM、XGB、LGB）の結果を3モデル（RFC、XGB、LGB）で予測しなおし、その3モデルで出した結果をLGBモデルで予測し最終結果を出した。"
   ]
  },
  {
   "cell_type": "code",
   "execution_count": 52,
   "id": "d43a53db",
   "metadata": {},
   "outputs": [],
   "source": [
    "import pandas as pd\n",
    "import numpy as np\n",
    "from matplotlib import pyplot as plt\n",
    "%matplotlib inline\n",
    "\n",
    "import sklearn.metrics\n",
    "from sklearn import metrics\n",
    "from sklearn.tree import DecisionTreeClassifier as DT #決定木　\n",
    "from sklearn.ensemble import RandomForestClassifier #ランダムフォレスト\n",
    "from sklearn.linear_model import LogisticRegression #ロジスティック回帰\n",
    "from sklearn import svm #サポートベクターマシン\n",
    "from sklearn.model_selection import cross_validate\n",
    "from sklearn.model_selection import GridSearchCV\n",
    "from sklearn.model_selection import RandomizedSearchCV\n",
    "from sklearn.model_selection import train_test_split\n",
    "from sklearn import preprocessing\n",
    "from sklearn.preprocessing import robust_scale # 一次元配列はこれで直接。二次元配列はRobustScalerを使うことが多い\n",
    "from sklearn.model_selection import KFold\n",
    "from sklearn.model_selection import cross_val_score\n",
    "from sklearn.metrics import mean_squared_error\n",
    "from sklearn.metrics import roc_auc_score\n",
    "\n",
    "import scipy.stats\n",
    "\n",
    "import seaborn as sns\n",
    "\n",
    "import collections\n",
    "import time\n",
    "\n",
    "import lightgbm as lgb\n",
    "import optuna\n",
    "\n",
    "from xgboost import XGBClassifier"
   ]
  },
  {
   "cell_type": "code",
   "execution_count": 37,
   "id": "6fcae168",
   "metadata": {},
   "outputs": [],
   "source": [
    "pd.set_option('display.max_rows', None)"
   ]
  },
  {
   "cell_type": "markdown",
   "id": "1b2dc8bb",
   "metadata": {},
   "source": [
    "データを変数に入れる"
   ]
  },
  {
   "cell_type": "code",
   "execution_count": 38,
   "id": "768b668f",
   "metadata": {},
   "outputs": [],
   "source": [
    "train = pd.read_table('train.tsv')\n",
    "test = pd.read_csv('test.tsv',sep='\\t')\n",
    "sample = pd.read_csv('sample_submit.csv',header=None)"
   ]
  },
  {
   "cell_type": "markdown",
   "id": "ca26e0b1",
   "metadata": {},
   "source": [
    "データを見る・データを整える"
   ]
  },
  {
   "cell_type": "code",
   "execution_count": 39,
   "id": "82872559",
   "metadata": {},
   "outputs": [
    {
     "data": {
      "text/plain": [
       "0    12288\n",
       "1     3992\n",
       "Name: Y, dtype: int64"
      ]
     },
     "execution_count": 39,
     "metadata": {},
     "output_type": "execute_result"
    }
   ],
   "source": [
    "train = train.replace({\"Y\":{\"<=50K\" : 0, \">50K\" : 1}})\n",
    "train[\"Y\"].value_counts()"
   ]
  },
  {
   "cell_type": "code",
   "execution_count": 40,
   "id": "c5ef8fac",
   "metadata": {},
   "outputs": [],
   "source": [
    "trainX = train.iloc[:,0:15]\n",
    "y = train[\"Y\"]\n",
    "testX = test.copy()"
   ]
  },
  {
   "cell_type": "code",
   "execution_count": 41,
   "id": "335b260d",
   "metadata": {
    "scrolled": true
   },
   "outputs": [],
   "source": [
    "# education = education-num より消去\n",
    "train = train.drop(columns=[\"id\",\"education\"])\n",
    "trainX = trainX.drop(columns=[\"id\",\"education\"])\n",
    "testX = testX.drop(columns=[\"id\",\"education\"])"
   ]
  },
  {
   "cell_type": "code",
   "execution_count": 42,
   "id": "97092f2e",
   "metadata": {
    "scrolled": true
   },
   "outputs": [
    {
     "name": "stdout",
     "output_type": "stream",
     "text": [
      "?\n"
     ]
    }
   ],
   "source": [
    "# native-countryについて、trainかtest片方にしかないものは？に変換してしまう。\n",
    "indexNum = testX[~testX[\"native-country\"].isin(trainX[\"native-country\"].unique())].index\n",
    "for i in indexNum:\n",
    "    testX.iat[i,12] = \"?\"\n",
    "    print(testX.iat[i,12])"
   ]
  },
  {
   "cell_type": "code",
   "execution_count": 43,
   "id": "c0962ed7",
   "metadata": {},
   "outputs": [],
   "source": [
    "# sexを数値化\n",
    "trainX = trainX.replace({\"sex\":{\"Female\" : 0, \"Male\" : 1}})\n",
    "testX = testX.replace({\"sex\":{\"Female\" : 0, \"Male\" : 1}})"
   ]
  },
  {
   "cell_type": "code",
   "execution_count": 44,
   "id": "d1703b7f",
   "metadata": {},
   "outputs": [],
   "source": [
    "pd.reset_option('display.max_rows')"
   ]
  },
  {
   "cell_type": "code",
   "execution_count": 45,
   "id": "887ca64b",
   "metadata": {},
   "outputs": [],
   "source": [
    "#正規化（変な外れ値のなさそうな'age', 'education-num'）・robust（最大最小で2桁以上異なり外れ値もありそうな'fnlwgt'）\n",
    "minmax_scaler = preprocessing.MinMaxScaler() # 二次元配列のもののみ（一次元配列：minmax_scale(対象となる配列))\n",
    "\n",
    "trainX[['age', 'education-num']] = minmax_scaler.fit_transform(trainX[['age', 'education-num']]) \n",
    "testX[['age', 'education-num']] = minmax_scaler.fit_transform(testX[['age', 'education-num']]) \n",
    "trainX['fnlwgt'] = robust_scale(trainX['fnlwgt'])\n",
    "testX['fnlwgt'] = robust_scale(testX['fnlwgt']) "
   ]
  },
  {
   "cell_type": "code",
   "execution_count": 47,
   "id": "f26d5f23",
   "metadata": {},
   "outputs": [],
   "source": [
    "trainX = pd.get_dummies(trainX)\n",
    "testX = pd.get_dummies(testX)"
   ]
  },
  {
   "cell_type": "code",
   "execution_count": 48,
   "id": "f49a5b9d",
   "metadata": {
    "scrolled": true
   },
   "outputs": [
    {
     "name": "stdout",
     "output_type": "stream",
     "text": [
      "(16280, 90) (10419, 90) (2605, 90) (3256, 90)\n"
     ]
    }
   ],
   "source": [
    "X_train_valid, X_test, y_train_valid, y_test = train_test_split(trainX, y, test_size=0.2, random_state = 100)\n",
    "X_train, X_valid, y_train, y_valid = train_test_split(X_train_valid, y_train_valid, test_size=0.2, random_state = 100)\n",
    "tests = [(X_test, y_test)]\n",
    "print(trainX.shape, X_train.shape, X_valid.shape, X_test.shape)"
   ]
  },
  {
   "cell_type": "markdown",
   "id": "283a3659",
   "metadata": {},
   "source": [
    "各モデルを作る"
   ]
  },
  {
   "cell_type": "code",
   "execution_count": 49,
   "id": "774e6317",
   "metadata": {},
   "outputs": [
    {
     "data": {
      "text/plain": [
       "{'max_depth': 9, 'min_samples_leaf': 48}"
      ]
     },
     "execution_count": 49,
     "metadata": {},
     "output_type": "execute_result"
    }
   ],
   "source": [
    "# model_DT\n",
    "parameters = {\"max_depth\":list(range(5,14)), \"min_samples_leaf\":[46,47,48,49,50,51,52,53,54,55]}\n",
    "clf_DT = DT()\n",
    "model_DT = GridSearchCV(clf_DT, parameters, cv=5, scoring=\"roc_auc\",n_jobs=-1,return_train_score=True)\n",
    "\n",
    "model_DT.fit(X_train, y_train)\n",
    "model_DT.best_params_"
   ]
  },
  {
   "cell_type": "code",
   "execution_count": 50,
   "id": "6a752f42",
   "metadata": {},
   "outputs": [
    {
     "data": {
      "text/plain": [
       "RandomForestClassifier(random_state=1234)"
      ]
     },
     "execution_count": 50,
     "metadata": {},
     "output_type": "execute_result"
    }
   ],
   "source": [
    "# model_RFC\n",
    "model_RFC = RandomForestClassifier(random_state=1234)\n",
    "model_RFC.fit(X_train, y_train)"
   ]
  },
  {
   "cell_type": "code",
   "execution_count": 62,
   "id": "83864a29",
   "metadata": {},
   "outputs": [
    {
     "name": "stdout",
     "output_type": "stream",
     "text": [
      "Best parameters : {'C': 0.01}\n",
      "Best cross-validation score : 0.794\n"
     ]
    }
   ],
   "source": [
    "# model_LR\n",
    "\n",
    "param_LR = {'C' : [0.01, 0.1, 1]}\n",
    "\n",
    "clf_LR = LogisticRegression(random_state=1, solver='sag', max_iter = 10000, n_jobs=1)\n",
    "model_LR = GridSearchCV(clf_LR, param_LR, cv=5)\n",
    "model_LR.fit(X_train, y_train)\n",
    "\n",
    "print(\"Best parameters : {}\".format(model_LR.best_params_))\n",
    "print(\"Best cross-validation score : {:.3f}\".format(model_LR.best_score_))"
   ]
  },
  {
   "cell_type": "code",
   "execution_count": 17,
   "id": "c698b74f",
   "metadata": {
    "scrolled": true
   },
   "outputs": [
    {
     "name": "stdout",
     "output_type": "stream",
     "text": [
      "[1]\tvalid_0's binary_logloss: 0.511795\n",
      "Training until validation scores don't improve for 15 rounds\n",
      "[2]\tvalid_0's binary_logloss: 0.481821\n",
      "[3]\tvalid_0's binary_logloss: 0.458024\n",
      "[4]\tvalid_0's binary_logloss: 0.438747\n",
      "[5]\tvalid_0's binary_logloss: 0.422328\n",
      "[6]\tvalid_0's binary_logloss: 0.408078\n",
      "[7]\tvalid_0's binary_logloss: 0.396088\n",
      "[8]\tvalid_0's binary_logloss: 0.385551\n",
      "[9]\tvalid_0's binary_logloss: 0.376185\n",
      "[10]\tvalid_0's binary_logloss: 0.36848\n",
      "[11]\tvalid_0's binary_logloss: 0.361077\n",
      "[12]\tvalid_0's binary_logloss: 0.355859\n",
      "[13]\tvalid_0's binary_logloss: 0.350556\n",
      "[14]\tvalid_0's binary_logloss: 0.346252\n",
      "[15]\tvalid_0's binary_logloss: 0.341767\n",
      "[16]\tvalid_0's binary_logloss: 0.338374\n",
      "[17]\tvalid_0's binary_logloss: 0.335306\n",
      "[18]\tvalid_0's binary_logloss: 0.332723\n",
      "[19]\tvalid_0's binary_logloss: 0.330275\n",
      "[20]\tvalid_0's binary_logloss: 0.327873\n",
      "[21]\tvalid_0's binary_logloss: 0.326079\n",
      "[22]\tvalid_0's binary_logloss: 0.324424\n",
      "[23]\tvalid_0's binary_logloss: 0.322592\n",
      "[24]\tvalid_0's binary_logloss: 0.321732\n",
      "[25]\tvalid_0's binary_logloss: 0.320238\n",
      "[26]\tvalid_0's binary_logloss: 0.318873\n",
      "[27]\tvalid_0's binary_logloss: 0.317706\n",
      "[28]\tvalid_0's binary_logloss: 0.316961\n",
      "[29]\tvalid_0's binary_logloss: 0.315719\n",
      "[30]\tvalid_0's binary_logloss: 0.314575\n",
      "[31]\tvalid_0's binary_logloss: 0.314168\n",
      "[32]\tvalid_0's binary_logloss: 0.313809\n",
      "[33]\tvalid_0's binary_logloss: 0.312836\n",
      "[34]\tvalid_0's binary_logloss: 0.311895\n",
      "[35]\tvalid_0's binary_logloss: 0.311199\n",
      "[36]\tvalid_0's binary_logloss: 0.310606\n",
      "[37]\tvalid_0's binary_logloss: 0.310096\n",
      "[38]\tvalid_0's binary_logloss: 0.309601\n",
      "[39]\tvalid_0's binary_logloss: 0.308791\n",
      "[40]\tvalid_0's binary_logloss: 0.308232\n",
      "[41]\tvalid_0's binary_logloss: 0.307677\n",
      "[42]\tvalid_0's binary_logloss: 0.307622\n",
      "[43]\tvalid_0's binary_logloss: 0.306779\n",
      "[44]\tvalid_0's binary_logloss: 0.306881\n",
      "[45]\tvalid_0's binary_logloss: 0.306668\n",
      "[46]\tvalid_0's binary_logloss: 0.305944\n",
      "[47]\tvalid_0's binary_logloss: 0.305405\n",
      "[48]\tvalid_0's binary_logloss: 0.304804\n",
      "[49]\tvalid_0's binary_logloss: 0.304468\n",
      "[50]\tvalid_0's binary_logloss: 0.303787\n",
      "[51]\tvalid_0's binary_logloss: 0.303122\n",
      "[52]\tvalid_0's binary_logloss: 0.30321\n",
      "[53]\tvalid_0's binary_logloss: 0.302839\n",
      "[54]\tvalid_0's binary_logloss: 0.302639\n",
      "[55]\tvalid_0's binary_logloss: 0.30221\n",
      "[56]\tvalid_0's binary_logloss: 0.302163\n",
      "[57]\tvalid_0's binary_logloss: 0.302136\n",
      "[58]\tvalid_0's binary_logloss: 0.302059\n",
      "[59]\tvalid_0's binary_logloss: 0.3024\n",
      "[60]\tvalid_0's binary_logloss: 0.30228\n",
      "[61]\tvalid_0's binary_logloss: 0.302279\n",
      "[62]\tvalid_0's binary_logloss: 0.302008\n",
      "[63]\tvalid_0's binary_logloss: 0.301724\n",
      "[64]\tvalid_0's binary_logloss: 0.301556\n",
      "[65]\tvalid_0's binary_logloss: 0.300982\n",
      "[66]\tvalid_0's binary_logloss: 0.301325\n",
      "[67]\tvalid_0's binary_logloss: 0.301325\n",
      "[68]\tvalid_0's binary_logloss: 0.301057\n",
      "[69]\tvalid_0's binary_logloss: 0.300837\n",
      "[70]\tvalid_0's binary_logloss: 0.300555\n",
      "[71]\tvalid_0's binary_logloss: 0.300471\n",
      "[72]\tvalid_0's binary_logloss: 0.300033\n",
      "[73]\tvalid_0's binary_logloss: 0.30013\n",
      "[74]\tvalid_0's binary_logloss: 0.299897\n",
      "[75]\tvalid_0's binary_logloss: 0.299971\n",
      "[76]\tvalid_0's binary_logloss: 0.299405\n",
      "[77]\tvalid_0's binary_logloss: 0.299082\n",
      "[78]\tvalid_0's binary_logloss: 0.299279\n",
      "[79]\tvalid_0's binary_logloss: 0.299292\n",
      "[80]\tvalid_0's binary_logloss: 0.299727\n",
      "[81]\tvalid_0's binary_logloss: 0.299878\n",
      "[82]\tvalid_0's binary_logloss: 0.300036\n",
      "[83]\tvalid_0's binary_logloss: 0.300262\n",
      "[84]\tvalid_0's binary_logloss: 0.300485\n",
      "[85]\tvalid_0's binary_logloss: 0.300268\n",
      "[86]\tvalid_0's binary_logloss: 0.300083\n",
      "[87]\tvalid_0's binary_logloss: 0.300338\n",
      "[88]\tvalid_0's binary_logloss: 0.300342\n",
      "[89]\tvalid_0's binary_logloss: 0.299975\n",
      "[90]\tvalid_0's binary_logloss: 0.300491\n",
      "[91]\tvalid_0's binary_logloss: 0.300554\n",
      "[92]\tvalid_0's binary_logloss: 0.300209\n",
      "Early stopping, best iteration is:\n",
      "[77]\tvalid_0's binary_logloss: 0.299082\n"
     ]
    },
    {
     "data": {
      "text/plain": [
       "LGBMClassifier(boosting_type='goss', max_depth=6, random_state=0)"
      ]
     },
     "execution_count": 17,
     "metadata": {},
     "output_type": "execute_result"
    }
   ],
   "source": [
    "# model_LGB\n",
    "\n",
    "callbacks = []\n",
    "callbacks.append(lgb.early_stopping(stopping_rounds=15))\n",
    "callbacks.append(lgb.log_evaluation())\n",
    "\n",
    "model_LGB = lgb.LGBMClassifier(boosting_type='goss', max_depth=6, random_state=0)\n",
    "model_LGB.fit(X_train, y_train, eval_set=tests, callbacks=callbacks)"
   ]
  },
  {
   "cell_type": "code",
   "execution_count": 18,
   "id": "ec147ea2",
   "metadata": {},
   "outputs": [
    {
     "name": "stdout",
     "output_type": "stream",
     "text": [
      "[0]\tvalidation_0-logloss:0.54449\n",
      "[1]\tvalidation_0-logloss:0.46501\n",
      "[2]\tvalidation_0-logloss:0.41468\n",
      "[3]\tvalidation_0-logloss:0.38220\n",
      "[4]\tvalidation_0-logloss:0.35960\n",
      "[5]\tvalidation_0-logloss:0.34401\n",
      "[6]\tvalidation_0-logloss:0.33277\n",
      "[7]\tvalidation_0-logloss:0.32501\n",
      "[8]\tvalidation_0-logloss:0.32006\n",
      "[9]\tvalidation_0-logloss:0.31710\n",
      "[10]\tvalidation_0-logloss:0.31420\n",
      "[11]\tvalidation_0-logloss:0.31108\n",
      "[12]\tvalidation_0-logloss:0.30944\n",
      "[13]\tvalidation_0-logloss:0.30702\n",
      "[14]\tvalidation_0-logloss:0.30683\n",
      "[15]\tvalidation_0-logloss:0.30477\n",
      "[16]\tvalidation_0-logloss:0.30358\n",
      "[17]\tvalidation_0-logloss:0.30217\n",
      "[18]\tvalidation_0-logloss:0.30206\n",
      "[19]\tvalidation_0-logloss:0.30053\n",
      "[20]\tvalidation_0-logloss:0.29875\n",
      "[21]\tvalidation_0-logloss:0.29906\n",
      "[22]\tvalidation_0-logloss:0.29860\n",
      "[23]\tvalidation_0-logloss:0.29864\n",
      "[24]\tvalidation_0-logloss:0.29833\n",
      "[25]\tvalidation_0-logloss:0.29830\n",
      "[26]\tvalidation_0-logloss:0.29837\n",
      "[27]\tvalidation_0-logloss:0.29730\n",
      "[28]\tvalidation_0-logloss:0.29691\n",
      "[29]\tvalidation_0-logloss:0.29645\n",
      "[30]\tvalidation_0-logloss:0.29627\n",
      "[31]\tvalidation_0-logloss:0.29631\n",
      "[32]\tvalidation_0-logloss:0.29580\n",
      "[33]\tvalidation_0-logloss:0.29554\n",
      "[34]\tvalidation_0-logloss:0.29582\n",
      "[35]\tvalidation_0-logloss:0.29706\n",
      "[36]\tvalidation_0-logloss:0.29707\n",
      "[37]\tvalidation_0-logloss:0.29700\n",
      "[38]\tvalidation_0-logloss:0.29697\n",
      "[39]\tvalidation_0-logloss:0.29703\n",
      "[40]\tvalidation_0-logloss:0.29683\n",
      "[41]\tvalidation_0-logloss:0.29649\n",
      "[42]\tvalidation_0-logloss:0.29657\n",
      "[43]\tvalidation_0-logloss:0.29629\n"
     ]
    },
    {
     "data": {
      "text/plain": [
       "XGBClassifier(base_score=None, booster=None, callbacks=None,\n",
       "              colsample_bylevel=None, colsample_bynode=None,\n",
       "              colsample_bytree=None, early_stopping_rounds=10,\n",
       "              enable_categorical=False, eval_metric=None, feature_types=None,\n",
       "              gamma=None, gpu_id=None, grow_policy=None, importance_type=None,\n",
       "              interaction_constraints=None, learning_rate=None, max_bin=None,\n",
       "              max_cat_threshold=None, max_cat_to_onehot=None,\n",
       "              max_delta_step=None, max_depth=None, max_leaves=None,\n",
       "              min_child_weight=None, missing=nan, monotone_constraints=None,\n",
       "              n_estimators=100, n_jobs=None, num_parallel_tree=None,\n",
       "              predictor=None, random_state=None, ...)"
      ]
     },
     "execution_count": 18,
     "metadata": {},
     "output_type": "execute_result"
    }
   ],
   "source": [
    "# model_XGB\n",
    "model_XGB = XGBClassifier(early_stopping_rounds=10)\n",
    "model_XGB.fit(X_train, y_train, eval_set=tests, verbose=True)"
   ]
  },
  {
   "cell_type": "code",
   "execution_count": 19,
   "id": "f84b1248",
   "metadata": {
    "scrolled": true
   },
   "outputs": [
    {
     "data": {
      "text/plain": [
       "SVC()"
      ]
     },
     "execution_count": 19,
     "metadata": {},
     "output_type": "execute_result"
    }
   ],
   "source": [
    "# model_SVM\n",
    "model_SVM = svm.SVC(gamma=\"scale\")\n",
    "model_SVM.fit(X_train, y_train)"
   ]
  },
  {
   "cell_type": "markdown",
   "id": "185ba424",
   "metadata": {},
   "source": [
    "モデルごとの精度を見る"
   ]
  },
  {
   "cell_type": "code",
   "execution_count": 20,
   "id": "eebad29d",
   "metadata": {},
   "outputs": [],
   "source": [
    "names = [\"DT\", \"RFC\", \"LR\", \"LGB\", \"XGB\", \"SVM\"]\n",
    "\n",
    "classifiers = [\n",
    "    model_DT,\n",
    "    model_RFC,\n",
    "    model_LR,\n",
    "    model_LGB,\n",
    "    model_XGB,\n",
    "    model_SVM,\n",
    "    ]\n",
    "\n",
    "result = []\n",
    "\n",
    "for name, clf in zip(names, classifiers):\n",
    "    score1 = clf.score(X_train, y_train) # 正解率（train）の算出\n",
    "    score2 = clf.score(X_test, y_test) # 正解率（test）の算出\n",
    "    result.append([score1, score2]) # 結果の格納"
   ]
  },
  {
   "cell_type": "code",
   "execution_count": 21,
   "id": "b19cdcf0",
   "metadata": {},
   "outputs": [
    {
     "data": {
      "text/html": [
       "<div>\n",
       "<style scoped>\n",
       "    .dataframe tbody tr th:only-of-type {\n",
       "        vertical-align: middle;\n",
       "    }\n",
       "\n",
       "    .dataframe tbody tr th {\n",
       "        vertical-align: top;\n",
       "    }\n",
       "\n",
       "    .dataframe thead th {\n",
       "        text-align: right;\n",
       "    }\n",
       "</style>\n",
       "<table border=\"1\" class=\"dataframe\">\n",
       "  <thead>\n",
       "    <tr style=\"text-align: right;\">\n",
       "      <th></th>\n",
       "      <th>train</th>\n",
       "      <th>test</th>\n",
       "    </tr>\n",
       "  </thead>\n",
       "  <tbody>\n",
       "    <tr>\n",
       "      <th>DT</th>\n",
       "      <td>0.916165</td>\n",
       "      <td>0.896870</td>\n",
       "    </tr>\n",
       "    <tr>\n",
       "      <th>XGB</th>\n",
       "      <td>0.896919</td>\n",
       "      <td>0.861794</td>\n",
       "    </tr>\n",
       "    <tr>\n",
       "      <th>LGB</th>\n",
       "      <td>0.887129</td>\n",
       "      <td>0.858108</td>\n",
       "    </tr>\n",
       "    <tr>\n",
       "      <th>RFC</th>\n",
       "      <td>1.000000</td>\n",
       "      <td>0.851658</td>\n",
       "    </tr>\n",
       "    <tr>\n",
       "      <th>SVM</th>\n",
       "      <td>0.801612</td>\n",
       "      <td>0.798833</td>\n",
       "    </tr>\n",
       "    <tr>\n",
       "      <th>LR</th>\n",
       "      <td>0.781745</td>\n",
       "      <td>0.771499</td>\n",
       "    </tr>\n",
       "  </tbody>\n",
       "</table>\n",
       "</div>"
      ],
      "text/plain": [
       "        train      test\n",
       "DT   0.916165  0.896870\n",
       "XGB  0.896919  0.861794\n",
       "LGB  0.887129  0.858108\n",
       "RFC  1.000000  0.851658\n",
       "SVM  0.801612  0.798833\n",
       "LR   0.781745  0.771499"
      ]
     },
     "execution_count": 21,
     "metadata": {},
     "output_type": "execute_result"
    }
   ],
   "source": [
    "df_result = pd.DataFrame(result, columns=['train', 'test'], index=names).sort_values('test', ascending=False)\n",
    "df_result"
   ]
  },
  {
   "cell_type": "code",
   "execution_count": 22,
   "id": "c9279fb8",
   "metadata": {},
   "outputs": [],
   "source": [
    "test_pred_DT = model_DT.predict(X_test)\n",
    "test_pred_RFC = model_RFC.predict(X_test)\n",
    "test_pred_LR = model_LR.predict(X_test)\n",
    "test_pred_LGB = model_LGB.predict(X_test)\n",
    "test_pred_XGB = model_XGB.predict(X_test)\n",
    "test_pred_SVM = model_SVM.predict(X_test)"
   ]
  },
  {
   "cell_type": "code",
   "execution_count": 23,
   "id": "8bfc8795",
   "metadata": {
    "scrolled": false
   },
   "outputs": [
    {
     "name": "stdout",
     "output_type": "stream",
     "text": [
      "モデル1の平均2乗誤差: 0.1554\n",
      "モデル1の平均2乗誤差: 0.1483\n",
      "モデル1の平均2乗誤差: 0.2285\n",
      "モデル2の平均2乗誤差: 0.1419\n",
      "モデル3の平均2乗誤差: 0.1382\n",
      "モデル3の平均2乗誤差: 0.2012\n"
     ]
    }
   ],
   "source": [
    "from sklearn.metrics import mean_squared_error\n",
    "print (\"モデル1の平均2乗誤差: {:.4f}\".format(mean_squared_error(y_test, test_pred_DT)))\n",
    "print (\"モデル1の平均2乗誤差: {:.4f}\".format(mean_squared_error(y_test, test_pred_RFC)))\n",
    "print (\"モデル1の平均2乗誤差: {:.4f}\".format(mean_squared_error(y_test, test_pred_LR)))\n",
    "print (\"モデル2の平均2乗誤差: {:.4f}\".format(mean_squared_error(y_test, test_pred_LGB)))\n",
    "print (\"モデル3の平均2乗誤差: {:.4f}\".format(mean_squared_error(y_test, test_pred_XGB)))\n",
    "print (\"モデル3の平均2乗誤差: {:.4f}\".format(mean_squared_error(y_test, test_pred_SVM)))"
   ]
  },
  {
   "cell_type": "markdown",
   "id": "b4e1a013",
   "metadata": {},
   "source": [
    "スタッキング（ブレンディング）"
   ]
  },
  {
   "cell_type": "code",
   "execution_count": 24,
   "id": "2a37262c",
   "metadata": {},
   "outputs": [],
   "source": [
    "first_pred_DT = model_DT.predict(X_valid)\n",
    "first_pred_RFC = model_RFC.predict(X_valid)\n",
    "first_pred_LR = model_LR.predict(X_valid)\n",
    "first_pred_LGB = model_LGB.predict(X_valid)\n",
    "first_pred_XGB = model_XGB.predict(X_valid)\n",
    "first_pred_SVM = model_SVM.predict(X_valid)"
   ]
  },
  {
   "cell_type": "code",
   "execution_count": 25,
   "id": "c3ef53a5",
   "metadata": {
    "scrolled": true
   },
   "outputs": [
    {
     "data": {
      "text/plain": [
       "array([[0, 0, 0, 0, 0, 0],\n",
       "       [0, 0, 0, 0, 0, 0],\n",
       "       [0, 0, 0, 1, 1, 0],\n",
       "       ...,\n",
       "       [0, 1, 0, 0, 0, 0],\n",
       "       [0, 0, 0, 0, 0, 0],\n",
       "       [0, 0, 0, 0, 0, 0]], dtype=int64)"
      ]
     },
     "execution_count": 25,
     "metadata": {},
     "output_type": "execute_result"
    }
   ],
   "source": [
    "stack_pred = np.column_stack((first_pred_DT, first_pred_RFC, first_pred_LR, first_pred_LGB, first_pred_XGB, first_pred_SVM))\n",
    "stack_pred"
   ]
  },
  {
   "cell_type": "code",
   "execution_count": 26,
   "id": "b8127136",
   "metadata": {},
   "outputs": [],
   "source": [
    "# 各モデルの検証データを積み重ねる\n",
    "stack_test_pred = np.column_stack((test_pred_DT, test_pred_RFC, test_pred_LR, test_pred_LGB, test_pred_XGB, test_pred_SVM))"
   ]
  },
  {
   "cell_type": "code",
   "execution_count": 27,
   "id": "0c38877c",
   "metadata": {},
   "outputs": [
    {
     "name": "stdout",
     "output_type": "stream",
     "text": [
      "[0]\tvalidation_0-logloss:0.54593\n",
      "[1]\tvalidation_0-logloss:0.46808\n",
      "[2]\tvalidation_0-logloss:0.42331\n",
      "[3]\tvalidation_0-logloss:0.39687\n",
      "[4]\tvalidation_0-logloss:0.38134\n",
      "[5]\tvalidation_0-logloss:0.37223\n",
      "[6]\tvalidation_0-logloss:0.36719\n",
      "[7]\tvalidation_0-logloss:0.36460\n",
      "[8]\tvalidation_0-logloss:0.36324\n",
      "[9]\tvalidation_0-logloss:0.36284\n",
      "[10]\tvalidation_0-logloss:0.36280\n",
      "[11]\tvalidation_0-logloss:0.36298\n",
      "[12]\tvalidation_0-logloss:0.36332\n",
      "[13]\tvalidation_0-logloss:0.36354\n",
      "[14]\tvalidation_0-logloss:0.36376\n",
      "[15]\tvalidation_0-logloss:0.36417\n",
      "[16]\tvalidation_0-logloss:0.36440\n",
      "[17]\tvalidation_0-logloss:0.36476\n",
      "[18]\tvalidation_0-logloss:0.36486\n",
      "[19]\tvalidation_0-logloss:0.36515\n",
      "[20]\tvalidation_0-logloss:0.36523\n",
      "[21]\tvalidation_0-logloss:0.36550\n",
      "[22]\tvalidation_0-logloss:0.36571\n",
      "[23]\tvalidation_0-logloss:0.36573\n",
      "[24]\tvalidation_0-logloss:0.36591\n",
      "[25]\tvalidation_0-logloss:0.36589\n",
      "[26]\tvalidation_0-logloss:0.36605\n",
      "[27]\tvalidation_0-logloss:0.36602\n",
      "[28]\tvalidation_0-logloss:0.36616\n",
      "[29]\tvalidation_0-logloss:0.36628\n",
      "[30]\tvalidation_0-logloss:0.36637\n",
      "[1]\tvalid_0's binary_logloss: 0.512824\n",
      "[2]\tvalid_0's binary_logloss: 0.484334\n",
      "[3]\tvalid_0's binary_logloss: 0.462438\n",
      "[4]\tvalid_0's binary_logloss: 0.445098\n",
      "[5]\tvalid_0's binary_logloss: 0.430833\n",
      "[6]\tvalid_0's binary_logloss: 0.419114\n",
      "[7]\tvalid_0's binary_logloss: 0.409469\n",
      "[8]\tvalid_0's binary_logloss: 0.40169\n",
      "[9]\tvalid_0's binary_logloss: 0.395037\n",
      "[10]\tvalid_0's binary_logloss: 0.389487\n",
      "[11]\tvalid_0's binary_logloss: 0.385\n",
      "[12]\tvalid_0's binary_logloss: 0.3814\n",
      "[13]\tvalid_0's binary_logloss: 0.378616\n",
      "[14]\tvalid_0's binary_logloss: 0.375557\n",
      "[15]\tvalid_0's binary_logloss: 0.372997\n",
      "[16]\tvalid_0's binary_logloss: 0.37112\n",
      "[17]\tvalid_0's binary_logloss: 0.369899\n",
      "[18]\tvalid_0's binary_logloss: 0.368647\n",
      "[19]\tvalid_0's binary_logloss: 0.367795\n",
      "[20]\tvalid_0's binary_logloss: 0.366594\n",
      "[21]\tvalid_0's binary_logloss: 0.365712\n",
      "[22]\tvalid_0's binary_logloss: 0.364975\n",
      "[23]\tvalid_0's binary_logloss: 0.364638\n",
      "[24]\tvalid_0's binary_logloss: 0.364246\n",
      "[25]\tvalid_0's binary_logloss: 0.36393\n",
      "[26]\tvalid_0's binary_logloss: 0.363745\n",
      "[27]\tvalid_0's binary_logloss: 0.363454\n",
      "[28]\tvalid_0's binary_logloss: 0.363256\n",
      "[29]\tvalid_0's binary_logloss: 0.363053\n",
      "[30]\tvalid_0's binary_logloss: 0.362942\n",
      "[31]\tvalid_0's binary_logloss: 0.362986\n",
      "[32]\tvalid_0's binary_logloss: 0.36291\n",
      "[33]\tvalid_0's binary_logloss: 0.362961\n",
      "[34]\tvalid_0's binary_logloss: 0.362867\n",
      "[35]\tvalid_0's binary_logloss: 0.362853\n",
      "[36]\tvalid_0's binary_logloss: 0.362913\n",
      "[37]\tvalid_0's binary_logloss: 0.363002\n",
      "[38]\tvalid_0's binary_logloss: 0.362979\n",
      "[39]\tvalid_0's binary_logloss: 0.362978\n",
      "[40]\tvalid_0's binary_logloss: 0.362989\n",
      "[41]\tvalid_0's binary_logloss: 0.362998\n",
      "[42]\tvalid_0's binary_logloss: 0.36299\n",
      "[43]\tvalid_0's binary_logloss: 0.363121\n",
      "[44]\tvalid_0's binary_logloss: 0.363174\n",
      "[45]\tvalid_0's binary_logloss: 0.363221\n",
      "[46]\tvalid_0's binary_logloss: 0.363345\n",
      "[47]\tvalid_0's binary_logloss: 0.363371\n",
      "[48]\tvalid_0's binary_logloss: 0.363499\n",
      "[49]\tvalid_0's binary_logloss: 0.363537\n",
      "[50]\tvalid_0's binary_logloss: 0.3634\n",
      "[51]\tvalid_0's binary_logloss: 0.363628\n",
      "[52]\tvalid_0's binary_logloss: 0.363595\n",
      "[53]\tvalid_0's binary_logloss: 0.363691\n",
      "[54]\tvalid_0's binary_logloss: 0.363855\n",
      "[55]\tvalid_0's binary_logloss: 0.363958\n",
      "[56]\tvalid_0's binary_logloss: 0.364037\n",
      "[57]\tvalid_0's binary_logloss: 0.364055\n",
      "[58]\tvalid_0's binary_logloss: 0.363971\n",
      "[59]\tvalid_0's binary_logloss: 0.363991\n",
      "[60]\tvalid_0's binary_logloss: 0.364207\n",
      "[61]\tvalid_0's binary_logloss: 0.364154\n",
      "[62]\tvalid_0's binary_logloss: 0.363825\n",
      "[63]\tvalid_0's binary_logloss: 0.363823\n",
      "[64]\tvalid_0's binary_logloss: 0.363883\n",
      "[65]\tvalid_0's binary_logloss: 0.363857\n",
      "[66]\tvalid_0's binary_logloss: 0.363714\n",
      "[67]\tvalid_0's binary_logloss: 0.363726\n",
      "[68]\tvalid_0's binary_logloss: 0.363686\n",
      "[69]\tvalid_0's binary_logloss: 0.363687\n",
      "[70]\tvalid_0's binary_logloss: 0.363565\n",
      "[71]\tvalid_0's binary_logloss: 0.363607\n",
      "[72]\tvalid_0's binary_logloss: 0.363692\n",
      "[73]\tvalid_0's binary_logloss: 0.363554\n",
      "[74]\tvalid_0's binary_logloss: 0.363723\n",
      "[75]\tvalid_0's binary_logloss: 0.364026\n",
      "[76]\tvalid_0's binary_logloss: 0.364142\n",
      "[77]\tvalid_0's binary_logloss: 0.364162\n",
      "[78]\tvalid_0's binary_logloss: 0.364496\n",
      "[79]\tvalid_0's binary_logloss: 0.364745\n",
      "[80]\tvalid_0's binary_logloss: 0.36476\n",
      "[81]\tvalid_0's binary_logloss: 0.364307\n",
      "[82]\tvalid_0's binary_logloss: 0.364288\n",
      "[83]\tvalid_0's binary_logloss: 0.364262\n",
      "[84]\tvalid_0's binary_logloss: 0.364283\n",
      "[85]\tvalid_0's binary_logloss: 0.364301\n",
      "[86]\tvalid_0's binary_logloss: 0.364135\n",
      "[87]\tvalid_0's binary_logloss: 0.364049\n",
      "[88]\tvalid_0's binary_logloss: 0.36411\n",
      "[89]\tvalid_0's binary_logloss: 0.364212\n",
      "[90]\tvalid_0's binary_logloss: 0.364183\n",
      "[91]\tvalid_0's binary_logloss: 0.364168\n",
      "[92]\tvalid_0's binary_logloss: 0.364242\n",
      "Early stopping, best iteration is:\n",
      "[77]\tvalid_0's binary_logloss: 0.299082\n"
     ]
    },
    {
     "data": {
      "text/plain": [
       "RandomForestClassifier(random_state=1234)"
      ]
     },
     "execution_count": 27,
     "metadata": {},
     "output_type": "execute_result"
    }
   ],
   "source": [
    "# メタモデルの学習 \n",
    "meta_model1 = XGBClassifier(early_stopping_rounds=20)\n",
    "meta_model2 = lgb.LGBMClassifier(boosting_type='goss', max_depth=5, random_state=0)\n",
    "meta_model3 = RandomForestClassifier(random_state=1234)\n",
    "eval_set2 = [(stack_test_pred, y_test)]\n",
    "meta_model1.fit(stack_pred, y_valid, eval_set = eval_set2, verbose=True)\n",
    "meta_model2.fit(stack_pred, y_valid, eval_set = eval_set2, callbacks=callbacks)\n",
    "meta_model3.fit(stack_pred, y_valid)"
   ]
  },
  {
   "cell_type": "code",
   "execution_count": 28,
   "id": "9c5b7780",
   "metadata": {},
   "outputs": [
    {
     "name": "stdout",
     "output_type": "stream",
     "text": [
      "メタモデルの平均2乗誤差: 0.1382\n",
      "メタモデルの平均2乗誤差: 0.1376\n",
      "メタモデルの平均2乗誤差: 0.1382\n"
     ]
    }
   ],
   "source": [
    "meta1_first_pred = meta_model1.predict(stack_pred)\n",
    "meta2_first_pred = meta_model2.predict(stack_pred)\n",
    "meta3_first_pred = meta_model3.predict(stack_pred)\n",
    "meta1_test_pred = meta_model1.predict(stack_test_pred)\n",
    "meta2_test_pred = meta_model2.predict(stack_test_pred)\n",
    "meta3_test_pred = meta_model3.predict(stack_test_pred)\n",
    "print (\"メタモデルの平均2乗誤差: {:.4f}\".format(mean_squared_error(y_test, meta1_test_pred)))\n",
    "print (\"メタモデルの平均2乗誤差: {:.4f}\".format(mean_squared_error(y_test, meta2_test_pred)))\n",
    "print (\"メタモデルの平均2乗誤差: {:.4f}\".format(mean_squared_error(y_test, meta3_test_pred)))"
   ]
  },
  {
   "cell_type": "code",
   "execution_count": 29,
   "id": "13ab9f1c",
   "metadata": {},
   "outputs": [
    {
     "name": "stdout",
     "output_type": "stream",
     "text": [
      "[1]\tvalid_0's binary_logloss: 0.518418\n",
      "[2]\tvalid_0's binary_logloss: 0.494132\n",
      "[3]\tvalid_0's binary_logloss: 0.475762\n",
      "[4]\tvalid_0's binary_logloss: 0.4615\n",
      "[5]\tvalid_0's binary_logloss: 0.450259\n",
      "[6]\tvalid_0's binary_logloss: 0.441323\n",
      "[7]\tvalid_0's binary_logloss: 0.434187\n",
      "[8]\tvalid_0's binary_logloss: 0.42848\n",
      "[9]\tvalid_0's binary_logloss: 0.423918\n",
      "[10]\tvalid_0's binary_logloss: 0.420282\n",
      "[11]\tvalid_0's binary_logloss: 0.417431\n",
      "[12]\tvalid_0's binary_logloss: 0.41515\n",
      "[13]\tvalid_0's binary_logloss: 0.413335\n",
      "[14]\tvalid_0's binary_logloss: 0.411947\n",
      "[15]\tvalid_0's binary_logloss: 0.410911\n",
      "[16]\tvalid_0's binary_logloss: 0.410154\n",
      "[17]\tvalid_0's binary_logloss: 0.409589\n",
      "[18]\tvalid_0's binary_logloss: 0.409201\n",
      "[19]\tvalid_0's binary_logloss: 0.40892\n",
      "[20]\tvalid_0's binary_logloss: 0.408753\n",
      "[21]\tvalid_0's binary_logloss: 0.408682\n",
      "[22]\tvalid_0's binary_logloss: 0.40867\n",
      "[23]\tvalid_0's binary_logloss: 0.408708\n",
      "[24]\tvalid_0's binary_logloss: 0.408781\n",
      "[25]\tvalid_0's binary_logloss: 0.408877\n",
      "[26]\tvalid_0's binary_logloss: 0.408992\n",
      "[27]\tvalid_0's binary_logloss: 0.409119\n",
      "[28]\tvalid_0's binary_logloss: 0.40925\n",
      "[29]\tvalid_0's binary_logloss: 0.409389\n",
      "[30]\tvalid_0's binary_logloss: 0.409535\n",
      "[31]\tvalid_0's binary_logloss: 0.40967\n",
      "[32]\tvalid_0's binary_logloss: 0.409798\n",
      "[33]\tvalid_0's binary_logloss: 0.409907\n",
      "[34]\tvalid_0's binary_logloss: 0.410032\n",
      "[35]\tvalid_0's binary_logloss: 0.410127\n",
      "[36]\tvalid_0's binary_logloss: 0.410248\n",
      "[37]\tvalid_0's binary_logloss: 0.41035\n",
      "[38]\tvalid_0's binary_logloss: 0.410455\n",
      "[39]\tvalid_0's binary_logloss: 0.410553\n",
      "[40]\tvalid_0's binary_logloss: 0.410595\n",
      "[41]\tvalid_0's binary_logloss: 0.410671\n",
      "[42]\tvalid_0's binary_logloss: 0.410726\n",
      "[43]\tvalid_0's binary_logloss: 0.410791\n",
      "[44]\tvalid_0's binary_logloss: 0.410843\n",
      "[45]\tvalid_0's binary_logloss: 0.410883\n",
      "[46]\tvalid_0's binary_logloss: 0.410939\n",
      "[47]\tvalid_0's binary_logloss: 0.410945\n",
      "[48]\tvalid_0's binary_logloss: 0.410921\n",
      "[49]\tvalid_0's binary_logloss: 0.410965\n",
      "[50]\tvalid_0's binary_logloss: 0.410985\n",
      "[51]\tvalid_0's binary_logloss: 0.410998\n",
      "[52]\tvalid_0's binary_logloss: 0.41101\n",
      "[53]\tvalid_0's binary_logloss: 0.41104\n",
      "[54]\tvalid_0's binary_logloss: 0.411076\n",
      "[55]\tvalid_0's binary_logloss: 0.411108\n",
      "[56]\tvalid_0's binary_logloss: 0.411138\n",
      "[57]\tvalid_0's binary_logloss: 0.411149\n",
      "[58]\tvalid_0's binary_logloss: 0.411125\n",
      "[59]\tvalid_0's binary_logloss: 0.411159\n",
      "[60]\tvalid_0's binary_logloss: 0.411177\n",
      "[61]\tvalid_0's binary_logloss: 0.411242\n",
      "[62]\tvalid_0's binary_logloss: 0.411209\n",
      "[63]\tvalid_0's binary_logloss: 0.41119\n",
      "[64]\tvalid_0's binary_logloss: 0.411224\n",
      "[65]\tvalid_0's binary_logloss: 0.411245\n",
      "[66]\tvalid_0's binary_logloss: 0.411246\n",
      "[67]\tvalid_0's binary_logloss: 0.411269\n",
      "[68]\tvalid_0's binary_logloss: 0.411246\n",
      "[69]\tvalid_0's binary_logloss: 0.411287\n",
      "[70]\tvalid_0's binary_logloss: 0.411262\n",
      "[71]\tvalid_0's binary_logloss: 0.411256\n",
      "[72]\tvalid_0's binary_logloss: 0.411285\n",
      "[73]\tvalid_0's binary_logloss: 0.411239\n",
      "[74]\tvalid_0's binary_logloss: 0.41127\n",
      "[75]\tvalid_0's binary_logloss: 0.41131\n",
      "[76]\tvalid_0's binary_logloss: 0.411291\n",
      "[77]\tvalid_0's binary_logloss: 0.411264\n",
      "[78]\tvalid_0's binary_logloss: 0.411278\n",
      "[79]\tvalid_0's binary_logloss: 0.411291\n",
      "[80]\tvalid_0's binary_logloss: 0.411318\n",
      "[81]\tvalid_0's binary_logloss: 0.411304\n",
      "[82]\tvalid_0's binary_logloss: 0.411383\n",
      "[83]\tvalid_0's binary_logloss: 0.411425\n",
      "[84]\tvalid_0's binary_logloss: 0.411427\n",
      "[85]\tvalid_0's binary_logloss: 0.411459\n",
      "[86]\tvalid_0's binary_logloss: 0.411476\n",
      "[87]\tvalid_0's binary_logloss: 0.411456\n",
      "[88]\tvalid_0's binary_logloss: 0.411427\n",
      "[89]\tvalid_0's binary_logloss: 0.411423\n",
      "[90]\tvalid_0's binary_logloss: 0.411387\n",
      "[91]\tvalid_0's binary_logloss: 0.411366\n",
      "[92]\tvalid_0's binary_logloss: 0.411391\n",
      "Early stopping, best iteration is:\n",
      "[77]\tvalid_0's binary_logloss: 0.299082\n",
      "メタモデルの平均2乗誤差: 0.1376\n"
     ]
    }
   ],
   "source": [
    "stack_meta_pred = np.column_stack((meta1_first_pred, meta2_first_pred, meta3_first_pred))\n",
    "stack_metatest_pred = np.column_stack((meta1_test_pred, meta2_test_pred, meta3_test_pred))\n",
    "\n",
    "# 最終予測のメタモデルを作成\n",
    "meta2_model = lgb.LGBMClassifier(boosting_type='goss', max_depth=5, random_state=0)\n",
    "eval_set3 = [(stack_metatest_pred, y_test)]\n",
    "meta2_model.fit(stack_meta_pred, y_valid, eval_set = eval_set2, callbacks=callbacks)\n",
    "meta_test_pred = meta2_model.predict(stack_metatest_pred)\n",
    "print (\"メタモデルの平均2乗誤差: {:.4f}\".format(mean_squared_error(y_test, meta_test_pred)))"
   ]
  },
  {
   "cell_type": "code",
   "execution_count": 30,
   "id": "cc6c006d",
   "metadata": {},
   "outputs": [],
   "source": [
    "production_pred_DT = model_DT.predict(testX)\n",
    "production_pred_RFC = model_RFC.predict(testX)\n",
    "production_pred_LR = model_LR.predict(testX)\n",
    "production_pred_LGB = model_LGB.predict(testX)\n",
    "production_pred_XGB = model_XGB.predict(testX)\n",
    "production_pred_SVM = model_SVM.predict(testX)"
   ]
  },
  {
   "cell_type": "code",
   "execution_count": 31,
   "id": "5339338a",
   "metadata": {},
   "outputs": [],
   "source": [
    "stack_production_pred = np.column_stack((production_pred_DT, production_pred_RFC, production_pred_LR, production_pred_LGB, production_pred_XGB, production_pred_SVM))\n",
    "pred1 = meta_model1.predict(stack_production_pred)\n",
    "pred2 = meta_model2.predict(stack_production_pred)\n",
    "pred3 = meta_model3.predict(stack_production_pred)\n",
    "\n",
    "stack_metaproduction_pred = np.column_stack((pred1, pred2, pred3))\n",
    "pred = meta2_model.predict(stack_metaproduction_pred)"
   ]
  },
  {
   "cell_type": "code",
   "execution_count": 32,
   "id": "6e2447d8",
   "metadata": {},
   "outputs": [
    {
     "data": {
      "text/plain": [
       "0    13070\n",
       "1     3211\n",
       "dtype: int64"
      ]
     },
     "execution_count": 32,
     "metadata": {},
     "output_type": "execute_result"
    }
   ],
   "source": [
    "pred_r = pd.DataFrame(data=pred, index=None, columns=None)\n",
    "pred_r.value_counts()"
   ]
  },
  {
   "cell_type": "code",
   "execution_count": 33,
   "id": "dee56c09",
   "metadata": {},
   "outputs": [],
   "source": [
    "pred_r = pred_r.replace({0:{0 : \"<=50K\", 1 : \">50K\"}})"
   ]
  },
  {
   "cell_type": "code",
   "execution_count": 34,
   "id": "e59c0d29",
   "metadata": {},
   "outputs": [],
   "source": [
    "sample[1] = pred_r"
   ]
  },
  {
   "cell_type": "code",
   "execution_count": 35,
   "id": "ded9d739",
   "metadata": {},
   "outputs": [],
   "source": [
    "sample.to_csv(\"submit9_2.csv\",index=None,header=None)"
   ]
  }
 ],
 "metadata": {
  "kernelspec": {
   "display_name": "Python 3 (ipykernel)",
   "language": "python",
   "name": "python3"
  },
  "language_info": {
   "codemirror_mode": {
    "name": "ipython",
    "version": 3
   },
   "file_extension": ".py",
   "mimetype": "text/x-python",
   "name": "python",
   "nbconvert_exporter": "python",
   "pygments_lexer": "ipython3",
   "version": "3.9.13"
  }
 },
 "nbformat": 4,
 "nbformat_minor": 5
}
