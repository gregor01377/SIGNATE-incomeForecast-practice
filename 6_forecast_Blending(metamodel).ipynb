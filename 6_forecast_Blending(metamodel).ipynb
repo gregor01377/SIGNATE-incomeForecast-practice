{
 "cells": [
  {
   "attachments": {},
   "cell_type": "markdown",
   "id": "729081b5",
   "metadata": {},
   "source": [
    "三つのモデルに精度に応じた重みを付けてブレンディング\n",
    "DT、LightGBM、XGBoostを使用。"
   ]
  },
  {
   "cell_type": "code",
   "execution_count": 1,
   "id": "d43a53db",
   "metadata": {},
   "outputs": [
    {
     "name": "stderr",
     "output_type": "stream",
     "text": [
      "Duplicate key in file WindowsPath('C:/Users/GuestUser/anaconda/lib/site-packages/matplotlib/mpl-data/matplotlibrc'), line 258 ('font.family:  IPAexGothic')\n"
     ]
    }
   ],
   "source": [
    "import pandas as pd\n",
    "import numpy as np\n",
    "from matplotlib import pyplot as plt\n",
    "%matplotlib inline\n",
    "\n",
    "import seaborn as sns\n",
    "\n",
    "import collections\n",
    "\n",
    "import lightgbm as lgb\n",
    "\n",
    "from xgboost import XGBClassifier\n",
    "\n",
    "from sklearn.tree import DecisionTreeClassifier as DT\n",
    "from sklearn.model_selection import cross_validate\n",
    "from sklearn.model_selection import GridSearchCV\n",
    "from sklearn import metrics\n",
    "from sklearn.model_selection import train_test_split"
   ]
  },
  {
   "cell_type": "code",
   "execution_count": 2,
   "id": "6fcae168",
   "metadata": {},
   "outputs": [],
   "source": [
    "pd.set_option('display.max_rows', None)"
   ]
  },
  {
   "cell_type": "markdown",
   "id": "1b2dc8bb",
   "metadata": {},
   "source": [
    "データを変数に入れる"
   ]
  },
  {
   "cell_type": "code",
   "execution_count": 3,
   "id": "768b668f",
   "metadata": {},
   "outputs": [],
   "source": [
    "train = pd.read_table('train.tsv')\n",
    "test = pd.read_csv('test.tsv',sep='\\t')\n",
    "sample = pd.read_csv('sample_submit.csv',header=None)"
   ]
  },
  {
   "attachments": {},
   "cell_type": "markdown",
   "id": "ca26e0b1",
   "metadata": {},
   "source": [
    "データを整える　※native-countryについて、trainかtest片方にしかないものは？に変換してしまう。"
   ]
  },
  {
   "cell_type": "code",
   "execution_count": 4,
   "id": "82872559",
   "metadata": {},
   "outputs": [
    {
     "data": {
      "text/plain": [
       "0    12288\n",
       "1     3992\n",
       "Name: Y, dtype: int64"
      ]
     },
     "execution_count": 4,
     "metadata": {},
     "output_type": "execute_result"
    }
   ],
   "source": [
    "train = train.replace({\"Y\":{\"<=50K\" : 0, \">50K\" : 1}})\n",
    "train[\"Y\"].value_counts()"
   ]
  },
  {
   "cell_type": "code",
   "execution_count": 5,
   "id": "c5ef8fac",
   "metadata": {},
   "outputs": [],
   "source": [
    "trainX = train.iloc[:,0:15]\n",
    "y = train[\"Y\"]\n",
    "testX = test.copy()"
   ]
  },
  {
   "cell_type": "code",
   "execution_count": 6,
   "id": "335b260d",
   "metadata": {
    "scrolled": true
   },
   "outputs": [],
   "source": [
    "train = train.drop(columns=[\"id\",\"education\"])\n",
    "trainX = trainX.drop(columns=[\"id\",\"education\"])\n",
    "testX = testX.drop(columns=[\"id\",\"education\"])"
   ]
  },
  {
   "cell_type": "code",
   "execution_count": 7,
   "id": "97092f2e",
   "metadata": {
    "scrolled": true
   },
   "outputs": [
    {
     "name": "stdout",
     "output_type": "stream",
     "text": [
      "?\n"
     ]
    }
   ],
   "source": [
    "indexNum = testX[~testX[\"native-country\"].isin(trainX[\"native-country\"].unique())].index\n",
    "for i in indexNum:\n",
    "    testX.iat[i,12] = \"?\"\n",
    "    print(testX.iat[i,12])"
   ]
  },
  {
   "cell_type": "code",
   "execution_count": 8,
   "id": "c0962ed7",
   "metadata": {},
   "outputs": [],
   "source": [
    "trainX = trainX.replace({\"sex\":{\"Female\" : 0, \"Male\" : 1}})\n",
    "testX = testX.replace({\"sex\":{\"Female\" : 0, \"Male\" : 1}})"
   ]
  },
  {
   "cell_type": "code",
   "execution_count": 13,
   "id": "d1703b7f",
   "metadata": {},
   "outputs": [],
   "source": [
    "pd.reset_option('display.max_rows')"
   ]
  },
  {
   "cell_type": "code",
   "execution_count": 14,
   "id": "f26d5f23",
   "metadata": {},
   "outputs": [],
   "source": [
    "trainX = pd.get_dummies(trainX)\n",
    "testX = pd.get_dummies(testX)"
   ]
  },
  {
   "cell_type": "code",
   "execution_count": 142,
   "id": "f49a5b9d",
   "metadata": {},
   "outputs": [
    {
     "name": "stdout",
     "output_type": "stream",
     "text": [
      "(16280, 90) (10419, 90) (2605, 90) (3256, 90)\n"
     ]
    }
   ],
   "source": [
    "X_train_valid, X_test, y_train_valid, y_test = train_test_split(trainX, y, test_size=0.2, random_state = 100)\n",
    "X_train, X_valid, y_train, y_valid = train_test_split(X_train_valid, y_train_valid, test_size=0.2, random_state = 100)\n",
    "print(trainX.shape, X_train.shape, X_valid.shape, X_test.shape)"
   ]
  },
  {
   "attachments": {},
   "cell_type": "markdown",
   "id": "283a3659",
   "metadata": {},
   "source": [
    "3モデルを作る"
   ]
  },
  {
   "cell_type": "code",
   "execution_count": 143,
   "id": "bf8b3fc3",
   "metadata": {},
   "outputs": [],
   "source": [
    "model_DT = DT()\n",
    "model_LGB = lgb.LGBMClassifier(boosting_type='goss', max_depth=6, random_state=0)\n",
    "model_XGB = XGBClassifier(early_stopping_rounds=15)"
   ]
  },
  {
   "cell_type": "code",
   "execution_count": 144,
   "id": "d40a3ed8",
   "metadata": {
    "scrolled": true
   },
   "outputs": [
    {
     "name": "stdout",
     "output_type": "stream",
     "text": [
      "[1]\tvalid_0's binary_logloss: 0.511795\n",
      "Training until validation scores don't improve for 10 rounds\n",
      "[2]\tvalid_0's binary_logloss: 0.481821\n",
      "[3]\tvalid_0's binary_logloss: 0.458024\n",
      "[4]\tvalid_0's binary_logloss: 0.438747\n",
      "[5]\tvalid_0's binary_logloss: 0.422332\n",
      "[6]\tvalid_0's binary_logloss: 0.408081\n",
      "[7]\tvalid_0's binary_logloss: 0.395841\n",
      "[8]\tvalid_0's binary_logloss: 0.385261\n",
      "[9]\tvalid_0's binary_logloss: 0.37624\n",
      "[10]\tvalid_0's binary_logloss: 0.368479\n",
      "[11]\tvalid_0's binary_logloss: 0.361877\n",
      "[12]\tvalid_0's binary_logloss: 0.3562\n",
      "[13]\tvalid_0's binary_logloss: 0.351153\n",
      "[14]\tvalid_0's binary_logloss: 0.346781\n",
      "[15]\tvalid_0's binary_logloss: 0.342918\n",
      "[16]\tvalid_0's binary_logloss: 0.339955\n",
      "[17]\tvalid_0's binary_logloss: 0.33662\n",
      "[18]\tvalid_0's binary_logloss: 0.333867\n",
      "[19]\tvalid_0's binary_logloss: 0.330911\n",
      "[20]\tvalid_0's binary_logloss: 0.32876\n",
      "[21]\tvalid_0's binary_logloss: 0.326796\n",
      "[22]\tvalid_0's binary_logloss: 0.325055\n",
      "[23]\tvalid_0's binary_logloss: 0.323214\n",
      "[24]\tvalid_0's binary_logloss: 0.321736\n",
      "[25]\tvalid_0's binary_logloss: 0.319783\n",
      "[26]\tvalid_0's binary_logloss: 0.318759\n",
      "[27]\tvalid_0's binary_logloss: 0.317252\n",
      "[28]\tvalid_0's binary_logloss: 0.316375\n",
      "[29]\tvalid_0's binary_logloss: 0.31512\n",
      "[30]\tvalid_0's binary_logloss: 0.313664\n",
      "[31]\tvalid_0's binary_logloss: 0.31258\n",
      "[32]\tvalid_0's binary_logloss: 0.311803\n",
      "[33]\tvalid_0's binary_logloss: 0.311248\n",
      "[34]\tvalid_0's binary_logloss: 0.310375\n",
      "[35]\tvalid_0's binary_logloss: 0.310326\n",
      "[36]\tvalid_0's binary_logloss: 0.309785\n",
      "[37]\tvalid_0's binary_logloss: 0.309051\n",
      "[38]\tvalid_0's binary_logloss: 0.308336\n",
      "[39]\tvalid_0's binary_logloss: 0.307818\n",
      "[40]\tvalid_0's binary_logloss: 0.307082\n",
      "[41]\tvalid_0's binary_logloss: 0.306507\n",
      "[42]\tvalid_0's binary_logloss: 0.306357\n",
      "[43]\tvalid_0's binary_logloss: 0.306315\n",
      "[44]\tvalid_0's binary_logloss: 0.306079\n",
      "[45]\tvalid_0's binary_logloss: 0.305742\n",
      "[46]\tvalid_0's binary_logloss: 0.305395\n",
      "[47]\tvalid_0's binary_logloss: 0.305086\n",
      "[48]\tvalid_0's binary_logloss: 0.304538\n",
      "[49]\tvalid_0's binary_logloss: 0.304216\n",
      "[50]\tvalid_0's binary_logloss: 0.304341\n",
      "[51]\tvalid_0's binary_logloss: 0.304397\n",
      "[52]\tvalid_0's binary_logloss: 0.304219\n",
      "[53]\tvalid_0's binary_logloss: 0.303924\n",
      "[54]\tvalid_0's binary_logloss: 0.303807\n",
      "[55]\tvalid_0's binary_logloss: 0.303628\n",
      "[56]\tvalid_0's binary_logloss: 0.30344\n",
      "[57]\tvalid_0's binary_logloss: 0.303055\n",
      "[58]\tvalid_0's binary_logloss: 0.302533\n",
      "[59]\tvalid_0's binary_logloss: 0.302494\n",
      "[60]\tvalid_0's binary_logloss: 0.302427\n",
      "[61]\tvalid_0's binary_logloss: 0.302311\n",
      "[62]\tvalid_0's binary_logloss: 0.301795\n",
      "[63]\tvalid_0's binary_logloss: 0.301651\n",
      "[64]\tvalid_0's binary_logloss: 0.301318\n",
      "[65]\tvalid_0's binary_logloss: 0.301136\n",
      "[66]\tvalid_0's binary_logloss: 0.300859\n",
      "[67]\tvalid_0's binary_logloss: 0.300909\n",
      "[68]\tvalid_0's binary_logloss: 0.300852\n",
      "[69]\tvalid_0's binary_logloss: 0.300968\n",
      "[70]\tvalid_0's binary_logloss: 0.300642\n",
      "[71]\tvalid_0's binary_logloss: 0.300511\n",
      "[72]\tvalid_0's binary_logloss: 0.300267\n",
      "[73]\tvalid_0's binary_logloss: 0.300861\n",
      "[74]\tvalid_0's binary_logloss: 0.300698\n",
      "[75]\tvalid_0's binary_logloss: 0.300662\n",
      "[76]\tvalid_0's binary_logloss: 0.300582\n",
      "[77]\tvalid_0's binary_logloss: 0.300883\n",
      "[78]\tvalid_0's binary_logloss: 0.300859\n",
      "[79]\tvalid_0's binary_logloss: 0.301624\n",
      "[80]\tvalid_0's binary_logloss: 0.301924\n",
      "[81]\tvalid_0's binary_logloss: 0.301557\n",
      "[82]\tvalid_0's binary_logloss: 0.301754\n",
      "Early stopping, best iteration is:\n",
      "[72]\tvalid_0's binary_logloss: 0.300267\n",
      "[0]\tvalidation_0-logloss:0.54449\n",
      "[1]\tvalidation_0-logloss:0.46501\n",
      "[2]\tvalidation_0-logloss:0.41468\n",
      "[3]\tvalidation_0-logloss:0.38220\n",
      "[4]\tvalidation_0-logloss:0.35960\n",
      "[5]\tvalidation_0-logloss:0.34401\n",
      "[6]\tvalidation_0-logloss:0.33277\n",
      "[7]\tvalidation_0-logloss:0.32499\n",
      "[8]\tvalidation_0-logloss:0.32004\n",
      "[9]\tvalidation_0-logloss:0.31705\n",
      "[10]\tvalidation_0-logloss:0.31415\n",
      "[11]\tvalidation_0-logloss:0.31104\n",
      "[12]\tvalidation_0-logloss:0.30939\n",
      "[13]\tvalidation_0-logloss:0.30697\n",
      "[14]\tvalidation_0-logloss:0.30679\n",
      "[15]\tvalidation_0-logloss:0.30473\n",
      "[16]\tvalidation_0-logloss:0.30354\n",
      "[17]\tvalidation_0-logloss:0.30213\n",
      "[18]\tvalidation_0-logloss:0.30202\n",
      "[19]\tvalidation_0-logloss:0.30050\n",
      "[20]\tvalidation_0-logloss:0.29870\n",
      "[21]\tvalidation_0-logloss:0.29902\n",
      "[22]\tvalidation_0-logloss:0.29855\n",
      "[23]\tvalidation_0-logloss:0.29860\n",
      "[24]\tvalidation_0-logloss:0.29829\n",
      "[25]\tvalidation_0-logloss:0.29825\n",
      "[26]\tvalidation_0-logloss:0.29831\n",
      "[27]\tvalidation_0-logloss:0.29725\n",
      "[28]\tvalidation_0-logloss:0.29686\n",
      "[29]\tvalidation_0-logloss:0.29641\n",
      "[30]\tvalidation_0-logloss:0.29621\n",
      "[31]\tvalidation_0-logloss:0.29626\n",
      "[32]\tvalidation_0-logloss:0.29575\n",
      "[33]\tvalidation_0-logloss:0.29549\n",
      "[34]\tvalidation_0-logloss:0.29577\n",
      "[35]\tvalidation_0-logloss:0.29701\n",
      "[36]\tvalidation_0-logloss:0.29702\n",
      "[37]\tvalidation_0-logloss:0.29695\n",
      "[38]\tvalidation_0-logloss:0.29692\n",
      "[39]\tvalidation_0-logloss:0.29697\n",
      "[40]\tvalidation_0-logloss:0.29678\n",
      "[41]\tvalidation_0-logloss:0.29643\n",
      "[42]\tvalidation_0-logloss:0.29652\n",
      "[43]\tvalidation_0-logloss:0.29623\n",
      "[44]\tvalidation_0-logloss:0.29651\n",
      "[45]\tvalidation_0-logloss:0.29722\n",
      "[46]\tvalidation_0-logloss:0.29731\n",
      "[47]\tvalidation_0-logloss:0.29711\n"
     ]
    },
    {
     "data": {
      "text/plain": [
       "XGBClassifier(base_score=None, booster=None, callbacks=None,\n",
       "              colsample_bylevel=None, colsample_bynode=None,\n",
       "              colsample_bytree=None, early_stopping_rounds=15,\n",
       "              enable_categorical=False, eval_metric=None, feature_types=None,\n",
       "              gamma=None, gpu_id=None, grow_policy=None, importance_type=None,\n",
       "              interaction_constraints=None, learning_rate=None, max_bin=None,\n",
       "              max_cat_threshold=None, max_cat_to_onehot=None,\n",
       "              max_delta_step=None, max_depth=None, max_leaves=None,\n",
       "              min_child_weight=None, missing=nan, monotone_constraints=None,\n",
       "              n_estimators=100, n_jobs=None, num_parallel_tree=None,\n",
       "              predictor=None, random_state=None, ...)"
      ]
     },
     "execution_count": 144,
     "metadata": {},
     "output_type": "execute_result"
    }
   ],
   "source": [
    "model_DT.fit(X_train, y_train)\n",
    "\n",
    "eval_set = [(X_test, y_test)]\n",
    "callbacks = []\n",
    "callbacks.append(lgb.early_stopping(stopping_rounds=10))\n",
    "callbacks.append(lgb.log_evaluation())\n",
    "model_LGB.fit(X_train, y_train, eval_set=eval_set, callbacks=callbacks)\n",
    "\n",
    "model_XGB.fit(X_train, y_train, eval_set=eval_set, verbose=True)"
   ]
  },
  {
   "cell_type": "code",
   "execution_count": 145,
   "id": "c9279fb8",
   "metadata": {},
   "outputs": [],
   "source": [
    "test_pred_DT = model_DT.predict(X_test)\n",
    "test_pred_LGB = model_LGB.predict(X_test)\n",
    "test_pred_XGB = model_XGB.predict(X_test)"
   ]
  },
  {
   "attachments": {},
   "cell_type": "markdown",
   "id": "e1eb3fa9",
   "metadata": {},
   "source": [
    "各モデルの精度を確認"
   ]
  },
  {
   "cell_type": "code",
   "execution_count": 146,
   "id": "8bfc8795",
   "metadata": {
    "scrolled": false
   },
   "outputs": [
    {
     "name": "stdout",
     "output_type": "stream",
     "text": [
      "モデル1の平均2乗誤差: 0.1791\n",
      "モデル2の平均2乗誤差: 0.1422\n",
      "モデル3の平均2乗誤差: 0.1382\n"
     ]
    }
   ],
   "source": [
    "from sklearn.metrics import mean_squared_error\n",
    "print (\"モデル1の平均2乗誤差: {:.4f}\".format(mean_squared_error(y_test, test_pred_DT)))\n",
    "print (\"モデル2の平均2乗誤差: {:.4f}\".format(mean_squared_error(y_test, test_pred_LGB)))\n",
    "print (\"モデル3の平均2乗誤差: {:.4f}\".format(mean_squared_error(y_test, test_pred_XGB)))"
   ]
  },
  {
   "cell_type": "markdown",
   "id": "52d0272e",
   "metadata": {},
   "source": [
    "XGB＞LGB＞DTの順で精度が高い"
   ]
  },
  {
   "cell_type": "markdown",
   "id": "b4e1a013",
   "metadata": {},
   "source": [
    "スタッキング（ブレンディング）"
   ]
  },
  {
   "cell_type": "code",
   "execution_count": 147,
   "id": "2a37262c",
   "metadata": {},
   "outputs": [],
   "source": [
    "first_pred_DT = model_DT.predict(X_valid)\n",
    "first_pred_LGB = model_LGB.predict(X_valid)\n",
    "first_pred_XGB = model_XGB.predict(X_valid)"
   ]
  },
  {
   "cell_type": "code",
   "execution_count": 148,
   "id": "c3ef53a5",
   "metadata": {
    "scrolled": true
   },
   "outputs": [
    {
     "data": {
      "text/plain": [
       "array([[0, 0, 0],\n",
       "       [1, 0, 0],\n",
       "       [0, 1, 1],\n",
       "       ...,\n",
       "       [1, 0, 0],\n",
       "       [0, 0, 0],\n",
       "       [0, 0, 0]], dtype=int64)"
      ]
     },
     "execution_count": 148,
     "metadata": {},
     "output_type": "execute_result"
    }
   ],
   "source": [
    "stack_pred = np.column_stack((first_pred_DT, first_pred_LGB, first_pred_XGB))\n",
    "stack_pred"
   ]
  },
  {
   "cell_type": "code",
   "execution_count": 149,
   "id": "b8127136",
   "metadata": {},
   "outputs": [],
   "source": [
    "# 各モデルの検証データを積み重ねる\n",
    "stack_test_pred = np.column_stack((test_pred_DT, test_pred_LGB, test_pred_XGB))"
   ]
  },
  {
   "cell_type": "code",
   "execution_count": 150,
   "id": "0c38877c",
   "metadata": {},
   "outputs": [
    {
     "name": "stdout",
     "output_type": "stream",
     "text": [
      "[0]\tvalidation_0-logloss:0.54714\n",
      "[1]\tvalidation_0-logloss:0.47043\n",
      "[2]\tvalidation_0-logloss:0.42664\n",
      "[3]\tvalidation_0-logloss:0.40109\n",
      "[4]\tvalidation_0-logloss:0.38627\n",
      "[5]\tvalidation_0-logloss:0.37788\n",
      "[6]\tvalidation_0-logloss:0.37329\n",
      "[7]\tvalidation_0-logloss:0.37092\n",
      "[8]\tvalidation_0-logloss:0.36981\n",
      "[9]\tvalidation_0-logloss:0.36935\n",
      "[10]\tvalidation_0-logloss:0.36923\n",
      "[11]\tvalidation_0-logloss:0.36924\n",
      "[12]\tvalidation_0-logloss:0.36932\n",
      "[13]\tvalidation_0-logloss:0.36940\n",
      "[14]\tvalidation_0-logloss:0.36947\n",
      "[15]\tvalidation_0-logloss:0.36954\n",
      "[16]\tvalidation_0-logloss:0.36958\n",
      "[17]\tvalidation_0-logloss:0.36962\n",
      "[18]\tvalidation_0-logloss:0.36965\n",
      "[19]\tvalidation_0-logloss:0.36966\n"
     ]
    },
    {
     "data": {
      "text/plain": [
       "XGBClassifier(base_score=None, booster=None, callbacks=None,\n",
       "              colsample_bylevel=None, colsample_bynode=None,\n",
       "              colsample_bytree=None, early_stopping_rounds=10,\n",
       "              enable_categorical=False, eval_metric=None, feature_types=None,\n",
       "              gamma=None, gpu_id=None, grow_policy=None, importance_type=None,\n",
       "              interaction_constraints=None, learning_rate=None, max_bin=None,\n",
       "              max_cat_threshold=None, max_cat_to_onehot=None,\n",
       "              max_delta_step=None, max_depth=None, max_leaves=None,\n",
       "              min_child_weight=None, missing=nan, monotone_constraints=None,\n",
       "              n_estimators=100, n_jobs=None, num_parallel_tree=None,\n",
       "              predictor=None, random_state=None, ...)"
      ]
     },
     "execution_count": 150,
     "metadata": {},
     "output_type": "execute_result"
    }
   ],
   "source": [
    "# メタモデルの学習 \n",
    "meta_model1 = XGBClassifier(early_stopping_rounds=10)\n",
    "eval_set2 = [(stack_test_pred, y_test)]\n",
    "meta_model1.fit(stack_pred, y_valid, eval_set = eval_set2, verbose=True)"
   ]
  },
  {
   "cell_type": "code",
   "execution_count": 151,
   "id": "9c5b7780",
   "metadata": {},
   "outputs": [
    {
     "name": "stdout",
     "output_type": "stream",
     "text": [
      "メタモデルの平均2乗誤差: 0.1419\n"
     ]
    }
   ],
   "source": [
    "meta1_test_pred = meta_model1.predict(stack_test_pred)\n",
    "print (\"メタモデルの平均2乗誤差: {:.4f}\".format(mean_squared_error(y_test, meta1_test_pred)))"
   ]
  },
  {
   "attachments": {},
   "cell_type": "markdown",
   "id": "77a58300",
   "metadata": {},
   "source": [
    "予測に代入して結果を出力する"
   ]
  },
  {
   "cell_type": "code",
   "execution_count": 152,
   "id": "cc6c006d",
   "metadata": {},
   "outputs": [],
   "source": [
    "production_pred_DT = model_DT.predict(testX)\n",
    "production_pred_LGB = model_LGB.predict(testX)\n",
    "production_pred_XGB = model_XGB.predict(testX)"
   ]
  },
  {
   "cell_type": "code",
   "execution_count": 153,
   "id": "5339338a",
   "metadata": {},
   "outputs": [
    {
     "data": {
      "text/plain": [
       "0    13046\n",
       "1     3235\n",
       "dtype: int64"
      ]
     },
     "execution_count": 153,
     "metadata": {},
     "output_type": "execute_result"
    }
   ],
   "source": [
    "stack_production_pred = np.column_stack((production_pred_DT, production_pred_LGB, production_pred_XGB))\n",
    "pred = meta_model1.predict(stack_production_pred)\n",
    "pred_r = pd.DataFrame(data=pred, index=None, columns=None)\n",
    "pred_r.value_counts()"
   ]
  },
  {
   "cell_type": "code",
   "execution_count": 154,
   "id": "dee56c09",
   "metadata": {},
   "outputs": [],
   "source": [
    "pred_r = pred_r.replace({0:{0 : \"<=50K\", 1 : \">50K\"}})"
   ]
  },
  {
   "cell_type": "code",
   "execution_count": 155,
   "id": "e59c0d29",
   "metadata": {},
   "outputs": [],
   "source": [
    "sample[1] = pred_r"
   ]
  },
  {
   "cell_type": "code",
   "execution_count": 156,
   "id": "ded9d739",
   "metadata": {},
   "outputs": [],
   "source": [
    "sample.to_csv(\"submit7_7.csv\",index=None,header=None)"
   ]
  }
 ],
 "metadata": {
  "kernelspec": {
   "display_name": "Python 3 (ipykernel)",
   "language": "python",
   "name": "python3"
  },
  "language_info": {
   "codemirror_mode": {
    "name": "ipython",
    "version": 3
   },
   "file_extension": ".py",
   "mimetype": "text/x-python",
   "name": "python",
   "nbconvert_exporter": "python",
   "pygments_lexer": "ipython3",
   "version": "3.9.13"
  }
 },
 "nbformat": 4,
 "nbformat_minor": 5
}
